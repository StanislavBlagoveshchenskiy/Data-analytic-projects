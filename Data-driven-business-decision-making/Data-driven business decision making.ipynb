{
 "cells": [
  {
   "cell_type": "markdown",
   "metadata": {},
   "source": [
    "# Цель проекта:"
   ]
  },
  {
   "cell_type": "markdown",
   "metadata": {},
   "source": [
    "Совместно с отделом маркетинга провести исследования, которые позволят увеличить выручку интернет-магазина."
   ]
  },
  {
   "cell_type": "markdown",
   "metadata": {},
   "source": [
    "# Описание проекта:"
   ]
  },
  {
   "cell_type": "markdown",
   "metadata": {},
   "source": [
    "Сделать приоритизацию гипотез, которые были подготовлены отделом маркетинга, при помощи двух фреймворков: ICE и RICE. Проанализировать результаты A/B теста для оценки предполагаемого эффекта от внедрения планируемых изменений. Написать выводы.\n"
   ]
  },
  {
   "cell_type": "markdown",
   "metadata": {},
   "source": [
    "## Приоритизация гипотез."
   ]
  },
  {
   "cell_type": "markdown",
   "metadata": {},
   "source": [
    "### Оценка исходных данных:"
   ]
  },
  {
   "cell_type": "code",
   "execution_count": 1,
   "metadata": {},
   "outputs": [],
   "source": [
    "import pandas as pd\n",
    "import numpy as np\n",
    "from datetime import datetime, timedelta\n",
    "from matplotlib import pyplot as plt\n",
    "import seaborn as sns\n",
    "from IPython.display import display\n",
    "import scipy.stats as stats"
   ]
  },
  {
   "cell_type": "code",
   "execution_count": 2,
   "metadata": {},
   "outputs": [],
   "source": [
    "# загружаем данные и сохраняем в переменную:\n",
    "hypothesis = pd.read_csv('/datasets/hypothesis.csv')"
   ]
  },
  {
   "cell_type": "code",
   "execution_count": 3,
   "metadata": {},
   "outputs": [
    {
     "name": "stdout",
     "output_type": "stream",
     "text": [
      "<class 'pandas.core.frame.DataFrame'>\n",
      "RangeIndex: 9 entries, 0 to 8\n",
      "Data columns (total 5 columns):\n",
      "Hypothesis    9 non-null object\n",
      "Reach         9 non-null int64\n",
      "Impact        9 non-null int64\n",
      "Confidence    9 non-null int64\n",
      "Efforts       9 non-null int64\n",
      "dtypes: int64(4), object(1)\n",
      "memory usage: 488.0+ bytes\n",
      "Количество дубликатов: 0\n"
     ]
    },
    {
     "data": {
      "text/html": [
       "<div>\n",
       "<style scoped>\n",
       "    .dataframe tbody tr th:only-of-type {\n",
       "        vertical-align: middle;\n",
       "    }\n",
       "\n",
       "    .dataframe tbody tr th {\n",
       "        vertical-align: top;\n",
       "    }\n",
       "\n",
       "    .dataframe thead th {\n",
       "        text-align: right;\n",
       "    }\n",
       "</style>\n",
       "<table border=\"1\" class=\"dataframe\">\n",
       "  <thead>\n",
       "    <tr style=\"text-align: right;\">\n",
       "      <th></th>\n",
       "      <th>Hypothesis</th>\n",
       "      <th>Reach</th>\n",
       "      <th>Impact</th>\n",
       "      <th>Confidence</th>\n",
       "      <th>Efforts</th>\n",
       "    </tr>\n",
       "  </thead>\n",
       "  <tbody>\n",
       "    <tr>\n",
       "      <td>0</td>\n",
       "      <td>Добавить два новых канала привлечения трафика, что позволит привлекать на 30% больше пользователей</td>\n",
       "      <td>3</td>\n",
       "      <td>10</td>\n",
       "      <td>8</td>\n",
       "      <td>6</td>\n",
       "    </tr>\n",
       "    <tr>\n",
       "      <td>1</td>\n",
       "      <td>Запустить собственную службу доставки, что сократит срок доставки заказов</td>\n",
       "      <td>2</td>\n",
       "      <td>5</td>\n",
       "      <td>4</td>\n",
       "      <td>10</td>\n",
       "    </tr>\n",
       "    <tr>\n",
       "      <td>2</td>\n",
       "      <td>Добавить блоки рекомендаций товаров на сайт интернет магазина, чтобы повысить конверсию и средний чек заказа</td>\n",
       "      <td>8</td>\n",
       "      <td>3</td>\n",
       "      <td>7</td>\n",
       "      <td>3</td>\n",
       "    </tr>\n",
       "    <tr>\n",
       "      <td>3</td>\n",
       "      <td>Изменить структура категорий, что увеличит конверсию, т.к. пользователи быстрее найдут нужный товар</td>\n",
       "      <td>8</td>\n",
       "      <td>3</td>\n",
       "      <td>3</td>\n",
       "      <td>8</td>\n",
       "    </tr>\n",
       "    <tr>\n",
       "      <td>4</td>\n",
       "      <td>Изменить цвет фона главной страницы, чтобы увеличить вовлеченность пользователей</td>\n",
       "      <td>3</td>\n",
       "      <td>1</td>\n",
       "      <td>1</td>\n",
       "      <td>1</td>\n",
       "    </tr>\n",
       "  </tbody>\n",
       "</table>\n",
       "</div>"
      ],
      "text/plain": [
       "                                                                                                     Hypothesis  \\\n",
       "0            Добавить два новых канала привлечения трафика, что позволит привлекать на 30% больше пользователей   \n",
       "1                                     Запустить собственную службу доставки, что сократит срок доставки заказов   \n",
       "2  Добавить блоки рекомендаций товаров на сайт интернет магазина, чтобы повысить конверсию и средний чек заказа   \n",
       "3           Изменить структура категорий, что увеличит конверсию, т.к. пользователи быстрее найдут нужный товар   \n",
       "4                              Изменить цвет фона главной страницы, чтобы увеличить вовлеченность пользователей   \n",
       "\n",
       "   Reach  Impact  Confidence  Efforts  \n",
       "0      3      10           8        6  \n",
       "1      2       5           4       10  \n",
       "2      8       3           7        3  \n",
       "3      8       3           3        8  \n",
       "4      3       1           1        1  "
      ]
     },
     "metadata": {},
     "output_type": "display_data"
    }
   ],
   "source": [
    "# Используем метод info чтобы изучить исходную информацию:\n",
    "hypothesis.info()\n",
    "print('Количество дубликатов:', hypothesis.duplicated().sum())\n",
    "pd.options.display.max_colwidth = 110 # изменения количества отображаемых символов\n",
    "display(hypothesis.head())"
   ]
  },
  {
   "cell_type": "markdown",
   "metadata": {},
   "source": [
    "#### Вывод:"
   ]
  },
  {
   "cell_type": "markdown",
   "metadata": {},
   "source": [
    "Исходные данные с информацией об анализируемых гипотезах в полном порядке: нет дубликатов, отсутствуют пропуски и данные имеют правильный формат."
   ]
  },
  {
   "cell_type": "markdown",
   "metadata": {},
   "source": [
    "### Фреймворк ICE (impact, confidence, effort/ease):"
   ]
  },
  {
   "cell_type": "markdown",
   "metadata": {},
   "source": [
    "Фреймворк ICE - один из популярных методов приоритизации задач и имеет довольно простые формулы для расчёта. \n",
    "1. ICE = impact * confidence * ease\n",
    "или\n",
    "2. ICE = impact * confidence / effort\n",
    "\n",
    "Для расчёта ICE будем использовать вторую формулу, так как в наших данных есть информация по усилиям - efforts.\n",
    "Расчитаем ICE для каждой гипотезы и сохраним результат в отдельном столбце:"
   ]
  },
  {
   "cell_type": "code",
   "execution_count": 4,
   "metadata": {},
   "outputs": [],
   "source": [
    "hypothesis['ICE'] = hypothesis['Impact'] * hypothesis['Confidence'] / hypothesis['Efforts']"
   ]
  },
  {
   "cell_type": "code",
   "execution_count": 5,
   "metadata": {},
   "outputs": [
    {
     "data": {
      "text/html": [
       "<div>\n",
       "<style scoped>\n",
       "    .dataframe tbody tr th:only-of-type {\n",
       "        vertical-align: middle;\n",
       "    }\n",
       "\n",
       "    .dataframe tbody tr th {\n",
       "        vertical-align: top;\n",
       "    }\n",
       "\n",
       "    .dataframe thead th {\n",
       "        text-align: right;\n",
       "    }\n",
       "</style>\n",
       "<table border=\"1\" class=\"dataframe\">\n",
       "  <thead>\n",
       "    <tr style=\"text-align: right;\">\n",
       "      <th></th>\n",
       "      <th>Hypothesis</th>\n",
       "      <th>ICE</th>\n",
       "    </tr>\n",
       "  </thead>\n",
       "  <tbody>\n",
       "    <tr>\n",
       "      <td>8</td>\n",
       "      <td>Запустить акцию, дающую скидку на товар в день рождения</td>\n",
       "      <td>16.200000</td>\n",
       "    </tr>\n",
       "    <tr>\n",
       "      <td>0</td>\n",
       "      <td>Добавить два новых канала привлечения трафика, что позволит привлекать на 30% больше пользователей</td>\n",
       "      <td>13.333333</td>\n",
       "    </tr>\n",
       "    <tr>\n",
       "      <td>7</td>\n",
       "      <td>Добавить форму подписки на все основные страницы, чтобы собрать базу клиентов для email-рассылок</td>\n",
       "      <td>11.200000</td>\n",
       "    </tr>\n",
       "    <tr>\n",
       "      <td>6</td>\n",
       "      <td>Показать на главной странице баннеры с актуальными акциями и распродажами, чтобы увеличить конверсию</td>\n",
       "      <td>8.000000</td>\n",
       "    </tr>\n",
       "    <tr>\n",
       "      <td>2</td>\n",
       "      <td>Добавить блоки рекомендаций товаров на сайт интернет магазина, чтобы повысить конверсию и средний чек заказа</td>\n",
       "      <td>7.000000</td>\n",
       "    </tr>\n",
       "    <tr>\n",
       "      <td>1</td>\n",
       "      <td>Запустить собственную службу доставки, что сократит срок доставки заказов</td>\n",
       "      <td>2.000000</td>\n",
       "    </tr>\n",
       "    <tr>\n",
       "      <td>5</td>\n",
       "      <td>Добавить страницу отзывов клиентов о магазине, что позволит увеличить количество заказов</td>\n",
       "      <td>1.333333</td>\n",
       "    </tr>\n",
       "    <tr>\n",
       "      <td>3</td>\n",
       "      <td>Изменить структура категорий, что увеличит конверсию, т.к. пользователи быстрее найдут нужный товар</td>\n",
       "      <td>1.125000</td>\n",
       "    </tr>\n",
       "    <tr>\n",
       "      <td>4</td>\n",
       "      <td>Изменить цвет фона главной страницы, чтобы увеличить вовлеченность пользователей</td>\n",
       "      <td>1.000000</td>\n",
       "    </tr>\n",
       "  </tbody>\n",
       "</table>\n",
       "</div>"
      ],
      "text/plain": [
       "                                                                                                     Hypothesis  \\\n",
       "8                                                       Запустить акцию, дающую скидку на товар в день рождения   \n",
       "0            Добавить два новых канала привлечения трафика, что позволит привлекать на 30% больше пользователей   \n",
       "7              Добавить форму подписки на все основные страницы, чтобы собрать базу клиентов для email-рассылок   \n",
       "6          Показать на главной странице баннеры с актуальными акциями и распродажами, чтобы увеличить конверсию   \n",
       "2  Добавить блоки рекомендаций товаров на сайт интернет магазина, чтобы повысить конверсию и средний чек заказа   \n",
       "1                                     Запустить собственную службу доставки, что сократит срок доставки заказов   \n",
       "5                      Добавить страницу отзывов клиентов о магазине, что позволит увеличить количество заказов   \n",
       "3           Изменить структура категорий, что увеличит конверсию, т.к. пользователи быстрее найдут нужный товар   \n",
       "4                              Изменить цвет фона главной страницы, чтобы увеличить вовлеченность пользователей   \n",
       "\n",
       "         ICE  \n",
       "8  16.200000  \n",
       "0  13.333333  \n",
       "7  11.200000  \n",
       "6   8.000000  \n",
       "2   7.000000  \n",
       "1   2.000000  \n",
       "5   1.333333  \n",
       "3   1.125000  \n",
       "4   1.000000  "
      ]
     },
     "metadata": {},
     "output_type": "display_data"
    }
   ],
   "source": [
    "# Отсортируем гипотезы по фреймворку ICE в порядке убывания:\n",
    "display(hypothesis[['Hypothesis', 'ICE']].sort_values(by='ICE', ascending=False))"
   ]
  },
  {
   "cell_type": "markdown",
   "metadata": {},
   "source": [
    "#### Вывод:"
   ]
  },
  {
   "cell_type": "markdown",
   "metadata": {},
   "source": [
    "По фреймворку ICE лидерство за такими гипотезами как:\n",
    "1. Запустить акцию, дающую скидку на товар в день рождения\n",
    "2. Добавить два новых канала привлечения трафика, что позволит привлекать на 30% больше пользователей\n",
    "3. Добавить форму подписки на все основные страницы, чтобы собрать базу клиентов для email-рассылок"
   ]
  },
  {
   "cell_type": "markdown",
   "metadata": {},
   "source": [
    "### Фреймворк RICE (reach, impact, confidence, effort):"
   ]
  },
  {
   "cell_type": "markdown",
   "metadata": {},
   "source": [
    "Фреймворк RICE (отличается от ICE тем, что учитывает скольких пользователей затронет изменение): \n",
    "RICE = reach * impact * confidence / effort\n",
    "\n",
    "Расчитаем RICE для каждой гипотезы и сохраним результат в отдельном столбце:"
   ]
  },
  {
   "cell_type": "code",
   "execution_count": 6,
   "metadata": {},
   "outputs": [],
   "source": [
    "hypothesis['RICE'] = hypothesis['Reach'] * hypothesis['Impact'] * hypothesis['Confidence'] / hypothesis['Efforts']"
   ]
  },
  {
   "cell_type": "code",
   "execution_count": 7,
   "metadata": {},
   "outputs": [
    {
     "data": {
      "text/html": [
       "<div>\n",
       "<style scoped>\n",
       "    .dataframe tbody tr th:only-of-type {\n",
       "        vertical-align: middle;\n",
       "    }\n",
       "\n",
       "    .dataframe tbody tr th {\n",
       "        vertical-align: top;\n",
       "    }\n",
       "\n",
       "    .dataframe thead th {\n",
       "        text-align: right;\n",
       "    }\n",
       "</style>\n",
       "<table border=\"1\" class=\"dataframe\">\n",
       "  <thead>\n",
       "    <tr style=\"text-align: right;\">\n",
       "      <th></th>\n",
       "      <th>Hypothesis</th>\n",
       "      <th>RICE</th>\n",
       "    </tr>\n",
       "  </thead>\n",
       "  <tbody>\n",
       "    <tr>\n",
       "      <td>7</td>\n",
       "      <td>Добавить форму подписки на все основные страницы, чтобы собрать базу клиентов для email-рассылок</td>\n",
       "      <td>112.0</td>\n",
       "    </tr>\n",
       "    <tr>\n",
       "      <td>2</td>\n",
       "      <td>Добавить блоки рекомендаций товаров на сайт интернет магазина, чтобы повысить конверсию и средний чек заказа</td>\n",
       "      <td>56.0</td>\n",
       "    </tr>\n",
       "    <tr>\n",
       "      <td>0</td>\n",
       "      <td>Добавить два новых канала привлечения трафика, что позволит привлекать на 30% больше пользователей</td>\n",
       "      <td>40.0</td>\n",
       "    </tr>\n",
       "    <tr>\n",
       "      <td>6</td>\n",
       "      <td>Показать на главной странице баннеры с актуальными акциями и распродажами, чтобы увеличить конверсию</td>\n",
       "      <td>40.0</td>\n",
       "    </tr>\n",
       "    <tr>\n",
       "      <td>8</td>\n",
       "      <td>Запустить акцию, дающую скидку на товар в день рождения</td>\n",
       "      <td>16.2</td>\n",
       "    </tr>\n",
       "    <tr>\n",
       "      <td>3</td>\n",
       "      <td>Изменить структура категорий, что увеличит конверсию, т.к. пользователи быстрее найдут нужный товар</td>\n",
       "      <td>9.0</td>\n",
       "    </tr>\n",
       "    <tr>\n",
       "      <td>1</td>\n",
       "      <td>Запустить собственную службу доставки, что сократит срок доставки заказов</td>\n",
       "      <td>4.0</td>\n",
       "    </tr>\n",
       "    <tr>\n",
       "      <td>5</td>\n",
       "      <td>Добавить страницу отзывов клиентов о магазине, что позволит увеличить количество заказов</td>\n",
       "      <td>4.0</td>\n",
       "    </tr>\n",
       "    <tr>\n",
       "      <td>4</td>\n",
       "      <td>Изменить цвет фона главной страницы, чтобы увеличить вовлеченность пользователей</td>\n",
       "      <td>3.0</td>\n",
       "    </tr>\n",
       "  </tbody>\n",
       "</table>\n",
       "</div>"
      ],
      "text/plain": [
       "                                                                                                     Hypothesis  \\\n",
       "7              Добавить форму подписки на все основные страницы, чтобы собрать базу клиентов для email-рассылок   \n",
       "2  Добавить блоки рекомендаций товаров на сайт интернет магазина, чтобы повысить конверсию и средний чек заказа   \n",
       "0            Добавить два новых канала привлечения трафика, что позволит привлекать на 30% больше пользователей   \n",
       "6          Показать на главной странице баннеры с актуальными акциями и распродажами, чтобы увеличить конверсию   \n",
       "8                                                       Запустить акцию, дающую скидку на товар в день рождения   \n",
       "3           Изменить структура категорий, что увеличит конверсию, т.к. пользователи быстрее найдут нужный товар   \n",
       "1                                     Запустить собственную службу доставки, что сократит срок доставки заказов   \n",
       "5                      Добавить страницу отзывов клиентов о магазине, что позволит увеличить количество заказов   \n",
       "4                              Изменить цвет фона главной страницы, чтобы увеличить вовлеченность пользователей   \n",
       "\n",
       "    RICE  \n",
       "7  112.0  \n",
       "2   56.0  \n",
       "0   40.0  \n",
       "6   40.0  \n",
       "8   16.2  \n",
       "3    9.0  \n",
       "1    4.0  \n",
       "5    4.0  \n",
       "4    3.0  "
      ]
     },
     "metadata": {},
     "output_type": "display_data"
    }
   ],
   "source": [
    "# Отсортируем гипотезы по фреймворку RICE в порядке убывания:\n",
    "display(hypothesis[['Hypothesis', 'RICE']].sort_values(by='RICE', ascending=False))"
   ]
  },
  {
   "cell_type": "markdown",
   "metadata": {},
   "source": [
    "#### Вывод:"
   ]
  },
  {
   "cell_type": "markdown",
   "metadata": {},
   "source": [
    "По фреймворку RICE лидерство за такими гипотезами как:\n",
    "1. Добавить форму подписки на все основные страницы, чтобы собрать базу клиентов для email-рассылок\n",
    "2. Добавить блоки рекомендаций товаров на сайт интернет магазина, чтобы повысить конверсию и средний чек заказа\n",
    "3. Добавить два новых канала привлечения трафика, что позволит привлекать на 30% больше пользователей"
   ]
  },
  {
   "cell_type": "markdown",
   "metadata": {},
   "source": [
    "### Вывод:"
   ]
  },
  {
   "cell_type": "markdown",
   "metadata": {},
   "source": [
    "Если взглянуть на оба фреймворка ICE и RICE, которые мы применили для приоритизации гипотез, то можно выделить 4 явные гипотезы, которые имеют наименьшее значение для нашего бизнеса:\n",
    "1. Запустить собственную службу доставки, что сократит срок доставки заказов\n",
    "2. Изменить структура категорий, что увеличит конверсию, т.к. пользователи быстрее найдут нужный товар\n",
    "3. Изменить цвет фона главной страницы, чтобы увеличить вовлеченность пользователей\n",
    "4. Добавить страницу отзывов клиентов о магазине, что позволит увеличить количество заказов\n",
    "\n",
    "При этом тройка лидеров среди гипотез в этих двух фреймворках различна.\n",
    "Для ICE лидерами стали следующие гипотезы:\n",
    "1. Запустить акцию, дающую скидку на товар в день рождения\n",
    "2. Добавить два новых канала привлечения трафика, что позволит привлекать на 30% больше пользователей\n",
    "3. Добавить форму подписки на все основные страницы, чтобы собрать базу клиентов для email-рассылок\n",
    "\n",
    "А для RICE лидерство в гипотезах за:\n",
    "1. Добавить форму подписки на все основные страницы, чтобы собрать базу клиентов для email-рассылок\n",
    "2. Добавить блоки рекомендаций товаров на сайт интернет магазина, чтобы повысить конверсию и средний чек заказа\n",
    "3. Добавить два новых канала привлечения трафика, что позволит привлекать на 30% больше пользователей\n",
    "\n",
    "Различие в полученных результатах обсуловленно тем, что во фреймворке RICE есть дополнительный множитель reach - коэффициент, который учитывает скольких пользователей затронет изменение.\n",
    "\n",
    "По итогам приоритезации гипотез, в первую очередь необходимо сосредоточиться на этих двух гипотезах:\n",
    "1. Добавить форму подписки на все основные страницы, чтобы собрать базу клиентов для email-рассылок\n",
    "2. Добавить два новых канала привлечения трафика, что позволит привлекать на 30% больше пользователей\n",
    "Так как эти две гпиотезы попали в топ 3 при приоритезации с использованием фреймворков ICE и RICE."
   ]
  },
  {
   "cell_type": "markdown",
   "metadata": {},
   "source": [
    "## Анализ A/B-теста."
   ]
  },
  {
   "cell_type": "markdown",
   "metadata": {},
   "source": [
    "### Изучим данные по A/B тесту:"
   ]
  },
  {
   "cell_type": "code",
   "execution_count": 8,
   "metadata": {},
   "outputs": [],
   "source": [
    "# Загрузим результаты A/B теста и сохраним в переменные:\n",
    "orders = pd.read_csv('/datasets/orders.csv')\n",
    "visitors = pd.read_csv('/datasets/visitors.csv')"
   ]
  },
  {
   "cell_type": "code",
   "execution_count": 9,
   "metadata": {},
   "outputs": [
    {
     "name": "stdout",
     "output_type": "stream",
     "text": [
      "<class 'pandas.core.frame.DataFrame'>\n",
      "RangeIndex: 1197 entries, 0 to 1196\n",
      "Data columns (total 5 columns):\n",
      "transactionId    1197 non-null int64\n",
      "visitorId        1197 non-null int64\n",
      "date             1197 non-null object\n",
      "revenue          1197 non-null int64\n",
      "group            1197 non-null object\n",
      "dtypes: int64(3), object(2)\n",
      "memory usage: 46.9+ KB\n",
      "Количество дубликатов: 0\n"
     ]
    },
    {
     "data": {
      "text/html": [
       "<div>\n",
       "<style scoped>\n",
       "    .dataframe tbody tr th:only-of-type {\n",
       "        vertical-align: middle;\n",
       "    }\n",
       "\n",
       "    .dataframe tbody tr th {\n",
       "        vertical-align: top;\n",
       "    }\n",
       "\n",
       "    .dataframe thead th {\n",
       "        text-align: right;\n",
       "    }\n",
       "</style>\n",
       "<table border=\"1\" class=\"dataframe\">\n",
       "  <thead>\n",
       "    <tr style=\"text-align: right;\">\n",
       "      <th></th>\n",
       "      <th>transactionId</th>\n",
       "      <th>visitorId</th>\n",
       "      <th>date</th>\n",
       "      <th>revenue</th>\n",
       "      <th>group</th>\n",
       "    </tr>\n",
       "  </thead>\n",
       "  <tbody>\n",
       "    <tr>\n",
       "      <td>0</td>\n",
       "      <td>3667963787</td>\n",
       "      <td>3312258926</td>\n",
       "      <td>2019-08-15</td>\n",
       "      <td>1650</td>\n",
       "      <td>B</td>\n",
       "    </tr>\n",
       "    <tr>\n",
       "      <td>1</td>\n",
       "      <td>2804400009</td>\n",
       "      <td>3642806036</td>\n",
       "      <td>2019-08-15</td>\n",
       "      <td>730</td>\n",
       "      <td>B</td>\n",
       "    </tr>\n",
       "    <tr>\n",
       "      <td>2</td>\n",
       "      <td>2961555356</td>\n",
       "      <td>4069496402</td>\n",
       "      <td>2019-08-15</td>\n",
       "      <td>400</td>\n",
       "      <td>A</td>\n",
       "    </tr>\n",
       "    <tr>\n",
       "      <td>3</td>\n",
       "      <td>3797467345</td>\n",
       "      <td>1196621759</td>\n",
       "      <td>2019-08-15</td>\n",
       "      <td>9759</td>\n",
       "      <td>B</td>\n",
       "    </tr>\n",
       "    <tr>\n",
       "      <td>4</td>\n",
       "      <td>2282983706</td>\n",
       "      <td>2322279887</td>\n",
       "      <td>2019-08-15</td>\n",
       "      <td>2308</td>\n",
       "      <td>B</td>\n",
       "    </tr>\n",
       "  </tbody>\n",
       "</table>\n",
       "</div>"
      ],
      "text/plain": [
       "   transactionId   visitorId        date  revenue group\n",
       "0     3667963787  3312258926  2019-08-15     1650     B\n",
       "1     2804400009  3642806036  2019-08-15      730     B\n",
       "2     2961555356  4069496402  2019-08-15      400     A\n",
       "3     3797467345  1196621759  2019-08-15     9759     B\n",
       "4     2282983706  2322279887  2019-08-15     2308     B"
      ]
     },
     "metadata": {},
     "output_type": "display_data"
    }
   ],
   "source": [
    "# Используем метод info чтобы изучить информацию о заказах во время A/B теста:\n",
    "orders.info()\n",
    "print('Количество дубликатов:', orders.duplicated().sum())\n",
    "display(orders.head())"
   ]
  },
  {
   "cell_type": "code",
   "execution_count": 10,
   "metadata": {},
   "outputs": [
    {
     "name": "stdout",
     "output_type": "stream",
     "text": [
      "<class 'pandas.core.frame.DataFrame'>\n",
      "RangeIndex: 62 entries, 0 to 61\n",
      "Data columns (total 3 columns):\n",
      "date        62 non-null object\n",
      "group       62 non-null object\n",
      "visitors    62 non-null int64\n",
      "dtypes: int64(1), object(2)\n",
      "memory usage: 1.6+ KB\n",
      "Количество дубликатов: 0\n"
     ]
    },
    {
     "data": {
      "text/html": [
       "<div>\n",
       "<style scoped>\n",
       "    .dataframe tbody tr th:only-of-type {\n",
       "        vertical-align: middle;\n",
       "    }\n",
       "\n",
       "    .dataframe tbody tr th {\n",
       "        vertical-align: top;\n",
       "    }\n",
       "\n",
       "    .dataframe thead th {\n",
       "        text-align: right;\n",
       "    }\n",
       "</style>\n",
       "<table border=\"1\" class=\"dataframe\">\n",
       "  <thead>\n",
       "    <tr style=\"text-align: right;\">\n",
       "      <th></th>\n",
       "      <th>date</th>\n",
       "      <th>group</th>\n",
       "      <th>visitors</th>\n",
       "    </tr>\n",
       "  </thead>\n",
       "  <tbody>\n",
       "    <tr>\n",
       "      <td>0</td>\n",
       "      <td>2019-08-01</td>\n",
       "      <td>A</td>\n",
       "      <td>719</td>\n",
       "    </tr>\n",
       "    <tr>\n",
       "      <td>1</td>\n",
       "      <td>2019-08-02</td>\n",
       "      <td>A</td>\n",
       "      <td>619</td>\n",
       "    </tr>\n",
       "    <tr>\n",
       "      <td>2</td>\n",
       "      <td>2019-08-03</td>\n",
       "      <td>A</td>\n",
       "      <td>507</td>\n",
       "    </tr>\n",
       "    <tr>\n",
       "      <td>3</td>\n",
       "      <td>2019-08-04</td>\n",
       "      <td>A</td>\n",
       "      <td>717</td>\n",
       "    </tr>\n",
       "    <tr>\n",
       "      <td>4</td>\n",
       "      <td>2019-08-05</td>\n",
       "      <td>A</td>\n",
       "      <td>756</td>\n",
       "    </tr>\n",
       "  </tbody>\n",
       "</table>\n",
       "</div>"
      ],
      "text/plain": [
       "         date group  visitors\n",
       "0  2019-08-01     A       719\n",
       "1  2019-08-02     A       619\n",
       "2  2019-08-03     A       507\n",
       "3  2019-08-04     A       717\n",
       "4  2019-08-05     A       756"
      ]
     },
     "metadata": {},
     "output_type": "display_data"
    }
   ],
   "source": [
    "# Используем метод info чтобы изучить информацию о посещениях во время A/B теста:\n",
    "visitors.info()\n",
    "print('Количество дубликатов:', visitors.duplicated().sum())\n",
    "display(visitors.head())"
   ]
  },
  {
   "cell_type": "code",
   "execution_count": 11,
   "metadata": {},
   "outputs": [],
   "source": [
    "# Сгруппируем таблицу orders по уникальным посетителям и\n",
    "# найдем сколько раз каждый пользователь встречается в каждой группе:\n",
    "unique_users_in_orders = orders.groupby('visitorId')['group'].nunique().reset_index()"
   ]
  },
  {
   "cell_type": "code",
   "execution_count": 12,
   "metadata": {},
   "outputs": [
    {
     "data": {
      "text/html": [
       "<div>\n",
       "<style scoped>\n",
       "    .dataframe tbody tr th:only-of-type {\n",
       "        vertical-align: middle;\n",
       "    }\n",
       "\n",
       "    .dataframe tbody tr th {\n",
       "        vertical-align: top;\n",
       "    }\n",
       "\n",
       "    .dataframe thead th {\n",
       "        text-align: right;\n",
       "    }\n",
       "</style>\n",
       "<table border=\"1\" class=\"dataframe\">\n",
       "  <thead>\n",
       "    <tr style=\"text-align: right;\">\n",
       "      <th></th>\n",
       "      <th>visitorId</th>\n",
       "      <th>group</th>\n",
       "    </tr>\n",
       "  </thead>\n",
       "  <tbody>\n",
       "    <tr>\n",
       "      <td>2</td>\n",
       "      <td>8300375</td>\n",
       "      <td>2</td>\n",
       "    </tr>\n",
       "    <tr>\n",
       "      <td>44</td>\n",
       "      <td>199603092</td>\n",
       "      <td>2</td>\n",
       "    </tr>\n",
       "    <tr>\n",
       "      <td>51</td>\n",
       "      <td>232979603</td>\n",
       "      <td>2</td>\n",
       "    </tr>\n",
       "    <tr>\n",
       "      <td>55</td>\n",
       "      <td>237748145</td>\n",
       "      <td>2</td>\n",
       "    </tr>\n",
       "    <tr>\n",
       "      <td>66</td>\n",
       "      <td>276558944</td>\n",
       "      <td>2</td>\n",
       "    </tr>\n",
       "  </tbody>\n",
       "</table>\n",
       "</div>"
      ],
      "text/plain": [
       "    visitorId  group\n",
       "2     8300375      2\n",
       "44  199603092      2\n",
       "51  232979603      2\n",
       "55  237748145      2\n",
       "66  276558944      2"
      ]
     },
     "metadata": {},
     "output_type": "display_data"
    },
    {
     "name": "stdout",
     "output_type": "stream",
     "text": [
      "Количетсво пользователей, которые попали в обе группы: 58\n"
     ]
    }
   ],
   "source": [
    "# Сделаем срез из группированной таблицы, чтобы получить количетсво пользователей, которые попали в обе группы:\n",
    "non_unique_users_in_orders = unique_users_in_orders.query('group > 1')\n",
    "display(non_unique_users_in_orders.head())\n",
    "print('Количетсво пользователей, которые попали в обе группы:', len(non_unique_users_in_orders))"
   ]
  },
  {
   "cell_type": "markdown",
   "metadata": {},
   "source": [
    "#### Вывод:"
   ]
  },
  {
   "cell_type": "markdown",
   "metadata": {},
   "source": [
    "В данных по A/B тесту отсутствуют дубликаты и пропуски. Но неправильный формат для столбца с датой в обоих таблицах. Так же следует переименовать столбцы transactionId и visitorId\tиз таблицы orders в transaction_id и visitor_id соответственно. Кроме того, 58 пользователей попали в обе группы, а это может исказить иследования. Необходимо удалить этих пользователей из таблицы orders."
   ]
  },
  {
   "cell_type": "markdown",
   "metadata": {},
   "source": [
    "### Подготовка данных:"
   ]
  },
  {
   "cell_type": "code",
   "execution_count": 13,
   "metadata": {},
   "outputs": [],
   "source": [
    "# Список не уникальных пользователей, т.е. тех, кто попал в обе группы A/B теста: \n",
    "list_of_non_unique_users = non_unique_users_in_orders['visitorId'].tolist()"
   ]
  },
  {
   "cell_type": "code",
   "execution_count": 14,
   "metadata": {},
   "outputs": [
    {
     "name": "stdout",
     "output_type": "stream",
     "text": [
      "<class 'pandas.core.frame.DataFrame'>\n",
      "RangeIndex: 1016 entries, 0 to 1015\n",
      "Data columns (total 5 columns):\n",
      "transactionId    1016 non-null int64\n",
      "visitorId        1016 non-null int64\n",
      "date             1016 non-null object\n",
      "revenue          1016 non-null int64\n",
      "group            1016 non-null object\n",
      "dtypes: int64(3), object(2)\n",
      "memory usage: 39.8+ KB\n"
     ]
    }
   ],
   "source": [
    "# Удаляем из таблицы orders пользователей, которые попали в обе группы:\n",
    "orders = orders[~orders['visitorId'].isin(list_of_non_unique_users)].reset_index(drop=True)\n",
    "orders.info()"
   ]
  },
  {
   "cell_type": "code",
   "execution_count": 15,
   "metadata": {},
   "outputs": [
    {
     "data": {
      "text/plain": [
       "Index(['transaction_id', 'visitor_id', 'date', 'revenue', 'group'], dtype='object')"
      ]
     },
     "execution_count": 15,
     "metadata": {},
     "output_type": "execute_result"
    }
   ],
   "source": [
    "# Переимунеум 2 столбца из таблицы orders:\n",
    "orders = orders.rename(columns = {\n",
    "    'transactionId': 'transaction_id',\n",
    "    'visitorId': 'visitor_id'\n",
    "})\n",
    "# Проверим, переименовались столбцы или нет:\n",
    "orders.columns"
   ]
  },
  {
   "cell_type": "code",
   "execution_count": 16,
   "metadata": {},
   "outputs": [],
   "source": [
    "# Поменяем формат во всех столбцах с датой:\n",
    "orders['date'] = pd.to_datetime(orders['date'], format='%Y.%m.%d')\n",
    "visitors['date'] = pd.to_datetime(visitors['date'], format='%Y.%m.%d')"
   ]
  },
  {
   "cell_type": "code",
   "execution_count": 17,
   "metadata": {
    "scrolled": true
   },
   "outputs": [
    {
     "name": "stdout",
     "output_type": "stream",
     "text": [
      "<class 'pandas.core.frame.DataFrame'>\n",
      "RangeIndex: 1016 entries, 0 to 1015\n",
      "Data columns (total 5 columns):\n",
      "transaction_id    1016 non-null int64\n",
      "visitor_id        1016 non-null int64\n",
      "date              1016 non-null datetime64[ns]\n",
      "revenue           1016 non-null int64\n",
      "group             1016 non-null object\n",
      "dtypes: datetime64[ns](1), int64(3), object(1)\n",
      "memory usage: 39.8+ KB\n"
     ]
    }
   ],
   "source": [
    "# Проверим, изменился ли тип данных для столбца date:\n",
    "orders.info()"
   ]
  },
  {
   "cell_type": "code",
   "execution_count": 18,
   "metadata": {},
   "outputs": [
    {
     "name": "stdout",
     "output_type": "stream",
     "text": [
      "<class 'pandas.core.frame.DataFrame'>\n",
      "RangeIndex: 62 entries, 0 to 61\n",
      "Data columns (total 3 columns):\n",
      "date        62 non-null datetime64[ns]\n",
      "group       62 non-null object\n",
      "visitors    62 non-null int64\n",
      "dtypes: datetime64[ns](1), int64(1), object(1)\n",
      "memory usage: 1.6+ KB\n"
     ]
    }
   ],
   "source": [
    "# Проверим, изменился ли тип данных для столбца date:\n",
    "visitors.info()"
   ]
  },
  {
   "cell_type": "markdown",
   "metadata": {},
   "source": [
    "#### Вывод:"
   ]
  },
  {
   "cell_type": "markdown",
   "metadata": {},
   "source": [
    "Данные готовы к дальнейшнему исследованию: столбцы переименованные и все даты приведены к соответствующему формату."
   ]
  },
  {
   "cell_type": "markdown",
   "metadata": {},
   "source": [
    "### Анализ A/B теста"
   ]
  },
  {
   "cell_type": "code",
   "execution_count": 19,
   "metadata": {},
   "outputs": [],
   "source": [
    "# создадим массив уникальных пар значений дат и групп теста\n",
    "datesGroups = orders[['date','group']].drop_duplicates()"
   ]
  },
  {
   "cell_type": "code",
   "execution_count": 20,
   "metadata": {},
   "outputs": [],
   "source": [
    "# Агрегируем значения. Вычислим максимальную дату. \n",
    "# Для группы тоже рассчитаем максимум(чтобы столбец 'group' не пропал из итогового вывода). \n",
    "# Найдём число уникальных ID заказов и пользователей. Подсчитаем сумму чеков, применяя метожды к каждой строке\n",
    "# датафрейма apply(axis=1) и отсортируем результаты по столбцам 'date' и 'group':\n",
    "ordersAggregated = datesGroups.apply(lambda x: orders[np.logical_and(orders['date'] <= x['date'], orders['group'] == x['group'])]\\\n",
    ".agg({'date' : 'max', 'group' : 'max', 'transaction_id' : pd.Series.nunique, 'visitor_id' : pd.Series.nunique, 'revenue' : 'sum'}), axis=1).sort_values(by=['date','group'])"
   ]
  },
  {
   "cell_type": "code",
   "execution_count": 21,
   "metadata": {},
   "outputs": [],
   "source": [
    "# Агрегируем значения. Вычислим максимальную дату. \n",
    "# Для группы тоже рассчитаем максимум(чтобы столбец 'group' не пропал из итогового вывода). \n",
    "# Подсчитаем сумму посетителей, применяя метожды к каждой строке\n",
    "# датафрейма apply(axis=1) и отсортируем результаты по столбцам 'date' и 'group':\n",
    "visitorsAggregated = datesGroups.apply(lambda x: visitors[np.logical_and(visitors['date'] <= x['date'], visitors['group'] == x['group'])]\\\n",
    ".agg({'date' : 'max', 'group' : 'max', 'visitors' : 'sum'}), axis=1).sort_values(by=['date','group'])"
   ]
  },
  {
   "cell_type": "code",
   "execution_count": 22,
   "metadata": {},
   "outputs": [
    {
     "name": "stdout",
     "output_type": "stream",
     "text": [
      "        date group  orders  buyers  revenue  visitors\n",
      "0 2019-08-01     A      23      19   142779       719\n",
      "1 2019-08-01     B      17      17    59758       713\n",
      "2 2019-08-02     A      42      36   234381      1338\n",
      "3 2019-08-02     B      40      39   221801      1294\n",
      "4 2019-08-03     A      66      60   346854      1845\n"
     ]
    }
   ],
   "source": [
    "# Объединяем кумулятивные данные в одной таблице и присваиваем ее столбцам понятные названия:\n",
    "cumulativeData = ordersAggregated.merge(visitorsAggregated, left_on=['date', 'group'], right_on=['date', 'group'])\n",
    "cumulativeData.columns = ['date', 'group', 'orders', 'buyers', 'revenue', 'visitors']\n",
    "print(cumulativeData.head())"
   ]
  },
  {
   "cell_type": "markdown",
   "metadata": {},
   "source": [
    "#### График кумулятивной выручки по группам:"
   ]
  },
  {
   "cell_type": "code",
   "execution_count": 23,
   "metadata": {},
   "outputs": [
    {
     "name": "stderr",
     "output_type": "stream",
     "text": [
      "/opt/conda/lib/python3.7/site-packages/pandas/plotting/_matplotlib/converter.py:103: FutureWarning: Using an implicitly registered datetime converter for a matplotlib plotting method. The converter was registered by pandas on import. Future versions of pandas will require you to explicitly register matplotlib converters.\n",
      "\n",
      "To register the converters:\n",
      "\t>>> from pandas.plotting import register_matplotlib_converters\n",
      "\t>>> register_matplotlib_converters()\n",
      "  warnings.warn(msg, FutureWarning)\n"
     ]
    },
    {
     "data": {
      "image/png": "[encoded data removed]",
      "text/plain": [
       "<Figure size 1080x576 with 1 Axes>"
      ]
     },
     "metadata": {
      "needs_background": "light"
     },
     "output_type": "display_data"
    }
   ],
   "source": [
    "# датафрейм с кумулятивным количеством заказов и кумулятивной выручкой по дням в группе А\n",
    "cumulativeRevenueA = cumulativeData[cumulativeData['group']=='A'][['date','revenue', 'orders']]\n",
    "\n",
    "# датафрейм с кумулятивным количеством заказов и кумулятивной выручкой по дням в группе B\n",
    "cumulativeRevenueB = cumulativeData[cumulativeData['group']=='B'][['date','revenue', 'orders']]\n",
    "\n",
    "# Строим график выручки группы А\n",
    "plt.plot(cumulativeRevenueA['date'], cumulativeRevenueA['revenue'], label='A')\n",
    "\n",
    "# Строим график выручки группы B\n",
    "plt.plot(cumulativeRevenueB['date'], cumulativeRevenueB['revenue'], label='B')\n",
    "\n",
    "# Оформим график до конца: увеличим размер, добавим подписи осей и легенду:\n",
    "plt.title('График кумулятивной выручки по группам')\n",
    "plt.legend()\n",
    "plt.ylabel('Выручка')\n",
    "plt.xlabel('Дата')\n",
    "fig = plt.gcf()\n",
    "fig.set_size_inches(15, 8)"
   ]
  },
  {
   "cell_type": "markdown",
   "metadata": {},
   "source": [
    "##### Выводы и предположения:"
   ]
  },
  {
   "cell_type": "markdown",
   "metadata": {},
   "source": [
    "Кумулятивная выручка группы А равномерно увеличивается в течение всего теста. Кумулятивная выручка группы B так же увеличивается в течение всего теста, но в середине месяца наблюдается резкий скачок кумулятивной выручки. Это может сигнализировать о всплеске числа заказов, либо о появлении дорогих заказов."
   ]
  },
  {
   "cell_type": "markdown",
   "metadata": {},
   "source": [
    "#### График кумулятивного среднего чека по группам:"
   ]
  },
  {
   "cell_type": "code",
   "execution_count": 24,
   "metadata": {},
   "outputs": [
    {
     "data": {
      "image/png": "[encoded data removed]",
      "text/plain": [
       "<Figure size 1080x576 with 1 Axes>"
      ]
     },
     "metadata": {
      "needs_background": "light"
     },
     "output_type": "display_data"
    }
   ],
   "source": [
    "# Построим графики среднего чека по группам — разделим кумулятивную выручку на кумулятивное число заказов:\n",
    "plt.plot(cumulativeRevenueA['date'], cumulativeRevenueA['revenue']/cumulativeRevenueA['orders'], label='A')\n",
    "plt.plot(cumulativeRevenueB['date'], cumulativeRevenueB['revenue']/cumulativeRevenueB['orders'], label='B')\n",
    "plt.legend()\n",
    "\n",
    "# Оформим график до конца: увеличим размер, добавим подписи осей и легенду:\n",
    "plt.title('График кумулятивного среднего чека по группам')\n",
    "plt.legend()\n",
    "plt.ylabel('Средний чек')\n",
    "plt.xlabel('Дата')\n",
    "fig = plt.gcf()\n",
    "fig.set_size_inches(15, 8)"
   ]
  },
  {
   "cell_type": "markdown",
   "metadata": {},
   "source": [
    "##### Выводы и предположения:"
   ]
  },
  {
   "cell_type": "markdown",
   "metadata": {},
   "source": [
    "Средний чек для группы А показывал снижение в первые дни месяцы, однако затем перешел к росту и во второй половине месяца стабилизировался. Средний чек из группы B показывал равномерный рост до середины месяца, далее на графике наблюдается резкий всплеск (скорее всего сказывается появление крпных заказов) и после этого график среднего чека показывает равномерное снижение. Группе B необходимо больше данных чтобы средний чек пришел к реальному значению и установился на его уровне."
   ]
  },
  {
   "cell_type": "markdown",
   "metadata": {},
   "source": [
    "#### График относительного изменения кумулятивного среднего чека группы B к группе A:"
   ]
  },
  {
   "cell_type": "code",
   "execution_count": 25,
   "metadata": {},
   "outputs": [
    {
     "data": {
      "image/png": "[encoded data removed]",
      "text/plain": [
       "<Figure size 1080x576 with 1 Axes>"
      ]
     },
     "metadata": {
      "needs_background": "light"
     },
     "output_type": "display_data"
    }
   ],
   "source": [
    "# собираем данные в одном датафрейме\n",
    "mergedCumulativeRevenue = cumulativeRevenueA.merge(cumulativeRevenueB, left_on='date', right_on='date', how='left', suffixes=['A', 'B'])\n",
    "\n",
    "# cтроим отношение средних чеков\n",
    "plt.plot(mergedCumulativeRevenue['date'], (mergedCumulativeRevenue['revenueB']/mergedCumulativeRevenue['ordersB'])/(mergedCumulativeRevenue['revenueA']/mergedCumulativeRevenue['ordersA'])-1)\n",
    "\n",
    "# добавляем ось X\n",
    "plt.axhline(y=0, color='black', linestyle='--')\n",
    "\n",
    "# Оформим график до конца: увеличим размер, добавим подписи осей:\n",
    "plt.title('График относительного изменения кумулятивного среднего чека группы B к группе A')\n",
    "plt.ylabel('Относительное изменение кумулятивного среднего чека группы B к группе A')\n",
    "plt.xlabel('Дата')\n",
    "fig = plt.gcf()\n",
    "fig.set_size_inches(15, 8)"
   ]
  },
  {
   "cell_type": "markdown",
   "metadata": {},
   "source": [
    "##### Выводы и предположения:"
   ]
  },
  {
   "cell_type": "markdown",
   "metadata": {},
   "source": [
    "График относительного изменения кумулятивного среднего чека группы B к группе A получился с довольно резкими скачками и невозможно определить равновесное соотношение кумулятивного среднего чека группы B к группе A. Сказывается влияние аномальных по сумме заказов."
   ]
  },
  {
   "cell_type": "markdown",
   "metadata": {},
   "source": [
    "#### График кумулятивной конверсии по группам:"
   ]
  },
  {
   "cell_type": "code",
   "execution_count": 26,
   "metadata": {},
   "outputs": [
    {
     "data": {
      "image/png": "[encoded data removed]",
      "text/plain": [
       "<Figure size 1080x576 with 1 Axes>"
      ]
     },
     "metadata": {
      "needs_background": "light"
     },
     "output_type": "display_data"
    }
   ],
   "source": [
    "# считаем кумулятивную конверсию\n",
    "cumulativeData['conversion'] = cumulativeData['orders']/cumulativeData['visitors']\n",
    "\n",
    "# отделяем данные по группе A\n",
    "cumulativeDataA = cumulativeData[cumulativeData['group']=='A']\n",
    "\n",
    "# отделяем данные по группе B\n",
    "cumulativeDataB = cumulativeData[cumulativeData['group']=='B']\n",
    "\n",
    "# строим графики\n",
    "plt.plot(cumulativeDataA['date'], cumulativeDataA['conversion'], label='A')\n",
    "plt.plot(cumulativeDataB['date'], cumulativeDataB['conversion'], label='B')\n",
    "\n",
    "# Оформим график до конца: увеличим размер, добавим подписи осей:\n",
    "plt.title('График кумулятивной конверсии по группам')\n",
    "plt.legend()\n",
    "plt.ylabel('Кумулятивная конверсия')\n",
    "plt.xlabel('Дата')\n",
    "fig = plt.gcf()\n",
    "fig.set_size_inches(15, 8)\n",
    "\n",
    "# задаем масштаб осей\n",
    "plt.axis([cumulativeData['date'].min(), cumulativeData['date'].max(), 0, 0.04])\n",
    "plt.tight_layout()"
   ]
  },
  {
   "cell_type": "markdown",
   "metadata": {},
   "source": [
    "##### Выводы и предположения:"
   ]
  },
  {
   "cell_type": "markdown",
   "metadata": {},
   "source": [
    "Конверсия группы B, начиная со 2ой недели, вырвалась вперед и к концу теста установилась на уровне 3.0%. В то же время конверсия группы А показала снижение по итогам первой недели и зафиксировалась на уровне 2.5%."
   ]
  },
  {
   "cell_type": "markdown",
   "metadata": {},
   "source": [
    "#### График относительного изменения кумулятивной конверсии группы B к группе A:"
   ]
  },
  {
   "cell_type": "code",
   "execution_count": 27,
   "metadata": {},
   "outputs": [
    {
     "data": {
      "image/png": "[encoded data removed]",
      "text/plain": [
       "<Figure size 1080x576 with 1 Axes>"
      ]
     },
     "metadata": {
      "needs_background": "light"
     },
     "output_type": "display_data"
    }
   ],
   "source": [
    "# Объединим в единый датафрем таблицы cumulativeDataA и cumulativeDataB:\n",
    "mergedCumulativeConversions = cumulativeDataA[['date','conversion']].merge(cumulativeDataB[['date','conversion']], left_on='date', right_on='date', how='left', suffixes=['A', 'B'])\n",
    "\n",
    "# Строим график:\n",
    "plt.plot(mergedCumulativeConversions['date'], mergedCumulativeConversions['conversionB']/mergedCumulativeConversions['conversionA']-1, label=\"Относительный прирост конверсии группы B относительно группы A\")\n",
    "\n",
    "# Построим горизонтальные линии на графике, где 0 линия означает, что конверисии групп A и B равны.\n",
    "# А вторая линия, предположение, что конверия группы B выше конверсии группы A приблизительно на 15% (исходя\n",
    "# из предыдущего графика, по которому конверися группы B составила 3%, а группы A - 2.5%)\n",
    "plt.axhline(y=0, color='black', linestyle='--')\n",
    "plt.axhline(y=0.15, color='grey', linestyle='--')\n",
    "\n",
    "# задаем масштаб осей\n",
    "plt.axis([cumulativeData['date'].min(), cumulativeData['date'].max(), -0.4, 0.4])\n",
    "\n",
    "# Оформим график до конца: увеличим размер, добавим подписи осей:\n",
    "plt.title('График относительного изменения кумулятивной конверсии группы B к группе A')\n",
    "plt.ylabel('Относительное изменение кумулятивной конверсии группы B к группе A')\n",
    "plt.xlabel('Дата')\n",
    "fig = plt.gcf()\n",
    "fig.set_size_inches(15, 8)\n",
    "plt.tight_layout()"
   ]
  },
  {
   "cell_type": "markdown",
   "metadata": {},
   "source": [
    "##### Выводы и предположения:"
   ]
  },
  {
   "cell_type": "markdown",
   "metadata": {},
   "source": [
    "Конверсия группы B лучше конверсии группы А где-то на 15% в конце теста, не смотря на то, что на первой неделе конверсия у группы А была незначительно выше."
   ]
  },
  {
   "cell_type": "markdown",
   "metadata": {},
   "source": [
    "#### Точечный график количества заказов по пользователям:"
   ]
  },
  {
   "cell_type": "code",
   "execution_count": 28,
   "metadata": {},
   "outputs": [],
   "source": [
    "# Сгруппируем таблицу с заказами по пользователям и посчитаем количетсво заказов на каждого пользователя:\n",
    "orders_by_visitor = orders.groupby('visitor_id')['revenue'].count().reset_index()"
   ]
  },
  {
   "cell_type": "code",
   "execution_count": 29,
   "metadata": {},
   "outputs": [
    {
     "data": {
      "image/png": "[encoded data removed]",
      "text/plain": [
       "<Figure size 1080x576 with 1 Axes>"
      ]
     },
     "metadata": {
      "needs_background": "light"
     },
     "output_type": "display_data"
    }
   ],
   "source": [
    "# Точечный график количества заказов по пользователям:\n",
    "x_values = pd.Series(range(0,len(orders_by_visitor)))\n",
    "plt.scatter(x_values, orders_by_visitor['revenue'])\n",
    "\n",
    "# Оформим график до конца: увеличим размер, добавим подписи осей:\n",
    "plt.title('Точечный график количества заказов по пользователям')\n",
    "plt.ylabel('Количество заказов по пользователям')\n",
    "plt.xlabel('Список пользователей')\n",
    "fig = plt.gcf()\n",
    "fig.set_size_inches(15, 8)"
   ]
  },
  {
   "cell_type": "markdown",
   "metadata": {},
   "source": [
    "\n",
    "\n",
    "##### Выводы и предположения:"
   ]
  },
  {
   "cell_type": "markdown",
   "metadata": {},
   "source": [
    "Среди пользователей не так много тех, кто делает 3 и более заказа. Большинство пользователей совершает 1 заказ."
   ]
  },
  {
   "cell_type": "markdown",
   "metadata": {},
   "source": [
    "#### Посчитаем 95-й и 99-й перцентили количества заказов на пользователя. Выберем границу для определения аномальных пользователей."
   ]
  },
  {
   "cell_type": "code",
   "execution_count": 30,
   "metadata": {},
   "outputs": [
    {
     "name": "stdout",
     "output_type": "stream",
     "text": [
      "Не более 5% пользователей делают более 1 заказа/-ов\n",
      "Не более 1% пользователей делают более 2 заказа/-ов\n"
     ]
    }
   ],
   "source": [
    "# Для подсчёта перцентилей применbv метод percentile() библиотеки Numpy:\n",
    "percentile_for_orders = np.percentile(orders_by_visitor['revenue'], [95, 99])\n",
    "print('Не более 5% пользователей делают более', int(percentile_for_orders[0]), 'заказа/-ов')\n",
    "print('Не более 1% пользователей делают более', int(percentile_for_orders[1]), 'заказа/-ов')"
   ]
  },
  {
   "cell_type": "code",
   "execution_count": 31,
   "metadata": {},
   "outputs": [],
   "source": [
    "# Сохраним в переменную qty_limit границу определения аномальных пользователей:\n",
    "qty_limit = 2"
   ]
  },
  {
   "cell_type": "markdown",
   "metadata": {},
   "source": [
    "##### Выводы и предположения:"
   ]
  },
  {
   "cell_type": "markdown",
   "metadata": {},
   "source": [
    "В качестве границы аномальных пользователей выберем всех, кто совершил 3 и более заказов. Т.е. в итоговую выборку будет входить пользователи, которые совершили 1 или 2 заказа."
   ]
  },
  {
   "cell_type": "markdown",
   "metadata": {},
   "source": [
    "#### Точечный график стоимостей заказов:"
   ]
  },
  {
   "cell_type": "code",
   "execution_count": 32,
   "metadata": {},
   "outputs": [],
   "source": [
    "# Сгруппируем таблицу с заказами по транзакциям и посчитаем сумму заказов в каждой транзакции:\n",
    "orders_by_transaction = orders.groupby('transaction_id')['revenue'].sum().reset_index()"
   ]
  },
  {
   "cell_type": "code",
   "execution_count": 33,
   "metadata": {},
   "outputs": [
    {
     "data": {
      "image/png": "[encoded data removed]",
      "text/plain": [
       "<Figure size 1080x576 with 1 Axes>"
      ]
     },
     "metadata": {
      "needs_background": "light"
     },
     "output_type": "display_data"
    }
   ],
   "source": [
    "# Точечный график стоимости заказов:\n",
    "x_values = pd.Series(range(0,len(orders_by_transaction)))\n",
    "plt.scatter(x_values, orders_by_transaction['revenue'])\n",
    "\n",
    "# Оформим график до конца: увеличим размер, добавим подписи осей:\n",
    "plt.title('Точечный график стоимостей заказов')\n",
    "plt.ylabel('Стоимость заказов')\n",
    "plt.xlabel('Список транзакций')\n",
    "fig = plt.gcf()\n",
    "fig.set_size_inches(15, 8)"
   ]
  },
  {
   "cell_type": "markdown",
   "metadata": {},
   "source": [
    "График получился не очень информативным из-за наличия нескольких аномально высоких по сумме заказов (один около 1200000, а второй чуть больше, чем 200000), когда основная масса заказов лежит в пределах 100000. Посмотрим на тот же график, но в масштабе до 100000 по стоимость заказа:"
   ]
  },
  {
   "cell_type": "code",
   "execution_count": 34,
   "metadata": {},
   "outputs": [
    {
     "data": {
      "image/png": "[encoded data removed]",
      "text/plain": [
       "<Figure size 1080x576 with 1 Axes>"
      ]
     },
     "metadata": {
      "needs_background": "light"
     },
     "output_type": "display_data"
    }
   ],
   "source": [
    "# Точечный график стоимости заказов:\n",
    "x_values = pd.Series(range(0,len(orders_by_transaction)))\n",
    "plt.scatter(x_values, orders_by_transaction['revenue'])\n",
    "plt.axis([0, 1050, 0, 100000])\n",
    "\n",
    "# Оформим график до конца: увеличим размер, добавим подписи осей:\n",
    "plt.title('Точечный график стоимостей заказов до 100000')\n",
    "plt.ylabel('Стоимость заказов')\n",
    "plt.xlabel('Список транзакций')\n",
    "fig = plt.gcf()\n",
    "fig.set_size_inches(15, 8)"
   ]
  },
  {
   "cell_type": "markdown",
   "metadata": {},
   "source": [
    "##### Выводы и предположения:"
   ]
  },
  {
   "cell_type": "markdown",
   "metadata": {},
   "source": [
    "Очень мало заказов, стоимость которых превышает 60000. При этом есть один заказ, стоимость которого превышает 1200000. Скорее всего, это тот самый заказ из группы B, который сильно влиял на размер среднего чека."
   ]
  },
  {
   "cell_type": "markdown",
   "metadata": {},
   "source": [
    "#### Посчитаем 95-й и 99-й перцентили стоимости заказов. Выберем границу для определения аномальных заказов."
   ]
  },
  {
   "cell_type": "code",
   "execution_count": 35,
   "metadata": {},
   "outputs": [
    {
     "name": "stdout",
     "output_type": "stream",
     "text": [
      "Стоимость не более 5% заказов составляет от 26785\n",
      "Стоимость не более 1% заказов составляет от 53904\n"
     ]
    }
   ],
   "source": [
    "# Для подсчёта перцентилей применbv метод percentile() библиотеки Numpy:\n",
    "percentile_for_transaction = np.percentile(orders_by_transaction['revenue'], [95, 99])\n",
    "print('Стоимость не более 5% заказов составляет от', int(percentile_for_transaction[0]))\n",
    "print('Стоимость не более 1% заказов составляет от', int(percentile_for_transaction[1]))"
   ]
  },
  {
   "cell_type": "code",
   "execution_count": 36,
   "metadata": {},
   "outputs": [],
   "source": [
    "# Сохраним в переменную revenue_limit границу определения аномальных пользователей:\n",
    "revenue_limit = 50000"
   ]
  },
  {
   "cell_type": "markdown",
   "metadata": {},
   "source": [
    "##### Выводы и предположения:"
   ]
  },
  {
   "cell_type": "markdown",
   "metadata": {},
   "source": [
    "В качестве границы аномальных заказов возьмём стоимость заказов, равную 50000. То есть, все заказы до 50000 будут входить в итоговую выборку."
   ]
  },
  {
   "cell_type": "markdown",
   "metadata": {},
   "source": [
    "#### Посчитаем статистическую значимость различий в конверсии между группами по «сырым» данным:"
   ]
  },
  {
   "cell_type": "code",
   "execution_count": 37,
   "metadata": {},
   "outputs": [],
   "source": [
    "# Срез из посетителей из группы А:\n",
    "visitorsADaily = visitors[visitors['group'] == 'A'][['date', 'visitors']]\n",
    "visitorsADaily.columns = ['date', 'visitorsPerDateA']\n",
    "\n",
    "# Кумулятивное значение посетителей из группы А:\n",
    "visitorsACummulative = visitorsADaily.apply(\n",
    "    lambda x: visitorsADaily[visitorsADaily['date'] <= x['date']].agg(\n",
    "        {'date': 'max', 'visitorsPerDateA': 'sum'}\n",
    "    ),\n",
    "    axis=1,\n",
    ")\n",
    "visitorsACummulative.columns = ['date', 'visitorsCummulativeA']"
   ]
  },
  {
   "cell_type": "code",
   "execution_count": 38,
   "metadata": {},
   "outputs": [],
   "source": [
    "# Срез из посетителей из группы В:\n",
    "visitorsBDaily = visitors[visitors['group'] == 'B'][['date', 'visitors']]\n",
    "visitorsBDaily.columns = ['date', 'visitorsPerDateB']\n",
    "\n",
    "# Кумулятивное значение посетителей из группы B:\n",
    "visitorsBCummulative = visitorsBDaily.apply(\n",
    "    lambda x: visitorsBDaily[visitorsBDaily['date'] <= x['date']].agg(\n",
    "        {'date': 'max', 'visitorsPerDateB': 'sum'}\n",
    "    ),\n",
    "    axis=1,\n",
    ")\n",
    "visitorsBCummulative.columns = ['date', 'visitorsCummulativeB']"
   ]
  },
  {
   "cell_type": "code",
   "execution_count": 39,
   "metadata": {},
   "outputs": [],
   "source": [
    "# Срез по заказам из группы А, сгруппированный по дням и подсчёт количества заказов и выручка с них:\n",
    "ordersADaily = (\n",
    "    orders[orders['group'] == 'A'][['date', 'transaction_id', 'visitor_id', 'revenue']]\n",
    "    .groupby('date', as_index=False)\n",
    "    .agg({'transaction_id': pd.Series.nunique, 'revenue': 'sum'})\n",
    ")\n",
    "ordersADaily.columns = ['date', 'ordersPerDateA', 'revenuePerDateA']\n",
    "\n",
    "# Расчёт кумулятивных показателей количества заказов и выручки с них по заказам из группы А:\n",
    "ordersACummulative = ordersADaily.apply(\n",
    "    lambda x: ordersADaily[ordersADaily['date'] <= x['date']].agg(\n",
    "        {'date': 'max', 'ordersPerDateA': 'sum', 'revenuePerDateA': 'sum'}\n",
    "    ),\n",
    "    axis=1,\n",
    ").sort_values(by=['date'])\n",
    "ordersACummulative.columns = ['date', 'ordersCummulativeA', 'revenueCummulativeA']"
   ]
  },
  {
   "cell_type": "code",
   "execution_count": 40,
   "metadata": {},
   "outputs": [],
   "source": [
    "# Срез по заказам из группы B, сгруппированный по дням и подсчёт количества заказов и выручка с них:\n",
    "ordersBDaily = (\n",
    "    orders[orders['group'] == 'B'][['date', 'transaction_id', 'visitor_id', 'revenue']]\n",
    "    .groupby('date', as_index=False)\n",
    "    .agg({'transaction_id': pd.Series.nunique, 'revenue': 'sum'})\n",
    ")\n",
    "ordersBDaily.columns = ['date', 'ordersPerDateB', 'revenuePerDateB']\n",
    "\n",
    "# Расчёт кумулятивных показателей количества заказов и выручки с них по заказам из группы B:\n",
    "ordersBCummulative = ordersBDaily.apply(\n",
    "    lambda x: ordersBDaily[ordersBDaily['date'] <= x['date']].agg(\n",
    "        {'date': 'max', 'ordersPerDateB': 'sum', 'revenuePerDateB': 'sum'}\n",
    "    ),\n",
    "    axis=1,\n",
    ").sort_values(by=['date'])\n",
    "ordersBCummulative.columns = ['date', 'ordersCummulativeB', 'revenueCummulativeB']"
   ]
  },
  {
   "cell_type": "code",
   "execution_count": 41,
   "metadata": {},
   "outputs": [
    {
     "data": {
      "text/html": [
       "<div>\n",
       "<style scoped>\n",
       "    .dataframe tbody tr th:only-of-type {\n",
       "        vertical-align: middle;\n",
       "    }\n",
       "\n",
       "    .dataframe tbody tr th {\n",
       "        vertical-align: top;\n",
       "    }\n",
       "\n",
       "    .dataframe thead th {\n",
       "        text-align: right;\n",
       "    }\n",
       "</style>\n",
       "<table border=\"1\" class=\"dataframe\">\n",
       "  <thead>\n",
       "    <tr style=\"text-align: right;\">\n",
       "      <th></th>\n",
       "      <th>date</th>\n",
       "      <th>ordersPerDateA</th>\n",
       "      <th>revenuePerDateA</th>\n",
       "      <th>ordersPerDateB</th>\n",
       "      <th>revenuePerDateB</th>\n",
       "      <th>ordersCummulativeA</th>\n",
       "      <th>revenueCummulativeA</th>\n",
       "      <th>ordersCummulativeB</th>\n",
       "      <th>revenueCummulativeB</th>\n",
       "      <th>visitorsPerDateA</th>\n",
       "      <th>visitorsPerDateB</th>\n",
       "      <th>visitorsCummulativeA</th>\n",
       "      <th>visitorsCummulativeB</th>\n",
       "    </tr>\n",
       "  </thead>\n",
       "  <tbody>\n",
       "    <tr>\n",
       "      <td>0</td>\n",
       "      <td>2019-08-01</td>\n",
       "      <td>23</td>\n",
       "      <td>142779</td>\n",
       "      <td>17</td>\n",
       "      <td>59758</td>\n",
       "      <td>23</td>\n",
       "      <td>142779</td>\n",
       "      <td>17</td>\n",
       "      <td>59758</td>\n",
       "      <td>719</td>\n",
       "      <td>713</td>\n",
       "      <td>719</td>\n",
       "      <td>713</td>\n",
       "    </tr>\n",
       "    <tr>\n",
       "      <td>1</td>\n",
       "      <td>2019-08-02</td>\n",
       "      <td>19</td>\n",
       "      <td>91602</td>\n",
       "      <td>23</td>\n",
       "      <td>162043</td>\n",
       "      <td>42</td>\n",
       "      <td>234381</td>\n",
       "      <td>40</td>\n",
       "      <td>221801</td>\n",
       "      <td>619</td>\n",
       "      <td>581</td>\n",
       "      <td>1338</td>\n",
       "      <td>1294</td>\n",
       "    </tr>\n",
       "    <tr>\n",
       "      <td>2</td>\n",
       "      <td>2019-08-03</td>\n",
       "      <td>24</td>\n",
       "      <td>112473</td>\n",
       "      <td>14</td>\n",
       "      <td>67049</td>\n",
       "      <td>66</td>\n",
       "      <td>346854</td>\n",
       "      <td>54</td>\n",
       "      <td>288850</td>\n",
       "      <td>507</td>\n",
       "      <td>509</td>\n",
       "      <td>1845</td>\n",
       "      <td>1803</td>\n",
       "    </tr>\n",
       "    <tr>\n",
       "      <td>3</td>\n",
       "      <td>2019-08-04</td>\n",
       "      <td>11</td>\n",
       "      <td>41176</td>\n",
       "      <td>14</td>\n",
       "      <td>96890</td>\n",
       "      <td>77</td>\n",
       "      <td>388030</td>\n",
       "      <td>68</td>\n",
       "      <td>385740</td>\n",
       "      <td>717</td>\n",
       "      <td>770</td>\n",
       "      <td>2562</td>\n",
       "      <td>2573</td>\n",
       "    </tr>\n",
       "    <tr>\n",
       "      <td>4</td>\n",
       "      <td>2019-08-05</td>\n",
       "      <td>22</td>\n",
       "      <td>86383</td>\n",
       "      <td>21</td>\n",
       "      <td>89908</td>\n",
       "      <td>99</td>\n",
       "      <td>474413</td>\n",
       "      <td>89</td>\n",
       "      <td>475648</td>\n",
       "      <td>756</td>\n",
       "      <td>707</td>\n",
       "      <td>3318</td>\n",
       "      <td>3280</td>\n",
       "    </tr>\n",
       "  </tbody>\n",
       "</table>\n",
       "</div>"
      ],
      "text/plain": [
       "        date  ordersPerDateA  revenuePerDateA  ordersPerDateB  \\\n",
       "0 2019-08-01              23           142779              17   \n",
       "1 2019-08-02              19            91602              23   \n",
       "2 2019-08-03              24           112473              14   \n",
       "3 2019-08-04              11            41176              14   \n",
       "4 2019-08-05              22            86383              21   \n",
       "\n",
       "   revenuePerDateB  ordersCummulativeA  revenueCummulativeA  \\\n",
       "0            59758                  23               142779   \n",
       "1           162043                  42               234381   \n",
       "2            67049                  66               346854   \n",
       "3            96890                  77               388030   \n",
       "4            89908                  99               474413   \n",
       "\n",
       "   ordersCummulativeB  revenueCummulativeB  visitorsPerDateA  \\\n",
       "0                  17                59758               719   \n",
       "1                  40               221801               619   \n",
       "2                  54               288850               507   \n",
       "3                  68               385740               717   \n",
       "4                  89               475648               756   \n",
       "\n",
       "   visitorsPerDateB  visitorsCummulativeA  visitorsCummulativeB  \n",
       "0               713                   719                   713  \n",
       "1               581                  1338                  1294  \n",
       "2               509                  1845                  1803  \n",
       "3               770                  2562                  2573  \n",
       "4               707                  3318                  3280  "
      ]
     },
     "metadata": {},
     "output_type": "display_data"
    }
   ],
   "source": [
    "# Объединми созданные ранее таблицы в одну:\n",
    "data = (\n",
    "    ordersADaily.merge(ordersBDaily, left_on='date', right_on='date', how='left')\n",
    "    .merge(ordersACummulative, left_on='date', right_on='date', how='left')\n",
    "    .merge(ordersBCummulative, left_on='date', right_on='date', how='left')\n",
    "    .merge(visitorsADaily, left_on='date', right_on='date', how='left')\n",
    "    .merge(visitorsBDaily, left_on='date', right_on='date', how='left')\n",
    "    .merge(visitorsACummulative, left_on='date', right_on='date', how='left')\n",
    "    .merge(visitorsBCummulative, left_on='date', right_on='date', how='left')\n",
    ")\n",
    "\n",
    "display(data.head()) "
   ]
  },
  {
   "cell_type": "code",
   "execution_count": 42,
   "metadata": {},
   "outputs": [],
   "source": [
    "# Сохраним в переменую ordersByUsersA пользователей из группы А, которые хотя бы раз совершали заказ,\n",
    "# и посчитаем сколько заказов было сделано каждым пользователем:\n",
    "ordersByUsersA = (\n",
    "    orders[orders['group'] == 'A']\n",
    "    .groupby('visitor_id', as_index=False)\n",
    "    .agg({'transaction_id': pd.Series.nunique})\n",
    ")\n",
    "ordersByUsersA.columns = ['userId', 'orders']\n",
    "\n",
    "# Сохраним в переменую ordersByUsersB пользователей из группы B, которые хотя бы раз совершали заказ,\n",
    "# и посчитаем сколько заказов было сделано каждым пользователем:\n",
    "ordersByUsersB = (\n",
    "    orders[orders['group'] == 'B']\n",
    "    .groupby('visitor_id', as_index=False)\n",
    "    .agg({'transaction_id': pd.Series.nunique})\n",
    ")\n",
    "ordersByUsersB.columns = ['userId', 'orders']"
   ]
  },
  {
   "cell_type": "code",
   "execution_count": 43,
   "metadata": {},
   "outputs": [],
   "source": [
    "# Объявим переменные sampleA в которой пользователям из группы А будет соответствовать количество заказов. \n",
    "# Тем, кто ничего не заказал, будут соответствовать нули.\n",
    "# Это нужно, чтобы подготовить выборки к проверке критерием Манна-Уитни.\n",
    "\n",
    "sampleA = pd.concat( # объединяем последовательности функцией pd.concat()\n",
    "    [\n",
    "        ordersByUsersA['orders'], # Список с количеством заказов для каждого из пользователей\n",
    "        pd.Series(\n",
    "            0, # Нули для пользователей, которые ничего не заказывали.\n",
    "            index=np.arange( # Список индексов создали функцией np.arange(), которая создаёт массив индексов в формате np.array, который требуется в pd.Series.\n",
    "                data['visitorsPerDateA'].sum() - len(ordersByUsersA['orders']) # Количество 0 для пользователей равно разнице между суммой посетителей и количеством записей о заказах.\n",
    "            ),\n",
    "            name='orders',\n",
    "        ),\n",
    "    ],\n",
    "    axis=0, # аргумент, сообщающий, что объекты Series нужно объединить по строкам (то есть записать подряд).\n",
    ")"
   ]
  },
  {
   "cell_type": "code",
   "execution_count": 44,
   "metadata": {},
   "outputs": [],
   "source": [
    "# Объявим переменные sampleB в которой пользователям из группы B будет соответствовать количество заказов. \n",
    "# Тем, кто ничего не заказал, будут соответствовать нули.\n",
    "# Это нужно, чтобы подготовить выборки к проверке критерием Манна-Уитни.\n",
    "\n",
    "sampleB = pd.concat( # объединяем последовательности функцией pd.concat()\n",
    "    [\n",
    "        ordersByUsersB['orders'], # Список с количеством заказов для каждого из пользователей\n",
    "        pd.Series(\n",
    "            0, # Нули для пользователей, которые ничего не заказывали.\n",
    "            index=np.arange( # Список индексов создали функцией np.arange(), которая создаёт массив индексов в формате np.array, который требуется в pd.Series.\n",
    "                data['visitorsPerDateB'].sum() - len(ordersByUsersB['orders']) # Количество 0 для пользователей равно разнице между суммой посетителей и количеством записей о заказах.\n",
    "            ),\n",
    "            name='orders',\n",
    "        ),\n",
    "    ],\n",
    "    axis=0, # аргумент, сообщающий, что объекты Series нужно объединить по строкам (то есть записать подряд).\n",
    ")"
   ]
  },
  {
   "cell_type": "markdown",
   "metadata": {},
   "source": [
    "Перед применением U-критерий Манна-Уитни сформулируем нулевую(H0) и альтернативную(H1) гипотезы:\n",
    "\n",
    "1. Нулевая гипотеза H0: Статистически значимых различий в конверсии между группами B и A нет и они равны. \n",
    "2. Альтернативная гипотеза H1: Есть статистически значимые различия в конверсии между группами B и A."
   ]
  },
  {
   "cell_type": "code",
   "execution_count": 45,
   "metadata": {},
   "outputs": [
    {
     "name": "stdout",
     "output_type": "stream",
     "text": [
      "p-value = 0.006\n",
      "Относительный выигрыш(>0)/проигрыш(<0) группы B равен = 0.160\n"
     ]
    }
   ],
   "source": [
    "# Применим критерий mannwhitneyu() и отформатируем p-value, округлив его до трёх знаков после запятой:\n",
    "print('p-value = {0:.3f}'.format(stats.mannwhitneyu(sampleA, sampleB)[1]))\n",
    "\n",
    "# Чтобы получить конверсию в группе, поделим сумму заказов на число пользователей — найдём среднее в выборке\n",
    "# sampleA методом mean(). Аналогично найдём конверсию группы B: SampleB.mean().\n",
    "# Выведем относительный прирост конверсии группы B: конверсия группы B / конверсия группы A - 1. Округлим до трёх знаков после запятой.\n",
    "print('Относительный выигрыш(>0)/проигрыш(<0) группы B равен = {0:.3f}'.format(sampleB.mean() / sampleA.mean() - 1))"
   ]
  },
  {
   "cell_type": "markdown",
   "metadata": {},
   "source": [
    "##### Выводы и предположения:"
   ]
  },
  {
   "cell_type": "markdown",
   "metadata": {},
   "source": [
    "По «сырым» данным есть различия в конверсии групп A и B.\n",
    "p-value = 0.006 меньше 0.05. Значит, нулевую гипотезу о том, что статистически значимых различий в конверсии между группами нет, отвергаем. Относительный выигрыш группы B равен 16%."
   ]
  },
  {
   "cell_type": "markdown",
   "metadata": {},
   "source": [
    "#### Посчитаем статистическую значимость различий в среднем чеке заказа между группами по «сырым» данным:"
   ]
  },
  {
   "cell_type": "markdown",
   "metadata": {},
   "source": [
    "Перед применением U-критерий Манна-Уитни сформулируем нулевую(H0) и альтернативную(H1) гипотезы:\n",
    "\n",
    "1. Нулевая гипотеза H0: Статистически значимых различий в среднем чеке групп B и A нет и они равны. \n",
    "2. Альтернативная гипотеза H1: Есть статистически значимые различия в среднем чеке групп B и A."
   ]
  },
  {
   "cell_type": "code",
   "execution_count": 46,
   "metadata": {},
   "outputs": [
    {
     "name": "stdout",
     "output_type": "stream",
     "text": [
      "p-value = 0.415\n",
      "Относительные различия в среднем чеке между группами: 0.287\n"
     ]
    }
   ],
   "source": [
    "# Чтобы рассчитать статистическую значимость различий в среднем чеке между сегментами,\n",
    "# передадим критерию mannwhitneyu() данные о выручке с заказов:\n",
    "print('p-value = {0:.3f}'.format(stats.mannwhitneyu(orders[orders['group']=='A']['revenue'], orders[orders['group']=='B']['revenue'])[1]))\n",
    "\n",
    "# Найдём относительные различия в среднем чеке между группами, где для подсчёта среднего чека нам\n",
    "# достаточно просто из таблицы заказов взять среднее значение по группе:\n",
    "print('Относительные различия в среднем чеке между группами: {0:.3f}'.format(orders[orders['group']=='B']['revenue'].mean()/orders[orders['group']=='A']['revenue'].mean()-1))"
   ]
  },
  {
   "cell_type": "markdown",
   "metadata": {},
   "source": [
    "##### Выводы и предположения:"
   ]
  },
  {
   "cell_type": "markdown",
   "metadata": {},
   "source": [
    "P-value значительно больше 0.05. Значит, причин отвергать нулевую гипотезу и считать, что в среднем чеке есть различия, нет. Средний чек группы B значительно выше среднего чека группы A."
   ]
  },
  {
   "cell_type": "markdown",
   "metadata": {},
   "source": [
    "#### Посчитаем статистическую значимость различий в конверсии между группами по «очищенным» данным:"
   ]
  },
  {
   "cell_type": "code",
   "execution_count": 47,
   "metadata": {},
   "outputs": [
    {
     "name": "stdout",
     "output_type": "stream",
     "text": [
      "937    148427295\n",
      "33     249864742\n",
      "58     611059232\n",
      "972    759473111\n",
      "811    887908475\n",
      "dtype: int64\n",
      "Всего аномальных пользователей: (22,)\n"
     ]
    }
   ],
   "source": [
    "# Узнаем, сколько всего аномальных пользователей методом shape():\n",
    "usersWithManyOrders = pd.concat(\n",
    "    [\n",
    "        ordersByUsersA[ordersByUsersA['orders'] > qty_limit]['userId'],\n",
    "        ordersByUsersB[ordersByUsersB['orders'] > qty_limit]['userId'],\n",
    "    ],\n",
    "    axis=0,\n",
    ")\n",
    "usersWithExpensiveOrders = orders[orders['revenue'] > revenue_limit]['visitor_id']\n",
    "abnormalUsers = (\n",
    "    pd.concat([usersWithManyOrders, usersWithExpensiveOrders], axis=0)\n",
    "    .drop_duplicates()\n",
    "    .sort_values()\n",
    ")\n",
    "print(abnormalUsers.head())\n",
    "print('Всего аномальных пользователей:', abnormalUsers.shape)"
   ]
  },
  {
   "cell_type": "code",
   "execution_count": 48,
   "metadata": {},
   "outputs": [],
   "source": [
    "# Подготовим выборки количества заказов по пользователям по группам теста:\n",
    "sampleAFiltered = pd.concat(\n",
    "    [\n",
    "        ordersByUsersA[\n",
    "            np.logical_not(ordersByUsersA['userId'].isin(abnormalUsers)) # исключаем аномальных пользователей\n",
    "        ]['orders'],\n",
    "        pd.Series(\n",
    "            0,\n",
    "            index=np.arange(\n",
    "                data['visitorsPerDateA'].sum() - len(ordersByUsersA['orders'])\n",
    "            ),\n",
    "            name='orders',\n",
    "        ),\n",
    "    ],\n",
    "    axis=0,\n",
    ")\n",
    "\n",
    "sampleBFiltered = pd.concat(\n",
    "    [\n",
    "        ordersByUsersB[\n",
    "            np.logical_not(ordersByUsersB['userId'].isin(abnormalUsers)) # исключаем аномальных пользователей\n",
    "        ]['orders'],\n",
    "        pd.Series(\n",
    "            0,\n",
    "            index=np.arange(\n",
    "                data['visitorsPerDateB'].sum() - len(ordersByUsersB['orders'])\n",
    "            ),\n",
    "            name='orders',\n",
    "        ),\n",
    "    ],\n",
    "    axis=0,\n",
    ")"
   ]
  },
  {
   "cell_type": "markdown",
   "metadata": {},
   "source": [
    "Перед применением U-критерий Манна-Уитни сформулируем нулевую(H0) и альтернативную(H1) гипотезы:\n",
    "\n",
    "1. Нулевая гипотеза H0: Статистически значимых различий в конверсии между отфильтрованными группами B и A нет и они равны. \n",
    "2. Альтернативная гипотеза H1: Есть статистически значимые различия в конверсии между отфильтрованными группами B и A."
   ]
  },
  {
   "cell_type": "code",
   "execution_count": 49,
   "metadata": {},
   "outputs": [
    {
     "name": "stdout",
     "output_type": "stream",
     "text": [
      "p-value = 0.003\n",
      "Относительный выигрыш(>0)/проигрыш(<0) группы B равен = 0.198\n"
     ]
    }
   ],
   "source": [
    "# Применим статистический критерий Манна-Уитни к полученным выборкам:\n",
    "print('p-value = {0:.3f}'.format(stats.mannwhitneyu(sampleAFiltered, sampleBFiltered)[1]))\n",
    "\n",
    "# Выведем относительный прирост конверсии группы B: конверсия группы B / конверсия группы A - 1.\n",
    "# Округлим до трёх знаков после запятой.\n",
    "print('Относительный выигрыш(>0)/проигрыш(<0) группы B равен = {0:.3f}'.format(sampleBFiltered.mean()/sampleAFiltered.mean()-1))"
   ]
  },
  {
   "cell_type": "markdown",
   "metadata": {},
   "source": [
    "##### Выводы и предположения:"
   ]
  },
  {
   "cell_type": "markdown",
   "metadata": {},
   "source": [
    "По «очищенным» данным так же есть различия в конверсии групп A и B.\n",
    "p-value = 0.003 меньше 0.05. Значит, нулевую гипотезу о том, что статистически значимых различий в конверсии между группами нет, отвергаем. Относительный выигрыш группы B увеличился по сравнению с \"сырыми\" данными на 3,8% и теперь равен 19,8% вместо 16%."
   ]
  },
  {
   "cell_type": "markdown",
   "metadata": {},
   "source": [
    "#### Посчитаем статистическую значимость различий в среднем чеке заказа между группами по «очищенным» данным:"
   ]
  },
  {
   "cell_type": "markdown",
   "metadata": {},
   "source": [
    "Перед применением U-критерий Манна-Уитни сформулируем нулевую(H0) и альтернативную(H1) гипотезы:\n",
    "\n",
    "1. Нулевая гипотеза H0: Статистически значимых различий в среднем чеке отфильтрованных групп B и A нет и они равны. \n",
    "2. Альтернативная гипотеза H1: Есть статистически значимые различия в среднем чеке отфильтрованных групп B и A."
   ]
  },
  {
   "cell_type": "code",
   "execution_count": 50,
   "metadata": {},
   "outputs": [
    {
     "name": "stdout",
     "output_type": "stream",
     "text": [
      "p-value = 0.469\n",
      "Относительные различия в среднем чеке между группами: 0.011\n"
     ]
    }
   ],
   "source": [
    "print(\n",
    "    'p-value = {0:.3f}'.format(\n",
    "        stats.mannwhitneyu(\n",
    "            orders[\n",
    "                np.logical_and(\n",
    "                    orders['group'] == 'A',\n",
    "                    np.logical_not(orders['visitor_id'].isin(abnormalUsers)),\n",
    "                )\n",
    "            ]['revenue'],\n",
    "            orders[\n",
    "                np.logical_and(\n",
    "                    orders['group'] == 'B',\n",
    "                    np.logical_not(orders['visitor_id'].isin(abnormalUsers)),\n",
    "                )\n",
    "            ]['revenue'],\n",
    "        )[1]\n",
    "    )\n",
    ")\n",
    "\n",
    "print(\n",
    "    \"Относительные различия в среднем чеке между группами: {0:.3f}\".format(\n",
    "        orders[\n",
    "            np.logical_and(\n",
    "                orders['group'] == 'B',\n",
    "                np.logical_not(orders['visitor_id'].isin(abnormalUsers)),\n",
    "            )\n",
    "        ]['revenue'].mean()\n",
    "        / orders[\n",
    "            np.logical_and(\n",
    "                orders['group'] == 'A',\n",
    "                np.logical_not(orders['visitor_id'].isin(abnormalUsers)),\n",
    "            )\n",
    "        ]['revenue'].mean()\n",
    "        - 1\n",
    "    )\n",
    ")"
   ]
  },
  {
   "cell_type": "markdown",
   "metadata": {},
   "source": [
    "##### Выводы и предположения:"
   ]
  },
  {
   "cell_type": "markdown",
   "metadata": {},
   "source": [
    "P-value по \"очищенным\" данным (0.469) увеличислся по сравнению с P-value по \"сырым\" данным (0.415) и по-прежнему значительно больше 0.05. Значит, причин отвергать нулевую гипотезу и считать, что в среднем чеке есть различия, нет.\n",
    "При этом средний чек по по \"очищенным\" данным двух групп практически сравнялся (0.011), в то время как по \"сырым\" данным средний чек группы B значительно превосходил средний чек группы A (0.287)."
   ]
  },
  {
   "cell_type": "markdown",
   "metadata": {},
   "source": [
    "#### Примем решение по результатам A/B теста:"
   ]
  },
  {
   "cell_type": "markdown",
   "metadata": {},
   "source": [
    "Рассмотрим имеющиейся факты по нашему тесту:\n",
    "1) Есть статистически значимые различия по конверсии между группами как по «сырым», так и по по данным после фильтрации аномалий;\n",
    "2) Относительный прирост конверсии группы B по \"сырым\" данным составил 16%, по \"очищенным\" - 19.8% \n",
    "3) Нет статистически значимого различия по среднему чеку между группами ни по «сырым», ни по данным после фильтрации аномалий;\n",
    "4) Относительные различие между средними чеками в двух группах по \"сырым\" данным составили (0.287) в пользу группы B,\n",
    "   при этом нет различий в средних чеках после фильтрации аномалий в двух группах (0.011).\n",
    "\n",
    "Исходя из вышеперечисленных фактов рекомендую остановить A/B тест и признать победу группы B, так как при одинаковом среднем чеке, конверсия группы выше, более чем на 15%, чем у группы А."
   ]
  },
  {
   "cell_type": "markdown",
   "metadata": {},
   "source": [
    "### Итоговый вывод по проекту:"
   ]
  },
  {
   "cell_type": "markdown",
   "metadata": {},
   "source": [
    "Данный проект состоял из двух частей: в первой части мы сделали приоритизацию гипотез с помощью двух фремворков: ICE и RICE, а во второй части проанализировали результаты A/B теста.\n",
    "\n",
    "По итогам первой части проекта стоит отметить, что бизнесу необходимо сосредоточится на следующих двух гипотезах:\n",
    "1. Добавить форму подписки на все основные страницы, чтобы собрать базу клиентов для email-рассылок\n",
    "2. Добавить два новых канала привлечения трафика, что позволит привлекать на 30% больше пользователей\n",
    "Так как эти две гпиотезы попали в топ 3 при приоритезации с использованием фреймворков ICE и RICE.\n",
    "\n",
    "А следующие гипотезы можно отложить, или полностью исключить, так как они не оказывают сильного эффекта на бизнес:\n",
    "1. Запустить собственную службу доставки, что сократит срок доставки заказов\n",
    "2. Изменить структура категорий, что увеличит конверсию, т.к. пользователи быстрее найдут нужный товар\n",
    "3. Изменить цвет фона главной страницы, чтобы увеличить вовлеченность пользователей\n",
    "4. Добавить страницу отзывов клиентов о магазине, что позволит увеличить количество заказов\n",
    "\n",
    "Во второй части проекта мы проанализировали результаты A/B теста. По итогам которых следует остановить A/B тест и признать победу группы B, так как при одинаковом среднем чеке, конверсия группы выше, более чем на 15%, чем у группы А.\n",
    "\n",
    "Стоит отдельно обратить внимание на качество исходных данных: данные с датами имеют неправильный формат после выгрузки, и в A/B тесте нашлось 58 пользователей, которые попали в обе группы - их пришлось исключить из анализа."
   ]
  }
 ],
 "metadata": {
  "ExecuteTimeLog": [
   {
    "duration": 1502,
    "start_time": "2021-06-28T05:33:25.478Z"
   },
   {
    "duration": 20,
    "start_time": "2021-06-28T05:33:29.734Z"
   },
   {
    "duration": 25,
    "start_time": "2021-06-28T05:33:32.591Z"
   },
   {
    "duration": 6,
    "start_time": "2021-06-28T05:34:43.573Z"
   },
   {
    "duration": 7,
    "start_time": "2021-06-28T05:34:55.722Z"
   },
   {
    "duration": 10,
    "start_time": "2021-06-28T05:35:16.062Z"
   },
   {
    "duration": 7,
    "start_time": "2021-06-28T05:35:29.528Z"
   },
   {
    "duration": 5,
    "start_time": "2021-06-28T05:35:55.082Z"
   },
   {
    "duration": 10,
    "start_time": "2021-06-28T05:45:52.813Z"
   },
   {
    "duration": 13,
    "start_time": "2021-06-28T05:48:09.551Z"
   },
   {
    "duration": 6,
    "start_time": "2021-06-28T05:51:35.956Z"
   },
   {
    "duration": 401,
    "start_time": "2021-06-28T05:52:02.558Z"
   },
   {
    "duration": 20,
    "start_time": "2021-06-28T05:52:09.345Z"
   },
   {
    "duration": 5,
    "start_time": "2021-06-28T06:20:37.491Z"
   },
   {
    "duration": 23,
    "start_time": "2021-06-28T06:20:37.500Z"
   },
   {
    "duration": 22,
    "start_time": "2021-06-28T06:20:37.526Z"
   },
   {
    "duration": 6,
    "start_time": "2021-06-28T06:20:37.550Z"
   },
   {
    "duration": 6,
    "start_time": "2021-06-28T06:20:37.558Z"
   },
   {
    "duration": 37,
    "start_time": "2021-06-28T06:20:37.567Z"
   },
   {
    "duration": 8,
    "start_time": "2021-06-28T06:20:37.606Z"
   },
   {
    "duration": 18,
    "start_time": "2021-06-28T06:20:37.617Z"
   },
   {
    "duration": 55,
    "start_time": "2021-06-28T06:23:41.376Z"
   },
   {
    "duration": 27,
    "start_time": "2021-06-28T06:24:43.503Z"
   },
   {
    "duration": 18,
    "start_time": "2021-06-28T06:25:54.516Z"
   },
   {
    "duration": 21,
    "start_time": "2021-06-28T06:26:34.159Z"
   },
   {
    "duration": 19,
    "start_time": "2021-06-28T06:26:45.130Z"
   },
   {
    "duration": 17,
    "start_time": "2021-06-28T06:26:55.257Z"
   },
   {
    "duration": 8,
    "start_time": "2021-06-28T06:32:06.162Z"
   },
   {
    "duration": 2206,
    "start_time": "2021-06-28T06:37:35.606Z"
   },
   {
    "duration": 2442,
    "start_time": "2021-06-28T06:38:25.743Z"
   },
   {
    "duration": 10,
    "start_time": "2021-06-28T06:38:57.276Z"
   },
   {
    "duration": 372,
    "start_time": "2021-06-28T06:39:21.105Z"
   },
   {
    "duration": 310,
    "start_time": "2021-06-28T06:39:27.442Z"
   },
   {
    "duration": 319,
    "start_time": "2021-06-28T06:39:35.696Z"
   },
   {
    "duration": 321,
    "start_time": "2021-06-28T06:40:17.282Z"
   },
   {
    "duration": 6,
    "start_time": "2021-06-28T06:40:35.935Z"
   },
   {
    "duration": 6,
    "start_time": "2021-06-28T06:40:59.379Z"
   },
   {
    "duration": 9,
    "start_time": "2021-06-28T06:41:17.380Z"
   },
   {
    "duration": 298,
    "start_time": "2021-06-28T06:41:37.525Z"
   },
   {
    "duration": 10,
    "start_time": "2021-06-28T06:42:13.044Z"
   },
   {
    "duration": 9,
    "start_time": "2021-06-28T06:42:16.461Z"
   },
   {
    "duration": 5,
    "start_time": "2021-06-28T06:45:23.290Z"
   },
   {
    "duration": 24,
    "start_time": "2021-06-28T06:45:23.298Z"
   },
   {
    "duration": 27,
    "start_time": "2021-06-28T06:45:23.325Z"
   },
   {
    "duration": 11,
    "start_time": "2021-06-28T06:45:23.356Z"
   },
   {
    "duration": 18,
    "start_time": "2021-06-28T06:45:23.369Z"
   },
   {
    "duration": 19,
    "start_time": "2021-06-28T06:45:23.389Z"
   },
   {
    "duration": 12,
    "start_time": "2021-06-28T06:45:23.410Z"
   },
   {
    "duration": 19,
    "start_time": "2021-06-28T06:45:23.424Z"
   },
   {
    "duration": 59,
    "start_time": "2021-06-28T06:45:23.448Z"
   },
   {
    "duration": 20,
    "start_time": "2021-06-28T06:45:23.510Z"
   },
   {
    "duration": 15,
    "start_time": "2021-06-28T06:45:23.533Z"
   },
   {
    "duration": 11,
    "start_time": "2021-06-28T06:45:23.551Z"
   },
   {
    "duration": 40,
    "start_time": "2021-06-28T06:45:23.565Z"
   },
   {
    "duration": 13,
    "start_time": "2021-06-28T06:45:23.607Z"
   },
   {
    "duration": 29,
    "start_time": "2021-06-28T06:45:23.622Z"
   },
   {
    "duration": 1529,
    "start_time": "2021-06-29T05:38:08.358Z"
   },
   {
    "duration": 17,
    "start_time": "2021-06-29T05:38:09.889Z"
   },
   {
    "duration": 28,
    "start_time": "2021-06-29T05:38:09.909Z"
   },
   {
    "duration": 12,
    "start_time": "2021-06-29T05:38:09.940Z"
   },
   {
    "duration": 9,
    "start_time": "2021-06-29T05:38:09.955Z"
   },
   {
    "duration": 47,
    "start_time": "2021-06-29T05:38:09.966Z"
   },
   {
    "duration": 18,
    "start_time": "2021-06-29T05:38:10.016Z"
   },
   {
    "duration": 26,
    "start_time": "2021-06-29T05:38:10.038Z"
   },
   {
    "duration": 47,
    "start_time": "2021-06-29T05:38:10.067Z"
   },
   {
    "duration": 21,
    "start_time": "2021-06-29T05:38:10.116Z"
   },
   {
    "duration": 18,
    "start_time": "2021-06-29T05:38:10.140Z"
   },
   {
    "duration": 52,
    "start_time": "2021-06-29T05:38:10.160Z"
   },
   {
    "duration": 15,
    "start_time": "2021-06-29T05:38:10.214Z"
   },
   {
    "duration": 15,
    "start_time": "2021-06-29T05:38:10.231Z"
   },
   {
    "duration": 10,
    "start_time": "2021-06-29T05:38:10.249Z"
   },
   {
    "duration": 14,
    "start_time": "2021-06-29T05:38:15.264Z"
   },
   {
    "duration": 8945,
    "start_time": "2021-06-29T05:38:21.770Z"
   },
   {
    "duration": 8732,
    "start_time": "2021-06-29T05:39:23.355Z"
   },
   {
    "duration": 368,
    "start_time": "2021-06-29T05:40:03.760Z"
   },
   {
    "duration": 261,
    "start_time": "2021-06-29T05:41:51.127Z"
   },
   {
    "duration": 363,
    "start_time": "2021-06-29T05:44:04.306Z"
   },
   {
    "duration": 274,
    "start_time": "2021-06-29T05:44:06.897Z"
   },
   {
    "duration": 15,
    "start_time": "2021-06-29T05:44:14.767Z"
   },
   {
    "duration": 358,
    "start_time": "2021-06-29T05:46:20.789Z"
   },
   {
    "duration": 306,
    "start_time": "2021-06-29T05:48:50.355Z"
   },
   {
    "duration": 395,
    "start_time": "2021-06-29T05:50:51.658Z"
   },
   {
    "duration": 338,
    "start_time": "2021-06-29T06:07:36.256Z"
   },
   {
    "duration": 522,
    "start_time": "2021-06-29T06:11:10.589Z"
   },
   {
    "duration": 455,
    "start_time": "2021-06-29T06:11:22.918Z"
   },
   {
    "duration": 817,
    "start_time": "2021-06-29T06:16:26.095Z"
   },
   {
    "duration": 957,
    "start_time": "2021-06-29T06:18:54.576Z"
   },
   {
    "duration": 634,
    "start_time": "2021-06-29T06:19:31.936Z"
   },
   {
    "duration": 685,
    "start_time": "2021-06-29T06:20:03.399Z"
   },
   {
    "duration": 450,
    "start_time": "2021-06-29T06:20:15.015Z"
   },
   {
    "duration": 833,
    "start_time": "2021-06-29T06:21:06.801Z"
   },
   {
    "duration": 671,
    "start_time": "2021-06-29T06:22:33.276Z"
   },
   {
    "duration": 736,
    "start_time": "2021-06-29T06:22:48.463Z"
   },
   {
    "duration": 669,
    "start_time": "2021-06-29T06:23:01.892Z"
   },
   {
    "duration": 575,
    "start_time": "2021-06-29T06:23:29.150Z"
   },
   {
    "duration": 605,
    "start_time": "2021-06-29T06:23:39.742Z"
   },
   {
    "duration": 555,
    "start_time": "2021-06-29T06:23:55.842Z"
   },
   {
    "duration": 533,
    "start_time": "2021-06-29T06:24:00.869Z"
   },
   {
    "duration": 628,
    "start_time": "2021-06-29T06:24:20.790Z"
   },
   {
    "duration": 5,
    "start_time": "2021-06-29T06:27:23.359Z"
   },
   {
    "duration": 26,
    "start_time": "2021-06-29T06:27:23.367Z"
   },
   {
    "duration": 44,
    "start_time": "2021-06-29T06:27:23.396Z"
   },
   {
    "duration": 9,
    "start_time": "2021-06-29T06:27:23.443Z"
   },
   {
    "duration": 7,
    "start_time": "2021-06-29T06:27:23.456Z"
   },
   {
    "duration": 55,
    "start_time": "2021-06-29T06:27:23.467Z"
   },
   {
    "duration": 7,
    "start_time": "2021-06-29T06:27:23.525Z"
   },
   {
    "duration": 22,
    "start_time": "2021-06-29T06:27:23.534Z"
   },
   {
    "duration": 55,
    "start_time": "2021-06-29T06:27:23.559Z"
   },
   {
    "duration": 26,
    "start_time": "2021-06-29T06:27:23.617Z"
   },
   {
    "duration": 18,
    "start_time": "2021-06-29T06:27:23.645Z"
   },
   {
    "duration": 52,
    "start_time": "2021-06-29T06:27:23.665Z"
   },
   {
    "duration": 10,
    "start_time": "2021-06-29T06:27:23.722Z"
   },
   {
    "duration": 13,
    "start_time": "2021-06-29T06:27:23.735Z"
   },
   {
    "duration": 8,
    "start_time": "2021-06-29T06:27:23.751Z"
   },
   {
    "duration": 59,
    "start_time": "2021-06-29T06:27:23.762Z"
   },
   {
    "duration": 397,
    "start_time": "2021-06-29T06:27:23.824Z"
   },
   {
    "duration": 318,
    "start_time": "2021-06-29T06:27:24.223Z"
   },
   {
    "duration": 17,
    "start_time": "2021-06-29T06:27:24.545Z"
   },
   {
    "duration": 544,
    "start_time": "2021-06-29T06:27:24.565Z"
   },
   {
    "duration": 525,
    "start_time": "2021-06-29T06:27:25.112Z"
   },
   {
    "duration": 587,
    "start_time": "2021-06-29T06:27:25.639Z"
   },
   {
    "duration": 540,
    "start_time": "2021-06-29T06:27:26.229Z"
   },
   {
    "duration": 652,
    "start_time": "2021-06-29T06:27:26.772Z"
   },
   {
    "duration": 22,
    "start_time": "2021-06-29T06:28:03.973Z"
   },
   {
    "duration": 15,
    "start_time": "2021-06-29T06:33:11.588Z"
   },
   {
    "duration": 19,
    "start_time": "2021-06-29T06:33:22.690Z"
   },
   {
    "duration": 5,
    "start_time": "2021-06-29T06:34:35.024Z"
   },
   {
    "duration": 7,
    "start_time": "2021-06-29T06:34:39.746Z"
   },
   {
    "duration": 6,
    "start_time": "2021-06-29T06:36:24.461Z"
   },
   {
    "duration": 13,
    "start_time": "2021-06-29T06:36:25.934Z"
   },
   {
    "duration": 395,
    "start_time": "2021-06-29T06:37:01.887Z"
   },
   {
    "duration": 561,
    "start_time": "2021-06-29T06:37:26.422Z"
   },
   {
    "duration": 15,
    "start_time": "2021-06-29T06:44:53.231Z"
   },
   {
    "duration": 218,
    "start_time": "2021-06-29T06:46:24.821Z"
   },
   {
    "duration": 12,
    "start_time": "2021-06-29T06:46:27.439Z"
   },
   {
    "duration": 8,
    "start_time": "2021-06-29T06:46:59.220Z"
   },
   {
    "duration": 599,
    "start_time": "2021-06-29T06:47:01.180Z"
   },
   {
    "duration": 555,
    "start_time": "2021-06-29T06:48:58.323Z"
   },
   {
    "duration": 13,
    "start_time": "2021-06-29T06:49:58.086Z"
   },
   {
    "duration": 7,
    "start_time": "2021-06-29T06:50:34.016Z"
   },
   {
    "duration": 28,
    "start_time": "2021-06-29T06:53:57.206Z"
   },
   {
    "duration": 7,
    "start_time": "2021-06-29T06:54:54.002Z"
   },
   {
    "duration": 6,
    "start_time": "2021-06-29T06:54:58.997Z"
   },
   {
    "duration": 8,
    "start_time": "2021-06-29T06:55:11.980Z"
   },
   {
    "duration": 16,
    "start_time": "2021-06-29T06:55:14.101Z"
   },
   {
    "duration": 543,
    "start_time": "2021-06-29T06:58:54.542Z"
   },
   {
    "duration": 7,
    "start_time": "2021-06-29T07:01:20.205Z"
   },
   {
    "duration": 4,
    "start_time": "2021-06-29T07:09:40.970Z"
   },
   {
    "duration": 18,
    "start_time": "2021-06-29T07:09:40.976Z"
   },
   {
    "duration": 28,
    "start_time": "2021-06-29T07:09:40.997Z"
   },
   {
    "duration": 5,
    "start_time": "2021-06-29T07:09:41.028Z"
   },
   {
    "duration": 10,
    "start_time": "2021-06-29T07:09:41.035Z"
   },
   {
    "duration": 15,
    "start_time": "2021-06-29T07:09:41.048Z"
   },
   {
    "duration": 9,
    "start_time": "2021-06-29T07:09:41.111Z"
   },
   {
    "duration": 14,
    "start_time": "2021-06-29T07:09:41.126Z"
   },
   {
    "duration": 43,
    "start_time": "2021-06-29T07:09:41.143Z"
   },
   {
    "duration": 44,
    "start_time": "2021-06-29T07:09:41.189Z"
   },
   {
    "duration": 17,
    "start_time": "2021-06-29T07:09:41.235Z"
   },
   {
    "duration": 16,
    "start_time": "2021-06-29T07:09:41.254Z"
   },
   {
    "duration": 48,
    "start_time": "2021-06-29T07:09:41.272Z"
   },
   {
    "duration": 18,
    "start_time": "2021-06-29T07:09:41.323Z"
   },
   {
    "duration": 14,
    "start_time": "2021-06-29T07:09:41.343Z"
   },
   {
    "duration": 18,
    "start_time": "2021-06-29T07:09:41.359Z"
   },
   {
    "duration": 412,
    "start_time": "2021-06-29T07:09:41.379Z"
   },
   {
    "duration": 311,
    "start_time": "2021-06-29T07:09:41.794Z"
   },
   {
    "duration": 18,
    "start_time": "2021-06-29T07:09:42.111Z"
   },
   {
    "duration": 559,
    "start_time": "2021-06-29T07:09:42.133Z"
   },
   {
    "duration": 500,
    "start_time": "2021-06-29T07:09:42.695Z"
   },
   {
    "duration": 589,
    "start_time": "2021-06-29T07:09:43.197Z"
   },
   {
    "duration": 636,
    "start_time": "2021-06-29T07:09:43.789Z"
   },
   {
    "duration": 613,
    "start_time": "2021-06-29T07:09:44.427Z"
   },
   {
    "duration": 7,
    "start_time": "2021-06-29T07:09:45.042Z"
   },
   {
    "duration": 546,
    "start_time": "2021-06-29T07:09:45.051Z"
   },
   {
    "duration": 16,
    "start_time": "2021-06-29T07:09:45.599Z"
   },
   {
    "duration": 12,
    "start_time": "2021-06-29T07:09:45.618Z"
   },
   {
    "duration": 582,
    "start_time": "2021-06-29T07:09:45.633Z"
   },
   {
    "duration": 5,
    "start_time": "2021-06-29T07:09:46.218Z"
   },
   {
    "duration": 1595,
    "start_time": "2021-06-30T05:10:00.961Z"
   },
   {
    "duration": 19,
    "start_time": "2021-06-30T05:10:02.559Z"
   },
   {
    "duration": 43,
    "start_time": "2021-06-30T05:10:02.581Z"
   },
   {
    "duration": 5,
    "start_time": "2021-06-30T05:10:02.627Z"
   },
   {
    "duration": 18,
    "start_time": "2021-06-30T05:10:02.634Z"
   },
   {
    "duration": 22,
    "start_time": "2021-06-30T05:10:02.654Z"
   },
   {
    "duration": 49,
    "start_time": "2021-06-30T05:10:02.679Z"
   },
   {
    "duration": 19,
    "start_time": "2021-06-30T05:10:02.731Z"
   },
   {
    "duration": 66,
    "start_time": "2021-06-30T05:10:02.753Z"
   },
   {
    "duration": 22,
    "start_time": "2021-06-30T05:10:02.821Z"
   },
   {
    "duration": 18,
    "start_time": "2021-06-30T05:10:02.845Z"
   },
   {
    "duration": 63,
    "start_time": "2021-06-30T05:10:02.865Z"
   },
   {
    "duration": 17,
    "start_time": "2021-06-30T05:10:02.930Z"
   },
   {
    "duration": 14,
    "start_time": "2021-06-30T05:10:02.949Z"
   },
   {
    "duration": 60,
    "start_time": "2021-06-30T05:10:02.965Z"
   },
   {
    "duration": 14,
    "start_time": "2021-06-30T05:10:03.028Z"
   },
   {
    "duration": 386,
    "start_time": "2021-06-30T05:10:03.044Z"
   },
   {
    "duration": 312,
    "start_time": "2021-06-30T05:10:03.433Z"
   },
   {
    "duration": 16,
    "start_time": "2021-06-30T05:10:03.747Z"
   },
   {
    "duration": 514,
    "start_time": "2021-06-30T05:10:07.363Z"
   },
   {
    "duration": 516,
    "start_time": "2021-06-30T05:10:19.080Z"
   },
   {
    "duration": 483,
    "start_time": "2021-06-30T05:10:36.933Z"
   },
   {
    "duration": 478,
    "start_time": "2021-06-30T05:17:15.715Z"
   },
   {
    "duration": 612,
    "start_time": "2021-06-30T05:25:25.388Z"
   },
   {
    "duration": 586,
    "start_time": "2021-06-30T05:25:40.575Z"
   },
   {
    "duration": 549,
    "start_time": "2021-06-30T05:33:40.237Z"
   },
   {
    "duration": 484,
    "start_time": "2021-06-30T05:34:17.314Z"
   },
   {
    "duration": 459,
    "start_time": "2021-06-30T05:34:54.834Z"
   },
   {
    "duration": 651,
    "start_time": "2021-06-30T05:35:00.955Z"
   },
   {
    "duration": 1179,
    "start_time": "2021-06-30T05:43:00.412Z"
   },
   {
    "duration": 777,
    "start_time": "2021-06-30T05:49:10.911Z"
   },
   {
    "duration": 405,
    "start_time": "2021-06-30T05:54:51.587Z"
   },
   {
    "duration": 8,
    "start_time": "2021-06-30T05:54:54.067Z"
   },
   {
    "duration": 510,
    "start_time": "2021-06-30T05:54:55.964Z"
   },
   {
    "duration": 7,
    "start_time": "2021-06-30T05:57:40.963Z"
   },
   {
    "duration": 6,
    "start_time": "2021-06-30T05:57:48.301Z"
   },
   {
    "duration": 6,
    "start_time": "2021-06-30T05:59:44.638Z"
   },
   {
    "duration": 7,
    "start_time": "2021-06-30T06:00:18.042Z"
   },
   {
    "duration": 9,
    "start_time": "2021-06-30T06:13:11.326Z"
   },
   {
    "duration": 573,
    "start_time": "2021-06-30T06:13:13.822Z"
   },
   {
    "duration": 8,
    "start_time": "2021-06-30T06:19:16.855Z"
   },
   {
    "duration": 7,
    "start_time": "2021-06-30T06:19:43.609Z"
   },
   {
    "duration": 8,
    "start_time": "2021-06-30T06:19:59.746Z"
   },
   {
    "duration": 19,
    "start_time": "2021-06-30T06:23:55.708Z"
   },
   {
    "duration": 28,
    "start_time": "2021-06-30T06:26:29.193Z"
   },
   {
    "duration": 22,
    "start_time": "2021-06-30T06:26:46.292Z"
   },
   {
    "duration": 221,
    "start_time": "2021-06-30T06:28:33.361Z"
   },
   {
    "duration": 25,
    "start_time": "2021-06-30T06:28:45.518Z"
   },
   {
    "duration": 18,
    "start_time": "2021-06-30T06:28:57.382Z"
   },
   {
    "duration": 11,
    "start_time": "2021-06-30T06:29:28.944Z"
   },
   {
    "duration": 13,
    "start_time": "2021-06-30T06:29:39.426Z"
   },
   {
    "duration": 20,
    "start_time": "2021-06-30T06:33:14.272Z"
   },
   {
    "duration": 467,
    "start_time": "2021-06-30T06:35:01.552Z"
   },
   {
    "duration": 19,
    "start_time": "2021-06-30T06:35:23.602Z"
   },
   {
    "duration": 8915,
    "start_time": "2021-06-30T06:35:48.008Z"
   },
   {
    "duration": 785,
    "start_time": "2021-06-30T06:36:20.250Z"
   },
   {
    "duration": 278,
    "start_time": "2021-06-30T06:36:50.035Z"
   },
   {
    "duration": 314,
    "start_time": "2021-06-30T06:37:01.272Z"
   },
   {
    "duration": 20,
    "start_time": "2021-06-30T06:38:01.673Z"
   },
   {
    "duration": 297,
    "start_time": "2021-06-30T06:38:19.668Z"
   },
   {
    "duration": 4,
    "start_time": "2021-06-30T06:49:56.008Z"
   },
   {
    "duration": 23,
    "start_time": "2021-06-30T06:49:56.016Z"
   },
   {
    "duration": 28,
    "start_time": "2021-06-30T06:49:56.042Z"
   },
   {
    "duration": 6,
    "start_time": "2021-06-30T06:49:56.074Z"
   },
   {
    "duration": 41,
    "start_time": "2021-06-30T06:49:56.083Z"
   },
   {
    "duration": 25,
    "start_time": "2021-06-30T06:49:56.127Z"
   },
   {
    "duration": 7,
    "start_time": "2021-06-30T06:49:56.157Z"
   },
   {
    "duration": 45,
    "start_time": "2021-06-30T06:49:56.179Z"
   },
   {
    "duration": 55,
    "start_time": "2021-06-30T06:49:56.226Z"
   },
   {
    "duration": 20,
    "start_time": "2021-06-30T06:49:56.284Z"
   },
   {
    "duration": 20,
    "start_time": "2021-06-30T06:49:56.306Z"
   },
   {
    "duration": 7,
    "start_time": "2021-06-30T06:49:56.329Z"
   },
   {
    "duration": 12,
    "start_time": "2021-06-30T06:49:56.339Z"
   },
   {
    "duration": 10,
    "start_time": "2021-06-30T06:49:56.354Z"
   },
   {
    "duration": 59,
    "start_time": "2021-06-30T06:49:56.366Z"
   },
   {
    "duration": 11,
    "start_time": "2021-06-30T06:49:56.428Z"
   },
   {
    "duration": 393,
    "start_time": "2021-06-30T06:49:56.442Z"
   },
   {
    "duration": 291,
    "start_time": "2021-06-30T06:49:56.837Z"
   },
   {
    "duration": 19,
    "start_time": "2021-06-30T06:49:57.132Z"
   },
   {
    "duration": 524,
    "start_time": "2021-06-30T06:49:57.154Z"
   },
   {
    "duration": 502,
    "start_time": "2021-06-30T06:49:57.681Z"
   },
   {
    "duration": 597,
    "start_time": "2021-06-30T06:49:58.185Z"
   },
   {
    "duration": 735,
    "start_time": "2021-06-30T06:49:58.785Z"
   },
   {
    "duration": 765,
    "start_time": "2021-06-30T06:49:59.524Z"
   },
   {
    "duration": 7,
    "start_time": "2021-06-30T06:50:00.292Z"
   },
   {
    "duration": 580,
    "start_time": "2021-06-30T06:50:00.302Z"
   },
   {
    "duration": 7,
    "start_time": "2021-06-30T06:50:00.885Z"
   },
   {
    "duration": 40,
    "start_time": "2021-06-30T06:50:00.894Z"
   },
   {
    "duration": 562,
    "start_time": "2021-06-30T06:50:00.937Z"
   },
   {
    "duration": 22,
    "start_time": "2021-06-30T06:50:01.502Z"
   },
   {
    "duration": 124,
    "start_time": "2021-06-30T06:50:01.528Z"
   },
   {
    "duration": 127,
    "start_time": "2021-06-30T06:50:01.654Z"
   },
   {
    "duration": 144,
    "start_time": "2021-06-30T06:50:01.783Z"
   },
   {
    "duration": 137,
    "start_time": "2021-06-30T06:50:01.930Z"
   },
   {
    "duration": 53,
    "start_time": "2021-06-30T06:51:06.015Z"
   },
   {
    "duration": 938,
    "start_time": "2021-06-30T06:57:35.211Z"
   },
   {
    "duration": 4,
    "start_time": "2021-06-30T06:58:35.203Z"
   },
   {
    "duration": 24,
    "start_time": "2021-06-30T06:58:35.209Z"
   },
   {
    "duration": 25,
    "start_time": "2021-06-30T06:58:35.236Z"
   },
   {
    "duration": 5,
    "start_time": "2021-06-30T06:58:35.264Z"
   },
   {
    "duration": 7,
    "start_time": "2021-06-30T06:58:35.271Z"
   },
   {
    "duration": 52,
    "start_time": "2021-06-30T06:58:35.280Z"
   },
   {
    "duration": 8,
    "start_time": "2021-06-30T06:58:35.334Z"
   },
   {
    "duration": 18,
    "start_time": "2021-06-30T06:58:35.346Z"
   },
   {
    "duration": 72,
    "start_time": "2021-06-30T06:58:35.367Z"
   },
   {
    "duration": 20,
    "start_time": "2021-06-30T06:58:35.441Z"
   },
   {
    "duration": 17,
    "start_time": "2021-06-30T06:58:35.464Z"
   },
   {
    "duration": 12,
    "start_time": "2021-06-30T06:58:35.483Z"
   },
   {
    "duration": 15,
    "start_time": "2021-06-30T06:58:35.526Z"
   },
   {
    "duration": 15,
    "start_time": "2021-06-30T06:58:35.544Z"
   },
   {
    "duration": 13,
    "start_time": "2021-06-30T06:58:35.562Z"
   },
   {
    "duration": 54,
    "start_time": "2021-06-30T06:58:35.578Z"
   },
   {
    "duration": 712,
    "start_time": "2021-06-30T06:58:35.636Z"
   },
   {
    "duration": 444,
    "start_time": "2021-06-30T06:58:36.351Z"
   },
   {
    "duration": 29,
    "start_time": "2021-06-30T06:58:36.798Z"
   },
   {
    "duration": 921,
    "start_time": "2021-06-30T06:58:36.830Z"
   },
   {
    "duration": 874,
    "start_time": "2021-06-30T06:58:37.754Z"
   },
   {
    "duration": 937,
    "start_time": "2021-06-30T06:58:38.632Z"
   },
   {
    "duration": 1068,
    "start_time": "2021-06-30T06:58:39.578Z"
   },
   {
    "duration": 1200,
    "start_time": "2021-06-30T06:58:40.650Z"
   },
   {
    "duration": 8,
    "start_time": "2021-06-30T06:58:41.854Z"
   },
   {
    "duration": 677,
    "start_time": "2021-06-30T06:58:41.865Z"
   },
   {
    "duration": 7,
    "start_time": "2021-06-30T06:58:42.544Z"
   },
   {
    "duration": 10,
    "start_time": "2021-06-30T06:58:42.554Z"
   },
   {
    "duration": 648,
    "start_time": "2021-06-30T06:58:42.566Z"
   },
   {
    "duration": 12,
    "start_time": "2021-06-30T06:58:43.217Z"
   },
   {
    "duration": 295,
    "start_time": "2021-06-30T06:58:43.232Z"
   },
   {
    "duration": 116,
    "start_time": "2021-06-30T06:58:43.530Z"
   },
   {
    "duration": 131,
    "start_time": "2021-06-30T06:58:43.648Z"
   },
   {
    "duration": 125,
    "start_time": "2021-06-30T06:58:43.782Z"
   },
   {
    "duration": 52,
    "start_time": "2021-06-30T06:58:43.924Z"
   },
   {
    "duration": 229,
    "start_time": "2021-06-30T06:58:50.416Z"
   },
   {
    "duration": 14,
    "start_time": "2021-06-30T07:01:09.196Z"
   },
   {
    "duration": 9568,
    "start_time": "2021-06-30T07:04:34.878Z"
   },
   {
    "duration": 12,
    "start_time": "2021-06-30T07:05:05.330Z"
   },
   {
    "duration": 19,
    "start_time": "2021-06-30T07:06:05.579Z"
   },
   {
    "duration": 18,
    "start_time": "2021-06-30T07:06:17.775Z"
   },
   {
    "duration": 12,
    "start_time": "2021-06-30T07:07:14.999Z"
   },
   {
    "duration": 12,
    "start_time": "2021-06-30T07:07:40.104Z"
   },
   {
    "duration": 6811,
    "start_time": "2021-06-30T07:08:49.344Z"
   },
   {
    "duration": 22,
    "start_time": "2021-06-30T07:09:31.484Z"
   },
   {
    "duration": 6,
    "start_time": "2021-06-30T07:10:14.829Z"
   },
   {
    "duration": 34,
    "start_time": "2021-06-30T07:10:14.838Z"
   },
   {
    "duration": 51,
    "start_time": "2021-06-30T07:10:14.875Z"
   },
   {
    "duration": 14,
    "start_time": "2021-06-30T07:10:14.929Z"
   },
   {
    "duration": 20,
    "start_time": "2021-06-30T07:10:14.945Z"
   },
   {
    "duration": 59,
    "start_time": "2021-06-30T07:10:14.967Z"
   },
   {
    "duration": 15,
    "start_time": "2021-06-30T07:10:15.029Z"
   },
   {
    "duration": 30,
    "start_time": "2021-06-30T07:10:15.047Z"
   },
   {
    "duration": 93,
    "start_time": "2021-06-30T07:10:15.080Z"
   },
   {
    "duration": 21,
    "start_time": "2021-06-30T07:10:15.175Z"
   },
   {
    "duration": 28,
    "start_time": "2021-06-30T07:10:15.198Z"
   },
   {
    "duration": 27,
    "start_time": "2021-06-30T07:10:15.229Z"
   },
   {
    "duration": 26,
    "start_time": "2021-06-30T07:10:15.260Z"
   },
   {
    "duration": 32,
    "start_time": "2021-06-30T07:10:15.289Z"
   },
   {
    "duration": 35,
    "start_time": "2021-06-30T07:10:15.323Z"
   },
   {
    "duration": 38,
    "start_time": "2021-06-30T07:10:15.361Z"
   },
   {
    "duration": 421,
    "start_time": "2021-06-30T07:10:15.402Z"
   },
   {
    "duration": 270,
    "start_time": "2021-06-30T07:10:15.825Z"
   },
   {
    "duration": 41,
    "start_time": "2021-06-30T07:10:16.097Z"
   },
   {
    "duration": 528,
    "start_time": "2021-06-30T07:10:16.141Z"
   },
   {
    "duration": 511,
    "start_time": "2021-06-30T07:10:16.672Z"
   },
   {
    "duration": 618,
    "start_time": "2021-06-30T07:10:17.186Z"
   },
   {
    "duration": 683,
    "start_time": "2021-06-30T07:10:17.809Z"
   },
   {
    "duration": 792,
    "start_time": "2021-06-30T07:10:18.496Z"
   },
   {
    "duration": 7,
    "start_time": "2021-06-30T07:10:19.291Z"
   },
   {
    "duration": 569,
    "start_time": "2021-06-30T07:10:19.300Z"
   },
   {
    "duration": 7,
    "start_time": "2021-06-30T07:10:19.872Z"
   },
   {
    "duration": 31,
    "start_time": "2021-06-30T07:10:19.882Z"
   },
   {
    "duration": 573,
    "start_time": "2021-06-30T07:10:19.915Z"
   },
   {
    "duration": 7,
    "start_time": "2021-06-30T07:10:20.491Z"
   },
   {
    "duration": 127,
    "start_time": "2021-06-30T07:10:20.500Z"
   },
   {
    "duration": 116,
    "start_time": "2021-06-30T07:10:20.630Z"
   },
   {
    "duration": 133,
    "start_time": "2021-06-30T07:10:20.749Z"
   },
   {
    "duration": 184,
    "start_time": "2021-06-30T07:10:20.885Z"
   },
   {
    "duration": 66,
    "start_time": "2021-06-30T07:10:21.072Z"
   },
   {
    "duration": 243,
    "start_time": "2021-06-30T07:10:21.141Z"
   },
   {
    "duration": 14,
    "start_time": "2021-06-30T07:10:21.386Z"
   },
   {
    "duration": 29,
    "start_time": "2021-06-30T07:10:21.402Z"
   },
   {
    "duration": 20,
    "start_time": "2021-06-30T07:10:21.433Z"
   },
   {
    "duration": 21,
    "start_time": "2021-06-30T07:10:21.456Z"
   },
   {
    "duration": 49,
    "start_time": "2021-06-30T07:10:21.479Z"
   },
   {
    "duration": 1505,
    "start_time": "2021-07-01T04:50:14.654Z"
   },
   {
    "duration": 18,
    "start_time": "2021-07-01T04:50:16.161Z"
   },
   {
    "duration": 33,
    "start_time": "2021-07-01T04:50:16.182Z"
   },
   {
    "duration": 5,
    "start_time": "2021-07-01T04:50:16.217Z"
   },
   {
    "duration": 8,
    "start_time": "2021-07-01T04:50:16.224Z"
   },
   {
    "duration": 41,
    "start_time": "2021-07-01T04:50:16.235Z"
   },
   {
    "duration": 6,
    "start_time": "2021-07-01T04:50:16.279Z"
   },
   {
    "duration": 17,
    "start_time": "2021-07-01T04:50:16.288Z"
   },
   {
    "duration": 92,
    "start_time": "2021-07-01T04:50:16.308Z"
   },
   {
    "duration": 21,
    "start_time": "2021-07-01T04:50:16.402Z"
   },
   {
    "duration": 18,
    "start_time": "2021-07-01T04:50:16.425Z"
   },
   {
    "duration": 14,
    "start_time": "2021-07-01T04:50:19.633Z"
   },
   {
    "duration": 16,
    "start_time": "2021-07-01T04:50:53.634Z"
   },
   {
    "duration": 498,
    "start_time": "2021-07-01T04:51:16.169Z"
   },
   {
    "duration": 240,
    "start_time": "2021-07-01T04:51:30.638Z"
   },
   {
    "duration": 631,
    "start_time": "2021-07-01T04:52:05.776Z"
   },
   {
    "duration": 224,
    "start_time": "2021-07-01T04:52:16.907Z"
   },
   {
    "duration": 5,
    "start_time": "2021-07-01T04:54:20.483Z"
   },
   {
    "duration": 9,
    "start_time": "2021-07-01T04:54:25.481Z"
   },
   {
    "duration": 309,
    "start_time": "2021-07-01T04:54:48.358Z"
   },
   {
    "duration": 17,
    "start_time": "2021-07-01T04:55:37.891Z"
   },
   {
    "duration": 20,
    "start_time": "2021-07-01T04:56:01.190Z"
   },
   {
    "duration": 8,
    "start_time": "2021-07-01T04:58:13.740Z"
   },
   {
    "duration": 20,
    "start_time": "2021-07-01T04:58:57.227Z"
   },
   {
    "duration": 16,
    "start_time": "2021-07-01T04:59:07.010Z"
   },
   {
    "duration": 8,
    "start_time": "2021-07-01T05:00:00.731Z"
   },
   {
    "duration": 13,
    "start_time": "2021-07-01T05:02:14.596Z"
   },
   {
    "duration": 8,
    "start_time": "2021-07-01T05:02:52.829Z"
   },
   {
    "duration": 7829,
    "start_time": "2021-07-01T05:03:24.589Z"
   },
   {
    "duration": 296,
    "start_time": "2021-07-01T05:04:04.549Z"
   },
   {
    "duration": 13,
    "start_time": "2021-07-01T05:05:02.424Z"
   },
   {
    "duration": 12,
    "start_time": "2021-07-01T05:05:27.221Z"
   },
   {
    "duration": 299,
    "start_time": "2021-07-01T05:06:14.923Z"
   },
   {
    "duration": 301,
    "start_time": "2021-07-01T05:06:27.585Z"
   },
   {
    "duration": 348,
    "start_time": "2021-07-01T05:06:34.274Z"
   },
   {
    "duration": 6,
    "start_time": "2021-07-01T05:08:31.347Z"
   },
   {
    "duration": 10,
    "start_time": "2021-07-01T05:10:38.862Z"
   },
   {
    "duration": 9,
    "start_time": "2021-07-01T05:12:27.835Z"
   },
   {
    "duration": 6,
    "start_time": "2021-07-01T05:12:50.458Z"
   },
   {
    "duration": 4,
    "start_time": "2021-07-01T05:12:57.469Z"
   },
   {
    "duration": 5,
    "start_time": "2021-07-01T05:13:29.443Z"
   },
   {
    "duration": 18,
    "start_time": "2021-07-01T05:13:29.452Z"
   },
   {
    "duration": 21,
    "start_time": "2021-07-01T05:13:29.474Z"
   },
   {
    "duration": 6,
    "start_time": "2021-07-01T05:13:29.498Z"
   },
   {
    "duration": 9,
    "start_time": "2021-07-01T05:13:29.506Z"
   },
   {
    "duration": 56,
    "start_time": "2021-07-01T05:13:29.517Z"
   },
   {
    "duration": 7,
    "start_time": "2021-07-01T05:13:29.575Z"
   },
   {
    "duration": 16,
    "start_time": "2021-07-01T05:13:29.584Z"
   },
   {
    "duration": 58,
    "start_time": "2021-07-01T05:13:29.603Z"
   },
   {
    "duration": 19,
    "start_time": "2021-07-01T05:13:29.664Z"
   },
   {
    "duration": 16,
    "start_time": "2021-07-01T05:13:29.685Z"
   },
   {
    "duration": 8,
    "start_time": "2021-07-01T05:13:29.703Z"
   },
   {
    "duration": 123,
    "start_time": "2021-07-01T05:13:29.713Z"
   },
   {
    "duration": 2157,
    "start_time": "2021-07-01T05:13:27.681Z"
   },
   {
    "duration": 14,
    "start_time": "2021-07-01T05:13:41.955Z"
   },
   {
    "duration": 4,
    "start_time": "2021-07-01T05:13:44.938Z"
   },
   {
    "duration": 21,
    "start_time": "2021-07-01T05:13:47.140Z"
   },
   {
    "duration": 4,
    "start_time": "2021-07-01T05:14:56.138Z"
   },
   {
    "duration": 21,
    "start_time": "2021-07-01T05:14:56.145Z"
   },
   {
    "duration": 20,
    "start_time": "2021-07-01T05:14:56.169Z"
   },
   {
    "duration": 5,
    "start_time": "2021-07-01T05:14:56.192Z"
   },
   {
    "duration": 12,
    "start_time": "2021-07-01T05:14:56.200Z"
   },
   {
    "duration": 58,
    "start_time": "2021-07-01T05:14:56.214Z"
   },
   {
    "duration": 9,
    "start_time": "2021-07-01T05:14:56.276Z"
   },
   {
    "duration": 17,
    "start_time": "2021-07-01T05:14:56.288Z"
   },
   {
    "duration": 57,
    "start_time": "2021-07-01T05:14:56.308Z"
   },
   {
    "duration": 20,
    "start_time": "2021-07-01T05:14:56.368Z"
   },
   {
    "duration": 17,
    "start_time": "2021-07-01T05:14:56.391Z"
   },
   {
    "duration": 7,
    "start_time": "2021-07-01T05:14:56.411Z"
   },
   {
    "duration": 58,
    "start_time": "2021-07-01T05:14:56.420Z"
   },
   {
    "duration": 3,
    "start_time": "2021-07-01T05:14:56.481Z"
   },
   {
    "duration": 20,
    "start_time": "2021-07-01T05:14:59.606Z"
   },
   {
    "duration": 11,
    "start_time": "2021-07-01T05:16:53.087Z"
   },
   {
    "duration": 4,
    "start_time": "2021-07-01T05:16:57.945Z"
   },
   {
    "duration": 28,
    "start_time": "2021-07-01T05:16:57.952Z"
   },
   {
    "duration": 21,
    "start_time": "2021-07-01T05:16:57.983Z"
   },
   {
    "duration": 6,
    "start_time": "2021-07-01T05:16:58.007Z"
   },
   {
    "duration": 6,
    "start_time": "2021-07-01T05:16:58.015Z"
   },
   {
    "duration": 46,
    "start_time": "2021-07-01T05:16:58.024Z"
   },
   {
    "duration": 9,
    "start_time": "2021-07-01T05:16:58.073Z"
   },
   {
    "duration": 17,
    "start_time": "2021-07-01T05:16:58.084Z"
   },
   {
    "duration": 92,
    "start_time": "2021-07-01T05:16:58.104Z"
   },
   {
    "duration": 20,
    "start_time": "2021-07-01T05:16:58.198Z"
   },
   {
    "duration": 18,
    "start_time": "2021-07-01T05:16:58.221Z"
   },
   {
    "duration": 28,
    "start_time": "2021-07-01T05:16:58.241Z"
   },
   {
    "duration": 14,
    "start_time": "2021-07-01T05:16:58.272Z"
   },
   {
    "duration": 4,
    "start_time": "2021-07-01T05:16:58.289Z"
   },
   {
    "duration": 20,
    "start_time": "2021-07-01T05:17:01.692Z"
   },
   {
    "duration": 4,
    "start_time": "2021-07-01T05:17:21.977Z"
   },
   {
    "duration": 17,
    "start_time": "2021-07-01T05:17:22.002Z"
   },
   {
    "duration": 27,
    "start_time": "2021-07-01T05:17:22.022Z"
   },
   {
    "duration": 5,
    "start_time": "2021-07-01T05:17:22.052Z"
   },
   {
    "duration": 8,
    "start_time": "2021-07-01T05:17:22.059Z"
   },
   {
    "duration": 16,
    "start_time": "2021-07-01T05:17:22.069Z"
   },
   {
    "duration": 10,
    "start_time": "2021-07-01T05:17:22.088Z"
   },
   {
    "duration": 34,
    "start_time": "2021-07-01T05:17:22.100Z"
   },
   {
    "duration": 69,
    "start_time": "2021-07-01T05:17:22.137Z"
   },
   {
    "duration": 19,
    "start_time": "2021-07-01T05:17:22.209Z"
   },
   {
    "duration": 17,
    "start_time": "2021-07-01T05:17:22.230Z"
   },
   {
    "duration": 25,
    "start_time": "2021-07-01T05:17:22.249Z"
   },
   {
    "duration": 14,
    "start_time": "2021-07-01T05:17:22.276Z"
   },
   {
    "duration": 8,
    "start_time": "2021-07-01T05:17:22.292Z"
   },
   {
    "duration": 23,
    "start_time": "2021-07-01T05:17:24.577Z"
   },
   {
    "duration": 5,
    "start_time": "2021-07-01T05:17:48.196Z"
   },
   {
    "duration": 17,
    "start_time": "2021-07-01T05:17:48.210Z"
   },
   {
    "duration": 22,
    "start_time": "2021-07-01T05:17:48.230Z"
   },
   {
    "duration": 7,
    "start_time": "2021-07-01T05:17:48.254Z"
   },
   {
    "duration": 9,
    "start_time": "2021-07-01T05:17:48.264Z"
   },
   {
    "duration": 16,
    "start_time": "2021-07-01T05:17:48.275Z"
   },
   {
    "duration": 7,
    "start_time": "2021-07-01T05:17:48.293Z"
   },
   {
    "duration": 18,
    "start_time": "2021-07-01T05:17:48.302Z"
   },
   {
    "duration": 100,
    "start_time": "2021-07-01T05:17:48.322Z"
   },
   {
    "duration": 19,
    "start_time": "2021-07-01T05:17:48.425Z"
   },
   {
    "duration": 17,
    "start_time": "2021-07-01T05:17:48.446Z"
   },
   {
    "duration": 10,
    "start_time": "2021-07-01T05:17:48.465Z"
   },
   {
    "duration": 13,
    "start_time": "2021-07-01T05:17:48.477Z"
   },
   {
    "duration": 5,
    "start_time": "2021-07-01T05:17:48.492Z"
   },
   {
    "duration": 21,
    "start_time": "2021-07-01T05:17:50.184Z"
   },
   {
    "duration": 4,
    "start_time": "2021-07-01T05:19:55.452Z"
   },
   {
    "duration": 5,
    "start_time": "2021-07-01T05:24:23.248Z"
   },
   {
    "duration": 17,
    "start_time": "2021-07-01T05:24:23.261Z"
   },
   {
    "duration": 22,
    "start_time": "2021-07-01T05:24:23.281Z"
   },
   {
    "duration": 8,
    "start_time": "2021-07-01T05:24:23.305Z"
   },
   {
    "duration": 6,
    "start_time": "2021-07-01T05:24:23.315Z"
   },
   {
    "duration": 50,
    "start_time": "2021-07-01T05:24:23.323Z"
   },
   {
    "duration": 14,
    "start_time": "2021-07-01T05:24:23.376Z"
   },
   {
    "duration": 19,
    "start_time": "2021-07-01T05:24:23.393Z"
   },
   {
    "duration": 69,
    "start_time": "2021-07-01T05:24:23.415Z"
   },
   {
    "duration": 18,
    "start_time": "2021-07-01T05:24:23.487Z"
   },
   {
    "duration": 16,
    "start_time": "2021-07-01T05:24:23.507Z"
   },
   {
    "duration": 9,
    "start_time": "2021-07-01T05:24:23.525Z"
   },
   {
    "duration": 15,
    "start_time": "2021-07-01T05:24:23.567Z"
   },
   {
    "duration": 4,
    "start_time": "2021-07-01T05:24:23.584Z"
   },
   {
    "duration": 16,
    "start_time": "2021-07-01T05:24:23.590Z"
   },
   {
    "duration": 7,
    "start_time": "2021-07-01T05:24:23.609Z"
   },
   {
    "duration": 9,
    "start_time": "2021-07-01T05:24:23.667Z"
   },
   {
    "duration": 10,
    "start_time": "2021-07-01T05:24:23.679Z"
   },
   {
    "duration": 10,
    "start_time": "2021-07-01T05:24:23.692Z"
   },
   {
    "duration": 10,
    "start_time": "2021-07-01T05:24:23.704Z"
   },
   {
    "duration": 398,
    "start_time": "2021-07-01T05:24:23.716Z"
   },
   {
    "duration": 283,
    "start_time": "2021-07-01T05:24:24.117Z"
   },
   {
    "duration": 14,
    "start_time": "2021-07-01T05:24:24.403Z"
   },
   {
    "duration": 527,
    "start_time": "2021-07-01T05:24:24.422Z"
   },
   {
    "duration": 504,
    "start_time": "2021-07-01T05:24:24.952Z"
   },
   {
    "duration": 590,
    "start_time": "2021-07-01T05:24:25.459Z"
   },
   {
    "duration": 694,
    "start_time": "2021-07-01T05:24:26.052Z"
   },
   {
    "duration": 842,
    "start_time": "2021-07-01T05:24:26.749Z"
   },
   {
    "duration": 7,
    "start_time": "2021-07-01T05:24:27.594Z"
   },
   {
    "duration": 554,
    "start_time": "2021-07-01T05:24:27.603Z"
   },
   {
    "duration": 7,
    "start_time": "2021-07-01T05:24:28.167Z"
   },
   {
    "duration": 11,
    "start_time": "2021-07-01T05:24:28.177Z"
   },
   {
    "duration": 668,
    "start_time": "2021-07-01T05:24:28.191Z"
   },
   {
    "duration": 7,
    "start_time": "2021-07-01T05:24:28.862Z"
   },
   {
    "duration": 123,
    "start_time": "2021-07-01T05:24:28.871Z"
   },
   {
    "duration": 108,
    "start_time": "2021-07-01T05:24:28.997Z"
   },
   {
    "duration": 139,
    "start_time": "2021-07-01T05:24:29.108Z"
   },
   {
    "duration": 124,
    "start_time": "2021-07-01T05:24:29.249Z"
   },
   {
    "duration": 48,
    "start_time": "2021-07-01T05:24:29.375Z"
   },
   {
    "duration": 257,
    "start_time": "2021-07-01T05:24:29.425Z"
   },
   {
    "duration": 18,
    "start_time": "2021-07-01T05:24:29.685Z"
   },
   {
    "duration": 14,
    "start_time": "2021-07-01T05:24:29.706Z"
   },
   {
    "duration": 53,
    "start_time": "2021-07-01T05:24:29.722Z"
   },
   {
    "duration": 10,
    "start_time": "2021-07-01T05:24:29.778Z"
   },
   {
    "duration": 21,
    "start_time": "2021-07-01T05:24:29.790Z"
   },
   {
    "duration": 489,
    "start_time": "2021-07-01T05:25:51.878Z"
   },
   {
    "duration": 482,
    "start_time": "2021-07-01T05:26:03.954Z"
   },
   {
    "duration": 656,
    "start_time": "2021-07-01T05:27:13.593Z"
   },
   {
    "duration": 747,
    "start_time": "2021-07-01T05:28:00.189Z"
   },
   {
    "duration": 7,
    "start_time": "2021-07-01T05:28:52.263Z"
   },
   {
    "duration": 13,
    "start_time": "2021-07-01T05:31:41.163Z"
   },
   {
    "duration": 14,
    "start_time": "2021-07-01T05:31:54.337Z"
   },
   {
    "duration": 14,
    "start_time": "2021-07-01T05:33:09.068Z"
   },
   {
    "duration": 6,
    "start_time": "2021-07-01T05:50:00.574Z"
   },
   {
    "duration": 41,
    "start_time": "2021-07-01T05:50:00.584Z"
   },
   {
    "duration": 41,
    "start_time": "2021-07-01T05:50:00.629Z"
   },
   {
    "duration": 6,
    "start_time": "2021-07-01T05:50:00.674Z"
   },
   {
    "duration": 12,
    "start_time": "2021-07-01T05:50:00.683Z"
   },
   {
    "duration": 32,
    "start_time": "2021-07-01T05:50:00.699Z"
   },
   {
    "duration": 55,
    "start_time": "2021-07-01T05:50:00.735Z"
   },
   {
    "duration": 73,
    "start_time": "2021-07-01T05:50:00.796Z"
   },
   {
    "duration": 82,
    "start_time": "2021-07-01T05:50:00.873Z"
   },
   {
    "duration": 19,
    "start_time": "2021-07-01T05:50:00.958Z"
   },
   {
    "duration": 22,
    "start_time": "2021-07-01T05:50:00.979Z"
   },
   {
    "duration": 18,
    "start_time": "2021-07-01T05:50:01.003Z"
   },
   {
    "duration": 47,
    "start_time": "2021-07-01T05:50:01.023Z"
   },
   {
    "duration": 30,
    "start_time": "2021-07-01T05:50:01.073Z"
   },
   {
    "duration": 31,
    "start_time": "2021-07-01T05:50:01.105Z"
   },
   {
    "duration": 37,
    "start_time": "2021-07-01T05:50:01.139Z"
   },
   {
    "duration": 44,
    "start_time": "2021-07-01T05:50:01.178Z"
   },
   {
    "duration": 19,
    "start_time": "2021-07-01T05:50:01.225Z"
   },
   {
    "duration": 31,
    "start_time": "2021-07-01T05:50:01.247Z"
   },
   {
    "duration": 37,
    "start_time": "2021-07-01T05:50:01.281Z"
   },
   {
    "duration": 385,
    "start_time": "2021-07-01T05:50:01.321Z"
   },
   {
    "duration": 458,
    "start_time": "2021-07-01T05:50:01.709Z"
   },
   {
    "duration": 22,
    "start_time": "2021-07-01T05:50:02.176Z"
   },
   {
    "duration": 769,
    "start_time": "2021-07-01T05:50:02.202Z"
   },
   {
    "duration": 544,
    "start_time": "2021-07-01T05:50:02.974Z"
   },
   {
    "duration": 609,
    "start_time": "2021-07-01T05:50:03.520Z"
   },
   {
    "duration": 711,
    "start_time": "2021-07-01T05:50:04.132Z"
   },
   {
    "duration": 792,
    "start_time": "2021-07-01T05:50:04.845Z"
   },
   {
    "duration": 8,
    "start_time": "2021-07-01T05:50:05.639Z"
   },
   {
    "duration": 672,
    "start_time": "2021-07-01T05:50:05.668Z"
   },
   {
    "duration": 8,
    "start_time": "2021-07-01T05:50:06.342Z"
   },
   {
    "duration": 8,
    "start_time": "2021-07-01T05:50:06.368Z"
   },
   {
    "duration": 652,
    "start_time": "2021-07-01T05:50:06.378Z"
   },
   {
    "duration": 7,
    "start_time": "2021-07-01T05:50:07.033Z"
   },
   {
    "duration": 126,
    "start_time": "2021-07-01T05:50:07.043Z"
   },
   {
    "duration": 115,
    "start_time": "2021-07-01T05:50:07.171Z"
   },
   {
    "duration": 128,
    "start_time": "2021-07-01T05:50:07.289Z"
   },
   {
    "duration": 129,
    "start_time": "2021-07-01T05:50:07.419Z"
   },
   {
    "duration": 65,
    "start_time": "2021-07-01T05:50:07.551Z"
   },
   {
    "duration": 238,
    "start_time": "2021-07-01T05:50:07.619Z"
   },
   {
    "duration": 5,
    "start_time": "2021-07-01T05:50:07.868Z"
   },
   {
    "duration": 10,
    "start_time": "2021-07-01T05:50:07.876Z"
   },
   {
    "duration": 10,
    "start_time": "2021-07-01T05:50:11.313Z"
   },
   {
    "duration": 9,
    "start_time": "2021-07-01T05:52:20.492Z"
   },
   {
    "duration": 9,
    "start_time": "2021-07-01T05:53:15.405Z"
   },
   {
    "duration": 10,
    "start_time": "2021-07-01T05:53:37.340Z"
   },
   {
    "duration": 14,
    "start_time": "2021-07-01T05:56:36.968Z"
   },
   {
    "duration": 10,
    "start_time": "2021-07-01T05:58:42.276Z"
   },
   {
    "duration": 15,
    "start_time": "2021-07-01T05:59:28.239Z"
   },
   {
    "duration": 7,
    "start_time": "2021-07-01T06:11:22.692Z"
   },
   {
    "duration": 14,
    "start_time": "2021-07-01T06:15:31.504Z"
   },
   {
    "duration": 108,
    "start_time": "2021-07-01T06:19:41.569Z"
   },
   {
    "duration": 15,
    "start_time": "2021-07-01T06:19:57.086Z"
   },
   {
    "duration": 12,
    "start_time": "2021-07-01T06:22:41.889Z"
   },
   {
    "duration": 11,
    "start_time": "2021-07-01T06:22:46.640Z"
   },
   {
    "duration": 10,
    "start_time": "2021-07-01T06:24:56.360Z"
   },
   {
    "duration": 22,
    "start_time": "2021-07-01T06:31:22.044Z"
   },
   {
    "duration": 20,
    "start_time": "2021-07-01T06:32:40.414Z"
   },
   {
    "duration": 21,
    "start_time": "2021-07-01T06:33:17.231Z"
   },
   {
    "duration": 5,
    "start_time": "2021-07-01T06:38:22.023Z"
   },
   {
    "duration": 22,
    "start_time": "2021-07-01T06:38:22.030Z"
   },
   {
    "duration": 22,
    "start_time": "2021-07-01T06:38:22.056Z"
   },
   {
    "duration": 5,
    "start_time": "2021-07-01T06:38:22.081Z"
   },
   {
    "duration": 11,
    "start_time": "2021-07-01T06:38:22.089Z"
   },
   {
    "duration": 15,
    "start_time": "2021-07-01T06:38:22.103Z"
   },
   {
    "duration": 50,
    "start_time": "2021-07-01T06:38:22.120Z"
   },
   {
    "duration": 15,
    "start_time": "2021-07-01T06:38:22.174Z"
   },
   {
    "duration": 82,
    "start_time": "2021-07-01T06:38:22.192Z"
   },
   {
    "duration": 22,
    "start_time": "2021-07-01T06:38:22.276Z"
   },
   {
    "duration": 18,
    "start_time": "2021-07-01T06:38:22.301Z"
   },
   {
    "duration": 46,
    "start_time": "2021-07-01T06:38:22.321Z"
   },
   {
    "duration": 14,
    "start_time": "2021-07-01T06:38:22.369Z"
   },
   {
    "duration": 6,
    "start_time": "2021-07-01T06:38:22.386Z"
   },
   {
    "duration": 18,
    "start_time": "2021-07-01T06:38:22.395Z"
   },
   {
    "duration": 59,
    "start_time": "2021-07-01T06:38:22.416Z"
   },
   {
    "duration": 14,
    "start_time": "2021-07-01T06:38:22.478Z"
   },
   {
    "duration": 10,
    "start_time": "2021-07-01T06:38:22.495Z"
   },
   {
    "duration": 62,
    "start_time": "2021-07-01T06:38:22.507Z"
   },
   {
    "duration": 24,
    "start_time": "2021-07-01T06:38:22.572Z"
   },
   {
    "duration": 440,
    "start_time": "2021-07-01T06:38:22.599Z"
   },
   {
    "duration": 419,
    "start_time": "2021-07-01T06:38:23.042Z"
   },
   {
    "duration": 21,
    "start_time": "2021-07-01T06:38:23.469Z"
   },
   {
    "duration": 766,
    "start_time": "2021-07-01T06:38:23.494Z"
   },
   {
    "duration": 717,
    "start_time": "2021-07-01T06:38:24.267Z"
   },
   {
    "duration": 766,
    "start_time": "2021-07-01T06:38:24.986Z"
   },
   {
    "duration": 687,
    "start_time": "2021-07-01T06:38:25.755Z"
   },
   {
    "duration": 787,
    "start_time": "2021-07-01T06:38:26.445Z"
   },
   {
    "duration": 7,
    "start_time": "2021-07-01T06:38:27.235Z"
   },
   {
    "duration": 590,
    "start_time": "2021-07-01T06:38:27.245Z"
   },
   {
    "duration": 7,
    "start_time": "2021-07-01T06:38:27.838Z"
   },
   {
    "duration": 23,
    "start_time": "2021-07-01T06:38:27.848Z"
   },
   {
    "duration": 562,
    "start_time": "2021-07-01T06:38:27.874Z"
   },
   {
    "duration": 7,
    "start_time": "2021-07-01T06:38:28.438Z"
   },
   {
    "duration": 130,
    "start_time": "2021-07-01T06:38:28.448Z"
   },
   {
    "duration": 115,
    "start_time": "2021-07-01T06:38:28.580Z"
   },
   {
    "duration": 130,
    "start_time": "2021-07-01T06:38:28.698Z"
   },
   {
    "duration": 139,
    "start_time": "2021-07-01T06:38:28.831Z"
   },
   {
    "duration": 49,
    "start_time": "2021-07-01T06:38:28.972Z"
   },
   {
    "duration": 244,
    "start_time": "2021-07-01T06:38:29.023Z"
   },
   {
    "duration": 7,
    "start_time": "2021-07-01T06:38:29.269Z"
   },
   {
    "duration": 31,
    "start_time": "2021-07-01T06:38:29.279Z"
   },
   {
    "duration": 17,
    "start_time": "2021-07-01T06:38:29.312Z"
   },
   {
    "duration": 14,
    "start_time": "2021-07-01T06:38:29.332Z"
   },
   {
    "duration": 30,
    "start_time": "2021-07-01T06:38:29.349Z"
   },
   {
    "duration": 13,
    "start_time": "2021-07-01T06:38:29.381Z"
   },
   {
    "duration": 12,
    "start_time": "2021-07-01T06:38:29.397Z"
   },
   {
    "duration": 61,
    "start_time": "2021-07-01T06:38:29.412Z"
   },
   {
    "duration": 4,
    "start_time": "2021-07-01T07:03:18.734Z"
   },
   {
    "duration": 19,
    "start_time": "2021-07-01T07:03:18.741Z"
   },
   {
    "duration": 31,
    "start_time": "2021-07-01T07:03:18.763Z"
   },
   {
    "duration": 5,
    "start_time": "2021-07-01T07:03:18.796Z"
   },
   {
    "duration": 9,
    "start_time": "2021-07-01T07:03:18.803Z"
   },
   {
    "duration": 55,
    "start_time": "2021-07-01T07:03:18.814Z"
   },
   {
    "duration": 11,
    "start_time": "2021-07-01T07:03:18.874Z"
   },
   {
    "duration": 15,
    "start_time": "2021-07-01T07:03:18.889Z"
   },
   {
    "duration": 87,
    "start_time": "2021-07-01T07:03:18.906Z"
   },
   {
    "duration": 21,
    "start_time": "2021-07-01T07:03:18.995Z"
   },
   {
    "duration": 18,
    "start_time": "2021-07-01T07:03:19.018Z"
   },
   {
    "duration": 34,
    "start_time": "2021-07-01T07:03:19.038Z"
   },
   {
    "duration": 20,
    "start_time": "2021-07-01T07:03:19.075Z"
   },
   {
    "duration": 3,
    "start_time": "2021-07-01T07:03:19.098Z"
   },
   {
    "duration": 11,
    "start_time": "2021-07-01T07:03:19.104Z"
   },
   {
    "duration": 54,
    "start_time": "2021-07-01T07:03:19.118Z"
   },
   {
    "duration": 12,
    "start_time": "2021-07-01T07:03:19.176Z"
   },
   {
    "duration": 12,
    "start_time": "2021-07-01T07:03:19.190Z"
   },
   {
    "duration": 61,
    "start_time": "2021-07-01T07:03:19.211Z"
   },
   {
    "duration": 12,
    "start_time": "2021-07-01T07:03:19.278Z"
   },
   {
    "duration": 499,
    "start_time": "2021-07-01T07:03:19.293Z"
   },
   {
    "duration": 307,
    "start_time": "2021-07-01T07:03:19.794Z"
   },
   {
    "duration": 15,
    "start_time": "2021-07-01T07:03:20.103Z"
   },
   {
    "duration": 549,
    "start_time": "2021-07-01T07:03:20.121Z"
   },
   {
    "duration": 519,
    "start_time": "2021-07-01T07:03:20.674Z"
   },
   {
    "duration": 677,
    "start_time": "2021-07-01T07:03:21.196Z"
   },
   {
    "duration": 708,
    "start_time": "2021-07-01T07:03:21.876Z"
   },
   {
    "duration": 787,
    "start_time": "2021-07-01T07:03:22.586Z"
   },
   {
    "duration": 10,
    "start_time": "2021-07-01T07:03:23.377Z"
   },
   {
    "duration": 602,
    "start_time": "2021-07-01T07:03:23.389Z"
   },
   {
    "duration": 8,
    "start_time": "2021-07-01T07:03:23.994Z"
   },
   {
    "duration": 17,
    "start_time": "2021-07-01T07:03:24.005Z"
   },
   {
    "duration": 626,
    "start_time": "2021-07-01T07:03:24.024Z"
   },
   {
    "duration": 15,
    "start_time": "2021-07-01T07:03:24.653Z"
   },
   {
    "duration": 134,
    "start_time": "2021-07-01T07:03:24.672Z"
   },
   {
    "duration": 110,
    "start_time": "2021-07-01T07:03:24.808Z"
   },
   {
    "duration": 155,
    "start_time": "2021-07-01T07:03:24.921Z"
   },
   {
    "duration": 146,
    "start_time": "2021-07-01T07:03:25.080Z"
   },
   {
    "duration": 73,
    "start_time": "2021-07-01T07:03:25.229Z"
   },
   {
    "duration": 236,
    "start_time": "2021-07-01T07:03:25.304Z"
   },
   {
    "duration": 7,
    "start_time": "2021-07-01T07:03:25.542Z"
   },
   {
    "duration": 20,
    "start_time": "2021-07-01T07:03:25.551Z"
   },
   {
    "duration": 12,
    "start_time": "2021-07-01T07:03:25.577Z"
   },
   {
    "duration": 14,
    "start_time": "2021-07-01T07:03:25.592Z"
   },
   {
    "duration": 66,
    "start_time": "2021-07-01T07:03:25.608Z"
   },
   {
    "duration": 17,
    "start_time": "2021-07-01T07:03:25.678Z"
   },
   {
    "duration": 13,
    "start_time": "2021-07-01T07:03:25.698Z"
   },
   {
    "duration": 68,
    "start_time": "2021-07-01T07:03:25.713Z"
   },
   {
    "duration": 372,
    "start_time": "2021-07-01T07:52:13.843Z"
   },
   {
    "duration": 1540,
    "start_time": "2021-07-01T07:52:43.991Z"
   },
   {
    "duration": 16,
    "start_time": "2021-07-01T07:52:45.534Z"
   },
   {
    "duration": 25,
    "start_time": "2021-07-01T07:52:45.553Z"
   },
   {
    "duration": 4,
    "start_time": "2021-07-01T07:52:45.582Z"
   },
   {
    "duration": 14,
    "start_time": "2021-07-01T07:52:45.589Z"
   },
   {
    "duration": 16,
    "start_time": "2021-07-01T07:52:45.605Z"
   },
   {
    "duration": 6,
    "start_time": "2021-07-01T07:52:45.624Z"
   },
   {
    "duration": 14,
    "start_time": "2021-07-01T07:52:45.663Z"
   },
   {
    "duration": 81,
    "start_time": "2021-07-01T07:52:45.681Z"
   },
   {
    "duration": 27,
    "start_time": "2021-07-01T07:52:45.765Z"
   },
   {
    "duration": 22,
    "start_time": "2021-07-01T07:52:45.795Z"
   },
   {
    "duration": 47,
    "start_time": "2021-07-01T07:52:45.820Z"
   },
   {
    "duration": 25,
    "start_time": "2021-07-01T07:52:45.870Z"
   },
   {
    "duration": 4,
    "start_time": "2021-07-01T07:52:45.898Z"
   },
   {
    "duration": 16,
    "start_time": "2021-07-01T07:52:45.905Z"
   },
   {
    "duration": 40,
    "start_time": "2021-07-01T07:52:45.924Z"
   },
   {
    "duration": 13,
    "start_time": "2021-07-01T07:52:45.967Z"
   },
   {
    "duration": 17,
    "start_time": "2021-07-01T07:52:45.983Z"
   },
   {
    "duration": 13,
    "start_time": "2021-07-01T07:52:46.003Z"
   },
   {
    "duration": 15,
    "start_time": "2021-07-01T07:52:46.018Z"
   },
   {
    "duration": 352,
    "start_time": "2021-07-01T07:52:46.063Z"
   },
   {
    "duration": 269,
    "start_time": "2021-07-01T07:52:46.417Z"
   },
   {
    "duration": 28,
    "start_time": "2021-07-01T07:52:46.690Z"
   },
   {
    "duration": 514,
    "start_time": "2021-07-01T07:52:46.721Z"
   },
   {
    "duration": 496,
    "start_time": "2021-07-01T07:52:47.237Z"
   },
   {
    "duration": 596,
    "start_time": "2021-07-01T07:52:47.735Z"
   },
   {
    "duration": 691,
    "start_time": "2021-07-01T07:52:48.333Z"
   },
   {
    "duration": 804,
    "start_time": "2021-07-01T07:52:49.026Z"
   },
   {
    "duration": 7,
    "start_time": "2021-07-01T07:52:49.833Z"
   },
   {
    "duration": 589,
    "start_time": "2021-07-01T07:52:49.842Z"
   },
   {
    "duration": 9,
    "start_time": "2021-07-01T07:52:50.434Z"
   },
   {
    "duration": 24,
    "start_time": "2021-07-01T07:52:50.446Z"
   },
   {
    "duration": 907,
    "start_time": "2021-07-01T07:52:50.474Z"
   },
   {
    "duration": 9,
    "start_time": "2021-07-01T07:52:51.385Z"
   },
   {
    "duration": 167,
    "start_time": "2021-07-01T07:52:51.397Z"
   },
   {
    "duration": 152,
    "start_time": "2021-07-01T07:52:51.567Z"
   },
   {
    "duration": 187,
    "start_time": "2021-07-01T07:52:51.723Z"
   },
   {
    "duration": 188,
    "start_time": "2021-07-01T07:52:51.913Z"
   },
   {
    "duration": 90,
    "start_time": "2021-07-01T07:52:52.105Z"
   },
   {
    "duration": 336,
    "start_time": "2021-07-01T07:52:52.198Z"
   },
   {
    "duration": 8,
    "start_time": "2021-07-01T07:52:52.537Z"
   },
   {
    "duration": 9,
    "start_time": "2021-07-01T07:52:52.548Z"
   },
   {
    "duration": 17,
    "start_time": "2021-07-01T07:52:52.562Z"
   },
   {
    "duration": 13,
    "start_time": "2021-07-01T07:52:52.582Z"
   },
   {
    "duration": 13,
    "start_time": "2021-07-01T07:52:52.598Z"
   },
   {
    "duration": 54,
    "start_time": "2021-07-01T07:52:52.613Z"
   },
   {
    "duration": 15,
    "start_time": "2021-07-01T07:52:52.669Z"
   },
   {
    "duration": 21,
    "start_time": "2021-07-01T07:52:52.686Z"
   },
   {
    "duration": 116,
    "start_time": "2021-07-01T08:15:26.176Z"
   },
   {
    "duration": 1431,
    "start_time": "2021-07-01T08:36:59.007Z"
   },
   {
    "duration": 17,
    "start_time": "2021-07-01T08:37:00.441Z"
   },
   {
    "duration": 45,
    "start_time": "2021-07-01T08:37:00.461Z"
   },
   {
    "duration": 4,
    "start_time": "2021-07-01T08:37:00.509Z"
   },
   {
    "duration": 12,
    "start_time": "2021-07-01T08:37:00.515Z"
   },
   {
    "duration": 34,
    "start_time": "2021-07-01T08:37:00.529Z"
   },
   {
    "duration": 10,
    "start_time": "2021-07-01T08:37:00.566Z"
   },
   {
    "duration": 28,
    "start_time": "2021-07-01T08:37:00.581Z"
   },
   {
    "duration": 79,
    "start_time": "2021-07-01T08:37:00.613Z"
   },
   {
    "duration": 20,
    "start_time": "2021-07-01T08:37:00.695Z"
   },
   {
    "duration": 28,
    "start_time": "2021-07-01T08:37:00.718Z"
   },
   {
    "duration": 13,
    "start_time": "2021-07-01T08:37:00.749Z"
   },
   {
    "duration": 23,
    "start_time": "2021-07-01T08:37:00.765Z"
   },
   {
    "duration": 7,
    "start_time": "2021-07-01T08:37:00.790Z"
   },
   {
    "duration": 18,
    "start_time": "2021-07-01T08:37:00.800Z"
   },
   {
    "duration": 13,
    "start_time": "2021-07-01T08:37:00.821Z"
   },
   {
    "duration": 30,
    "start_time": "2021-07-01T08:37:00.836Z"
   },
   {
    "duration": 21,
    "start_time": "2021-07-01T08:37:00.868Z"
   },
   {
    "duration": 37,
    "start_time": "2021-07-01T08:37:00.891Z"
   },
   {
    "duration": 13,
    "start_time": "2021-07-01T08:37:00.930Z"
   },
   {
    "duration": 357,
    "start_time": "2021-07-01T08:37:00.945Z"
   },
   {
    "duration": 277,
    "start_time": "2021-07-01T08:37:01.305Z"
   },
   {
    "duration": 15,
    "start_time": "2021-07-01T08:37:01.588Z"
   },
   {
    "duration": 538,
    "start_time": "2021-07-01T08:37:01.606Z"
   },
   {
    "duration": 500,
    "start_time": "2021-07-01T08:37:02.146Z"
   },
   {
    "duration": 587,
    "start_time": "2021-07-01T08:37:02.648Z"
   },
   {
    "duration": 695,
    "start_time": "2021-07-01T08:37:03.237Z"
   },
   {
    "duration": 798,
    "start_time": "2021-07-01T08:37:03.934Z"
   },
   {
    "duration": 9,
    "start_time": "2021-07-01T08:37:04.734Z"
   },
   {
    "duration": 582,
    "start_time": "2021-07-01T08:37:04.746Z"
   },
   {
    "duration": 7,
    "start_time": "2021-07-01T08:37:05.330Z"
   },
   {
    "duration": 23,
    "start_time": "2021-07-01T08:37:05.339Z"
   },
   {
    "duration": 731,
    "start_time": "2021-07-01T08:37:05.364Z"
   },
   {
    "duration": 9,
    "start_time": "2021-07-01T08:37:06.098Z"
   },
   {
    "duration": 176,
    "start_time": "2021-07-01T08:37:06.110Z"
   },
   {
    "duration": 119,
    "start_time": "2021-07-01T08:37:06.289Z"
   },
   {
    "duration": 122,
    "start_time": "2021-07-01T08:37:06.411Z"
   },
   {
    "duration": 141,
    "start_time": "2021-07-01T08:37:06.535Z"
   },
   {
    "duration": 53,
    "start_time": "2021-07-01T08:37:06.678Z"
   },
   {
    "duration": 229,
    "start_time": "2021-07-01T08:37:06.733Z"
   },
   {
    "duration": 7,
    "start_time": "2021-07-01T08:37:06.964Z"
   },
   {
    "duration": 12,
    "start_time": "2021-07-01T08:37:06.973Z"
   },
   {
    "duration": 21,
    "start_time": "2021-07-01T08:37:06.988Z"
   },
   {
    "duration": 27,
    "start_time": "2021-07-01T08:37:07.011Z"
   },
   {
    "duration": 28,
    "start_time": "2021-07-01T08:37:07.041Z"
   },
   {
    "duration": 32,
    "start_time": "2021-07-01T08:37:07.071Z"
   },
   {
    "duration": 16,
    "start_time": "2021-07-01T08:37:07.105Z"
   },
   {
    "duration": 21,
    "start_time": "2021-07-01T08:37:07.124Z"
   },
   {
    "duration": 273,
    "start_time": "2021-07-02T03:59:10.131Z"
   },
   {
    "duration": 81,
    "start_time": "2021-07-02T03:59:23.740Z"
   },
   {
    "duration": 89,
    "start_time": "2021-07-02T03:59:29.135Z"
   },
   {
    "duration": 84,
    "start_time": "2021-07-02T04:00:18.742Z"
   },
   {
    "duration": 84,
    "start_time": "2021-07-02T04:01:25.069Z"
   },
   {
    "duration": 1434,
    "start_time": "2021-07-02T04:02:07.769Z"
   },
   {
    "duration": 41,
    "start_time": "2021-07-02T04:02:09.205Z"
   },
   {
    "duration": 31,
    "start_time": "2021-07-02T04:02:09.249Z"
   },
   {
    "duration": 4,
    "start_time": "2021-07-02T04:06:38.212Z"
   },
   {
    "duration": 21,
    "start_time": "2021-07-02T04:06:38.219Z"
   },
   {
    "duration": 22,
    "start_time": "2021-07-02T04:06:38.243Z"
   },
   {
    "duration": 10,
    "start_time": "2021-07-02T04:06:38.268Z"
   },
   {
    "duration": 13,
    "start_time": "2021-07-02T04:06:38.353Z"
   },
   {
    "duration": 11,
    "start_time": "2021-07-02T04:06:38.369Z"
   },
   {
    "duration": 16,
    "start_time": "2021-07-02T04:06:38.383Z"
   },
   {
    "duration": 20,
    "start_time": "2021-07-02T04:06:57.419Z"
   },
   {
    "duration": 4,
    "start_time": "2021-07-02T04:07:22.442Z"
   },
   {
    "duration": 22,
    "start_time": "2021-07-02T04:07:22.449Z"
   },
   {
    "duration": 18,
    "start_time": "2021-07-02T04:07:22.474Z"
   },
   {
    "duration": 5,
    "start_time": "2021-07-02T04:07:22.494Z"
   },
   {
    "duration": 15,
    "start_time": "2021-07-02T04:07:22.502Z"
   },
   {
    "duration": 7,
    "start_time": "2021-07-02T04:07:22.519Z"
   },
   {
    "duration": 37,
    "start_time": "2021-07-02T04:07:22.529Z"
   },
   {
    "duration": 5,
    "start_time": "2021-07-02T04:09:44.795Z"
   },
   {
    "duration": 26,
    "start_time": "2021-07-02T04:09:44.803Z"
   },
   {
    "duration": 24,
    "start_time": "2021-07-02T04:09:44.832Z"
   },
   {
    "duration": 5,
    "start_time": "2021-07-02T04:09:44.859Z"
   },
   {
    "duration": 22,
    "start_time": "2021-07-02T04:09:44.866Z"
   },
   {
    "duration": 6,
    "start_time": "2021-07-02T04:09:44.890Z"
   },
   {
    "duration": 15,
    "start_time": "2021-07-02T04:09:44.900Z"
   },
   {
    "duration": 80,
    "start_time": "2021-07-02T04:09:44.918Z"
   },
   {
    "duration": 20,
    "start_time": "2021-07-02T04:09:45.000Z"
   },
   {
    "duration": 17,
    "start_time": "2021-07-02T04:09:45.022Z"
   },
   {
    "duration": 18,
    "start_time": "2021-07-02T04:09:45.041Z"
   },
   {
    "duration": 16,
    "start_time": "2021-07-02T04:09:45.061Z"
   },
   {
    "duration": 11,
    "start_time": "2021-07-02T04:09:45.079Z"
   },
   {
    "duration": 18,
    "start_time": "2021-07-02T04:09:45.092Z"
   },
   {
    "duration": 7,
    "start_time": "2021-07-02T04:09:45.113Z"
   },
   {
    "duration": 33,
    "start_time": "2021-07-02T04:09:45.123Z"
   },
   {
    "duration": 12,
    "start_time": "2021-07-02T04:09:45.158Z"
   },
   {
    "duration": 13,
    "start_time": "2021-07-02T04:09:45.173Z"
   },
   {
    "duration": 11,
    "start_time": "2021-07-02T04:09:45.189Z"
   },
   {
    "duration": 355,
    "start_time": "2021-07-02T04:09:45.202Z"
   },
   {
    "duration": 269,
    "start_time": "2021-07-02T04:09:45.559Z"
   },
   {
    "duration": 34,
    "start_time": "2021-07-02T04:09:45.831Z"
   },
   {
    "duration": 482,
    "start_time": "2021-07-02T04:09:45.868Z"
   },
   {
    "duration": 460,
    "start_time": "2021-07-02T04:10:12.271Z"
   },
   {
    "duration": 479,
    "start_time": "2021-07-02T04:12:03.091Z"
   },
   {
    "duration": 472,
    "start_time": "2021-07-02T04:12:39.189Z"
   },
   {
    "duration": 545,
    "start_time": "2021-07-02T04:13:12.065Z"
   },
   {
    "duration": 381,
    "start_time": "2021-07-02T04:15:00.227Z"
   },
   {
    "duration": 4,
    "start_time": "2021-07-02T04:16:21.085Z"
   },
   {
    "duration": 26,
    "start_time": "2021-07-02T04:16:21.091Z"
   },
   {
    "duration": 23,
    "start_time": "2021-07-02T04:16:21.120Z"
   },
   {
    "duration": 8,
    "start_time": "2021-07-02T04:16:21.146Z"
   },
   {
    "duration": 19,
    "start_time": "2021-07-02T04:16:21.156Z"
   },
   {
    "duration": 6,
    "start_time": "2021-07-02T04:16:21.178Z"
   },
   {
    "duration": 15,
    "start_time": "2021-07-02T04:16:21.186Z"
   },
   {
    "duration": 55,
    "start_time": "2021-07-02T04:16:21.204Z"
   },
   {
    "duration": 19,
    "start_time": "2021-07-02T04:16:21.263Z"
   },
   {
    "duration": 16,
    "start_time": "2021-07-02T04:16:21.285Z"
   },
   {
    "duration": 7,
    "start_time": "2021-07-02T04:16:21.303Z"
   },
   {
    "duration": 46,
    "start_time": "2021-07-02T04:16:21.312Z"
   },
   {
    "duration": 3,
    "start_time": "2021-07-02T04:16:21.361Z"
   },
   {
    "duration": 12,
    "start_time": "2021-07-02T04:16:21.366Z"
   },
   {
    "duration": 7,
    "start_time": "2021-07-02T04:16:21.380Z"
   },
   {
    "duration": 11,
    "start_time": "2021-07-02T04:16:21.389Z"
   },
   {
    "duration": 13,
    "start_time": "2021-07-02T04:16:21.402Z"
   },
   {
    "duration": 46,
    "start_time": "2021-07-02T04:16:21.417Z"
   },
   {
    "duration": 15,
    "start_time": "2021-07-02T04:16:21.465Z"
   },
   {
    "duration": 340,
    "start_time": "2021-07-02T04:16:21.482Z"
   },
   {
    "duration": 284,
    "start_time": "2021-07-02T04:16:21.824Z"
   },
   {
    "duration": 13,
    "start_time": "2021-07-02T04:16:22.110Z"
   },
   {
    "duration": 473,
    "start_time": "2021-07-02T04:16:22.126Z"
   },
   {
    "duration": 531,
    "start_time": "2021-07-02T04:16:22.602Z"
   },
   {
    "duration": 567,
    "start_time": "2021-07-02T04:16:23.135Z"
   },
   {
    "duration": 647,
    "start_time": "2021-07-02T04:16:23.704Z"
   },
   {
    "duration": 744,
    "start_time": "2021-07-02T04:16:24.355Z"
   },
   {
    "duration": 8,
    "start_time": "2021-07-02T04:16:25.101Z"
   },
   {
    "duration": 589,
    "start_time": "2021-07-02T04:16:25.111Z"
   },
   {
    "duration": 9,
    "start_time": "2021-07-02T04:16:25.703Z"
   },
   {
    "duration": 13,
    "start_time": "2021-07-02T04:16:25.714Z"
   },
   {
    "duration": 570,
    "start_time": "2021-07-02T04:16:25.730Z"
   },
   {
    "duration": 558,
    "start_time": "2021-07-02T04:19:58.906Z"
   },
   {
    "duration": 580,
    "start_time": "2021-07-02T04:20:27.635Z"
   },
   {
    "duration": 579,
    "start_time": "2021-07-02T04:20:41.243Z"
   },
   {
    "duration": 535,
    "start_time": "2021-07-02T04:20:58.778Z"
   },
   {
    "duration": 681,
    "start_time": "2021-07-02T04:22:27.028Z"
   },
   {
    "duration": 82,
    "start_time": "2021-07-02T04:25:32.482Z"
   },
   {
    "duration": 3,
    "start_time": "2021-07-02T04:29:04.626Z"
   },
   {
    "duration": 3,
    "start_time": "2021-07-02T04:29:22.630Z"
   },
   {
    "duration": 5,
    "start_time": "2021-07-02T04:32:45.529Z"
   },
   {
    "duration": 25,
    "start_time": "2021-07-02T04:32:45.537Z"
   },
   {
    "duration": 24,
    "start_time": "2021-07-02T04:32:45.566Z"
   },
   {
    "duration": 11,
    "start_time": "2021-07-02T04:32:45.593Z"
   },
   {
    "duration": 52,
    "start_time": "2021-07-02T04:32:45.606Z"
   },
   {
    "duration": 8,
    "start_time": "2021-07-02T04:32:45.661Z"
   },
   {
    "duration": 17,
    "start_time": "2021-07-02T04:32:45.674Z"
   },
   {
    "duration": 62,
    "start_time": "2021-07-02T04:32:45.695Z"
   },
   {
    "duration": 22,
    "start_time": "2021-07-02T04:32:45.759Z"
   },
   {
    "duration": 19,
    "start_time": "2021-07-02T04:32:45.784Z"
   },
   {
    "duration": 53,
    "start_time": "2021-07-02T04:32:45.806Z"
   },
   {
    "duration": 19,
    "start_time": "2021-07-02T04:32:45.862Z"
   },
   {
    "duration": 9,
    "start_time": "2021-07-02T04:32:45.884Z"
   },
   {
    "duration": 14,
    "start_time": "2021-07-02T04:32:45.895Z"
   },
   {
    "duration": 16,
    "start_time": "2021-07-02T04:32:45.912Z"
   },
   {
    "duration": 40,
    "start_time": "2021-07-02T04:32:45.930Z"
   },
   {
    "duration": 17,
    "start_time": "2021-07-02T04:32:45.972Z"
   },
   {
    "duration": 11,
    "start_time": "2021-07-02T04:32:45.992Z"
   },
   {
    "duration": 9,
    "start_time": "2021-07-02T04:32:46.008Z"
   },
   {
    "duration": 334,
    "start_time": "2021-07-02T04:32:46.021Z"
   },
   {
    "duration": 278,
    "start_time": "2021-07-02T04:32:46.358Z"
   },
   {
    "duration": 23,
    "start_time": "2021-07-02T04:32:46.638Z"
   },
   {
    "duration": 470,
    "start_time": "2021-07-02T04:32:46.664Z"
   },
   {
    "duration": 587,
    "start_time": "2021-07-02T04:32:47.136Z"
   },
   {
    "duration": 570,
    "start_time": "2021-07-02T04:32:47.725Z"
   },
   {
    "duration": 626,
    "start_time": "2021-07-02T04:32:48.298Z"
   },
   {
    "duration": 787,
    "start_time": "2021-07-02T04:32:48.927Z"
   },
   {
    "duration": 7,
    "start_time": "2021-07-02T04:32:49.716Z"
   },
   {
    "duration": 574,
    "start_time": "2021-07-02T04:32:49.725Z"
   },
   {
    "duration": 6,
    "start_time": "2021-07-02T04:32:50.302Z"
   },
   {
    "duration": 8,
    "start_time": "2021-07-02T04:32:50.310Z"
   },
   {
    "duration": 17,
    "start_time": "2021-07-02T04:32:50.321Z"
   },
   {
    "duration": 554,
    "start_time": "2021-07-02T04:32:50.340Z"
   },
   {
    "duration": 513,
    "start_time": "2021-07-02T04:32:50.896Z"
   },
   {
    "duration": 6,
    "start_time": "2021-07-02T04:32:51.412Z"
   },
   {
    "duration": 7,
    "start_time": "2021-07-02T04:32:51.420Z"
   },
   {
    "duration": 109,
    "start_time": "2021-07-02T04:32:51.429Z"
   },
   {
    "duration": 115,
    "start_time": "2021-07-02T04:32:51.540Z"
   },
   {
    "duration": 127,
    "start_time": "2021-07-02T04:32:51.658Z"
   },
   {
    "duration": 132,
    "start_time": "2021-07-02T04:32:51.788Z"
   },
   {
    "duration": 64,
    "start_time": "2021-07-02T04:32:51.922Z"
   },
   {
    "duration": 194,
    "start_time": "2021-07-02T04:32:51.989Z"
   },
   {
    "duration": 8,
    "start_time": "2021-07-02T04:32:52.185Z"
   },
   {
    "duration": 23,
    "start_time": "2021-07-02T04:32:52.197Z"
   },
   {
    "duration": 21,
    "start_time": "2021-07-02T04:32:52.223Z"
   },
   {
    "duration": 22,
    "start_time": "2021-07-02T04:32:52.247Z"
   },
   {
    "duration": 13,
    "start_time": "2021-07-02T04:32:52.272Z"
   },
   {
    "duration": 17,
    "start_time": "2021-07-02T04:32:52.288Z"
   },
   {
    "duration": 10,
    "start_time": "2021-07-02T04:32:52.307Z"
   },
   {
    "duration": 52,
    "start_time": "2021-07-02T04:32:52.320Z"
   },
   {
    "duration": 83,
    "start_time": "2021-07-02T06:00:11.521Z"
   },
   {
    "duration": 92,
    "start_time": "2021-07-02T06:04:08.498Z"
   },
   {
    "duration": 99,
    "start_time": "2021-07-02T06:04:27.608Z"
   },
   {
    "duration": 4,
    "start_time": "2021-07-02T06:16:24.685Z"
   },
   {
    "duration": 28,
    "start_time": "2021-07-02T06:16:24.692Z"
   },
   {
    "duration": 25,
    "start_time": "2021-07-02T06:16:24.723Z"
   },
   {
    "duration": 8,
    "start_time": "2021-07-02T06:16:24.751Z"
   },
   {
    "duration": 16,
    "start_time": "2021-07-02T06:16:24.761Z"
   },
   {
    "duration": 7,
    "start_time": "2021-07-02T06:16:24.780Z"
   },
   {
    "duration": 15,
    "start_time": "2021-07-02T06:16:24.790Z"
   },
   {
    "duration": 86,
    "start_time": "2021-07-02T06:16:24.808Z"
   },
   {
    "duration": 19,
    "start_time": "2021-07-02T06:16:24.897Z"
   },
   {
    "duration": 15,
    "start_time": "2021-07-02T06:16:24.918Z"
   },
   {
    "duration": 21,
    "start_time": "2021-07-02T06:16:24.935Z"
   },
   {
    "duration": 12,
    "start_time": "2021-07-02T06:16:24.958Z"
   },
   {
    "duration": 12,
    "start_time": "2021-07-02T06:16:24.972Z"
   },
   {
    "duration": 12,
    "start_time": "2021-07-02T06:16:24.986Z"
   },
   {
    "duration": 6,
    "start_time": "2021-07-02T06:16:25.000Z"
   },
   {
    "duration": 47,
    "start_time": "2021-07-02T06:16:25.009Z"
   },
   {
    "duration": 8,
    "start_time": "2021-07-02T06:16:25.058Z"
   },
   {
    "duration": 14,
    "start_time": "2021-07-02T06:16:25.068Z"
   },
   {
    "duration": 7,
    "start_time": "2021-07-02T06:16:25.087Z"
   },
   {
    "duration": 359,
    "start_time": "2021-07-02T06:16:25.097Z"
   },
   {
    "duration": 277,
    "start_time": "2021-07-02T06:16:25.458Z"
   },
   {
    "duration": 29,
    "start_time": "2021-07-02T06:16:25.737Z"
   },
   {
    "duration": 477,
    "start_time": "2021-07-02T06:16:25.769Z"
   },
   {
    "duration": 570,
    "start_time": "2021-07-02T06:16:26.255Z"
   },
   {
    "duration": 584,
    "start_time": "2021-07-02T06:16:26.827Z"
   },
   {
    "duration": 647,
    "start_time": "2021-07-02T06:16:27.414Z"
   },
   {
    "duration": 751,
    "start_time": "2021-07-02T06:16:28.064Z"
   },
   {
    "duration": 9,
    "start_time": "2021-07-02T06:16:28.819Z"
   },
   {
    "duration": 572,
    "start_time": "2021-07-02T06:16:28.830Z"
   },
   {
    "duration": 8,
    "start_time": "2021-07-02T06:16:29.406Z"
   },
   {
    "duration": 6,
    "start_time": "2021-07-02T06:16:29.416Z"
   },
   {
    "duration": 35,
    "start_time": "2021-07-02T06:16:29.425Z"
   },
   {
    "duration": 543,
    "start_time": "2021-07-02T06:16:29.463Z"
   },
   {
    "duration": 539,
    "start_time": "2021-07-02T06:16:30.008Z"
   },
   {
    "duration": 7,
    "start_time": "2021-07-02T06:16:30.549Z"
   },
   {
    "duration": 26,
    "start_time": "2021-07-02T06:16:30.558Z"
   },
   {
    "duration": 107,
    "start_time": "2021-07-02T06:16:30.586Z"
   },
   {
    "duration": 123,
    "start_time": "2021-07-02T06:16:30.696Z"
   },
   {
    "duration": 116,
    "start_time": "2021-07-02T06:16:30.821Z"
   },
   {
    "duration": 139,
    "start_time": "2021-07-02T06:16:30.939Z"
   },
   {
    "duration": 47,
    "start_time": "2021-07-02T06:16:31.080Z"
   },
   {
    "duration": 211,
    "start_time": "2021-07-02T06:16:31.130Z"
   },
   {
    "duration": 13,
    "start_time": "2021-07-02T06:16:31.343Z"
   },
   {
    "duration": 27,
    "start_time": "2021-07-02T06:16:31.358Z"
   },
   {
    "duration": 52,
    "start_time": "2021-07-02T06:16:31.388Z"
   },
   {
    "duration": 34,
    "start_time": "2021-07-02T06:16:31.442Z"
   },
   {
    "duration": 15,
    "start_time": "2021-07-02T06:16:31.479Z"
   },
   {
    "duration": 35,
    "start_time": "2021-07-02T06:16:31.497Z"
   },
   {
    "duration": 30,
    "start_time": "2021-07-02T06:16:31.534Z"
   },
   {
    "duration": 45,
    "start_time": "2021-07-02T06:16:31.567Z"
   },
   {
    "duration": 100,
    "start_time": "2021-07-02T06:16:31.615Z"
   },
   {
    "duration": 1398,
    "start_time": "2021-07-02T07:47:59.097Z"
   },
   {
    "duration": 17,
    "start_time": "2021-07-02T07:48:00.498Z"
   },
   {
    "duration": 34,
    "start_time": "2021-07-02T07:48:00.518Z"
   },
   {
    "duration": 11,
    "start_time": "2021-07-02T07:48:00.555Z"
   },
   {
    "duration": 25,
    "start_time": "2021-07-02T07:48:00.568Z"
   },
   {
    "duration": 14,
    "start_time": "2021-07-02T07:48:00.596Z"
   },
   {
    "duration": 19,
    "start_time": "2021-07-02T07:48:00.612Z"
   },
   {
    "duration": 51,
    "start_time": "2021-07-02T07:48:00.635Z"
   },
   {
    "duration": 19,
    "start_time": "2021-07-02T07:48:00.690Z"
   },
   {
    "duration": 17,
    "start_time": "2021-07-02T07:48:00.712Z"
   },
   {
    "duration": 31,
    "start_time": "2021-07-02T07:48:00.731Z"
   },
   {
    "duration": 14,
    "start_time": "2021-07-02T07:48:00.764Z"
   },
   {
    "duration": 12,
    "start_time": "2021-07-02T07:48:00.780Z"
   },
   {
    "duration": 28,
    "start_time": "2021-07-02T07:48:00.795Z"
   },
   {
    "duration": 9,
    "start_time": "2021-07-02T07:48:00.825Z"
   },
   {
    "duration": 30,
    "start_time": "2021-07-02T07:48:00.837Z"
   },
   {
    "duration": 31,
    "start_time": "2021-07-02T07:48:00.870Z"
   },
   {
    "duration": 26,
    "start_time": "2021-07-02T07:48:00.904Z"
   },
   {
    "duration": 27,
    "start_time": "2021-07-02T07:48:00.933Z"
   },
   {
    "duration": 375,
    "start_time": "2021-07-02T07:48:00.963Z"
   },
   {
    "duration": 281,
    "start_time": "2021-07-02T07:48:01.341Z"
   },
   {
    "duration": 15,
    "start_time": "2021-07-02T07:48:01.624Z"
   },
   {
    "duration": 547,
    "start_time": "2021-07-02T07:48:01.644Z"
   },
   {
    "duration": 513,
    "start_time": "2021-07-02T07:48:02.195Z"
   },
   {
    "duration": 626,
    "start_time": "2021-07-02T07:48:02.711Z"
   },
   {
    "duration": 711,
    "start_time": "2021-07-02T07:48:03.340Z"
   },
   {
    "duration": 800,
    "start_time": "2021-07-02T07:48:04.054Z"
   },
   {
    "duration": 11,
    "start_time": "2021-07-02T07:48:04.856Z"
   },
   {
    "duration": 588,
    "start_time": "2021-07-02T07:48:04.870Z"
   },
   {
    "duration": 7,
    "start_time": "2021-07-02T07:48:05.463Z"
   },
   {
    "duration": 6,
    "start_time": "2021-07-02T07:48:05.473Z"
   },
   {
    "duration": 15,
    "start_time": "2021-07-02T07:48:05.481Z"
   },
   {
    "duration": 563,
    "start_time": "2021-07-02T07:48:05.498Z"
   },
   {
    "duration": 679,
    "start_time": "2021-07-02T07:48:06.064Z"
   },
   {
    "duration": 6,
    "start_time": "2021-07-02T07:48:06.745Z"
   },
   {
    "duration": 4,
    "start_time": "2021-07-02T07:48:06.761Z"
   },
   {
    "duration": 115,
    "start_time": "2021-07-02T07:48:06.767Z"
   },
   {
    "duration": 106,
    "start_time": "2021-07-02T07:48:06.884Z"
   },
   {
    "duration": 126,
    "start_time": "2021-07-02T07:48:06.993Z"
   },
   {
    "duration": 128,
    "start_time": "2021-07-02T07:48:07.121Z"
   },
   {
    "duration": 55,
    "start_time": "2021-07-02T07:48:07.251Z"
   },
   {
    "duration": 226,
    "start_time": "2021-07-02T07:48:07.308Z"
   },
   {
    "duration": 6,
    "start_time": "2021-07-02T07:48:07.536Z"
   },
   {
    "duration": 6,
    "start_time": "2021-07-02T07:48:07.561Z"
   },
   {
    "duration": 16,
    "start_time": "2021-07-02T07:48:07.570Z"
   },
   {
    "duration": 14,
    "start_time": "2021-07-02T07:48:07.588Z"
   },
   {
    "duration": 18,
    "start_time": "2021-07-02T07:48:07.605Z"
   },
   {
    "duration": 61,
    "start_time": "2021-07-02T07:48:07.625Z"
   },
   {
    "duration": 10,
    "start_time": "2021-07-02T07:48:07.689Z"
   },
   {
    "duration": 21,
    "start_time": "2021-07-02T07:48:07.701Z"
   }
  ],
  "kernelspec": {
   "display_name": "Python 3",
   "language": "python",
   "name": "python3"
  },
  "language_info": {
   "codemirror_mode": {
    "name": "ipython",
    "version": 3
   },
   "file_extension": ".py",
   "mimetype": "text/x-python",
   "name": "python",
   "nbconvert_exporter": "python",
   "pygments_lexer": "ipython3",
   "version": "3.8.8"
  },
  "toc": {
   "base_numbering": 1,
   "nav_menu": {},
   "number_sections": true,
   "sideBar": true,
   "skip_h1_title": true,
   "title_cell": "Table of Contents",
   "title_sidebar": "Contents",
   "toc_cell": false,
   "toc_position": {
    "height": "calc(100% - 180px)",
    "left": "10px",
    "top": "150px",
    "width": "165px"
   },
   "toc_section_display": true,
   "toc_window_display": true
  }
 },
 "nbformat": 4,
 "nbformat_minor": 2
}
