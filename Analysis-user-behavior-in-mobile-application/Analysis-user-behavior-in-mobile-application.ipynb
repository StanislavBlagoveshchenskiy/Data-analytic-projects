{
 "cells": [
  {
   "cell_type": "markdown",
   "metadata": {},
   "source": [
    "# Анализ пользовательского поведения в мобильном приложении."
   ]
  },
  {
   "cell_type": "markdown",
   "metadata": {},
   "source": [
    "# Цель проекта:"
   ]
  },
  {
   "cell_type": "markdown",
   "metadata": {},
   "source": [
    "Разобраться, как ведут себя пользователи в нашем мобильном приложении по продаже продуктов питания."
   ]
  },
  {
   "cell_type": "markdown",
   "metadata": {},
   "source": [
    "# Описание проекта:"
   ]
  },
  {
   "cell_type": "markdown",
   "metadata": {},
   "source": [
    "Изучить воронку продаж. Узнать, как пользователи доходят до покупки. Сколько пользователей доходит до покупки, а сколько — «застревает» на предыдущих шагах? На каких именно? Исследуйте результаты A/A/B-эксперимента. Пользователей разбили на 3 группы: 2 контрольные со старыми шрифтами и одну экспериментальную — с новыми. Выясните, какой шрифт лучше."
   ]
  },
  {
   "cell_type": "markdown",
   "metadata": {},
   "source": [
    "## Загрузка исходных данных:"
   ]
  },
  {
   "cell_type": "code",
   "execution_count": 116,
   "metadata": {},
   "outputs": [],
   "source": [
    "import pandas as pd\n",
    "import numpy as np\n",
    "from datetime import datetime, timedelta\n",
    "from matplotlib import pyplot as plt\n",
    "import seaborn as sns\n",
    "import plotly.express as px\n",
    "from plotly import graph_objects as go\n",
    "from IPython.display import display\n",
    "from scipy import stats as st\n",
    "import re\n",
    "from io import BytesIO\n",
    "import requests\n",
    "import math as mth"
   ]
  },
  {
   "cell_type": "code",
   "execution_count": 117,
   "metadata": {},
   "outputs": [],
   "source": [
    "# загружаем данные и сохраняем в переменную:\n",
    "df = pd.read_csv('/datasets/logs_exp.csv', sep='\\t')"
   ]
  },
  {
   "cell_type": "code",
   "execution_count": 118,
   "metadata": {},
   "outputs": [
    {
     "name": "stdout",
     "output_type": "stream",
     "text": [
      "<class 'pandas.core.frame.DataFrame'>\n",
      "RangeIndex: 244126 entries, 0 to 244125\n",
      "Data columns (total 4 columns):\n",
      "EventName         244126 non-null object\n",
      "DeviceIDHash      244126 non-null int64\n",
      "EventTimestamp    244126 non-null int64\n",
      "ExpId             244126 non-null int64\n",
      "dtypes: int64(3), object(1)\n",
      "memory usage: 7.5+ MB\n",
      "Количество дубликатов: 413\n"
     ]
    },
    {
     "data": {
      "text/html": [
       "<div>\n",
       "<style scoped>\n",
       "    .dataframe tbody tr th:only-of-type {\n",
       "        vertical-align: middle;\n",
       "    }\n",
       "\n",
       "    .dataframe tbody tr th {\n",
       "        vertical-align: top;\n",
       "    }\n",
       "\n",
       "    .dataframe thead th {\n",
       "        text-align: right;\n",
       "    }\n",
       "</style>\n",
       "<table border=\"1\" class=\"dataframe\">\n",
       "  <thead>\n",
       "    <tr style=\"text-align: right;\">\n",
       "      <th></th>\n",
       "      <th>EventName</th>\n",
       "      <th>DeviceIDHash</th>\n",
       "      <th>EventTimestamp</th>\n",
       "      <th>ExpId</th>\n",
       "    </tr>\n",
       "  </thead>\n",
       "  <tbody>\n",
       "    <tr>\n",
       "      <td>0</td>\n",
       "      <td>MainScreenAppear</td>\n",
       "      <td>4575588528974610257</td>\n",
       "      <td>1564029816</td>\n",
       "      <td>246</td>\n",
       "    </tr>\n",
       "    <tr>\n",
       "      <td>1</td>\n",
       "      <td>MainScreenAppear</td>\n",
       "      <td>7416695313311560658</td>\n",
       "      <td>1564053102</td>\n",
       "      <td>246</td>\n",
       "    </tr>\n",
       "    <tr>\n",
       "      <td>2</td>\n",
       "      <td>PaymentScreenSuccessful</td>\n",
       "      <td>3518123091307005509</td>\n",
       "      <td>1564054127</td>\n",
       "      <td>248</td>\n",
       "    </tr>\n",
       "    <tr>\n",
       "      <td>3</td>\n",
       "      <td>CartScreenAppear</td>\n",
       "      <td>3518123091307005509</td>\n",
       "      <td>1564054127</td>\n",
       "      <td>248</td>\n",
       "    </tr>\n",
       "    <tr>\n",
       "      <td>4</td>\n",
       "      <td>PaymentScreenSuccessful</td>\n",
       "      <td>6217807653094995999</td>\n",
       "      <td>1564055322</td>\n",
       "      <td>248</td>\n",
       "    </tr>\n",
       "  </tbody>\n",
       "</table>\n",
       "</div>"
      ],
      "text/plain": [
       "                 EventName         DeviceIDHash  EventTimestamp  ExpId\n",
       "0         MainScreenAppear  4575588528974610257      1564029816    246\n",
       "1         MainScreenAppear  7416695313311560658      1564053102    246\n",
       "2  PaymentScreenSuccessful  3518123091307005509      1564054127    248\n",
       "3         CartScreenAppear  3518123091307005509      1564054127    248\n",
       "4  PaymentScreenSuccessful  6217807653094995999      1564055322    248"
      ]
     },
     "metadata": {},
     "output_type": "display_data"
    }
   ],
   "source": [
    "# Используем метод info чтобы изучить исходную информацию и найдём количество дубликатов:\n",
    "df.info()\n",
    "print('Количество дубликатов:', df.duplicated().sum())\n",
    "display(df.head())"
   ]
  },
  {
   "cell_type": "markdown",
   "metadata": {},
   "source": [
    "### Вывод по исходным данным:"
   ]
  },
  {
   "cell_type": "markdown",
   "metadata": {},
   "source": [
    "В исходных данных нет пропусков, но есть дубликаты - 413 штук. Так же стоит изменить формат для дат и переименовать столбцы."
   ]
  },
  {
   "cell_type": "markdown",
   "metadata": {},
   "source": [
    "## Подготовка данных к анализу:"
   ]
  },
  {
   "cell_type": "code",
   "execution_count": 119,
   "metadata": {},
   "outputs": [],
   "source": [
    "# Переведем значения столбца EventTimestamp в формат даты и времени:\n",
    "df['EventTimestamp'] = pd.to_datetime(df['EventTimestamp'], unit='s')"
   ]
  },
  {
   "cell_type": "code",
   "execution_count": 120,
   "metadata": {},
   "outputs": [
    {
     "data": {
      "text/plain": [
       "Index(['event_name', 'user_id', 'event_datetime', 'group'], dtype='object')"
      ]
     },
     "execution_count": 120,
     "metadata": {},
     "output_type": "execute_result"
    }
   ],
   "source": [
    "# Переименуем названия столбцов:\n",
    "df = df.rename(columns={\n",
    "                    'EventName': 'event_name',\n",
    "                    'DeviceIDHash': 'user_id',\n",
    "                    'EventTimestamp': 'event_datetime',\n",
    "                    'ExpId': 'group'\n",
    "                        })\n",
    "# Проверим, переименовались столбцы или нет:\n",
    "df.columns"
   ]
  },
  {
   "cell_type": "code",
   "execution_count": 121,
   "metadata": {},
   "outputs": [],
   "source": [
    "# Приведём все названия событий из столбца event_name к нижнему регистру\n",
    "df['event_name'] = df['event_name'].str.lower()"
   ]
  },
  {
   "cell_type": "code",
   "execution_count": 122,
   "metadata": {},
   "outputs": [],
   "source": [
    "# Выделим из столбца event_datetime дату и сохраним в отдельный столбец:\n",
    "df['event_date'] = df['event_datetime'].dt.date"
   ]
  },
  {
   "cell_type": "code",
   "execution_count": 123,
   "metadata": {},
   "outputs": [],
   "source": [
    "# Удалим дубликаты из наших данных:\n",
    "df = df.drop_duplicates()"
   ]
  },
  {
   "cell_type": "code",
   "execution_count": 124,
   "metadata": {},
   "outputs": [
    {
     "name": "stdout",
     "output_type": "stream",
     "text": [
      "<class 'pandas.core.frame.DataFrame'>\n",
      "Int64Index: 243713 entries, 0 to 244125\n",
      "Data columns (total 5 columns):\n",
      "event_name        243713 non-null object\n",
      "user_id           243713 non-null int64\n",
      "event_datetime    243713 non-null datetime64[ns]\n",
      "group             243713 non-null int64\n",
      "event_date        243713 non-null object\n",
      "dtypes: datetime64[ns](1), int64(2), object(2)\n",
      "memory usage: 11.2+ MB\n",
      "Количество дубликатов: 0\n"
     ]
    },
    {
     "data": {
      "text/html": [
       "<div>\n",
       "<style scoped>\n",
       "    .dataframe tbody tr th:only-of-type {\n",
       "        vertical-align: middle;\n",
       "    }\n",
       "\n",
       "    .dataframe tbody tr th {\n",
       "        vertical-align: top;\n",
       "    }\n",
       "\n",
       "    .dataframe thead th {\n",
       "        text-align: right;\n",
       "    }\n",
       "</style>\n",
       "<table border=\"1\" class=\"dataframe\">\n",
       "  <thead>\n",
       "    <tr style=\"text-align: right;\">\n",
       "      <th></th>\n",
       "      <th>event_name</th>\n",
       "      <th>user_id</th>\n",
       "      <th>event_datetime</th>\n",
       "      <th>group</th>\n",
       "      <th>event_date</th>\n",
       "    </tr>\n",
       "  </thead>\n",
       "  <tbody>\n",
       "    <tr>\n",
       "      <td>0</td>\n",
       "      <td>mainscreenappear</td>\n",
       "      <td>4575588528974610257</td>\n",
       "      <td>2019-07-25 04:43:36</td>\n",
       "      <td>246</td>\n",
       "      <td>2019-07-25</td>\n",
       "    </tr>\n",
       "    <tr>\n",
       "      <td>1</td>\n",
       "      <td>mainscreenappear</td>\n",
       "      <td>7416695313311560658</td>\n",
       "      <td>2019-07-25 11:11:42</td>\n",
       "      <td>246</td>\n",
       "      <td>2019-07-25</td>\n",
       "    </tr>\n",
       "    <tr>\n",
       "      <td>2</td>\n",
       "      <td>paymentscreensuccessful</td>\n",
       "      <td>3518123091307005509</td>\n",
       "      <td>2019-07-25 11:28:47</td>\n",
       "      <td>248</td>\n",
       "      <td>2019-07-25</td>\n",
       "    </tr>\n",
       "    <tr>\n",
       "      <td>3</td>\n",
       "      <td>cartscreenappear</td>\n",
       "      <td>3518123091307005509</td>\n",
       "      <td>2019-07-25 11:28:47</td>\n",
       "      <td>248</td>\n",
       "      <td>2019-07-25</td>\n",
       "    </tr>\n",
       "    <tr>\n",
       "      <td>4</td>\n",
       "      <td>paymentscreensuccessful</td>\n",
       "      <td>6217807653094995999</td>\n",
       "      <td>2019-07-25 11:48:42</td>\n",
       "      <td>248</td>\n",
       "      <td>2019-07-25</td>\n",
       "    </tr>\n",
       "  </tbody>\n",
       "</table>\n",
       "</div>"
      ],
      "text/plain": [
       "                event_name              user_id      event_datetime  group  \\\n",
       "0         mainscreenappear  4575588528974610257 2019-07-25 04:43:36    246   \n",
       "1         mainscreenappear  7416695313311560658 2019-07-25 11:11:42    246   \n",
       "2  paymentscreensuccessful  3518123091307005509 2019-07-25 11:28:47    248   \n",
       "3         cartscreenappear  3518123091307005509 2019-07-25 11:28:47    248   \n",
       "4  paymentscreensuccessful  6217807653094995999 2019-07-25 11:48:42    248   \n",
       "\n",
       "   event_date  \n",
       "0  2019-07-25  \n",
       "1  2019-07-25  \n",
       "2  2019-07-25  \n",
       "3  2019-07-25  \n",
       "4  2019-07-25  "
      ]
     },
     "metadata": {},
     "output_type": "display_data"
    }
   ],
   "source": [
    "# Ещё раз используем метод info чтобы изучить исходную информацию и найдём количество дубликатов:\n",
    "df.info()\n",
    "print('Количество дубликатов:', df.duplicated().sum())\n",
    "display(df.head())"
   ]
  },
  {
   "cell_type": "markdown",
   "metadata": {},
   "source": [
    "### Вывод:"
   ]
  },
  {
   "cell_type": "markdown",
   "metadata": {},
   "source": [
    "Данные готовы к анализу: привели дату со временем к нужному формату, переименовали столбцы, все названия событий привели к нижнему регистру и удалили дубликаты из наших данных."
   ]
  },
  {
   "cell_type": "markdown",
   "metadata": {},
   "source": [
    "## Изучим данные:"
   ]
  },
  {
   "cell_type": "code",
   "execution_count": 125,
   "metadata": {},
   "outputs": [
    {
     "name": "stdout",
     "output_type": "stream",
     "text": [
      "Всего событий в логе: 243713\n"
     ]
    }
   ],
   "source": [
    "# Посчитаем, сколько всего событий:\n",
    "events_qty = len(df['event_name'])\n",
    "print('Всего событий в логе:', events_qty)"
   ]
  },
  {
   "cell_type": "code",
   "execution_count": 126,
   "metadata": {},
   "outputs": [
    {
     "name": "stdout",
     "output_type": "stream",
     "text": [
      "Всего пользователей в логе: 7551\n"
     ]
    }
   ],
   "source": [
    "# Посчитаем, сколько всего уникальных пользователей:\n",
    "users_qty = len(df['user_id'].unique())\n",
    "print('Всего пользователей в логе:', users_qty)"
   ]
  },
  {
   "cell_type": "code",
   "execution_count": 127,
   "metadata": {},
   "outputs": [
    {
     "name": "stdout",
     "output_type": "stream",
     "text": [
      "В среднем 32 события/-ий приходится на пользователя.\n"
     ]
    }
   ],
   "source": [
    "# Посчитаем сколько в среднем событий приходится на пользователя:\n",
    "avg_events_on_user = events_qty / users_qty\n",
    "print('В среднем {:.0f} события/-ий приходится на пользователя.'.format(avg_events_on_user))"
   ]
  },
  {
   "cell_type": "code",
   "execution_count": 128,
   "metadata": {},
   "outputs": [
    {
     "name": "stdout",
     "output_type": "stream",
     "text": [
      "медиана равна 20.0\n",
      "мода равна 5\n"
     ]
    }
   ],
   "source": [
    "events_by_users = df.groupby('user_id')['event_name'].count().reset_index()\n",
    "print('медиана равна', events_by_users['event_name'].median())\n",
    "from statistics import mode\n",
    "print('мода равна', mode(events_by_users['event_name'].values.tolist()))\n"
   ]
  },
  {
   "cell_type": "markdown",
   "metadata": {},
   "source": [
    "В нашем распределении среднее число событий на пользователя получилось 32, медианное значение 20, а мода равна 5. Мода представляет собой значение изучаемого признака, повторяющееся с наибольшей частотой, т.е. в нашем случае, чаще всего пользователи совершали 5 событий. Так как среднее значание получилось значительно больше медианы, значит есть пользователи, которые совершили очень много событий в наших данных."
   ]
  },
  {
   "cell_type": "code",
   "execution_count": 129,
   "metadata": {},
   "outputs": [
    {
     "name": "stdout",
     "output_type": "stream",
     "text": [
      "2019-07-25\n"
     ]
    }
   ],
   "source": [
    "# Минимальная дата в наших данных:\n",
    "mid_date = df['event_date'].min()\n",
    "print(mid_date)"
   ]
  },
  {
   "cell_type": "code",
   "execution_count": 130,
   "metadata": {},
   "outputs": [
    {
     "name": "stdout",
     "output_type": "stream",
     "text": [
      "2019-08-07\n"
     ]
    }
   ],
   "source": [
    "# Максимальная дата в наших данных:\n",
    "max_date = df['event_date'].max()\n",
    "print(max_date)"
   ]
  },
  {
   "cell_type": "code",
   "execution_count": 131,
   "metadata": {},
   "outputs": [
    {
     "data": {
      "image/png": "[encoded data removed]",
      "text/plain": [
       "<Figure size 1080x720 with 1 Axes>"
      ]
     },
     "metadata": {
      "needs_background": "light"
     },
     "output_type": "display_data"
    }
   ],
   "source": [
    "# Строим гистограмму по дате и времени, посмотрим сколько событий было в каждый из дней:\n",
    "from pandas.plotting import register_matplotlib_converters\n",
    "register_matplotlib_converters()\n",
    "df['event_datetime'].hist(figsize=(15,10))\n",
    "plt.title('Количество событий по дням', fontsize=14)\n",
    "plt.xlabel('Дата', fontsize=14)\n",
    "plt.ylabel('Количетсво событий', fontsize=14)\n",
    "plt.tight_layout()"
   ]
  },
  {
   "cell_type": "markdown",
   "metadata": {},
   "source": [
    "По гистограмме хорошо видно, где начинаются дни с полными данными по всем событиям. Полные данные представлены с 1го августа включительно."
   ]
  },
  {
   "cell_type": "code",
   "execution_count": 132,
   "metadata": {},
   "outputs": [],
   "source": [
    "# Сделаем срез в данных и оставим данные только от 1го августа включительно:\n",
    "df = df[df['event_datetime'] >= '2019-08-01']"
   ]
  },
  {
   "cell_type": "code",
   "execution_count": 133,
   "metadata": {},
   "outputs": [
    {
     "name": "stdout",
     "output_type": "stream",
     "text": [
      "Всего событий в логе после отсечения старых данных: 240887\n"
     ]
    }
   ],
   "source": [
    "# Посчитаем, сколько событий осталось после того, как мы отбросили старые данные:\n",
    "events_qty_without_old_data = len(df['event_name'])\n",
    "print('Всего событий в логе после отсечения старых данных:', events_qty_without_old_data)"
   ]
  },
  {
   "cell_type": "code",
   "execution_count": 134,
   "metadata": {},
   "outputs": [
    {
     "name": "stdout",
     "output_type": "stream",
     "text": [
      "Всего пользователей в логе после отсечения старых данных: 7534\n"
     ]
    }
   ],
   "source": [
    "# Посчитаем, сколько уникальных пользователей осталось после того, как мы отбросили старые данные:\n",
    "users_qty_without_old_data = len(df['user_id'].unique())\n",
    "print('Всего пользователей в логе после отсечения старых данных:', users_qty_without_old_data)"
   ]
  },
  {
   "cell_type": "code",
   "execution_count": 135,
   "metadata": {},
   "outputs": [
    {
     "name": "stdout",
     "output_type": "stream",
     "text": [
      "Количетсво событий, удалённых после отсечения старых данных: 2826\n",
      "Количетсво событий, удалённых после отсечения старых данных, относительно исходных данных: 1.16%\n"
     ]
    }
   ],
   "source": [
    "# Посчитаем, сколько событий мы потеряли, отбросив старые данные:\n",
    "number_of_events_lost = events_qty - events_qty_without_old_data\n",
    "print('Количетсво событий, удалённых после отсечения старых данных:', number_of_events_lost)\n",
    "print(\n",
    "    'Количетсво событий, удалённых после отсечения старых данных, относительно исходных данных: {:.2%}'\\\n",
    "      .format(number_of_events_lost / events_qty)\n",
    ")"
   ]
  },
  {
   "cell_type": "code",
   "execution_count": 136,
   "metadata": {},
   "outputs": [
    {
     "name": "stdout",
     "output_type": "stream",
     "text": [
      "Количетсво пользователей, удалённых после отсечения старых данных: 17\n",
      "Количетсво пользователей, удалённых после отсечения старых данных, относительно исходных данных: 0.23%\n"
     ]
    }
   ],
   "source": [
    "# Посчитаем, сколько пользователей мы потеряли, отбросив старые данные:\n",
    "number_of_users_lost = users_qty - users_qty_without_old_data\n",
    "print('Количетсво пользователей, удалённых после отсечения старых данных:', number_of_users_lost)\n",
    "print(\n",
    "    'Количетсво пользователей, удалённых после отсечения старых данных, относительно исходных данных: {:.2%}'\\\n",
    "      .format(number_of_users_lost / users_qty)\n",
    ")"
   ]
  },
  {
   "cell_type": "code",
   "execution_count": 137,
   "metadata": {},
   "outputs": [
    {
     "data": {
      "text/html": [
       "<div>\n",
       "<style scoped>\n",
       "    .dataframe tbody tr th:only-of-type {\n",
       "        vertical-align: middle;\n",
       "    }\n",
       "\n",
       "    .dataframe tbody tr th {\n",
       "        vertical-align: top;\n",
       "    }\n",
       "\n",
       "    .dataframe thead th {\n",
       "        text-align: right;\n",
       "    }\n",
       "</style>\n",
       "<table border=\"1\" class=\"dataframe\">\n",
       "  <thead>\n",
       "    <tr style=\"text-align: right;\">\n",
       "      <th></th>\n",
       "      <th>count</th>\n",
       "      <th>nunique</th>\n",
       "    </tr>\n",
       "    <tr>\n",
       "      <th>group</th>\n",
       "      <th></th>\n",
       "      <th></th>\n",
       "    </tr>\n",
       "  </thead>\n",
       "  <tbody>\n",
       "    <tr>\n",
       "      <td>246</td>\n",
       "      <td>79302</td>\n",
       "      <td>2484</td>\n",
       "    </tr>\n",
       "    <tr>\n",
       "      <td>247</td>\n",
       "      <td>77022</td>\n",
       "      <td>2513</td>\n",
       "    </tr>\n",
       "    <tr>\n",
       "      <td>248</td>\n",
       "      <td>84563</td>\n",
       "      <td>2537</td>\n",
       "    </tr>\n",
       "  </tbody>\n",
       "</table>\n",
       "</div>"
      ],
      "text/plain": [
       "       count  nunique\n",
       "group                \n",
       "246    79302     2484\n",
       "247    77022     2513\n",
       "248    84563     2537"
      ]
     },
     "execution_count": 137,
     "metadata": {},
     "output_type": "execute_result"
    }
   ],
   "source": [
    "# Проверим, что у нас есть пользователи из всех трёх экспериментальных групп:\n",
    "df.groupby('group')['user_id'].agg({'nunique', 'count'})"
   ]
  },
  {
   "cell_type": "markdown",
   "metadata": {},
   "source": [
    "### Вывод:"
   ]
  },
  {
   "cell_type": "markdown",
   "metadata": {},
   "source": [
    "В данной части нашего проекта мы посчитали сколько в среднем событий приходится на одного клиента. Установили по графику с какого периода у нас начинаются полные данные. Очистили наши исходные данные, отбросив данные, которые не попали в рассматриваемый период. Посчитали сколько событий и пользователей удалилось из данных - получили довольно небольшие значения: мы потеряли 1.16% событий и 0.23% клиентов относительно исходных данных. В получившихся данных все события попадают в три экспериментальные группы."
   ]
  },
  {
   "cell_type": "markdown",
   "metadata": {},
   "source": [
    "## Изучим воронку событий:"
   ]
  },
  {
   "cell_type": "code",
   "execution_count": 138,
   "metadata": {},
   "outputs": [],
   "source": [
    "# Сгруппируем исходные данные по название событий и посчитаем их количество:\n",
    "df_by_events = df.groupby('event_name')['user_id'].count().reset_index()"
   ]
  },
  {
   "cell_type": "code",
   "execution_count": 139,
   "metadata": {},
   "outputs": [
    {
     "data": {
      "text/html": [
       "<div>\n",
       "<style scoped>\n",
       "    .dataframe tbody tr th:only-of-type {\n",
       "        vertical-align: middle;\n",
       "    }\n",
       "\n",
       "    .dataframe tbody tr th {\n",
       "        vertical-align: top;\n",
       "    }\n",
       "\n",
       "    .dataframe thead th {\n",
       "        text-align: right;\n",
       "    }\n",
       "</style>\n",
       "<table border=\"1\" class=\"dataframe\">\n",
       "  <thead>\n",
       "    <tr style=\"text-align: right;\">\n",
       "      <th></th>\n",
       "      <th>event_name</th>\n",
       "      <th>user_id</th>\n",
       "      <th>ratio</th>\n",
       "    </tr>\n",
       "  </thead>\n",
       "  <tbody>\n",
       "    <tr>\n",
       "      <td>0</td>\n",
       "      <td>mainscreenappear</td>\n",
       "      <td>117328</td>\n",
       "      <td>0.487067</td>\n",
       "    </tr>\n",
       "    <tr>\n",
       "      <td>1</td>\n",
       "      <td>offersscreenappear</td>\n",
       "      <td>46333</td>\n",
       "      <td>0.192343</td>\n",
       "    </tr>\n",
       "    <tr>\n",
       "      <td>2</td>\n",
       "      <td>cartscreenappear</td>\n",
       "      <td>42303</td>\n",
       "      <td>0.175613</td>\n",
       "    </tr>\n",
       "    <tr>\n",
       "      <td>3</td>\n",
       "      <td>paymentscreensuccessful</td>\n",
       "      <td>33918</td>\n",
       "      <td>0.140805</td>\n",
       "    </tr>\n",
       "    <tr>\n",
       "      <td>4</td>\n",
       "      <td>tutorial</td>\n",
       "      <td>1005</td>\n",
       "      <td>0.004172</td>\n",
       "    </tr>\n",
       "  </tbody>\n",
       "</table>\n",
       "</div>"
      ],
      "text/plain": [
       "                event_name  user_id     ratio\n",
       "0         mainscreenappear   117328  0.487067\n",
       "1       offersscreenappear    46333  0.192343\n",
       "2         cartscreenappear    42303  0.175613\n",
       "3  paymentscreensuccessful    33918  0.140805\n",
       "4                 tutorial     1005  0.004172"
      ]
     },
     "execution_count": 139,
     "metadata": {},
     "output_type": "execute_result"
    }
   ],
   "source": [
    "# посчитаем отношение каждого события к общему числу событий:\n",
    "df_by_events['ratio'] = df_by_events['user_id'] / len(df)\n",
    "df_by_events = df_by_events.sort_values(by='ratio', ascending=False) # сортируем по убыванию\n",
    "df_by_events.reset_index(inplace = True, drop=True) # замена порядка индексов в таблице\n",
    "df_by_events "
   ]
  },
  {
   "cell_type": "code",
   "execution_count": 140,
   "metadata": {},
   "outputs": [
    {
     "data": {
      "text/html": [
       "<div>\n",
       "<style scoped>\n",
       "    .dataframe tbody tr th:only-of-type {\n",
       "        vertical-align: middle;\n",
       "    }\n",
       "\n",
       "    .dataframe tbody tr th {\n",
       "        vertical-align: top;\n",
       "    }\n",
       "\n",
       "    .dataframe thead th {\n",
       "        text-align: right;\n",
       "    }\n",
       "</style>\n",
       "<table border=\"1\" class=\"dataframe\">\n",
       "  <thead>\n",
       "    <tr style=\"text-align: right;\">\n",
       "      <th></th>\n",
       "      <th>event_name</th>\n",
       "      <th>user_id</th>\n",
       "    </tr>\n",
       "  </thead>\n",
       "  <tbody>\n",
       "    <tr>\n",
       "      <td>0</td>\n",
       "      <td>mainscreenappear</td>\n",
       "      <td>7419</td>\n",
       "    </tr>\n",
       "    <tr>\n",
       "      <td>1</td>\n",
       "      <td>offersscreenappear</td>\n",
       "      <td>4593</td>\n",
       "    </tr>\n",
       "    <tr>\n",
       "      <td>2</td>\n",
       "      <td>cartscreenappear</td>\n",
       "      <td>3734</td>\n",
       "    </tr>\n",
       "    <tr>\n",
       "      <td>3</td>\n",
       "      <td>paymentscreensuccessful</td>\n",
       "      <td>3539</td>\n",
       "    </tr>\n",
       "    <tr>\n",
       "      <td>4</td>\n",
       "      <td>tutorial</td>\n",
       "      <td>840</td>\n",
       "    </tr>\n",
       "  </tbody>\n",
       "</table>\n",
       "</div>"
      ],
      "text/plain": [
       "                event_name  user_id\n",
       "0         mainscreenappear     7419\n",
       "1       offersscreenappear     4593\n",
       "2         cartscreenappear     3734\n",
       "3  paymentscreensuccessful     3539\n",
       "4                 tutorial      840"
      ]
     },
     "execution_count": 140,
     "metadata": {},
     "output_type": "execute_result"
    }
   ],
   "source": [
    "# Посчитаем, сколько пользователей совершали каждое из этих событий:\n",
    "events_by_uniq_users = df.groupby('event_name')['user_id'].nunique()\\\n",
    "    .reset_index().sort_values(by='user_id', ascending=False)\n",
    "events_by_uniq_users.reset_index(inplace = True, drop=True) # замена порядка индексов в таблице\n",
    "events_by_uniq_users"
   ]
  },
  {
   "cell_type": "code",
   "execution_count": 141,
   "metadata": {},
   "outputs": [
    {
     "data": {
      "text/plain": [
       "7534"
      ]
     },
     "execution_count": 141,
     "metadata": {},
     "output_type": "execute_result"
    }
   ],
   "source": [
    "# Посчитаем количетсво уникальных пользователей в исходных данных и сохраним в переменную:\n",
    "uniq_users = df['user_id'].nunique()\n",
    "uniq_users"
   ]
  },
  {
   "cell_type": "code",
   "execution_count": 142,
   "metadata": {},
   "outputs": [
    {
     "data": {
      "text/html": [
       "<div>\n",
       "<style scoped>\n",
       "    .dataframe tbody tr th:only-of-type {\n",
       "        vertical-align: middle;\n",
       "    }\n",
       "\n",
       "    .dataframe tbody tr th {\n",
       "        vertical-align: top;\n",
       "    }\n",
       "\n",
       "    .dataframe thead th {\n",
       "        text-align: right;\n",
       "    }\n",
       "</style>\n",
       "<table border=\"1\" class=\"dataframe\">\n",
       "  <thead>\n",
       "    <tr style=\"text-align: right;\">\n",
       "      <th></th>\n",
       "      <th>event_name</th>\n",
       "      <th>users_count</th>\n",
       "      <th>cr</th>\n",
       "    </tr>\n",
       "  </thead>\n",
       "  <tbody>\n",
       "    <tr>\n",
       "      <td>0</td>\n",
       "      <td>mainscreenappear</td>\n",
       "      <td>7419</td>\n",
       "      <td>0.984736</td>\n",
       "    </tr>\n",
       "    <tr>\n",
       "      <td>1</td>\n",
       "      <td>offersscreenappear</td>\n",
       "      <td>4593</td>\n",
       "      <td>0.609636</td>\n",
       "    </tr>\n",
       "    <tr>\n",
       "      <td>2</td>\n",
       "      <td>cartscreenappear</td>\n",
       "      <td>3734</td>\n",
       "      <td>0.495620</td>\n",
       "    </tr>\n",
       "    <tr>\n",
       "      <td>3</td>\n",
       "      <td>paymentscreensuccessful</td>\n",
       "      <td>3539</td>\n",
       "      <td>0.469737</td>\n",
       "    </tr>\n",
       "    <tr>\n",
       "      <td>4</td>\n",
       "      <td>tutorial</td>\n",
       "      <td>840</td>\n",
       "      <td>0.111495</td>\n",
       "    </tr>\n",
       "  </tbody>\n",
       "</table>\n",
       "</div>"
      ],
      "text/plain": [
       "                event_name  users_count        cr\n",
       "0         mainscreenappear         7419  0.984736\n",
       "1       offersscreenappear         4593  0.609636\n",
       "2         cartscreenappear         3734  0.495620\n",
       "3  paymentscreensuccessful         3539  0.469737\n",
       "4                 tutorial          840  0.111495"
      ]
     },
     "execution_count": 142,
     "metadata": {},
     "output_type": "execute_result"
    }
   ],
   "source": [
    "# Добавим столбец, в котором посчитаем долю пользователей, которые хоть раз совершали событие:\n",
    "events_by_uniq_users['cr'] = events_by_uniq_users['user_id'] / uniq_users\n",
    "events_by_uniq_users = events_by_uniq_users.rename(columns={'user_id':'users_count'}) # переименуем столбец\n",
    "events_by_uniq_users"
   ]
  },
  {
   "cell_type": "markdown",
   "metadata": {},
   "source": [
    "Из выше перечисленных событий, скорее всего, только tutorial не будет входить в воронку событий: так как не все пользователи обращаются за инструкциями как оформить и оплатить заказ.\n",
    "Наша воронка событий в этой случае будет выглядеть следующем образом:\n",
    "mainscreenappear -> offersscreenappear -> cartscreenappear -> paymentscreensuccessful"
   ]
  },
  {
   "cell_type": "code",
   "execution_count": 143,
   "metadata": {},
   "outputs": [
    {
     "data": {
      "text/html": [
       "<div>\n",
       "<style scoped>\n",
       "    .dataframe tbody tr th:only-of-type {\n",
       "        vertical-align: middle;\n",
       "    }\n",
       "\n",
       "    .dataframe tbody tr th {\n",
       "        vertical-align: top;\n",
       "    }\n",
       "\n",
       "    .dataframe thead th {\n",
       "        text-align: right;\n",
       "    }\n",
       "</style>\n",
       "<table border=\"1\" class=\"dataframe\">\n",
       "  <thead>\n",
       "    <tr style=\"text-align: right;\">\n",
       "      <th></th>\n",
       "      <th>event_name</th>\n",
       "      <th>users_count</th>\n",
       "      <th>cr</th>\n",
       "    </tr>\n",
       "  </thead>\n",
       "  <tbody>\n",
       "    <tr>\n",
       "      <td>0</td>\n",
       "      <td>mainscreenappear</td>\n",
       "      <td>7419</td>\n",
       "      <td>0.984736</td>\n",
       "    </tr>\n",
       "    <tr>\n",
       "      <td>1</td>\n",
       "      <td>offersscreenappear</td>\n",
       "      <td>4593</td>\n",
       "      <td>0.609636</td>\n",
       "    </tr>\n",
       "    <tr>\n",
       "      <td>2</td>\n",
       "      <td>cartscreenappear</td>\n",
       "      <td>3734</td>\n",
       "      <td>0.495620</td>\n",
       "    </tr>\n",
       "    <tr>\n",
       "      <td>3</td>\n",
       "      <td>paymentscreensuccessful</td>\n",
       "      <td>3539</td>\n",
       "      <td>0.469737</td>\n",
       "    </tr>\n",
       "  </tbody>\n",
       "</table>\n",
       "</div>"
      ],
      "text/plain": [
       "                event_name  users_count        cr\n",
       "0         mainscreenappear         7419  0.984736\n",
       "1       offersscreenappear         4593  0.609636\n",
       "2         cartscreenappear         3734  0.495620\n",
       "3  paymentscreensuccessful         3539  0.469737"
      ]
     },
     "execution_count": 143,
     "metadata": {},
     "output_type": "execute_result"
    }
   ],
   "source": [
    "# Удалим из нашей таблицы строку с событием tutorial, как не входящую в нашу воронку:\n",
    "events_by_uniq_users = events_by_uniq_users.drop([4])\n",
    "events_by_uniq_users"
   ]
  },
  {
   "cell_type": "code",
   "execution_count": 144,
   "metadata": {},
   "outputs": [
    {
     "data": {
      "text/html": [
       "<div>\n",
       "<style scoped>\n",
       "    .dataframe tbody tr th:only-of-type {\n",
       "        vertical-align: middle;\n",
       "    }\n",
       "\n",
       "    .dataframe tbody tr th {\n",
       "        vertical-align: top;\n",
       "    }\n",
       "\n",
       "    .dataframe thead th {\n",
       "        text-align: right;\n",
       "    }\n",
       "</style>\n",
       "<table border=\"1\" class=\"dataframe\">\n",
       "  <thead>\n",
       "    <tr style=\"text-align: right;\">\n",
       "      <th></th>\n",
       "      <th>event_name</th>\n",
       "      <th>users_count</th>\n",
       "      <th>cr</th>\n",
       "      <th>cr_by_step</th>\n",
       "    </tr>\n",
       "  </thead>\n",
       "  <tbody>\n",
       "    <tr>\n",
       "      <td>0</td>\n",
       "      <td>mainscreenappear</td>\n",
       "      <td>7419</td>\n",
       "      <td>0.984736</td>\n",
       "      <td>1.000000</td>\n",
       "    </tr>\n",
       "    <tr>\n",
       "      <td>1</td>\n",
       "      <td>offersscreenappear</td>\n",
       "      <td>4593</td>\n",
       "      <td>0.609636</td>\n",
       "      <td>0.619086</td>\n",
       "    </tr>\n",
       "    <tr>\n",
       "      <td>2</td>\n",
       "      <td>cartscreenappear</td>\n",
       "      <td>3734</td>\n",
       "      <td>0.495620</td>\n",
       "      <td>0.812976</td>\n",
       "    </tr>\n",
       "    <tr>\n",
       "      <td>3</td>\n",
       "      <td>paymentscreensuccessful</td>\n",
       "      <td>3539</td>\n",
       "      <td>0.469737</td>\n",
       "      <td>0.947777</td>\n",
       "    </tr>\n",
       "  </tbody>\n",
       "</table>\n",
       "</div>"
      ],
      "text/plain": [
       "                event_name  users_count        cr  cr_by_step\n",
       "0         mainscreenappear         7419  0.984736    1.000000\n",
       "1       offersscreenappear         4593  0.609636    0.619086\n",
       "2         cartscreenappear         3734  0.495620    0.812976\n",
       "3  paymentscreensuccessful         3539  0.469737    0.947777"
      ]
     },
     "execution_count": 144,
     "metadata": {},
     "output_type": "execute_result"
    }
   ],
   "source": [
    "# Применим метод pct_change(), который возвращает в % изменение ко следующему этапу.\n",
    "# Так как у нас с каждым шагом всё меньше пользователей,\n",
    "# то метод pct_change() будет возвращать отрицательное значение в %. \n",
    "# Поэтому перед выражением с этим методом добавим \"1 + \" и в итоге получим долю пользователей,\n",
    "# которая проходит на следующий шаг воронки:\n",
    "events_by_uniq_users['cr_by_step'] = 1 + events_by_uniq_users.users_count.pct_change()\n",
    "\n",
    "# Заполним первое значение единицей, так нет никакого события перед mainscreenappear:\n",
    "events_by_uniq_users = events_by_uniq_users.fillna(1)  \n",
    "events_by_uniq_users # вывод на экран"
   ]
  },
  {
   "cell_type": "markdown",
   "metadata": {},
   "source": [
    "По столбцу cr_by_step можно сразу увидеть, что только 62% пользователей переходит от mainscreenappear к offersscreenappear. На этом шаге теряется больше всего пользователей (38%) в нашей воронке."
   ]
  },
  {
   "cell_type": "code",
   "execution_count": 145,
   "metadata": {},
   "outputs": [
    {
     "name": "stdout",
     "output_type": "stream",
     "text": [
      "47.70%\n"
     ]
    }
   ],
   "source": [
    "# Посчитаем долю пользователей, которые доходят от первого события до оплаты:\n",
    "print('{:.2%}'.format(events_by_uniq_users['users_count'][3] / events_by_uniq_users['users_count'][0]))"
   ]
  },
  {
   "cell_type": "markdown",
   "metadata": {},
   "source": [
    "### Вывод:"
   ]
  },
  {
   "cell_type": "markdown",
   "metadata": {},
   "source": [
    "По данному разделу можно сделать следующие выводы:\n",
    "- самое популярное событие - mainscreenappear;\n",
    "- воронка событий выглядит следующим образом:\n",
    "    mainscreenappear -> offersscreenappear -> cartscreenappear -> paymentscreensuccessful;\n",
    "- Больше всего пользователей (38%) теряется при переходе от mainscreenappear к offersscreenappear.\n",
    "- Практически каждый второй пользователь (47.70%) из тех кто зашел на главную страницу, совершает и оплачивает заказ."
   ]
  },
  {
   "cell_type": "markdown",
   "metadata": {},
   "source": [
    "## Изучим результаты эксперимента:"
   ]
  },
  {
   "cell_type": "code",
   "execution_count": 146,
   "metadata": {},
   "outputs": [],
   "source": [
    "# Сделаем отдельные таблицы из исходных данных для каждой группы:\n",
    "group_246 = df[df['group'] == 246]\n",
    "group_247 = df[df['group'] == 247]\n",
    "group_248 = df[df['group'] == 248]"
   ]
  },
  {
   "cell_type": "code",
   "execution_count": 147,
   "metadata": {},
   "outputs": [
    {
     "name": "stdout",
     "output_type": "stream",
     "text": [
      "Количество уникальных пользователей в группе 246: 2484\n",
      "Количество уникальных пользователей в группе 247: 2513\n",
      "Количество уникальных пользователей в группе 248: 2537\n"
     ]
    }
   ],
   "source": [
    "# Найдём число пользователей в каждой экспериментальной группе:\n",
    "# Посчитаем количетсво уникальных пользователей в исходных данных и сохраним в переменную:\n",
    "group_246_uniq_users = group_246['user_id'].nunique()\n",
    "group_247_uniq_users = group_247['user_id'].nunique()\n",
    "group_248_uniq_users = group_248['user_id'].nunique()\n",
    "print('Количество уникальных пользователей в группе 246:', group_246_uniq_users)\n",
    "print('Количество уникальных пользователей в группе 247:', group_247_uniq_users)\n",
    "print('Количество уникальных пользователей в группе 248:', group_248_uniq_users)"
   ]
  },
  {
   "cell_type": "markdown",
   "metadata": {},
   "source": [
    "Количетсво пользователей в разных группах различается примерно на 1% - что удовлетворяет критериям успешного А/А теста."
   ]
  },
  {
   "cell_type": "code",
   "execution_count": 148,
   "metadata": {},
   "outputs": [
    {
     "data": {
      "text/html": [
       "<div>\n",
       "<style scoped>\n",
       "    .dataframe tbody tr th:only-of-type {\n",
       "        vertical-align: middle;\n",
       "    }\n",
       "\n",
       "    .dataframe tbody tr th {\n",
       "        vertical-align: top;\n",
       "    }\n",
       "\n",
       "    .dataframe thead th {\n",
       "        text-align: right;\n",
       "    }\n",
       "</style>\n",
       "<table border=\"1\" class=\"dataframe\">\n",
       "  <thead>\n",
       "    <tr style=\"text-align: right;\">\n",
       "      <th></th>\n",
       "      <th>event_name</th>\n",
       "      <th>users_count</th>\n",
       "      <th>ratio</th>\n",
       "    </tr>\n",
       "  </thead>\n",
       "  <tbody>\n",
       "    <tr>\n",
       "      <td>0</td>\n",
       "      <td>mainscreenappear</td>\n",
       "      <td>2450</td>\n",
       "      <td>0.986312</td>\n",
       "    </tr>\n",
       "    <tr>\n",
       "      <td>1</td>\n",
       "      <td>offersscreenappear</td>\n",
       "      <td>1542</td>\n",
       "      <td>0.620773</td>\n",
       "    </tr>\n",
       "    <tr>\n",
       "      <td>2</td>\n",
       "      <td>cartscreenappear</td>\n",
       "      <td>1266</td>\n",
       "      <td>0.509662</td>\n",
       "    </tr>\n",
       "    <tr>\n",
       "      <td>3</td>\n",
       "      <td>paymentscreensuccessful</td>\n",
       "      <td>1200</td>\n",
       "      <td>0.483092</td>\n",
       "    </tr>\n",
       "  </tbody>\n",
       "</table>\n",
       "</div>"
      ],
      "text/plain": [
       "                event_name  users_count     ratio\n",
       "0         mainscreenappear         2450  0.986312\n",
       "1       offersscreenappear         1542  0.620773\n",
       "2         cartscreenappear         1266  0.509662\n",
       "3  paymentscreensuccessful         1200  0.483092"
      ]
     },
     "execution_count": 148,
     "metadata": {},
     "output_type": "execute_result"
    }
   ],
   "source": [
    "# группируем по названию событий, считаем кол-во пол-ей и отсортируем по убыванию\n",
    "group_246_by_events = group_246.groupby('event_name')['user_id']\\\n",
    "        .nunique().sort_values(ascending=False).reset_index()\n",
    "\n",
    "# удалим из таблицы событие tutorial и переименуем столбец user_id:\n",
    "group_246_by_events = group_246_by_events.drop([4]).rename(columns={'user_id':'users_count'})\n",
    "\n",
    "# считаем отношение количества событий к количеству уникальных клиентов:\n",
    "group_246_by_events['ratio'] = group_246_by_events['users_count'] / group_246_uniq_users\n",
    "\n",
    "# вывод таблицы:\n",
    "group_246_by_events"
   ]
  },
  {
   "cell_type": "code",
   "execution_count": 149,
   "metadata": {},
   "outputs": [
    {
     "data": {
      "text/html": [
       "<div>\n",
       "<style scoped>\n",
       "    .dataframe tbody tr th:only-of-type {\n",
       "        vertical-align: middle;\n",
       "    }\n",
       "\n",
       "    .dataframe tbody tr th {\n",
       "        vertical-align: top;\n",
       "    }\n",
       "\n",
       "    .dataframe thead th {\n",
       "        text-align: right;\n",
       "    }\n",
       "</style>\n",
       "<table border=\"1\" class=\"dataframe\">\n",
       "  <thead>\n",
       "    <tr style=\"text-align: right;\">\n",
       "      <th></th>\n",
       "      <th>event_name</th>\n",
       "      <th>users_count</th>\n",
       "      <th>ratio</th>\n",
       "    </tr>\n",
       "  </thead>\n",
       "  <tbody>\n",
       "    <tr>\n",
       "      <td>0</td>\n",
       "      <td>mainscreenappear</td>\n",
       "      <td>2476</td>\n",
       "      <td>0.985277</td>\n",
       "    </tr>\n",
       "    <tr>\n",
       "      <td>1</td>\n",
       "      <td>offersscreenappear</td>\n",
       "      <td>1520</td>\n",
       "      <td>0.604855</td>\n",
       "    </tr>\n",
       "    <tr>\n",
       "      <td>2</td>\n",
       "      <td>cartscreenappear</td>\n",
       "      <td>1238</td>\n",
       "      <td>0.492638</td>\n",
       "    </tr>\n",
       "    <tr>\n",
       "      <td>3</td>\n",
       "      <td>paymentscreensuccessful</td>\n",
       "      <td>1158</td>\n",
       "      <td>0.460804</td>\n",
       "    </tr>\n",
       "  </tbody>\n",
       "</table>\n",
       "</div>"
      ],
      "text/plain": [
       "                event_name  users_count     ratio\n",
       "0         mainscreenappear         2476  0.985277\n",
       "1       offersscreenappear         1520  0.604855\n",
       "2         cartscreenappear         1238  0.492638\n",
       "3  paymentscreensuccessful         1158  0.460804"
      ]
     },
     "execution_count": 149,
     "metadata": {},
     "output_type": "execute_result"
    }
   ],
   "source": [
    "# группируем по названию событий, считаем кол-во пол-ей и отсортируем по убыванию\n",
    "group_247_by_events = group_247.groupby('event_name')['user_id']\\\n",
    "        .nunique().sort_values(ascending=False).reset_index()\n",
    "\n",
    "# удалим из таблицы событие tutorial и переименуем столбец user_id:\n",
    "group_247_by_events = group_247_by_events.drop([4]).rename(columns={'user_id':'users_count'})\n",
    "\n",
    "# считаем отношение количества событий к количеству уникальных клиентов:\n",
    "group_247_by_events['ratio'] = group_247_by_events['users_count'] / group_247_uniq_users\n",
    "\n",
    "# вывод таблицы:\n",
    "group_247_by_events"
   ]
  },
  {
   "cell_type": "code",
   "execution_count": 150,
   "metadata": {},
   "outputs": [
    {
     "data": {
      "text/html": [
       "<div>\n",
       "<style scoped>\n",
       "    .dataframe tbody tr th:only-of-type {\n",
       "        vertical-align: middle;\n",
       "    }\n",
       "\n",
       "    .dataframe tbody tr th {\n",
       "        vertical-align: top;\n",
       "    }\n",
       "\n",
       "    .dataframe thead th {\n",
       "        text-align: right;\n",
       "    }\n",
       "</style>\n",
       "<table border=\"1\" class=\"dataframe\">\n",
       "  <thead>\n",
       "    <tr style=\"text-align: right;\">\n",
       "      <th></th>\n",
       "      <th>event_name</th>\n",
       "      <th>users_count</th>\n",
       "      <th>ratio</th>\n",
       "    </tr>\n",
       "  </thead>\n",
       "  <tbody>\n",
       "    <tr>\n",
       "      <td>0</td>\n",
       "      <td>mainscreenappear</td>\n",
       "      <td>2493</td>\n",
       "      <td>0.982657</td>\n",
       "    </tr>\n",
       "    <tr>\n",
       "      <td>1</td>\n",
       "      <td>offersscreenappear</td>\n",
       "      <td>1531</td>\n",
       "      <td>0.603469</td>\n",
       "    </tr>\n",
       "    <tr>\n",
       "      <td>2</td>\n",
       "      <td>cartscreenappear</td>\n",
       "      <td>1230</td>\n",
       "      <td>0.484825</td>\n",
       "    </tr>\n",
       "    <tr>\n",
       "      <td>3</td>\n",
       "      <td>paymentscreensuccessful</td>\n",
       "      <td>1181</td>\n",
       "      <td>0.465510</td>\n",
       "    </tr>\n",
       "  </tbody>\n",
       "</table>\n",
       "</div>"
      ],
      "text/plain": [
       "                event_name  users_count     ratio\n",
       "0         mainscreenappear         2493  0.982657\n",
       "1       offersscreenappear         1531  0.603469\n",
       "2         cartscreenappear         1230  0.484825\n",
       "3  paymentscreensuccessful         1181  0.465510"
      ]
     },
     "execution_count": 150,
     "metadata": {},
     "output_type": "execute_result"
    }
   ],
   "source": [
    "# группируем по названию событий, считаем кол-во пол-ей и отсортируем по убыванию\n",
    "group_248_by_events = group_248.groupby('event_name')['user_id']\\\n",
    "        .nunique().sort_values(ascending=False).reset_index()\n",
    "\n",
    "# удалим из таблицы событие tutorial и переименуем столбец user_id:\n",
    "group_248_by_events = group_248_by_events.drop([4]).rename(columns={'user_id':'users_count'})\n",
    "\n",
    "# считаем отношение количества событий к количеству уникальных клиентов:\n",
    "group_248_by_events['ratio'] = group_248_by_events['users_count'] / group_248_uniq_users\n",
    "\n",
    "# вывод таблицы:\n",
    "group_248_by_events"
   ]
  },
  {
   "cell_type": "code",
   "execution_count": 151,
   "metadata": {},
   "outputs": [],
   "source": [
    "# Обернём проверку гипотезы о равенстве долей в функцию:\n",
    "def z_value(successes_1, successes_2, trials_1, trials_2):\n",
    "    alpha = .05 # критический уровень статистической значимости\n",
    "\n",
    "    successes = np.array([successes_1, successes_2])\n",
    "    trials = np.array([trials_1, trials_2])\n",
    "\n",
    "    # пропорция успехов в первой группе:\n",
    "    p1 = successes[0]/trials[0]\n",
    "\n",
    "    # пропорция успехов во второй группе:\n",
    "    p2 = successes[1]/trials[1]\n",
    "\n",
    "    # пропорция успехов в комбинированном датасете:\n",
    "    p_combined = (successes[0] + successes[1]) / (trials[0] + trials[1])\n",
    "\n",
    "    # разница пропорций в датасетах\n",
    "    difference = p1 - p2\n",
    "    \n",
    "    # считаем статистику в ст.отклонениях стандартного нормального распределения\n",
    "    z_value = difference / mth.sqrt(p_combined * (1 - p_combined) * (1/trials[0] + 1/trials[1]))\n",
    "\n",
    "    # задаем стандартное нормальное распределение (среднее 0, ст.отклонение 1)\n",
    "    distr = st.norm(0, 1)\n",
    "    \n",
    "    p_value = (1 - distr.cdf(abs(z_value))) * 2\n",
    "\n",
    "    print('p-значение: ', p_value)\n",
    "\n",
    "    if p_value < alpha:\n",
    "        print('Отвергаем нулевую гипотезу: между долями есть значимая разница')\n",
    "    else:\n",
    "        print(\n",
    "            'Не получилось отвергнуть нулевую гипотезу, нет оснований считать доли разными'\n",
    "        )"
   ]
  },
  {
   "cell_type": "markdown",
   "metadata": {},
   "source": [
    "### Проверим, находят ли статистические критерии разницу между выборками 246 и 247:"
   ]
  },
  {
   "cell_type": "markdown",
   "metadata": {},
   "source": [
    "- Сформулируем нулевую гипотезу:\n",
    "Будем считать доли двух выборок равными, не имеющих различий.\n",
    "- Сформулируем альтернативную гипотезу:\n",
    "Доли двух выборок отличаются и имеют различия."
   ]
  },
  {
   "cell_type": "code",
   "execution_count": 152,
   "metadata": {},
   "outputs": [
    {
     "name": "stdout",
     "output_type": "stream",
     "text": [
      "p-значение:  0.12044299485641763\n",
      "Не получилось отвергнуть нулевую гипотезу, нет оснований считать доли разными\n"
     ]
    }
   ],
   "source": [
    "# Применим нашу функцию:\n",
    "# В качестве успешных значений возьмём те, где количество пользователей на шаге mainscreenappear.\n",
    "# В качестве попыток возьмём значения равные количетсву уникальных пользователей из этих групп 246 и 247.\n",
    "z_value(\n",
    "    group_246_by_events['users_count'][3],\n",
    "    group_247_by_events['users_count'][3],\n",
    "    group_246_by_events['users_count'][0],\n",
    "    group_247_by_events['users_count'][0]\n",
    "       )"
   ]
  },
  {
   "cell_type": "markdown",
   "metadata": {},
   "source": [
    "### Сравним результаты двух групп (246 и 247) для самого популярного события:"
   ]
  },
  {
   "cell_type": "markdown",
   "metadata": {},
   "source": [
    "Самым популярным событием для всех групп будет являться - mainscreenappear."
   ]
  },
  {
   "cell_type": "markdown",
   "metadata": {},
   "source": [
    "- Сформулируем нулевую гипотезу:\n",
    "Будем считать доли двух выборок равными, не имеющих различий.\n",
    "- Сформулируем альтернативную гипотезу:\n",
    "Доли двух выборок отличаются и имеют различия."
   ]
  },
  {
   "cell_type": "code",
   "execution_count": 153,
   "metadata": {},
   "outputs": [
    {
     "name": "stdout",
     "output_type": "stream",
     "text": [
      "p-значение:  0.7570597232046099\n",
      "Не получилось отвергнуть нулевую гипотезу, нет оснований считать доли разными\n"
     ]
    }
   ],
   "source": [
    "# Применим нашу функцию:\n",
    "# В качестве успешных значений возьмём те, где количество пользователей на шаге mainscreenappear.\n",
    "# В качестве попыток возьмём значения равные количетсву уникальных пользователей из этих групп 246 и 247.\n",
    "z_value(\n",
    "    group_246_by_events['users_count'][0],\n",
    "    group_247_by_events['users_count'][0],\n",
    "    group_246_uniq_users,\n",
    "    group_247_uniq_users\n",
    "       )"
   ]
  },
  {
   "cell_type": "markdown",
   "metadata": {},
   "source": [
    "### Сравним результаты двух групп (246 и 247) для всех событий:"
   ]
  },
  {
   "cell_type": "code",
   "execution_count": 154,
   "metadata": {},
   "outputs": [
    {
     "name": "stdout",
     "output_type": "stream",
     "text": [
      "p-значение:  0.7570597232046099\n",
      "Не получилось отвергнуть нулевую гипотезу, нет оснований считать доли разными\n",
      "p-значение:  0.2480954578522181\n",
      "Не получилось отвергнуть нулевую гипотезу, нет оснований считать доли разными\n",
      "p-значение:  0.22883372237997213\n",
      "Не получилось отвергнуть нулевую гипотезу, нет оснований считать доли разными\n",
      "p-значение:  0.11456679313141849\n",
      "Не получилось отвергнуть нулевую гипотезу, нет оснований считать доли разными\n"
     ]
    }
   ],
   "source": [
    "# Чтобы сравнить результаты всех групп по всем событиям, запустим нашу функцию в цикле,\n",
    "# в которой на вход будут подаваться номера индексов соответвующие каждому событию:\n",
    "for i in list(group_246_by_events.index):\n",
    "    z_value(\n",
    "        group_246_by_events['users_count'][i],\n",
    "        group_247_by_events['users_count'][i],\n",
    "        group_246_uniq_users,\n",
    "        group_247_uniq_users\n",
    "           )"
   ]
  },
  {
   "cell_type": "markdown",
   "metadata": {},
   "source": [
    "### Сравним результаты двух групп (246 и 248) для всех событий:"
   ]
  },
  {
   "cell_type": "code",
   "execution_count": 155,
   "metadata": {},
   "outputs": [
    {
     "name": "stdout",
     "output_type": "stream",
     "text": [
      "p-значение:  0.2949721933554552\n",
      "Не получилось отвергнуть нулевую гипотезу, нет оснований считать доли разными\n",
      "p-значение:  0.20836205402738917\n",
      "Не получилось отвергнуть нулевую гипотезу, нет оснований считать доли разными\n",
      "p-значение:  0.07842923237520116\n",
      "Не получилось отвергнуть нулевую гипотезу, нет оснований считать доли разными\n",
      "p-значение:  0.2122553275697796\n",
      "Не получилось отвергнуть нулевую гипотезу, нет оснований считать доли разными\n"
     ]
    }
   ],
   "source": [
    "# Чтобы сравнить результаты всех групп по всем событиям, запустим нашу функцию в цикле,\n",
    "# в которой на вход будут подаваться номера индексов соответвующие каждому событию:\n",
    "for i in list(group_246_by_events.index):\n",
    "    z_value(\n",
    "        group_246_by_events['users_count'][i],\n",
    "        group_248_by_events['users_count'][i],\n",
    "        group_246_uniq_users,\n",
    "        group_248_uniq_users\n",
    "           )"
   ]
  },
  {
   "cell_type": "markdown",
   "metadata": {},
   "source": [
    "### Сравним результаты двух групп (247 и 248) для всех событий:"
   ]
  },
  {
   "cell_type": "code",
   "execution_count": 156,
   "metadata": {},
   "outputs": [
    {
     "name": "stdout",
     "output_type": "stream",
     "text": [
      "p-значение:  0.4587053616621515\n",
      "Не получилось отвергнуть нулевую гипотезу, нет оснований считать доли разными\n",
      "p-значение:  0.9197817830592261\n",
      "Не получилось отвергнуть нулевую гипотезу, нет оснований считать доли разными\n",
      "p-значение:  0.5786197879539783\n",
      "Не получилось отвергнуть нулевую гипотезу, нет оснований считать доли разными\n",
      "p-значение:  0.7373415053803964\n",
      "Не получилось отвергнуть нулевую гипотезу, нет оснований считать доли разными\n"
     ]
    }
   ],
   "source": [
    "# Чтобы сравнить результаты всех групп по всем событиям, запустим нашу функцию в цикле,\n",
    "# в которой на вход будут подаваться номера индексов соответвующие каждому событию:\n",
    "for i in list(group_247_by_events.index):\n",
    "    z_value(\n",
    "        group_247_by_events['users_count'][i],\n",
    "        group_248_by_events['users_count'][i],\n",
    "        group_247_uniq_users,\n",
    "        group_248_uniq_users\n",
    "           )"
   ]
  },
  {
   "cell_type": "markdown",
   "metadata": {},
   "source": [
    "### Сравним результаты двух групп: 248 и объединённой из 246 и 247 для всех событий:"
   ]
  },
  {
   "cell_type": "code",
   "execution_count": 157,
   "metadata": {},
   "outputs": [
    {
     "data": {
      "text/html": [
       "<div>\n",
       "<style scoped>\n",
       "    .dataframe tbody tr th:only-of-type {\n",
       "        vertical-align: middle;\n",
       "    }\n",
       "\n",
       "    .dataframe tbody tr th {\n",
       "        vertical-align: top;\n",
       "    }\n",
       "\n",
       "    .dataframe thead th {\n",
       "        text-align: right;\n",
       "    }\n",
       "</style>\n",
       "<table border=\"1\" class=\"dataframe\">\n",
       "  <thead>\n",
       "    <tr style=\"text-align: right;\">\n",
       "      <th></th>\n",
       "      <th>event_name</th>\n",
       "      <th>users_count</th>\n",
       "      <th>ratio</th>\n",
       "    </tr>\n",
       "  </thead>\n",
       "  <tbody>\n",
       "    <tr>\n",
       "      <td>0</td>\n",
       "      <td>mainscreenappear</td>\n",
       "      <td>4926</td>\n",
       "      <td>0.985791</td>\n",
       "    </tr>\n",
       "    <tr>\n",
       "      <td>1</td>\n",
       "      <td>offersscreenappear</td>\n",
       "      <td>3062</td>\n",
       "      <td>0.612768</td>\n",
       "    </tr>\n",
       "    <tr>\n",
       "      <td>2</td>\n",
       "      <td>cartscreenappear</td>\n",
       "      <td>2504</td>\n",
       "      <td>0.501101</td>\n",
       "    </tr>\n",
       "    <tr>\n",
       "      <td>3</td>\n",
       "      <td>paymentscreensuccessful</td>\n",
       "      <td>2358</td>\n",
       "      <td>0.471883</td>\n",
       "    </tr>\n",
       "  </tbody>\n",
       "</table>\n",
       "</div>"
      ],
      "text/plain": [
       "                event_name  users_count     ratio\n",
       "0         mainscreenappear         4926  0.985791\n",
       "1       offersscreenappear         3062  0.612768\n",
       "2         cartscreenappear         2504  0.501101\n",
       "3  paymentscreensuccessful         2358  0.471883"
      ]
     },
     "execution_count": 157,
     "metadata": {},
     "output_type": "execute_result"
    }
   ],
   "source": [
    "# Создадим объединённую группу, которая будет состоять из групп 246 и 247:\n",
    "group_246_and_247 = df[(df['group'] == 246) | (df['group'] == 247)]\n",
    "\n",
    "# группируем по названию событий, считаем кол-во пол-ей и отсортируем по убыванию\n",
    "group_246_and_247_by_events = group_246_and_247.groupby('event_name')['user_id']\\\n",
    "        .nunique().sort_values(ascending=False).reset_index()\n",
    "\n",
    "# удалим из таблицы событие tutorial и переименуем столбец user_id:\n",
    "group_246_and_247_by_events = group_246_and_247_by_events.drop([4]).rename(columns={'user_id':'users_count'})\n",
    "\n",
    "# считаем отношение количества событий к количеству уникальных клиентов:\n",
    "group_246_and_247_by_events['ratio'] = group_246_and_247_by_events['users_count'] / group_246_and_247['user_id'].nunique()\n",
    "\n",
    "# вывод таблицы:\n",
    "group_246_and_247_by_events"
   ]
  },
  {
   "cell_type": "code",
   "execution_count": 158,
   "metadata": {},
   "outputs": [
    {
     "name": "stdout",
     "output_type": "stream",
     "text": [
      "p-значение:  0.29424526837179577\n",
      "Не получилось отвергнуть нулевую гипотезу, нет оснований считать доли разными\n",
      "p-значение:  0.43425549655188256\n",
      "Не получилось отвергнуть нулевую гипотезу, нет оснований считать доли разными\n",
      "p-значение:  0.18175875284404386\n",
      "Не получилось отвергнуть нулевую гипотезу, нет оснований считать доли разными\n",
      "p-значение:  0.6004294282308704\n",
      "Не получилось отвергнуть нулевую гипотезу, нет оснований считать доли разными\n"
     ]
    }
   ],
   "source": [
    "# Чтобы сравнить результаты всех групп по всем событиям, запустим нашу функцию в цикле,\n",
    "# в которой на вход будут подаваться номера индексов соответвующие каждому событию:\n",
    "for i in list(group_248_by_events.index):\n",
    "    z_value(\n",
    "        group_246_and_247_by_events['users_count'][i],\n",
    "        group_248_by_events['users_count'][i],\n",
    "        group_246_and_247['user_id'].nunique(),\n",
    "        group_248_uniq_users\n",
    "           )"
   ]
  },
  {
   "cell_type": "markdown",
   "metadata": {},
   "source": [
    "### Вывод:"
   ]
  },
  {
   "cell_type": "markdown",
   "metadata": {},
   "source": [
    "В данном разделе мы провели 17 проверок статистических гипотез, в каждой из них мы выбрали уровень значимости равный 5%. Ни одна из проверок не дала отвергнуть гипотезу о том, что доли в группах равны. Если выбирать уровень значимости более 5%, то будем увеличивать вероятность получения ложного результата. При статистических исследованиях следует выбирать уровень значимости в пределах от 1 до 5%."
   ]
  },
  {
   "cell_type": "markdown",
   "metadata": {},
   "source": [
    "## Общий вывод по проекту:"
   ]
  },
  {
   "cell_type": "markdown",
   "metadata": {},
   "source": [
    "На этапе обработки данных удалили 413 дубликатов, так же в данных присутствовали старые данные за июль, которые так же были отсеяны для оценки резульатов A/A/B теста. Всего за июль было удалено 1.16% событий и 0.23% клиентов относительно исходных данных. Значения столбца EventTimestamp были переведены в формат даты и времени.\n",
    "В данном проекте мы исследовали воронку продаж, установили какие шаги в нее входят. \n",
    "Получилась следующая воронка: главный экран -> экран с предложением -> корзина -> успешная оплата.\n",
    "Этап с инструкциями не входит в воронку, так как очень малое количество пользователей ими пользуется.\n",
    "Около 47% всех пользователей совершают покупку. Больше всего пользователей (38%) теряется при переходе от главного экрана к экрану с предложением, возможно не у всех пользователей/не на всех устройствах показывается страница с предложением. Так же исследовав результаты A/A/B-эксперимента можно сделать вывод о том, что изменение шрифта никак не повлияло на конверсию на различных шагах воронки продаж. Нет никакого смысла обновлять шрифт."
   ]
  }
 ],
 "metadata": {
  "ExecuteTimeLog": [
   {
    "duration": 1447,
    "start_time": "2021-07-21T05:09:22.035Z"
   },
   {
    "duration": 261,
    "start_time": "2021-07-21T05:09:24.845Z"
   },
   {
    "duration": 159,
    "start_time": "2021-07-21T05:09:29.355Z"
   },
   {
    "duration": 138,
    "start_time": "2021-07-21T05:15:34.966Z"
   },
   {
    "duration": 75,
    "start_time": "2021-07-21T05:15:38.224Z"
   },
   {
    "duration": 10,
    "start_time": "2021-07-21T05:22:46.505Z"
   },
   {
    "duration": 11,
    "start_time": "2021-07-21T05:22:49.779Z"
   },
   {
    "duration": 22,
    "start_time": "2021-07-21T05:27:50.511Z"
   },
   {
    "duration": 13,
    "start_time": "2021-07-21T05:28:05.333Z"
   },
   {
    "duration": 12,
    "start_time": "2021-07-21T05:28:22.099Z"
   },
   {
    "duration": 74,
    "start_time": "2021-07-21T05:28:52.285Z"
   },
   {
    "duration": 13,
    "start_time": "2021-07-21T05:28:55.178Z"
   },
   {
    "duration": 312,
    "start_time": "2021-07-21T05:31:11.041Z"
   },
   {
    "duration": 81,
    "start_time": "2021-07-21T05:33:21.263Z"
   },
   {
    "duration": 15,
    "start_time": "2021-07-21T05:33:25.473Z"
   },
   {
    "duration": 4419,
    "start_time": "2021-07-21T05:34:43.485Z"
   },
   {
    "duration": 3,
    "start_time": "2021-07-21T05:34:54.130Z"
   },
   {
    "duration": 126,
    "start_time": "2021-07-21T05:34:54.136Z"
   },
   {
    "duration": 74,
    "start_time": "2021-07-21T05:34:54.264Z"
   },
   {
    "duration": 11,
    "start_time": "2021-07-21T05:34:54.340Z"
   },
   {
    "duration": 40,
    "start_time": "2021-07-21T05:34:54.352Z"
   },
   {
    "duration": 78,
    "start_time": "2021-07-21T05:34:54.394Z"
   },
   {
    "duration": 72,
    "start_time": "2021-07-21T05:34:54.485Z"
   },
   {
    "duration": 20,
    "start_time": "2021-07-21T05:35:41.393Z"
   },
   {
    "duration": 34,
    "start_time": "2021-07-21T05:36:21.165Z"
   },
   {
    "duration": 106,
    "start_time": "2021-07-21T05:36:47.093Z"
   },
   {
    "duration": 78,
    "start_time": "2021-07-21T05:38:59.623Z"
   },
   {
    "duration": 96,
    "start_time": "2021-07-21T05:39:20.823Z"
   },
   {
    "duration": 4,
    "start_time": "2021-07-21T06:23:54.488Z"
   },
   {
    "duration": 20,
    "start_time": "2021-07-21T06:25:08.593Z"
   },
   {
    "duration": 6,
    "start_time": "2021-07-21T06:25:21.425Z"
   },
   {
    "duration": 3,
    "start_time": "2021-07-21T06:27:06.468Z"
   },
   {
    "duration": 60,
    "start_time": "2021-07-21T06:28:24.014Z"
   },
   {
    "duration": 61,
    "start_time": "2021-07-21T06:28:29.869Z"
   },
   {
    "duration": 184,
    "start_time": "2021-07-21T06:31:06.561Z"
   },
   {
    "duration": 4,
    "start_time": "2021-07-21T06:32:06.090Z"
   },
   {
    "duration": 57,
    "start_time": "2021-07-21T06:32:19.866Z"
   },
   {
    "duration": 72,
    "start_time": "2021-07-21T06:32:25.181Z"
   },
   {
    "duration": 57,
    "start_time": "2021-07-21T06:32:29.514Z"
   },
   {
    "duration": 3,
    "start_time": "2021-07-21T06:34:07.817Z"
   },
   {
    "duration": 4,
    "start_time": "2021-07-21T06:34:28.920Z"
   },
   {
    "duration": 3,
    "start_time": "2021-07-21T06:34:36.545Z"
   },
   {
    "duration": 4,
    "start_time": "2021-07-21T06:34:56.072Z"
   },
   {
    "duration": 3,
    "start_time": "2021-07-21T06:35:09.175Z"
   },
   {
    "duration": 20,
    "start_time": "2021-07-21T06:36:13.191Z"
   },
   {
    "duration": 18,
    "start_time": "2021-07-21T06:36:35.936Z"
   },
   {
    "duration": 200,
    "start_time": "2021-07-21T06:38:32.979Z"
   },
   {
    "duration": 238,
    "start_time": "2021-07-21T06:38:51.171Z"
   },
   {
    "duration": 200,
    "start_time": "2021-07-21T06:40:11.686Z"
   },
   {
    "duration": 372,
    "start_time": "2021-07-21T06:41:01.661Z"
   },
   {
    "duration": 441,
    "start_time": "2021-07-21T06:41:10.552Z"
   },
   {
    "duration": 61,
    "start_time": "2021-07-21T06:42:53.305Z"
   },
   {
    "duration": 377,
    "start_time": "2021-07-21T06:42:58.959Z"
   },
   {
    "duration": 189,
    "start_time": "2021-07-21T06:43:40.102Z"
   },
   {
    "duration": 219,
    "start_time": "2021-07-21T06:43:51.906Z"
   },
   {
    "duration": 223,
    "start_time": "2021-07-21T06:44:09.841Z"
   },
   {
    "duration": 72,
    "start_time": "2021-07-21T06:45:10.259Z"
   },
   {
    "duration": 283,
    "start_time": "2021-07-21T06:45:17.682Z"
   },
   {
    "duration": 344,
    "start_time": "2021-07-21T06:45:24.645Z"
   },
   {
    "duration": 455,
    "start_time": "2021-07-21T06:46:32.789Z"
   },
   {
    "duration": 788,
    "start_time": "2021-07-21T06:50:06.049Z"
   },
   {
    "duration": 20,
    "start_time": "2021-07-21T06:53:05.181Z"
   },
   {
    "duration": 14,
    "start_time": "2021-07-21T06:53:09.438Z"
   },
   {
    "duration": 4,
    "start_time": "2021-07-21T06:56:04.880Z"
   },
   {
    "duration": 18,
    "start_time": "2021-07-21T06:56:39.320Z"
   },
   {
    "duration": 4,
    "start_time": "2021-07-21T06:56:42.304Z"
   },
   {
    "duration": 33,
    "start_time": "2021-07-21T06:57:01.393Z"
   },
   {
    "duration": 15,
    "start_time": "2021-07-21T06:57:40.550Z"
   },
   {
    "duration": 24,
    "start_time": "2021-07-21T06:57:52.834Z"
   },
   {
    "duration": 3,
    "start_time": "2021-07-21T06:57:55.906Z"
   },
   {
    "duration": 6,
    "start_time": "2021-07-21T06:58:27.299Z"
   },
   {
    "duration": 3,
    "start_time": "2021-07-21T07:01:05.862Z"
   },
   {
    "duration": 3,
    "start_time": "2021-07-21T07:02:59.757Z"
   },
   {
    "duration": 58,
    "start_time": "2021-07-21T07:04:16.242Z"
   },
   {
    "duration": 4,
    "start_time": "2021-07-21T07:04:23.754Z"
   },
   {
    "duration": 3,
    "start_time": "2021-07-21T07:06:36.965Z"
   },
   {
    "duration": 8,
    "start_time": "2021-07-21T07:07:26.774Z"
   },
   {
    "duration": 3,
    "start_time": "2021-07-21T07:11:11.946Z"
   },
   {
    "duration": 121,
    "start_time": "2021-07-21T07:11:11.951Z"
   },
   {
    "duration": 67,
    "start_time": "2021-07-21T07:11:12.074Z"
   },
   {
    "duration": 8,
    "start_time": "2021-07-21T07:11:12.143Z"
   },
   {
    "duration": 32,
    "start_time": "2021-07-21T07:11:12.153Z"
   },
   {
    "duration": 74,
    "start_time": "2021-07-21T07:11:12.187Z"
   },
   {
    "duration": 82,
    "start_time": "2021-07-21T07:11:12.264Z"
   },
   {
    "duration": 94,
    "start_time": "2021-07-21T07:11:12.348Z"
   },
   {
    "duration": 97,
    "start_time": "2021-07-21T07:11:12.443Z"
   },
   {
    "duration": 3,
    "start_time": "2021-07-21T07:11:12.542Z"
   },
   {
    "duration": 6,
    "start_time": "2021-07-21T07:11:12.547Z"
   },
   {
    "duration": 3,
    "start_time": "2021-07-21T07:11:12.555Z"
   },
   {
    "duration": 18,
    "start_time": "2021-07-21T07:11:12.584Z"
   },
   {
    "duration": 30,
    "start_time": "2021-07-21T07:11:12.603Z"
   },
   {
    "duration": 486,
    "start_time": "2021-07-21T07:11:12.634Z"
   },
   {
    "duration": 17,
    "start_time": "2021-07-21T07:11:13.122Z"
   },
   {
    "duration": 3,
    "start_time": "2021-07-21T07:11:13.140Z"
   },
   {
    "duration": 6,
    "start_time": "2021-07-21T07:11:13.145Z"
   },
   {
    "duration": 3,
    "start_time": "2021-07-21T07:11:13.154Z"
   },
   {
    "duration": 27,
    "start_time": "2021-07-21T07:11:13.159Z"
   },
   {
    "duration": 10,
    "start_time": "2021-07-21T07:11:13.187Z"
   },
   {
    "duration": 1917,
    "start_time": "2021-07-21T14:44:25.334Z"
   },
   {
    "duration": 159,
    "start_time": "2021-07-21T14:44:27.256Z"
   },
   {
    "duration": 104,
    "start_time": "2021-07-21T14:44:27.419Z"
   },
   {
    "duration": 11,
    "start_time": "2021-07-21T14:44:27.527Z"
   },
   {
    "duration": 23,
    "start_time": "2021-07-21T14:44:27.556Z"
   },
   {
    "duration": 131,
    "start_time": "2021-07-21T14:44:27.581Z"
   },
   {
    "duration": 113,
    "start_time": "2021-07-21T14:44:27.715Z"
   },
   {
    "duration": 130,
    "start_time": "2021-07-21T14:44:27.831Z"
   },
   {
    "duration": 133,
    "start_time": "2021-07-21T14:44:27.964Z"
   },
   {
    "duration": 5,
    "start_time": "2021-07-21T14:44:28.100Z"
   },
   {
    "duration": 11,
    "start_time": "2021-07-21T14:44:28.107Z"
   },
   {
    "duration": 4,
    "start_time": "2021-07-21T14:44:28.121Z"
   },
   {
    "duration": 49,
    "start_time": "2021-07-21T14:44:28.128Z"
   },
   {
    "duration": 28,
    "start_time": "2021-07-21T14:44:28.179Z"
   },
   {
    "duration": 697,
    "start_time": "2021-07-21T14:44:41.384Z"
   },
   {
    "duration": 689,
    "start_time": "2021-07-21T14:44:51.879Z"
   },
   {
    "duration": 27,
    "start_time": "2021-07-21T14:45:06.227Z"
   },
   {
    "duration": 5,
    "start_time": "2021-07-21T14:45:09.340Z"
   },
   {
    "duration": 8,
    "start_time": "2021-07-21T14:45:12.457Z"
   },
   {
    "duration": 6,
    "start_time": "2021-07-21T14:45:15.922Z"
   },
   {
    "duration": 7,
    "start_time": "2021-07-21T14:45:18.908Z"
   },
   {
    "duration": 10,
    "start_time": "2021-07-21T14:45:22.300Z"
   },
   {
    "duration": 6,
    "start_time": "2021-07-21T14:47:49.221Z"
   },
   {
    "duration": 167,
    "start_time": "2021-07-21T14:47:49.231Z"
   },
   {
    "duration": 116,
    "start_time": "2021-07-21T14:47:49.401Z"
   },
   {
    "duration": 14,
    "start_time": "2021-07-21T14:47:49.521Z"
   },
   {
    "duration": 45,
    "start_time": "2021-07-21T14:47:49.538Z"
   },
   {
    "duration": 148,
    "start_time": "2021-07-21T14:47:49.586Z"
   },
   {
    "duration": 112,
    "start_time": "2021-07-21T14:47:49.737Z"
   },
   {
    "duration": 147,
    "start_time": "2021-07-21T14:47:49.855Z"
   },
   {
    "duration": 140,
    "start_time": "2021-07-21T14:47:50.006Z"
   },
   {
    "duration": 9,
    "start_time": "2021-07-21T14:47:50.148Z"
   },
   {
    "duration": 7,
    "start_time": "2021-07-21T14:47:50.159Z"
   },
   {
    "duration": 5,
    "start_time": "2021-07-21T14:47:50.169Z"
   },
   {
    "duration": 30,
    "start_time": "2021-07-21T14:47:50.177Z"
   },
   {
    "duration": 61,
    "start_time": "2021-07-21T14:47:50.209Z"
   },
   {
    "duration": 713,
    "start_time": "2021-07-21T14:47:50.273Z"
   },
   {
    "duration": 23,
    "start_time": "2021-07-21T14:47:50.989Z"
   },
   {
    "duration": 4,
    "start_time": "2021-07-21T14:47:51.015Z"
   },
   {
    "duration": 35,
    "start_time": "2021-07-21T14:47:51.021Z"
   },
   {
    "duration": 5,
    "start_time": "2021-07-21T14:47:51.058Z"
   },
   {
    "duration": 12,
    "start_time": "2021-07-21T14:47:51.066Z"
   },
   {
    "duration": 19,
    "start_time": "2021-07-21T14:47:51.081Z"
   },
   {
    "duration": 6,
    "start_time": "2021-07-21T15:10:38.167Z"
   },
   {
    "duration": 159,
    "start_time": "2021-07-21T15:10:38.177Z"
   },
   {
    "duration": 89,
    "start_time": "2021-07-21T15:10:38.338Z"
   },
   {
    "duration": 29,
    "start_time": "2021-07-21T15:10:38.430Z"
   },
   {
    "duration": 13,
    "start_time": "2021-07-21T15:10:38.462Z"
   },
   {
    "duration": 112,
    "start_time": "2021-07-21T15:10:38.478Z"
   },
   {
    "duration": 106,
    "start_time": "2021-07-21T15:10:38.593Z"
   },
   {
    "duration": 135,
    "start_time": "2021-07-21T15:10:38.702Z"
   },
   {
    "duration": 132,
    "start_time": "2021-07-21T15:10:38.841Z"
   },
   {
    "duration": 4,
    "start_time": "2021-07-21T15:10:38.976Z"
   },
   {
    "duration": 11,
    "start_time": "2021-07-21T15:10:38.983Z"
   },
   {
    "duration": 9,
    "start_time": "2021-07-21T15:10:38.997Z"
   },
   {
    "duration": 55,
    "start_time": "2021-07-21T15:10:39.009Z"
   },
   {
    "duration": 26,
    "start_time": "2021-07-21T15:10:39.067Z"
   },
   {
    "duration": 820,
    "start_time": "2021-07-21T15:10:39.097Z"
   },
   {
    "duration": 37,
    "start_time": "2021-07-21T15:10:39.920Z"
   },
   {
    "duration": 4,
    "start_time": "2021-07-21T15:10:39.960Z"
   },
   {
    "duration": 11,
    "start_time": "2021-07-21T15:10:39.967Z"
   },
   {
    "duration": 5,
    "start_time": "2021-07-21T15:10:39.980Z"
   },
   {
    "duration": 9,
    "start_time": "2021-07-21T15:10:39.988Z"
   },
   {
    "duration": 26,
    "start_time": "2021-07-21T15:10:39.999Z"
   },
   {
    "duration": 1411,
    "start_time": "2021-07-22T04:52:12.383Z"
   },
   {
    "duration": 118,
    "start_time": "2021-07-22T04:52:13.795Z"
   },
   {
    "duration": 71,
    "start_time": "2021-07-22T04:52:13.915Z"
   },
   {
    "duration": 8,
    "start_time": "2021-07-22T04:52:13.988Z"
   },
   {
    "duration": 18,
    "start_time": "2021-07-22T04:52:13.998Z"
   },
   {
    "duration": 74,
    "start_time": "2021-07-22T04:52:14.041Z"
   },
   {
    "duration": 92,
    "start_time": "2021-07-22T04:52:14.117Z"
   },
   {
    "duration": 98,
    "start_time": "2021-07-22T04:52:14.212Z"
   },
   {
    "duration": 98,
    "start_time": "2021-07-22T04:52:14.312Z"
   },
   {
    "duration": 3,
    "start_time": "2021-07-22T04:52:14.413Z"
   },
   {
    "duration": 24,
    "start_time": "2021-07-22T04:52:14.418Z"
   },
   {
    "duration": 3,
    "start_time": "2021-07-22T04:52:14.444Z"
   },
   {
    "duration": 23,
    "start_time": "2021-07-22T04:52:14.449Z"
   },
   {
    "duration": 19,
    "start_time": "2021-07-22T04:52:14.475Z"
   },
   {
    "duration": 491,
    "start_time": "2021-07-22T04:52:14.496Z"
   },
   {
    "duration": 19,
    "start_time": "2021-07-22T04:52:14.989Z"
   },
   {
    "duration": 4,
    "start_time": "2021-07-22T04:52:15.010Z"
   },
   {
    "duration": 30,
    "start_time": "2021-07-22T04:52:15.015Z"
   },
   {
    "duration": 3,
    "start_time": "2021-07-22T04:52:15.047Z"
   },
   {
    "duration": 7,
    "start_time": "2021-07-22T04:52:15.052Z"
   },
   {
    "duration": 9,
    "start_time": "2021-07-22T04:52:15.060Z"
   },
   {
    "duration": 30,
    "start_time": "2021-07-22T04:52:19.755Z"
   },
   {
    "duration": 22,
    "start_time": "2021-07-22T04:53:49.149Z"
   },
   {
    "duration": 23,
    "start_time": "2021-07-22T04:54:07.585Z"
   },
   {
    "duration": 24,
    "start_time": "2021-07-22T04:54:28.485Z"
   },
   {
    "duration": 24,
    "start_time": "2021-07-22T04:54:41.070Z"
   },
   {
    "duration": 379,
    "start_time": "2021-07-22T04:56:33.392Z"
   },
   {
    "duration": 20,
    "start_time": "2021-07-22T04:56:41.000Z"
   },
   {
    "duration": 15,
    "start_time": "2021-07-22T04:56:43.312Z"
   },
   {
    "duration": 9,
    "start_time": "2021-07-22T04:57:05.312Z"
   },
   {
    "duration": 43,
    "start_time": "2021-07-22T04:58:43.220Z"
   },
   {
    "duration": 21,
    "start_time": "2021-07-22T04:58:49.202Z"
   },
   {
    "duration": 10,
    "start_time": "2021-07-22T04:58:51.019Z"
   },
   {
    "duration": 49,
    "start_time": "2021-07-22T04:58:56.083Z"
   },
   {
    "duration": 51,
    "start_time": "2021-07-22T05:03:40.202Z"
   },
   {
    "duration": 6,
    "start_time": "2021-07-22T05:05:24.802Z"
   },
   {
    "duration": 330,
    "start_time": "2021-07-22T05:06:02.836Z"
   },
   {
    "duration": 45,
    "start_time": "2021-07-22T05:06:13.220Z"
   },
   {
    "duration": 6,
    "start_time": "2021-07-22T05:06:15.251Z"
   },
   {
    "duration": 8,
    "start_time": "2021-07-22T05:06:18.540Z"
   },
   {
    "duration": 49,
    "start_time": "2021-07-22T05:06:47.820Z"
   },
   {
    "duration": 6,
    "start_time": "2021-07-22T05:06:50.532Z"
   },
   {
    "duration": 8,
    "start_time": "2021-07-22T05:06:52.900Z"
   },
   {
    "duration": 11,
    "start_time": "2021-07-22T05:19:54.818Z"
   },
   {
    "duration": 48,
    "start_time": "2021-07-22T05:20:02.885Z"
   },
   {
    "duration": 6,
    "start_time": "2021-07-22T05:20:05.037Z"
   },
   {
    "duration": 9,
    "start_time": "2021-07-22T05:20:07.809Z"
   },
   {
    "duration": 5,
    "start_time": "2021-07-22T05:24:28.209Z"
   },
   {
    "duration": 7,
    "start_time": "2021-07-22T05:24:32.969Z"
   },
   {
    "duration": 5,
    "start_time": "2021-07-22T05:24:49.500Z"
   },
   {
    "duration": 4,
    "start_time": "2021-07-22T05:24:55.875Z"
   },
   {
    "duration": 123,
    "start_time": "2021-07-22T05:24:55.891Z"
   },
   {
    "duration": 65,
    "start_time": "2021-07-22T05:24:56.016Z"
   },
   {
    "duration": 10,
    "start_time": "2021-07-22T05:24:56.083Z"
   },
   {
    "duration": 12,
    "start_time": "2021-07-22T05:24:56.095Z"
   },
   {
    "duration": 67,
    "start_time": "2021-07-22T05:24:56.140Z"
   },
   {
    "duration": 90,
    "start_time": "2021-07-22T05:24:56.209Z"
   },
   {
    "duration": 102,
    "start_time": "2021-07-22T05:24:56.300Z"
   },
   {
    "duration": 105,
    "start_time": "2021-07-22T05:24:56.405Z"
   },
   {
    "duration": 4,
    "start_time": "2021-07-22T05:24:56.513Z"
   },
   {
    "duration": 8,
    "start_time": "2021-07-22T05:24:56.518Z"
   },
   {
    "duration": 7,
    "start_time": "2021-07-22T05:24:56.541Z"
   },
   {
    "duration": 24,
    "start_time": "2021-07-22T05:24:56.550Z"
   },
   {
    "duration": 19,
    "start_time": "2021-07-22T05:24:56.576Z"
   },
   {
    "duration": 540,
    "start_time": "2021-07-22T05:24:56.598Z"
   },
   {
    "duration": 20,
    "start_time": "2021-07-22T05:24:57.141Z"
   },
   {
    "duration": 5,
    "start_time": "2021-07-22T05:24:57.162Z"
   },
   {
    "duration": 9,
    "start_time": "2021-07-22T05:24:57.169Z"
   },
   {
    "duration": 6,
    "start_time": "2021-07-22T05:24:57.181Z"
   },
   {
    "duration": 4,
    "start_time": "2021-07-22T05:24:57.189Z"
   },
   {
    "duration": 9,
    "start_time": "2021-07-22T05:24:57.241Z"
   },
   {
    "duration": 24,
    "start_time": "2021-07-22T05:24:57.252Z"
   },
   {
    "duration": 12,
    "start_time": "2021-07-22T05:24:57.278Z"
   },
   {
    "duration": 99,
    "start_time": "2021-07-22T05:24:57.293Z"
   },
   {
    "duration": 8,
    "start_time": "2021-07-22T05:24:57.394Z"
   },
   {
    "duration": 11,
    "start_time": "2021-07-22T05:24:57.404Z"
   },
   {
    "duration": 6557,
    "start_time": "2021-07-22T05:25:01.218Z"
   },
   {
    "duration": 4,
    "start_time": "2021-07-22T05:26:02.253Z"
   },
   {
    "duration": 7,
    "start_time": "2021-07-22T05:26:04.469Z"
   },
   {
    "duration": 265,
    "start_time": "2021-07-22T05:26:44.764Z"
   },
   {
    "duration": 50,
    "start_time": "2021-07-22T05:27:01.478Z"
   },
   {
    "duration": 6,
    "start_time": "2021-07-22T05:27:04.069Z"
   },
   {
    "duration": 9,
    "start_time": "2021-07-22T05:27:06.270Z"
   },
   {
    "duration": 6417,
    "start_time": "2021-07-22T05:27:09.061Z"
   },
   {
    "duration": 5,
    "start_time": "2021-07-22T05:29:29.689Z"
   },
   {
    "duration": 308,
    "start_time": "2021-07-22T05:30:43.809Z"
   },
   {
    "duration": 22,
    "start_time": "2021-07-22T05:31:31.628Z"
   },
   {
    "duration": 11,
    "start_time": "2021-07-22T05:31:34.768Z"
   },
   {
    "duration": 23,
    "start_time": "2021-07-22T05:33:46.926Z"
   },
   {
    "duration": 9,
    "start_time": "2021-07-22T05:33:49.222Z"
   },
   {
    "duration": 53,
    "start_time": "2021-07-22T05:34:03.167Z"
   },
   {
    "duration": 11,
    "start_time": "2021-07-22T05:34:58.928Z"
   },
   {
    "duration": 6,
    "start_time": "2021-07-22T05:35:21.814Z"
   },
   {
    "duration": 322,
    "start_time": "2021-07-22T05:35:29.448Z"
   },
   {
    "duration": 23,
    "start_time": "2021-07-22T05:35:33.311Z"
   },
   {
    "duration": 6,
    "start_time": "2021-07-22T05:35:35.528Z"
   },
   {
    "duration": 3,
    "start_time": "2021-07-22T05:35:43.000Z"
   },
   {
    "duration": 326,
    "start_time": "2021-07-22T05:35:51.650Z"
   },
   {
    "duration": 22,
    "start_time": "2021-07-22T05:35:55.216Z"
   },
   {
    "duration": 10,
    "start_time": "2021-07-22T05:35:57.712Z"
   },
   {
    "duration": 9,
    "start_time": "2021-07-22T05:36:31.498Z"
   },
   {
    "duration": 10,
    "start_time": "2021-07-22T05:36:43.863Z"
   },
   {
    "duration": 21,
    "start_time": "2021-07-22T05:37:11.294Z"
   },
   {
    "duration": 10,
    "start_time": "2021-07-22T05:37:13.227Z"
   },
   {
    "duration": 51,
    "start_time": "2021-07-22T05:37:41.635Z"
   },
   {
    "duration": 6,
    "start_time": "2021-07-22T05:38:01.619Z"
   },
   {
    "duration": 10,
    "start_time": "2021-07-22T05:38:03.715Z"
   },
   {
    "duration": 5,
    "start_time": "2021-07-22T05:38:08.025Z"
   },
   {
    "duration": 4263,
    "start_time": "2021-07-22T05:39:07.316Z"
   },
   {
    "duration": 4073,
    "start_time": "2021-07-22T05:40:42.906Z"
   },
   {
    "duration": 9,
    "start_time": "2021-07-22T05:40:52.367Z"
   },
   {
    "duration": 4451,
    "start_time": "2021-07-22T05:40:54.639Z"
   },
   {
    "duration": 4193,
    "start_time": "2021-07-22T05:42:28.026Z"
   },
   {
    "duration": 4,
    "start_time": "2021-07-22T06:02:08.197Z"
   },
   {
    "duration": 153,
    "start_time": "2021-07-22T06:02:08.203Z"
   },
   {
    "duration": 57,
    "start_time": "2021-07-22T06:02:08.358Z"
   },
   {
    "duration": 25,
    "start_time": "2021-07-22T06:02:08.416Z"
   },
   {
    "duration": 13,
    "start_time": "2021-07-22T06:02:08.443Z"
   },
   {
    "duration": 84,
    "start_time": "2021-07-22T06:02:08.457Z"
   },
   {
    "duration": 72,
    "start_time": "2021-07-22T06:02:08.543Z"
   },
   {
    "duration": 101,
    "start_time": "2021-07-22T06:02:08.617Z"
   },
   {
    "duration": 106,
    "start_time": "2021-07-22T06:02:08.720Z"
   },
   {
    "duration": 15,
    "start_time": "2021-07-22T06:02:08.828Z"
   },
   {
    "duration": 22,
    "start_time": "2021-07-22T06:02:08.844Z"
   },
   {
    "duration": 14,
    "start_time": "2021-07-22T06:02:08.867Z"
   },
   {
    "duration": 19,
    "start_time": "2021-07-22T06:02:08.883Z"
   },
   {
    "duration": 21,
    "start_time": "2021-07-22T06:02:08.904Z"
   },
   {
    "duration": 507,
    "start_time": "2021-07-22T06:02:08.927Z"
   },
   {
    "duration": 21,
    "start_time": "2021-07-22T06:02:09.436Z"
   },
   {
    "duration": 4,
    "start_time": "2021-07-22T06:02:09.459Z"
   },
   {
    "duration": 15,
    "start_time": "2021-07-22T06:02:09.464Z"
   },
   {
    "duration": 8,
    "start_time": "2021-07-22T06:02:09.481Z"
   },
   {
    "duration": 17,
    "start_time": "2021-07-22T06:02:09.491Z"
   },
   {
    "duration": 13,
    "start_time": "2021-07-22T06:02:09.510Z"
   },
   {
    "duration": 35,
    "start_time": "2021-07-22T06:02:09.524Z"
   },
   {
    "duration": 9,
    "start_time": "2021-07-22T06:02:09.560Z"
   },
   {
    "duration": 75,
    "start_time": "2021-07-22T06:02:09.572Z"
   },
   {
    "duration": 6,
    "start_time": "2021-07-22T06:02:09.649Z"
   },
   {
    "duration": 14,
    "start_time": "2021-07-22T06:02:09.656Z"
   },
   {
    "duration": 9,
    "start_time": "2021-07-22T06:02:24.150Z"
   },
   {
    "duration": 4,
    "start_time": "2021-07-22T06:02:48.121Z"
   },
   {
    "duration": 8,
    "start_time": "2021-07-22T06:02:50.586Z"
   },
   {
    "duration": 5,
    "start_time": "2021-07-22T06:04:51.102Z"
   },
   {
    "duration": 4,
    "start_time": "2021-07-22T06:04:58.014Z"
   },
   {
    "duration": 132,
    "start_time": "2021-07-22T06:04:58.019Z"
   },
   {
    "duration": 61,
    "start_time": "2021-07-22T06:04:58.153Z"
   },
   {
    "duration": 30,
    "start_time": "2021-07-22T06:04:58.216Z"
   },
   {
    "duration": 12,
    "start_time": "2021-07-22T06:04:58.248Z"
   },
   {
    "duration": 100,
    "start_time": "2021-07-22T06:04:58.262Z"
   },
   {
    "duration": 87,
    "start_time": "2021-07-22T06:04:58.365Z"
   },
   {
    "duration": 110,
    "start_time": "2021-07-22T06:04:58.455Z"
   },
   {
    "duration": 105,
    "start_time": "2021-07-22T06:04:58.567Z"
   },
   {
    "duration": 4,
    "start_time": "2021-07-22T06:04:58.675Z"
   },
   {
    "duration": 9,
    "start_time": "2021-07-22T06:04:58.681Z"
   },
   {
    "duration": 3,
    "start_time": "2021-07-22T06:04:58.692Z"
   },
   {
    "duration": 59,
    "start_time": "2021-07-22T06:04:58.697Z"
   },
   {
    "duration": 19,
    "start_time": "2021-07-22T06:04:58.758Z"
   },
   {
    "duration": 536,
    "start_time": "2021-07-22T06:04:58.779Z"
   },
   {
    "duration": 27,
    "start_time": "2021-07-22T06:04:59.317Z"
   },
   {
    "duration": 3,
    "start_time": "2021-07-22T06:04:59.346Z"
   },
   {
    "duration": 8,
    "start_time": "2021-07-22T06:04:59.351Z"
   },
   {
    "duration": 6,
    "start_time": "2021-07-22T06:04:59.362Z"
   },
   {
    "duration": 10,
    "start_time": "2021-07-22T06:04:59.370Z"
   },
   {
    "duration": 8,
    "start_time": "2021-07-22T06:04:59.382Z"
   },
   {
    "duration": 63,
    "start_time": "2021-07-22T06:04:59.392Z"
   },
   {
    "duration": 9,
    "start_time": "2021-07-22T06:04:59.457Z"
   },
   {
    "duration": 75,
    "start_time": "2021-07-22T06:04:59.468Z"
   },
   {
    "duration": 6,
    "start_time": "2021-07-22T06:04:59.545Z"
   },
   {
    "duration": 10,
    "start_time": "2021-07-22T06:04:59.553Z"
   },
   {
    "duration": 4,
    "start_time": "2021-07-22T06:04:59.565Z"
   },
   {
    "duration": 5,
    "start_time": "2021-07-22T06:05:05.468Z"
   },
   {
    "duration": 9,
    "start_time": "2021-07-22T06:05:17.364Z"
   },
   {
    "duration": 3,
    "start_time": "2021-07-22T06:05:33.606Z"
   },
   {
    "duration": 120,
    "start_time": "2021-07-22T06:05:33.611Z"
   },
   {
    "duration": 62,
    "start_time": "2021-07-22T06:05:33.733Z"
   },
   {
    "duration": 9,
    "start_time": "2021-07-22T06:05:33.796Z"
   },
   {
    "duration": 38,
    "start_time": "2021-07-22T06:05:33.807Z"
   },
   {
    "duration": 68,
    "start_time": "2021-07-22T06:05:33.847Z"
   },
   {
    "duration": 88,
    "start_time": "2021-07-22T06:05:33.918Z"
   },
   {
    "duration": 103,
    "start_time": "2021-07-22T06:05:34.008Z"
   },
   {
    "duration": 178,
    "start_time": "2021-07-22T06:05:34.112Z"
   },
   {
    "duration": 3,
    "start_time": "2021-07-22T06:05:34.291Z"
   },
   {
    "duration": 7,
    "start_time": "2021-07-22T06:05:34.296Z"
   },
   {
    "duration": 3,
    "start_time": "2021-07-22T06:05:34.305Z"
   },
   {
    "duration": 44,
    "start_time": "2021-07-22T06:05:34.310Z"
   },
   {
    "duration": 18,
    "start_time": "2021-07-22T06:05:34.356Z"
   },
   {
    "duration": 488,
    "start_time": "2021-07-22T06:05:34.376Z"
   },
   {
    "duration": 17,
    "start_time": "2021-07-22T06:05:34.866Z"
   },
   {
    "duration": 3,
    "start_time": "2021-07-22T06:05:34.884Z"
   },
   {
    "duration": 9,
    "start_time": "2021-07-22T06:05:34.889Z"
   },
   {
    "duration": 3,
    "start_time": "2021-07-22T06:05:34.901Z"
   },
   {
    "duration": 34,
    "start_time": "2021-07-22T06:05:34.906Z"
   },
   {
    "duration": 7,
    "start_time": "2021-07-22T06:05:34.942Z"
   },
   {
    "duration": 21,
    "start_time": "2021-07-22T06:05:34.950Z"
   },
   {
    "duration": 9,
    "start_time": "2021-07-22T06:05:34.973Z"
   },
   {
    "duration": 80,
    "start_time": "2021-07-22T06:05:34.983Z"
   },
   {
    "duration": 5,
    "start_time": "2021-07-22T06:05:35.065Z"
   },
   {
    "duration": 9,
    "start_time": "2021-07-22T06:05:35.072Z"
   },
   {
    "duration": 8,
    "start_time": "2021-07-22T06:05:35.082Z"
   },
   {
    "duration": 8,
    "start_time": "2021-07-22T06:05:35.092Z"
   },
   {
    "duration": 43,
    "start_time": "2021-07-22T06:05:35.101Z"
   },
   {
    "duration": 5,
    "start_time": "2021-07-22T06:06:16.437Z"
   },
   {
    "duration": 4,
    "start_time": "2021-07-22T06:07:44.616Z"
   },
   {
    "duration": 125,
    "start_time": "2021-07-22T06:07:44.621Z"
   },
   {
    "duration": 57,
    "start_time": "2021-07-22T06:07:44.748Z"
   },
   {
    "duration": 8,
    "start_time": "2021-07-22T06:07:44.807Z"
   },
   {
    "duration": 32,
    "start_time": "2021-07-22T06:07:44.817Z"
   },
   {
    "duration": 65,
    "start_time": "2021-07-22T06:07:44.850Z"
   },
   {
    "duration": 86,
    "start_time": "2021-07-22T06:07:44.917Z"
   },
   {
    "duration": 104,
    "start_time": "2021-07-22T06:07:45.005Z"
   },
   {
    "duration": 101,
    "start_time": "2021-07-22T06:07:45.111Z"
   },
   {
    "duration": 3,
    "start_time": "2021-07-22T06:07:45.214Z"
   },
   {
    "duration": 23,
    "start_time": "2021-07-22T06:07:45.218Z"
   },
   {
    "duration": 4,
    "start_time": "2021-07-22T06:07:45.242Z"
   },
   {
    "duration": 22,
    "start_time": "2021-07-22T06:07:45.248Z"
   },
   {
    "duration": 17,
    "start_time": "2021-07-22T06:07:45.272Z"
   },
   {
    "duration": 509,
    "start_time": "2021-07-22T06:07:45.291Z"
   },
   {
    "duration": 18,
    "start_time": "2021-07-22T06:07:45.802Z"
   },
   {
    "duration": 3,
    "start_time": "2021-07-22T06:07:45.822Z"
   },
   {
    "duration": 5,
    "start_time": "2021-07-22T06:07:45.841Z"
   },
   {
    "duration": 3,
    "start_time": "2021-07-22T06:07:45.849Z"
   },
   {
    "duration": 5,
    "start_time": "2021-07-22T06:07:45.854Z"
   },
   {
    "duration": 8,
    "start_time": "2021-07-22T06:07:45.860Z"
   },
   {
    "duration": 21,
    "start_time": "2021-07-22T06:07:45.870Z"
   },
   {
    "duration": 8,
    "start_time": "2021-07-22T06:07:45.892Z"
   },
   {
    "duration": 86,
    "start_time": "2021-07-22T06:07:45.902Z"
   },
   {
    "duration": 5,
    "start_time": "2021-07-22T06:07:45.990Z"
   },
   {
    "duration": 8,
    "start_time": "2021-07-22T06:07:45.996Z"
   },
   {
    "duration": 7,
    "start_time": "2021-07-22T06:08:54.714Z"
   },
   {
    "duration": 5,
    "start_time": "2021-07-22T06:08:58.185Z"
   },
   {
    "duration": 7,
    "start_time": "2021-07-22T06:09:17.559Z"
   },
   {
    "duration": 4,
    "start_time": "2021-07-22T06:12:34.102Z"
   },
   {
    "duration": 7,
    "start_time": "2021-07-22T06:12:36.590Z"
   },
   {
    "duration": 5,
    "start_time": "2021-07-22T06:12:47.749Z"
   },
   {
    "duration": 8,
    "start_time": "2021-07-22T06:12:49.734Z"
   },
   {
    "duration": 5,
    "start_time": "2021-07-22T06:13:49.178Z"
   },
   {
    "duration": 8,
    "start_time": "2021-07-22T06:13:50.903Z"
   },
   {
    "duration": 10,
    "start_time": "2021-07-22T06:20:34.944Z"
   },
   {
    "duration": 5,
    "start_time": "2021-07-22T06:27:11.134Z"
   },
   {
    "duration": 5,
    "start_time": "2021-07-22T06:27:31.897Z"
   },
   {
    "duration": 129,
    "start_time": "2021-07-22T06:28:16.155Z"
   },
   {
    "duration": 4,
    "start_time": "2021-07-22T06:28:29.241Z"
   },
   {
    "duration": 265,
    "start_time": "2021-07-22T06:43:37.445Z"
   },
   {
    "duration": 30,
    "start_time": "2021-07-22T06:45:14.227Z"
   },
   {
    "duration": 4,
    "start_time": "2021-07-22T07:00:03.081Z"
   },
   {
    "duration": 122,
    "start_time": "2021-07-22T07:00:03.086Z"
   },
   {
    "duration": 74,
    "start_time": "2021-07-22T07:00:03.210Z"
   },
   {
    "duration": 9,
    "start_time": "2021-07-22T07:00:03.287Z"
   },
   {
    "duration": 17,
    "start_time": "2021-07-22T07:00:03.298Z"
   },
   {
    "duration": 94,
    "start_time": "2021-07-22T07:00:03.317Z"
   },
   {
    "duration": 91,
    "start_time": "2021-07-22T07:00:03.413Z"
   },
   {
    "duration": 96,
    "start_time": "2021-07-22T07:00:03.505Z"
   },
   {
    "duration": 99,
    "start_time": "2021-07-22T07:00:03.604Z"
   },
   {
    "duration": 3,
    "start_time": "2021-07-22T07:00:03.705Z"
   },
   {
    "duration": 14,
    "start_time": "2021-07-22T07:00:03.710Z"
   },
   {
    "duration": 16,
    "start_time": "2021-07-22T07:00:03.725Z"
   },
   {
    "duration": 22,
    "start_time": "2021-07-22T07:00:03.742Z"
   },
   {
    "duration": 20,
    "start_time": "2021-07-22T07:00:03.767Z"
   },
   {
    "duration": 505,
    "start_time": "2021-07-22T07:00:03.790Z"
   },
   {
    "duration": 22,
    "start_time": "2021-07-22T07:00:04.297Z"
   },
   {
    "duration": 5,
    "start_time": "2021-07-22T07:00:04.320Z"
   },
   {
    "duration": 22,
    "start_time": "2021-07-22T07:00:04.326Z"
   },
   {
    "duration": 7,
    "start_time": "2021-07-22T07:00:04.350Z"
   },
   {
    "duration": 5,
    "start_time": "2021-07-22T07:00:04.359Z"
   },
   {
    "duration": 11,
    "start_time": "2021-07-22T07:00:04.366Z"
   },
   {
    "duration": 67,
    "start_time": "2021-07-22T07:00:04.379Z"
   },
   {
    "duration": 11,
    "start_time": "2021-07-22T07:00:04.448Z"
   },
   {
    "duration": 55,
    "start_time": "2021-07-22T07:00:04.461Z"
   },
   {
    "duration": 28,
    "start_time": "2021-07-22T07:00:04.518Z"
   },
   {
    "duration": 10,
    "start_time": "2021-07-22T07:00:04.548Z"
   },
   {
    "duration": 8,
    "start_time": "2021-07-22T07:00:04.562Z"
   },
   {
    "duration": 15,
    "start_time": "2021-07-22T07:00:04.572Z"
   },
   {
    "duration": 17,
    "start_time": "2021-07-22T07:00:04.589Z"
   },
   {
    "duration": 62,
    "start_time": "2021-07-22T07:00:04.608Z"
   },
   {
    "duration": 1548,
    "start_time": "2021-07-23T04:34:02.853Z"
   },
   {
    "duration": 118,
    "start_time": "2021-07-23T04:34:04.402Z"
   },
   {
    "duration": 70,
    "start_time": "2021-07-23T04:34:04.522Z"
   },
   {
    "duration": 9,
    "start_time": "2021-07-23T04:34:04.594Z"
   },
   {
    "duration": 38,
    "start_time": "2021-07-23T04:34:04.604Z"
   },
   {
    "duration": 71,
    "start_time": "2021-07-23T04:34:04.644Z"
   },
   {
    "duration": 77,
    "start_time": "2021-07-23T04:34:04.716Z"
   },
   {
    "duration": 106,
    "start_time": "2021-07-23T04:34:04.795Z"
   },
   {
    "duration": 92,
    "start_time": "2021-07-23T04:34:04.903Z"
   },
   {
    "duration": 3,
    "start_time": "2021-07-23T04:34:04.997Z"
   },
   {
    "duration": 9,
    "start_time": "2021-07-23T04:34:05.001Z"
   },
   {
    "duration": 5,
    "start_time": "2021-07-23T04:34:05.011Z"
   },
   {
    "duration": 17,
    "start_time": "2021-07-23T04:34:05.041Z"
   },
   {
    "duration": 16,
    "start_time": "2021-07-23T04:34:05.060Z"
   },
   {
    "duration": 501,
    "start_time": "2021-07-23T04:34:05.077Z"
   },
   {
    "duration": 20,
    "start_time": "2021-07-23T04:34:05.580Z"
   },
   {
    "duration": 4,
    "start_time": "2021-07-23T04:34:05.601Z"
   },
   {
    "duration": 11,
    "start_time": "2021-07-23T04:34:05.606Z"
   },
   {
    "duration": 24,
    "start_time": "2021-07-23T04:34:05.618Z"
   },
   {
    "duration": 12,
    "start_time": "2021-07-23T04:34:05.644Z"
   },
   {
    "duration": 8,
    "start_time": "2021-07-23T04:34:05.658Z"
   },
   {
    "duration": 21,
    "start_time": "2021-07-23T04:34:05.667Z"
   },
   {
    "duration": 384,
    "start_time": "2021-07-23T04:34:05.691Z"
   },
   {
    "duration": 1581,
    "start_time": "2021-07-23T04:34:04.495Z"
   },
   {
    "duration": 1576,
    "start_time": "2021-07-23T04:34:04.501Z"
   },
   {
    "duration": 1573,
    "start_time": "2021-07-23T04:34:04.505Z"
   },
   {
    "duration": 1572,
    "start_time": "2021-07-23T04:34:04.507Z"
   },
   {
    "duration": 1570,
    "start_time": "2021-07-23T04:34:04.510Z"
   },
   {
    "duration": 1567,
    "start_time": "2021-07-23T04:34:04.513Z"
   },
   {
    "duration": 1552,
    "start_time": "2021-07-23T04:34:04.529Z"
   },
   {
    "duration": 984,
    "start_time": "2021-07-23T04:34:30.216Z"
   },
   {
    "duration": 15,
    "start_time": "2021-07-23T04:34:41.603Z"
   },
   {
    "duration": 50,
    "start_time": "2021-07-23T04:34:48.514Z"
   },
   {
    "duration": 6,
    "start_time": "2021-07-23T04:34:48.565Z"
   },
   {
    "duration": 10,
    "start_time": "2021-07-23T04:34:48.573Z"
   },
   {
    "duration": 9,
    "start_time": "2021-07-23T04:34:48.585Z"
   },
   {
    "duration": 46,
    "start_time": "2021-07-23T04:34:48.595Z"
   },
   {
    "duration": 3,
    "start_time": "2021-07-23T04:34:48.642Z"
   },
   {
    "duration": 31,
    "start_time": "2021-07-23T04:34:48.647Z"
   },
   {
    "duration": 24,
    "start_time": "2021-07-23T04:34:48.680Z"
   },
   {
    "duration": 13,
    "start_time": "2021-07-23T04:35:08.786Z"
   },
   {
    "duration": 13,
    "start_time": "2021-07-23T04:35:17.885Z"
   },
   {
    "duration": 13,
    "start_time": "2021-07-23T04:35:23.976Z"
   },
   {
    "duration": 22,
    "start_time": "2021-07-23T04:37:46.936Z"
   },
   {
    "duration": 24,
    "start_time": "2021-07-23T04:37:53.242Z"
   },
   {
    "duration": 26,
    "start_time": "2021-07-23T04:38:40.930Z"
   },
   {
    "duration": 25,
    "start_time": "2021-07-23T04:38:52.861Z"
   },
   {
    "duration": 25,
    "start_time": "2021-07-23T04:39:10.257Z"
   },
   {
    "duration": 24,
    "start_time": "2021-07-23T04:39:37.583Z"
   },
   {
    "duration": 6845,
    "start_time": "2021-07-23T04:41:03.308Z"
   },
   {
    "duration": 4,
    "start_time": "2021-07-23T04:41:33.509Z"
   },
   {
    "duration": 4,
    "start_time": "2021-07-23T04:42:15.637Z"
   },
   {
    "duration": 5,
    "start_time": "2021-07-23T04:42:55.610Z"
   },
   {
    "duration": 4,
    "start_time": "2021-07-23T04:43:15.622Z"
   },
   {
    "duration": 4,
    "start_time": "2021-07-23T04:43:53.016Z"
   },
   {
    "duration": 7,
    "start_time": "2021-07-23T04:57:14.647Z"
   },
   {
    "duration": 26,
    "start_time": "2021-07-23T04:59:43.548Z"
   },
   {
    "duration": 24,
    "start_time": "2021-07-23T04:59:43.575Z"
   },
   {
    "duration": 3352,
    "start_time": "2021-07-23T04:59:43.601Z"
   },
   {
    "duration": 1606,
    "start_time": "2021-07-23T04:59:45.348Z"
   },
   {
    "duration": 1604,
    "start_time": "2021-07-23T04:59:45.351Z"
   },
   {
    "duration": 1602,
    "start_time": "2021-07-23T04:59:45.354Z"
   },
   {
    "duration": 1600,
    "start_time": "2021-07-23T04:59:45.357Z"
   },
   {
    "duration": 28,
    "start_time": "2021-07-23T05:00:09.117Z"
   },
   {
    "duration": 7,
    "start_time": "2021-07-23T05:00:09.147Z"
   },
   {
    "duration": 25,
    "start_time": "2021-07-23T05:00:09.156Z"
   },
   {
    "duration": 16,
    "start_time": "2021-07-23T05:00:09.183Z"
   },
   {
    "duration": 22,
    "start_time": "2021-07-23T05:00:09.200Z"
   },
   {
    "duration": 26,
    "start_time": "2021-07-23T05:10:44.057Z"
   },
   {
    "duration": 30,
    "start_time": "2021-07-23T05:11:00.337Z"
   },
   {
    "duration": 28,
    "start_time": "2021-07-23T05:11:05.358Z"
   },
   {
    "duration": 5,
    "start_time": "2021-07-23T05:12:53.925Z"
   },
   {
    "duration": 3,
    "start_time": "2021-07-23T05:13:05.948Z"
   },
   {
    "duration": 120,
    "start_time": "2021-07-23T05:13:05.953Z"
   },
   {
    "duration": 70,
    "start_time": "2021-07-23T05:13:06.075Z"
   },
   {
    "duration": 8,
    "start_time": "2021-07-23T05:13:06.146Z"
   },
   {
    "duration": 9,
    "start_time": "2021-07-23T05:13:06.155Z"
   },
   {
    "duration": 95,
    "start_time": "2021-07-23T05:13:06.166Z"
   },
   {
    "duration": 68,
    "start_time": "2021-07-23T05:13:06.263Z"
   },
   {
    "duration": 89,
    "start_time": "2021-07-23T05:13:06.342Z"
   },
   {
    "duration": 92,
    "start_time": "2021-07-23T05:13:06.433Z"
   },
   {
    "duration": 15,
    "start_time": "2021-07-23T05:13:06.527Z"
   },
   {
    "duration": 8,
    "start_time": "2021-07-23T05:13:06.543Z"
   },
   {
    "duration": 3,
    "start_time": "2021-07-23T05:13:06.552Z"
   },
   {
    "duration": 21,
    "start_time": "2021-07-23T05:13:06.557Z"
   },
   {
    "duration": 16,
    "start_time": "2021-07-23T05:13:06.579Z"
   },
   {
    "duration": 477,
    "start_time": "2021-07-23T05:13:06.597Z"
   },
   {
    "duration": 17,
    "start_time": "2021-07-23T05:13:07.076Z"
   },
   {
    "duration": 3,
    "start_time": "2021-07-23T05:13:07.094Z"
   },
   {
    "duration": 10,
    "start_time": "2021-07-23T05:13:07.099Z"
   },
   {
    "duration": 32,
    "start_time": "2021-07-23T05:13:07.110Z"
   },
   {
    "duration": 4,
    "start_time": "2021-07-23T05:13:07.143Z"
   },
   {
    "duration": 13,
    "start_time": "2021-07-23T05:13:07.148Z"
   },
   {
    "duration": 20,
    "start_time": "2021-07-23T05:13:07.163Z"
   },
   {
    "duration": 9,
    "start_time": "2021-07-23T05:13:07.186Z"
   },
   {
    "duration": 83,
    "start_time": "2021-07-23T05:13:07.196Z"
   },
   {
    "duration": 5,
    "start_time": "2021-07-23T05:13:07.280Z"
   },
   {
    "duration": 12,
    "start_time": "2021-07-23T05:13:07.287Z"
   },
   {
    "duration": 8,
    "start_time": "2021-07-23T05:13:07.300Z"
   },
   {
    "duration": 35,
    "start_time": "2021-07-23T05:13:07.310Z"
   },
   {
    "duration": 6,
    "start_time": "2021-07-23T05:13:07.346Z"
   },
   {
    "duration": 33,
    "start_time": "2021-07-23T05:13:07.353Z"
   },
   {
    "duration": 22,
    "start_time": "2021-07-23T05:13:07.388Z"
   },
   {
    "duration": 46,
    "start_time": "2021-07-23T05:13:07.412Z"
   },
   {
    "duration": 27,
    "start_time": "2021-07-23T05:13:07.460Z"
   },
   {
    "duration": 53,
    "start_time": "2021-07-23T05:13:07.489Z"
   },
   {
    "duration": 4,
    "start_time": "2021-07-23T05:13:07.544Z"
   },
   {
    "duration": 8,
    "start_time": "2021-07-23T05:13:07.550Z"
   },
   {
    "duration": 6,
    "start_time": "2021-07-23T05:13:07.559Z"
   },
   {
    "duration": 8,
    "start_time": "2021-07-23T05:13:07.566Z"
   },
   {
    "duration": 5,
    "start_time": "2021-07-23T05:13:12.748Z"
   },
   {
    "duration": 7,
    "start_time": "2021-07-23T05:13:29.267Z"
   },
   {
    "duration": 7,
    "start_time": "2021-07-23T05:13:34.340Z"
   },
   {
    "duration": 7,
    "start_time": "2021-07-23T05:13:40.083Z"
   },
   {
    "duration": 4020,
    "start_time": "2021-07-23T05:15:52.575Z"
   },
   {
    "duration": 5,
    "start_time": "2021-07-23T05:16:05.943Z"
   },
   {
    "duration": 4,
    "start_time": "2021-07-23T05:22:39.593Z"
   },
   {
    "duration": 3,
    "start_time": "2021-07-23T05:36:29.445Z"
   },
   {
    "duration": 126,
    "start_time": "2021-07-23T05:36:29.452Z"
   },
   {
    "duration": 66,
    "start_time": "2021-07-23T05:36:29.580Z"
   },
   {
    "duration": 9,
    "start_time": "2021-07-23T05:36:29.648Z"
   },
   {
    "duration": 16,
    "start_time": "2021-07-23T05:36:29.658Z"
   },
   {
    "duration": 99,
    "start_time": "2021-07-23T05:36:29.676Z"
   },
   {
    "duration": 75,
    "start_time": "2021-07-23T05:36:29.777Z"
   },
   {
    "duration": 94,
    "start_time": "2021-07-23T05:36:29.854Z"
   },
   {
    "duration": 96,
    "start_time": "2021-07-23T05:36:29.950Z"
   },
   {
    "duration": 4,
    "start_time": "2021-07-23T05:36:30.048Z"
   },
   {
    "duration": 9,
    "start_time": "2021-07-23T05:36:30.054Z"
   },
   {
    "duration": 24,
    "start_time": "2021-07-23T05:36:30.065Z"
   },
   {
    "duration": 34,
    "start_time": "2021-07-23T05:36:30.091Z"
   },
   {
    "duration": 17,
    "start_time": "2021-07-23T05:36:30.127Z"
   },
   {
    "duration": 462,
    "start_time": "2021-07-23T05:36:30.145Z"
   },
   {
    "duration": 16,
    "start_time": "2021-07-23T05:36:30.609Z"
   },
   {
    "duration": 19,
    "start_time": "2021-07-23T05:36:30.627Z"
   },
   {
    "duration": 29,
    "start_time": "2021-07-23T05:36:30.648Z"
   },
   {
    "duration": 23,
    "start_time": "2021-07-23T05:36:30.678Z"
   },
   {
    "duration": 22,
    "start_time": "2021-07-23T05:36:30.703Z"
   },
   {
    "duration": 39,
    "start_time": "2021-07-23T05:36:30.727Z"
   },
   {
    "duration": 22,
    "start_time": "2021-07-23T05:36:30.768Z"
   },
   {
    "duration": 10,
    "start_time": "2021-07-23T05:36:30.792Z"
   },
   {
    "duration": 63,
    "start_time": "2021-07-23T05:36:30.805Z"
   },
   {
    "duration": 5,
    "start_time": "2021-07-23T05:36:30.870Z"
   },
   {
    "duration": 29,
    "start_time": "2021-07-23T05:36:30.877Z"
   },
   {
    "duration": 23,
    "start_time": "2021-07-23T05:36:30.907Z"
   },
   {
    "duration": 15,
    "start_time": "2021-07-23T05:36:30.932Z"
   },
   {
    "duration": 13,
    "start_time": "2021-07-23T05:36:30.949Z"
   },
   {
    "duration": 27,
    "start_time": "2021-07-23T05:36:30.963Z"
   },
   {
    "duration": 41,
    "start_time": "2021-07-23T05:36:30.992Z"
   },
   {
    "duration": 29,
    "start_time": "2021-07-23T05:36:31.035Z"
   },
   {
    "duration": 29,
    "start_time": "2021-07-23T05:36:31.065Z"
   },
   {
    "duration": 49,
    "start_time": "2021-07-23T05:36:31.095Z"
   },
   {
    "duration": 5,
    "start_time": "2021-07-23T05:36:31.145Z"
   },
   {
    "duration": 5,
    "start_time": "2021-07-23T05:36:37.032Z"
   },
   {
    "duration": 4,
    "start_time": "2021-07-23T05:52:52.155Z"
   },
   {
    "duration": 121,
    "start_time": "2021-07-23T05:52:52.161Z"
   },
   {
    "duration": 62,
    "start_time": "2021-07-23T05:52:52.284Z"
   },
   {
    "duration": 9,
    "start_time": "2021-07-23T05:52:52.348Z"
   },
   {
    "duration": 17,
    "start_time": "2021-07-23T05:52:52.360Z"
   },
   {
    "duration": 91,
    "start_time": "2021-07-23T05:52:52.378Z"
   },
   {
    "duration": 70,
    "start_time": "2021-07-23T05:52:52.471Z"
   },
   {
    "duration": 109,
    "start_time": "2021-07-23T05:52:52.542Z"
   },
   {
    "duration": 106,
    "start_time": "2021-07-23T05:52:52.653Z"
   },
   {
    "duration": 3,
    "start_time": "2021-07-23T05:52:52.761Z"
   },
   {
    "duration": 9,
    "start_time": "2021-07-23T05:52:52.765Z"
   },
   {
    "duration": 3,
    "start_time": "2021-07-23T05:52:52.775Z"
   },
   {
    "duration": 19,
    "start_time": "2021-07-23T05:52:52.780Z"
   },
   {
    "duration": 45,
    "start_time": "2021-07-23T05:52:52.801Z"
   },
   {
    "duration": 450,
    "start_time": "2021-07-23T05:52:52.848Z"
   },
   {
    "duration": 22,
    "start_time": "2021-07-23T05:52:53.300Z"
   },
   {
    "duration": 4,
    "start_time": "2021-07-23T05:52:53.323Z"
   },
   {
    "duration": 20,
    "start_time": "2021-07-23T05:52:53.328Z"
   },
   {
    "duration": 4,
    "start_time": "2021-07-23T05:52:53.349Z"
   },
   {
    "duration": 7,
    "start_time": "2021-07-23T05:52:53.355Z"
   },
   {
    "duration": 11,
    "start_time": "2021-07-23T05:52:53.363Z"
   },
   {
    "duration": 30,
    "start_time": "2021-07-23T05:52:53.376Z"
   },
   {
    "duration": 38,
    "start_time": "2021-07-23T05:52:53.407Z"
   },
   {
    "duration": 60,
    "start_time": "2021-07-23T05:52:53.447Z"
   },
   {
    "duration": 6,
    "start_time": "2021-07-23T05:52:53.508Z"
   },
   {
    "duration": 109,
    "start_time": "2021-07-23T05:52:53.515Z"
   },
   {
    "duration": 15,
    "start_time": "2021-07-23T05:52:53.627Z"
   },
   {
    "duration": 10,
    "start_time": "2021-07-23T05:52:53.644Z"
   },
   {
    "duration": 6,
    "start_time": "2021-07-23T05:52:53.656Z"
   },
   {
    "duration": 8,
    "start_time": "2021-07-23T05:52:53.664Z"
   },
   {
    "duration": 67,
    "start_time": "2021-07-23T05:52:53.674Z"
   },
   {
    "duration": 30,
    "start_time": "2021-07-23T05:52:53.742Z"
   },
   {
    "duration": 31,
    "start_time": "2021-07-23T05:52:53.774Z"
   },
   {
    "duration": 58,
    "start_time": "2021-07-23T05:52:53.811Z"
   },
   {
    "duration": 7,
    "start_time": "2021-07-23T05:52:53.871Z"
   },
   {
    "duration": 10,
    "start_time": "2021-07-23T05:52:53.879Z"
   },
   {
    "duration": 13,
    "start_time": "2021-07-23T05:52:53.891Z"
   },
   {
    "duration": 1963,
    "start_time": "2021-07-23T15:28:11.555Z"
   },
   {
    "duration": 159,
    "start_time": "2021-07-23T15:28:13.521Z"
   },
   {
    "duration": 107,
    "start_time": "2021-07-23T15:28:13.683Z"
   },
   {
    "duration": 11,
    "start_time": "2021-07-23T15:28:13.793Z"
   },
   {
    "duration": 21,
    "start_time": "2021-07-23T15:28:13.807Z"
   },
   {
    "duration": 139,
    "start_time": "2021-07-23T15:28:13.830Z"
   },
   {
    "duration": 106,
    "start_time": "2021-07-23T15:28:13.971Z"
   },
   {
    "duration": 142,
    "start_time": "2021-07-23T15:28:14.081Z"
   },
   {
    "duration": 137,
    "start_time": "2021-07-23T15:28:14.226Z"
   },
   {
    "duration": 6,
    "start_time": "2021-07-23T15:28:14.365Z"
   },
   {
    "duration": 8,
    "start_time": "2021-07-23T15:28:14.373Z"
   },
   {
    "duration": 5,
    "start_time": "2021-07-23T15:28:14.384Z"
   },
   {
    "duration": 66,
    "start_time": "2021-07-23T15:28:14.391Z"
   },
   {
    "duration": 22,
    "start_time": "2021-07-23T15:28:14.459Z"
   },
   {
    "duration": 718,
    "start_time": "2021-07-23T15:28:14.484Z"
   },
   {
    "duration": 24,
    "start_time": "2021-07-23T15:28:15.204Z"
   },
   {
    "duration": 4,
    "start_time": "2021-07-23T15:28:15.231Z"
   },
   {
    "duration": 14,
    "start_time": "2021-07-23T15:28:15.256Z"
   },
   {
    "duration": 17,
    "start_time": "2021-07-23T15:28:15.272Z"
   },
   {
    "duration": 13,
    "start_time": "2021-07-23T15:28:15.291Z"
   },
   {
    "duration": 15,
    "start_time": "2021-07-23T15:28:15.307Z"
   },
   {
    "duration": 41,
    "start_time": "2021-07-23T15:28:15.324Z"
   },
   {
    "duration": 19,
    "start_time": "2021-07-23T15:28:15.370Z"
   },
   {
    "duration": 81,
    "start_time": "2021-07-23T15:28:15.392Z"
   },
   {
    "duration": 8,
    "start_time": "2021-07-23T15:28:15.475Z"
   },
   {
    "duration": 15,
    "start_time": "2021-07-23T15:28:15.485Z"
   },
   {
    "duration": 10,
    "start_time": "2021-07-23T15:28:15.502Z"
   },
   {
    "duration": 48,
    "start_time": "2021-07-23T15:28:15.514Z"
   },
   {
    "duration": 18,
    "start_time": "2021-07-23T15:28:15.564Z"
   },
   {
    "duration": 457,
    "start_time": "2021-07-23T15:28:15.585Z"
   },
   {
    "duration": -65,
    "start_time": "2021-07-23T15:28:16.109Z"
   },
   {
    "duration": -64,
    "start_time": "2021-07-23T15:28:16.110Z"
   },
   {
    "duration": -64,
    "start_time": "2021-07-23T15:28:16.111Z"
   },
   {
    "duration": -122,
    "start_time": "2021-07-23T15:28:16.171Z"
   },
   {
    "duration": -136,
    "start_time": "2021-07-23T15:28:16.186Z"
   },
   {
    "duration": -145,
    "start_time": "2021-07-23T15:28:16.197Z"
   },
   {
    "duration": -147,
    "start_time": "2021-07-23T15:28:16.200Z"
   },
   {
    "duration": 32,
    "start_time": "2021-07-23T15:29:11.983Z"
   },
   {
    "duration": 7,
    "start_time": "2021-07-23T15:29:14.471Z"
   },
   {
    "duration": 9,
    "start_time": "2021-07-23T15:31:40.191Z"
   },
   {
    "duration": 37,
    "start_time": "2021-07-23T15:31:44.262Z"
   },
   {
    "duration": 39,
    "start_time": "2021-07-23T15:31:47.316Z"
   },
   {
    "duration": 61,
    "start_time": "2021-07-23T15:31:49.934Z"
   },
   {
    "duration": 8,
    "start_time": "2021-07-23T15:31:52.741Z"
   },
   {
    "duration": 7,
    "start_time": "2021-07-23T15:31:59.278Z"
   },
   {
    "duration": 6,
    "start_time": "2021-07-23T15:32:10.918Z"
   },
   {
    "duration": 12,
    "start_time": "2021-07-23T15:32:20.875Z"
   },
   {
    "duration": 13,
    "start_time": "2021-07-23T15:43:51.495Z"
   },
   {
    "duration": 12,
    "start_time": "2021-07-23T15:45:05.151Z"
   },
   {
    "duration": 12,
    "start_time": "2021-07-23T15:45:19.007Z"
   },
   {
    "duration": 345,
    "start_time": "2021-07-23T15:51:11.492Z"
   },
   {
    "duration": 256,
    "start_time": "2021-07-23T15:51:32.832Z"
   },
   {
    "duration": -95,
    "start_time": "2021-07-23T15:51:33.186Z"
   },
   {
    "duration": 2027,
    "start_time": "2021-07-23T15:51:39.356Z"
   },
   {
    "duration": 153,
    "start_time": "2021-07-23T15:51:41.386Z"
   },
   {
    "duration": 114,
    "start_time": "2021-07-23T15:51:41.542Z"
   },
   {
    "duration": 13,
    "start_time": "2021-07-23T15:51:41.659Z"
   },
   {
    "duration": 25,
    "start_time": "2021-07-23T15:51:41.674Z"
   },
   {
    "duration": 143,
    "start_time": "2021-07-23T15:51:41.701Z"
   },
   {
    "duration": 121,
    "start_time": "2021-07-23T15:51:41.855Z"
   },
   {
    "duration": 161,
    "start_time": "2021-07-23T15:51:41.979Z"
   },
   {
    "duration": 194,
    "start_time": "2021-07-23T15:51:42.145Z"
   },
   {
    "duration": 14,
    "start_time": "2021-07-23T15:51:42.343Z"
   },
   {
    "duration": 12,
    "start_time": "2021-07-23T15:51:42.360Z"
   },
   {
    "duration": 4,
    "start_time": "2021-07-23T15:51:42.374Z"
   },
   {
    "duration": 29,
    "start_time": "2021-07-23T15:51:42.380Z"
   },
   {
    "duration": 53,
    "start_time": "2021-07-23T15:51:42.412Z"
   },
   {
    "duration": 712,
    "start_time": "2021-07-23T15:51:42.467Z"
   },
   {
    "duration": 25,
    "start_time": "2021-07-23T15:51:43.182Z"
   },
   {
    "duration": 4,
    "start_time": "2021-07-23T15:51:43.210Z"
   },
   {
    "duration": 10,
    "start_time": "2021-07-23T15:51:43.217Z"
   },
   {
    "duration": 5,
    "start_time": "2021-07-23T15:51:43.257Z"
   },
   {
    "duration": 9,
    "start_time": "2021-07-23T15:51:43.265Z"
   },
   {
    "duration": 12,
    "start_time": "2021-07-23T15:51:43.277Z"
   },
   {
    "duration": 27,
    "start_time": "2021-07-23T15:51:43.292Z"
   },
   {
    "duration": 51,
    "start_time": "2021-07-23T15:51:43.321Z"
   },
   {
    "duration": 82,
    "start_time": "2021-07-23T15:51:43.375Z"
   },
   {
    "duration": 6,
    "start_time": "2021-07-23T15:51:43.460Z"
   },
   {
    "duration": 14,
    "start_time": "2021-07-23T15:51:43.469Z"
   },
   {
    "duration": 11,
    "start_time": "2021-07-23T15:51:43.487Z"
   },
   {
    "duration": 56,
    "start_time": "2021-07-23T15:51:43.501Z"
   },
   {
    "duration": 5,
    "start_time": "2021-07-23T15:51:43.559Z"
   },
   {
    "duration": 32,
    "start_time": "2021-07-23T15:51:43.566Z"
   },
   {
    "duration": 10,
    "start_time": "2021-07-23T15:51:43.601Z"
   },
   {
    "duration": 72,
    "start_time": "2021-07-23T15:51:43.614Z"
   },
   {
    "duration": 37,
    "start_time": "2021-07-23T15:51:43.689Z"
   },
   {
    "duration": 57,
    "start_time": "2021-07-23T15:51:43.729Z"
   },
   {
    "duration": 7,
    "start_time": "2021-07-23T15:51:43.789Z"
   },
   {
    "duration": 19,
    "start_time": "2021-07-23T15:51:43.798Z"
   },
   {
    "duration": 11,
    "start_time": "2021-07-23T15:51:43.819Z"
   },
   {
    "duration": 35,
    "start_time": "2021-07-23T15:51:43.832Z"
   },
   {
    "duration": 14,
    "start_time": "2021-07-23T15:51:43.869Z"
   },
   {
    "duration": 15,
    "start_time": "2021-07-23T15:51:43.885Z"
   },
   {
    "duration": 317,
    "start_time": "2021-07-23T15:52:36.560Z"
   },
   {
    "duration": 1936,
    "start_time": "2021-07-23T15:52:42.103Z"
   },
   {
    "duration": 154,
    "start_time": "2021-07-23T15:52:44.042Z"
   },
   {
    "duration": 103,
    "start_time": "2021-07-23T15:52:44.199Z"
   },
   {
    "duration": 10,
    "start_time": "2021-07-23T15:52:44.305Z"
   },
   {
    "duration": 42,
    "start_time": "2021-07-23T15:52:44.317Z"
   },
   {
    "duration": 121,
    "start_time": "2021-07-23T15:52:44.362Z"
   },
   {
    "duration": 107,
    "start_time": "2021-07-23T15:52:44.485Z"
   },
   {
    "duration": 139,
    "start_time": "2021-07-23T15:52:44.595Z"
   },
   {
    "duration": 137,
    "start_time": "2021-07-23T15:52:44.738Z"
   },
   {
    "duration": 5,
    "start_time": "2021-07-23T15:52:44.877Z"
   },
   {
    "duration": 12,
    "start_time": "2021-07-23T15:52:44.884Z"
   },
   {
    "duration": 4,
    "start_time": "2021-07-23T15:52:44.899Z"
   },
   {
    "duration": 57,
    "start_time": "2021-07-23T15:52:44.906Z"
   },
   {
    "duration": 23,
    "start_time": "2021-07-23T15:52:44.965Z"
   },
   {
    "duration": 725,
    "start_time": "2021-07-23T15:52:44.990Z"
   },
   {
    "duration": 38,
    "start_time": "2021-07-23T15:52:45.718Z"
   },
   {
    "duration": 6,
    "start_time": "2021-07-23T15:52:45.758Z"
   },
   {
    "duration": 16,
    "start_time": "2021-07-23T15:52:45.766Z"
   },
   {
    "duration": 9,
    "start_time": "2021-07-23T15:52:45.785Z"
   },
   {
    "duration": 10,
    "start_time": "2021-07-23T15:52:45.796Z"
   },
   {
    "duration": 48,
    "start_time": "2021-07-23T15:52:45.808Z"
   },
   {
    "duration": 29,
    "start_time": "2021-07-23T15:52:45.858Z"
   },
   {
    "duration": 18,
    "start_time": "2021-07-23T15:52:45.892Z"
   },
   {
    "duration": 89,
    "start_time": "2021-07-23T15:52:45.913Z"
   },
   {
    "duration": 7,
    "start_time": "2021-07-23T15:52:46.004Z"
   },
   {
    "duration": 14,
    "start_time": "2021-07-23T15:52:46.013Z"
   },
   {
    "duration": 34,
    "start_time": "2021-07-23T15:52:46.029Z"
   },
   {
    "duration": 24,
    "start_time": "2021-07-23T15:52:46.066Z"
   },
   {
    "duration": 19,
    "start_time": "2021-07-23T15:52:46.092Z"
   },
   {
    "duration": 52,
    "start_time": "2021-07-23T15:52:46.113Z"
   },
   {
    "duration": 9,
    "start_time": "2021-07-23T15:52:46.167Z"
   },
   {
    "duration": 41,
    "start_time": "2021-07-23T15:52:46.178Z"
   },
   {
    "duration": 59,
    "start_time": "2021-07-23T15:52:46.221Z"
   },
   {
    "duration": 37,
    "start_time": "2021-07-23T15:52:46.282Z"
   },
   {
    "duration": 8,
    "start_time": "2021-07-23T15:52:46.322Z"
   },
   {
    "duration": 8,
    "start_time": "2021-07-23T15:52:46.355Z"
   },
   {
    "duration": 22,
    "start_time": "2021-07-23T15:52:46.365Z"
   },
   {
    "duration": 13,
    "start_time": "2021-07-23T15:52:46.390Z"
   },
   {
    "duration": 22,
    "start_time": "2021-07-23T15:52:46.405Z"
   },
   {
    "duration": 34,
    "start_time": "2021-07-23T15:52:46.429Z"
   },
   {
    "duration": 20,
    "start_time": "2021-07-23T15:54:01.186Z"
   },
   {
    "duration": 70,
    "start_time": "2021-07-23T15:54:12.958Z"
   },
   {
    "duration": 84,
    "start_time": "2021-07-23T15:54:31.639Z"
   },
   {
    "duration": 70,
    "start_time": "2021-07-23T15:54:52.260Z"
   },
   {
    "duration": 18,
    "start_time": "2021-07-23T15:56:13.327Z"
   },
   {
    "duration": 6,
    "start_time": "2021-07-23T16:06:33.633Z"
   },
   {
    "duration": 805,
    "start_time": "2021-07-23T16:06:33.642Z"
   },
   {
    "duration": 100,
    "start_time": "2021-07-23T16:06:34.455Z"
   },
   {
    "duration": 10,
    "start_time": "2021-07-23T16:06:34.558Z"
   },
   {
    "duration": 18,
    "start_time": "2021-07-23T16:06:34.571Z"
   },
   {
    "duration": 140,
    "start_time": "2021-07-23T16:06:34.592Z"
   },
   {
    "duration": 112,
    "start_time": "2021-07-23T16:06:34.734Z"
   },
   {
    "duration": 143,
    "start_time": "2021-07-23T16:06:34.850Z"
   },
   {
    "duration": 141,
    "start_time": "2021-07-23T16:06:34.996Z"
   },
   {
    "duration": 3,
    "start_time": "2021-07-23T16:06:35.140Z"
   },
   {
    "duration": 7,
    "start_time": "2021-07-23T16:06:35.156Z"
   },
   {
    "duration": 6,
    "start_time": "2021-07-23T16:06:35.165Z"
   },
   {
    "duration": 29,
    "start_time": "2021-07-23T16:06:35.173Z"
   },
   {
    "duration": 57,
    "start_time": "2021-07-23T16:06:35.204Z"
   },
   {
    "duration": 849,
    "start_time": "2021-07-23T16:06:35.263Z"
   },
   {
    "duration": 23,
    "start_time": "2021-07-23T16:06:36.115Z"
   },
   {
    "duration": 5,
    "start_time": "2021-07-23T16:06:36.155Z"
   },
   {
    "duration": 21,
    "start_time": "2021-07-23T16:06:36.162Z"
   },
   {
    "duration": 16,
    "start_time": "2021-07-23T16:06:36.185Z"
   },
   {
    "duration": 21,
    "start_time": "2021-07-23T16:06:36.203Z"
   },
   {
    "duration": 19,
    "start_time": "2021-07-23T16:06:36.226Z"
   },
   {
    "duration": 36,
    "start_time": "2021-07-23T16:06:36.247Z"
   },
   {
    "duration": 13,
    "start_time": "2021-07-23T16:06:36.288Z"
   },
   {
    "duration": 84,
    "start_time": "2021-07-23T16:06:36.304Z"
   },
   {
    "duration": 9,
    "start_time": "2021-07-23T16:06:36.391Z"
   },
   {
    "duration": 18,
    "start_time": "2021-07-23T16:06:36.403Z"
   },
   {
    "duration": 38,
    "start_time": "2021-07-23T16:06:36.423Z"
   },
   {
    "duration": 17,
    "start_time": "2021-07-23T16:06:36.464Z"
   },
   {
    "duration": 8,
    "start_time": "2021-07-23T16:06:36.484Z"
   },
   {
    "duration": 76,
    "start_time": "2021-07-23T16:06:36.494Z"
   },
   {
    "duration": 10,
    "start_time": "2021-07-23T16:06:36.573Z"
   },
   {
    "duration": 43,
    "start_time": "2021-07-23T16:06:36.585Z"
   },
   {
    "duration": 61,
    "start_time": "2021-07-23T16:06:36.630Z"
   },
   {
    "duration": 37,
    "start_time": "2021-07-23T16:06:36.693Z"
   },
   {
    "duration": 27,
    "start_time": "2021-07-23T16:06:36.733Z"
   },
   {
    "duration": 25,
    "start_time": "2021-07-23T16:06:36.762Z"
   },
   {
    "duration": 14,
    "start_time": "2021-07-23T16:06:36.789Z"
   },
   {
    "duration": 27,
    "start_time": "2021-07-23T16:06:36.805Z"
   },
   {
    "duration": 24,
    "start_time": "2021-07-23T16:06:36.834Z"
   },
   {
    "duration": 21,
    "start_time": "2021-07-23T16:06:36.860Z"
   },
   {
    "duration": 84,
    "start_time": "2021-07-23T16:06:36.884Z"
   },
   {
    "duration": 16,
    "start_time": "2021-07-23T16:06:36.970Z"
   },
   {
    "duration": 5,
    "start_time": "2021-07-23T16:10:57.817Z"
   },
   {
    "duration": 181,
    "start_time": "2021-07-23T16:10:57.825Z"
   },
   {
    "duration": 97,
    "start_time": "2021-07-23T16:10:58.009Z"
   },
   {
    "duration": 9,
    "start_time": "2021-07-23T16:10:58.109Z"
   },
   {
    "duration": 36,
    "start_time": "2021-07-23T16:10:58.121Z"
   },
   {
    "duration": 118,
    "start_time": "2021-07-23T16:10:58.159Z"
   },
   {
    "duration": 117,
    "start_time": "2021-07-23T16:10:58.280Z"
   },
   {
    "duration": 203,
    "start_time": "2021-07-23T16:10:58.400Z"
   },
   {
    "duration": 174,
    "start_time": "2021-07-23T16:10:58.608Z"
   },
   {
    "duration": 4,
    "start_time": "2021-07-23T16:10:58.785Z"
   },
   {
    "duration": 9,
    "start_time": "2021-07-23T16:10:58.792Z"
   },
   {
    "duration": 4,
    "start_time": "2021-07-23T16:10:58.804Z"
   },
   {
    "duration": 65,
    "start_time": "2021-07-23T16:10:58.812Z"
   },
   {
    "duration": 26,
    "start_time": "2021-07-23T16:10:58.880Z"
   },
   {
    "duration": 793,
    "start_time": "2021-07-23T16:10:58.908Z"
   },
   {
    "duration": 27,
    "start_time": "2021-07-23T16:10:59.703Z"
   },
   {
    "duration": 24,
    "start_time": "2021-07-23T16:10:59.732Z"
   },
   {
    "duration": 8,
    "start_time": "2021-07-23T16:10:59.758Z"
   },
   {
    "duration": 6,
    "start_time": "2021-07-23T16:10:59.768Z"
   },
   {
    "duration": 12,
    "start_time": "2021-07-23T16:10:59.776Z"
   },
   {
    "duration": 22,
    "start_time": "2021-07-23T16:10:59.793Z"
   },
   {
    "duration": 69,
    "start_time": "2021-07-23T16:10:59.818Z"
   },
   {
    "duration": 16,
    "start_time": "2021-07-23T16:10:59.889Z"
   },
   {
    "duration": 95,
    "start_time": "2021-07-23T16:10:59.908Z"
   },
   {
    "duration": 9,
    "start_time": "2021-07-23T16:11:00.006Z"
   },
   {
    "duration": 40,
    "start_time": "2021-07-23T16:11:00.017Z"
   },
   {
    "duration": 15,
    "start_time": "2021-07-23T16:11:00.065Z"
   },
   {
    "duration": 28,
    "start_time": "2021-07-23T16:11:00.084Z"
   },
   {
    "duration": 17,
    "start_time": "2021-07-23T16:11:00.115Z"
   },
   {
    "duration": 71,
    "start_time": "2021-07-23T16:11:00.136Z"
   },
   {
    "duration": 13,
    "start_time": "2021-07-23T16:11:00.210Z"
   },
   {
    "duration": 63,
    "start_time": "2021-07-23T16:11:00.226Z"
   },
   {
    "duration": 40,
    "start_time": "2021-07-23T16:11:00.292Z"
   },
   {
    "duration": 44,
    "start_time": "2021-07-23T16:11:00.356Z"
   },
   {
    "duration": 9,
    "start_time": "2021-07-23T16:11:00.402Z"
   },
   {
    "duration": 42,
    "start_time": "2021-07-23T16:11:00.413Z"
   },
   {
    "duration": 41,
    "start_time": "2021-07-23T16:11:00.457Z"
   },
   {
    "duration": 61,
    "start_time": "2021-07-23T16:11:00.500Z"
   },
   {
    "duration": 53,
    "start_time": "2021-07-23T16:11:00.563Z"
   },
   {
    "duration": 57,
    "start_time": "2021-07-23T16:11:00.618Z"
   },
   {
    "duration": 128,
    "start_time": "2021-07-23T16:11:00.677Z"
   },
   {
    "duration": 26,
    "start_time": "2021-07-23T16:11:00.808Z"
   },
   {
    "duration": 6,
    "start_time": "2021-07-23T16:14:48.412Z"
   },
   {
    "duration": 175,
    "start_time": "2021-07-23T16:14:48.421Z"
   },
   {
    "duration": 88,
    "start_time": "2021-07-23T16:14:48.599Z"
   },
   {
    "duration": 10,
    "start_time": "2021-07-23T16:14:48.690Z"
   },
   {
    "duration": 14,
    "start_time": "2021-07-23T16:14:48.703Z"
   },
   {
    "duration": 127,
    "start_time": "2021-07-23T16:14:48.720Z"
   },
   {
    "duration": 109,
    "start_time": "2021-07-23T16:14:48.857Z"
   },
   {
    "duration": 149,
    "start_time": "2021-07-23T16:14:48.971Z"
   },
   {
    "duration": 142,
    "start_time": "2021-07-23T16:14:49.123Z"
   },
   {
    "duration": 5,
    "start_time": "2021-07-23T16:14:49.268Z"
   },
   {
    "duration": 10,
    "start_time": "2021-07-23T16:14:49.275Z"
   },
   {
    "duration": 4,
    "start_time": "2021-07-23T16:14:49.288Z"
   },
   {
    "duration": 68,
    "start_time": "2021-07-23T16:14:49.295Z"
   },
   {
    "duration": 25,
    "start_time": "2021-07-23T16:14:49.366Z"
   },
   {
    "duration": 730,
    "start_time": "2021-07-23T16:14:49.393Z"
   },
   {
    "duration": 37,
    "start_time": "2021-07-23T16:14:50.125Z"
   },
   {
    "duration": 5,
    "start_time": "2021-07-23T16:14:50.165Z"
   },
   {
    "duration": 10,
    "start_time": "2021-07-23T16:14:50.173Z"
   },
   {
    "duration": 6,
    "start_time": "2021-07-23T16:14:50.187Z"
   },
   {
    "duration": 14,
    "start_time": "2021-07-23T16:14:50.197Z"
   },
   {
    "duration": 46,
    "start_time": "2021-07-23T16:14:50.214Z"
   },
   {
    "duration": 35,
    "start_time": "2021-07-23T16:14:50.264Z"
   },
   {
    "duration": 14,
    "start_time": "2021-07-23T16:14:50.305Z"
   },
   {
    "duration": 97,
    "start_time": "2021-07-23T16:14:50.322Z"
   },
   {
    "duration": 7,
    "start_time": "2021-07-23T16:14:50.421Z"
   },
   {
    "duration": 13,
    "start_time": "2021-07-23T16:14:50.456Z"
   },
   {
    "duration": 20,
    "start_time": "2021-07-23T16:14:50.471Z"
   },
   {
    "duration": 25,
    "start_time": "2021-07-23T16:14:50.493Z"
   },
   {
    "duration": 21,
    "start_time": "2021-07-23T16:14:50.520Z"
   },
   {
    "duration": 60,
    "start_time": "2021-07-23T16:14:50.544Z"
   },
   {
    "duration": 9,
    "start_time": "2021-07-23T16:14:50.606Z"
   },
   {
    "duration": 131,
    "start_time": "2021-07-23T16:14:50.617Z"
   },
   {
    "duration": 38,
    "start_time": "2021-07-23T16:14:50.755Z"
   },
   {
    "duration": 61,
    "start_time": "2021-07-23T16:14:50.796Z"
   },
   {
    "duration": 7,
    "start_time": "2021-07-23T16:14:50.860Z"
   },
   {
    "duration": 18,
    "start_time": "2021-07-23T16:14:50.869Z"
   },
   {
    "duration": 18,
    "start_time": "2021-07-23T16:14:50.889Z"
   },
   {
    "duration": 18,
    "start_time": "2021-07-23T16:14:50.910Z"
   },
   {
    "duration": 26,
    "start_time": "2021-07-23T16:14:50.931Z"
   },
   {
    "duration": 12,
    "start_time": "2021-07-23T16:14:50.959Z"
   },
   {
    "duration": 99,
    "start_time": "2021-07-23T16:14:50.974Z"
   },
   {
    "duration": 21,
    "start_time": "2021-07-23T16:14:51.076Z"
   },
   {
    "duration": 2066,
    "start_time": "2021-07-24T07:43:58.244Z"
   },
   {
    "duration": 160,
    "start_time": "2021-07-24T07:44:00.312Z"
   },
   {
    "duration": 110,
    "start_time": "2021-07-24T07:44:00.475Z"
   },
   {
    "duration": 11,
    "start_time": "2021-07-24T07:44:00.588Z"
   },
   {
    "duration": 25,
    "start_time": "2021-07-24T07:44:00.601Z"
   },
   {
    "duration": 151,
    "start_time": "2021-07-24T07:44:00.628Z"
   },
   {
    "duration": 115,
    "start_time": "2021-07-24T07:44:00.782Z"
   },
   {
    "duration": 159,
    "start_time": "2021-07-24T07:44:00.900Z"
   },
   {
    "duration": 143,
    "start_time": "2021-07-24T07:44:01.063Z"
   },
   {
    "duration": 4,
    "start_time": "2021-07-24T07:44:01.209Z"
   },
   {
    "duration": 20,
    "start_time": "2021-07-24T07:44:01.216Z"
   },
   {
    "duration": 11,
    "start_time": "2021-07-24T07:44:01.238Z"
   },
   {
    "duration": 55,
    "start_time": "2021-07-24T07:44:01.251Z"
   },
   {
    "duration": 34,
    "start_time": "2021-07-24T07:44:01.308Z"
   },
   {
    "duration": 786,
    "start_time": "2021-07-24T07:44:01.345Z"
   },
   {
    "duration": 24,
    "start_time": "2021-07-24T07:44:02.134Z"
   },
   {
    "duration": 26,
    "start_time": "2021-07-24T07:44:02.160Z"
   },
   {
    "duration": 25,
    "start_time": "2021-07-24T07:44:02.188Z"
   },
   {
    "duration": 11,
    "start_time": "2021-07-24T07:44:02.215Z"
   },
   {
    "duration": 11,
    "start_time": "2021-07-24T07:44:02.228Z"
   },
   {
    "duration": 48,
    "start_time": "2021-07-24T07:44:02.241Z"
   },
   {
    "duration": 28,
    "start_time": "2021-07-24T07:44:02.292Z"
   },
   {
    "duration": 18,
    "start_time": "2021-07-24T07:44:02.323Z"
   },
   {
    "duration": 98,
    "start_time": "2021-07-24T07:44:02.345Z"
   },
   {
    "duration": 36,
    "start_time": "2021-07-24T07:44:02.446Z"
   },
   {
    "duration": 14,
    "start_time": "2021-07-24T07:44:02.485Z"
   },
   {
    "duration": 14,
    "start_time": "2021-07-24T07:44:02.507Z"
   },
   {
    "duration": 68,
    "start_time": "2021-07-24T07:44:02.525Z"
   },
   {
    "duration": 9,
    "start_time": "2021-07-24T07:44:02.597Z"
   },
   {
    "duration": 37,
    "start_time": "2021-07-24T07:44:02.609Z"
   },
   {
    "duration": 41,
    "start_time": "2021-07-24T07:44:02.649Z"
   },
   {
    "duration": 42,
    "start_time": "2021-07-24T07:44:02.693Z"
   },
   {
    "duration": 75,
    "start_time": "2021-07-24T07:44:02.738Z"
   },
   {
    "duration": 36,
    "start_time": "2021-07-24T07:44:02.816Z"
   },
   {
    "duration": 7,
    "start_time": "2021-07-24T07:44:02.882Z"
   },
   {
    "duration": 17,
    "start_time": "2021-07-24T07:44:02.892Z"
   },
   {
    "duration": 12,
    "start_time": "2021-07-24T07:44:02.911Z"
   },
   {
    "duration": 15,
    "start_time": "2021-07-24T07:44:02.925Z"
   },
   {
    "duration": 47,
    "start_time": "2021-07-24T07:44:02.943Z"
   },
   {
    "duration": 17,
    "start_time": "2021-07-24T07:44:02.993Z"
   },
   {
    "duration": 111,
    "start_time": "2021-07-24T07:44:03.013Z"
   },
   {
    "duration": 19,
    "start_time": "2021-07-24T07:44:03.126Z"
   },
   {
    "duration": 107,
    "start_time": "2021-07-24T19:08:53.942Z"
   },
   {
    "duration": 26363,
    "start_time": "2021-07-24T19:09:29.076Z"
   },
   {
    "duration": 174,
    "start_time": "2021-07-24T19:09:55.441Z"
   },
   {
    "duration": 115,
    "start_time": "2021-07-24T19:09:55.618Z"
   },
   {
    "duration": 10,
    "start_time": "2021-07-24T19:09:55.737Z"
   },
   {
    "duration": 50,
    "start_time": "2021-07-24T19:09:55.750Z"
   },
   {
    "duration": 126,
    "start_time": "2021-07-24T19:09:55.803Z"
   },
   {
    "duration": 117,
    "start_time": "2021-07-24T19:09:55.931Z"
   },
   {
    "duration": 163,
    "start_time": "2021-07-24T19:09:56.053Z"
   },
   {
    "duration": 148,
    "start_time": "2021-07-24T19:09:56.220Z"
   },
   {
    "duration": 23,
    "start_time": "2021-07-24T19:09:56.370Z"
   },
   {
    "duration": 9,
    "start_time": "2021-07-24T19:09:56.401Z"
   },
   {
    "duration": 6,
    "start_time": "2021-07-24T19:09:56.413Z"
   },
   {
    "duration": 26,
    "start_time": "2021-07-24T19:09:56.422Z"
   },
   {
    "duration": 58,
    "start_time": "2021-07-24T19:09:56.451Z"
   },
   {
    "duration": 761,
    "start_time": "2021-07-24T19:09:56.512Z"
   },
   {
    "duration": 33,
    "start_time": "2021-07-24T19:09:57.276Z"
   },
   {
    "duration": 7,
    "start_time": "2021-07-24T19:09:57.312Z"
   },
   {
    "duration": 13,
    "start_time": "2021-07-24T19:09:57.322Z"
   },
   {
    "duration": 6,
    "start_time": "2021-07-24T19:09:57.338Z"
   },
   {
    "duration": 45,
    "start_time": "2021-07-24T19:09:57.347Z"
   },
   {
    "duration": 13,
    "start_time": "2021-07-24T19:09:57.395Z"
   },
   {
    "duration": 30,
    "start_time": "2021-07-24T19:09:57.411Z"
   },
   {
    "duration": 41,
    "start_time": "2021-07-24T19:09:57.446Z"
   },
   {
    "duration": 71,
    "start_time": "2021-07-24T19:09:57.491Z"
   },
   {
    "duration": 32,
    "start_time": "2021-07-24T19:09:57.564Z"
   },
   {
    "duration": 15,
    "start_time": "2021-07-24T19:09:57.599Z"
   },
   {
    "duration": 15,
    "start_time": "2021-07-24T19:09:57.617Z"
   },
   {
    "duration": 51,
    "start_time": "2021-07-24T19:09:57.634Z"
   },
   {
    "duration": 9,
    "start_time": "2021-07-24T19:09:57.689Z"
   },
   {
    "duration": 41,
    "start_time": "2021-07-24T19:09:57.701Z"
   },
   {
    "duration": 11,
    "start_time": "2021-07-24T19:09:57.745Z"
   },
   {
    "duration": 71,
    "start_time": "2021-07-24T19:09:57.758Z"
   },
   {
    "duration": 60,
    "start_time": "2021-07-24T19:09:57.831Z"
   },
   {
    "duration": 42,
    "start_time": "2021-07-24T19:09:57.894Z"
   },
   {
    "duration": 8,
    "start_time": "2021-07-24T19:09:57.940Z"
   },
   {
    "duration": 37,
    "start_time": "2021-07-24T19:09:57.952Z"
   },
   {
    "duration": 14,
    "start_time": "2021-07-24T19:09:57.993Z"
   },
   {
    "duration": 15,
    "start_time": "2021-07-24T19:09:58.009Z"
   },
   {
    "duration": 14,
    "start_time": "2021-07-24T19:09:58.026Z"
   },
   {
    "duration": 56,
    "start_time": "2021-07-24T19:09:58.043Z"
   },
   {
    "duration": 100,
    "start_time": "2021-07-24T19:09:58.104Z"
   },
   {
    "duration": 20,
    "start_time": "2021-07-24T19:09:58.207Z"
   },
   {
    "duration": 156,
    "start_time": "2021-07-24T19:11:12.984Z"
   },
   {
    "duration": 100,
    "start_time": "2021-07-24T19:14:24.355Z"
   },
   {
    "duration": 2117,
    "start_time": "2021-07-25T05:29:01.280Z"
   },
   {
    "duration": 173,
    "start_time": "2021-07-25T05:29:03.402Z"
   },
   {
    "duration": 104,
    "start_time": "2021-07-25T05:29:03.578Z"
   },
   {
    "duration": 23,
    "start_time": "2021-07-25T05:29:03.685Z"
   },
   {
    "duration": 28,
    "start_time": "2021-07-25T05:29:03.711Z"
   },
   {
    "duration": 149,
    "start_time": "2021-07-25T05:29:03.741Z"
   },
   {
    "duration": 123,
    "start_time": "2021-07-25T05:29:03.893Z"
   },
   {
    "duration": 156,
    "start_time": "2021-07-25T05:29:04.020Z"
   },
   {
    "duration": 137,
    "start_time": "2021-07-25T05:29:04.179Z"
   },
   {
    "duration": 4,
    "start_time": "2021-07-25T05:29:04.319Z"
   },
   {
    "duration": 20,
    "start_time": "2021-07-25T05:29:04.325Z"
   },
   {
    "duration": 7,
    "start_time": "2021-07-25T05:29:04.348Z"
   },
   {
    "duration": 40,
    "start_time": "2021-07-25T05:29:08.584Z"
   },
   {
    "duration": 473,
    "start_time": "2021-07-25T05:31:08.894Z"
   },
   {
    "duration": 29,
    "start_time": "2021-07-25T05:31:22.813Z"
   },
   {
    "duration": 31,
    "start_time": "2021-07-25T05:31:36.147Z"
   },
   {
    "duration": 27,
    "start_time": "2021-07-25T05:37:00.299Z"
   },
   {
    "duration": 27,
    "start_time": "2021-07-25T05:37:17.795Z"
   },
   {
    "duration": 279,
    "start_time": "2021-07-25T05:38:00.667Z"
   },
   {
    "duration": 28,
    "start_time": "2021-07-25T05:38:28.216Z"
   },
   {
    "duration": 28,
    "start_time": "2021-07-25T05:42:15.098Z"
   },
   {
    "duration": 30,
    "start_time": "2021-07-25T05:42:22.490Z"
   },
   {
    "duration": 28,
    "start_time": "2021-07-25T05:43:54.746Z"
   },
   {
    "duration": 29,
    "start_time": "2021-07-25T05:44:01.044Z"
   },
   {
    "duration": 28,
    "start_time": "2021-07-25T05:44:20.887Z"
   },
   {
    "duration": 43,
    "start_time": "2021-07-25T05:46:19.423Z"
   },
   {
    "duration": 306,
    "start_time": "2021-07-25T05:46:30.440Z"
   },
   {
    "duration": 32,
    "start_time": "2021-07-25T05:49:56.723Z"
   },
   {
    "duration": 31,
    "start_time": "2021-07-25T05:50:20.035Z"
   },
   {
    "duration": 31,
    "start_time": "2021-07-25T06:03:06.211Z"
   },
   {
    "duration": 5,
    "start_time": "2021-07-25T06:15:30.066Z"
   },
   {
    "duration": 170,
    "start_time": "2021-07-25T06:15:30.074Z"
   },
   {
    "duration": 99,
    "start_time": "2021-07-25T06:15:30.247Z"
   },
   {
    "duration": 12,
    "start_time": "2021-07-25T06:15:30.350Z"
   },
   {
    "duration": 42,
    "start_time": "2021-07-25T06:15:30.365Z"
   },
   {
    "duration": 114,
    "start_time": "2021-07-25T06:15:30.410Z"
   },
   {
    "duration": 113,
    "start_time": "2021-07-25T06:15:30.527Z"
   },
   {
    "duration": 155,
    "start_time": "2021-07-25T06:15:30.642Z"
   },
   {
    "duration": 135,
    "start_time": "2021-07-25T06:15:30.802Z"
   },
   {
    "duration": 4,
    "start_time": "2021-07-25T06:15:30.940Z"
   },
   {
    "duration": 20,
    "start_time": "2021-07-25T06:15:30.946Z"
   },
   {
    "duration": 12,
    "start_time": "2021-07-25T06:15:30.969Z"
   },
   {
    "duration": 29,
    "start_time": "2021-07-25T06:15:31.000Z"
   },
   {
    "duration": 24,
    "start_time": "2021-07-25T06:15:31.031Z"
   },
   {
    "duration": 51,
    "start_time": "2021-07-25T06:15:31.058Z"
   },
   {
    "duration": 728,
    "start_time": "2021-07-25T06:15:31.112Z"
   },
   {
    "duration": 309,
    "start_time": "2021-07-25T06:23:35.970Z"
   },
   {
    "duration": 43,
    "start_time": "2021-07-25T06:23:43.485Z"
   },
   {
    "duration": 5,
    "start_time": "2021-07-25T06:25:07.244Z"
   },
   {
    "duration": 190,
    "start_time": "2021-07-25T06:25:07.252Z"
   },
   {
    "duration": 107,
    "start_time": "2021-07-25T06:25:07.445Z"
   },
   {
    "duration": 10,
    "start_time": "2021-07-25T06:25:07.555Z"
   },
   {
    "duration": 40,
    "start_time": "2021-07-25T06:25:07.567Z"
   },
   {
    "duration": 126,
    "start_time": "2021-07-25T06:25:07.609Z"
   },
   {
    "duration": 116,
    "start_time": "2021-07-25T06:25:07.737Z"
   },
   {
    "duration": 169,
    "start_time": "2021-07-25T06:25:07.858Z"
   },
   {
    "duration": 155,
    "start_time": "2021-07-25T06:25:08.030Z"
   },
   {
    "duration": 15,
    "start_time": "2021-07-25T06:25:08.188Z"
   },
   {
    "duration": 19,
    "start_time": "2021-07-25T06:25:08.206Z"
   },
   {
    "duration": 11,
    "start_time": "2021-07-25T06:25:08.228Z"
   },
   {
    "duration": 43,
    "start_time": "2021-07-25T06:25:08.241Z"
   },
   {
    "duration": 46,
    "start_time": "2021-07-25T06:25:08.287Z"
   },
   {
    "duration": 29,
    "start_time": "2021-07-25T06:25:08.336Z"
   },
   {
    "duration": 790,
    "start_time": "2021-07-25T06:25:08.368Z"
   },
   {
    "duration": 40,
    "start_time": "2021-07-25T06:25:09.160Z"
   },
   {
    "duration": 6,
    "start_time": "2021-07-25T06:25:09.203Z"
   },
   {
    "duration": 14,
    "start_time": "2021-07-25T06:25:09.211Z"
   },
   {
    "duration": 9,
    "start_time": "2021-07-25T06:25:09.228Z"
   },
   {
    "duration": 21,
    "start_time": "2021-07-25T06:25:09.239Z"
   },
   {
    "duration": 29,
    "start_time": "2021-07-25T06:25:09.262Z"
   },
   {
    "duration": 62,
    "start_time": "2021-07-25T06:26:34.489Z"
   },
   {
    "duration": 181,
    "start_time": "2021-07-25T06:34:19.912Z"
   },
   {
    "duration": 4,
    "start_time": "2021-07-25T06:58:09.263Z"
   },
   {
    "duration": 167,
    "start_time": "2021-07-25T06:58:09.270Z"
   },
   {
    "duration": 113,
    "start_time": "2021-07-25T06:58:09.439Z"
   },
   {
    "duration": 9,
    "start_time": "2021-07-25T06:58:09.555Z"
   },
   {
    "duration": 40,
    "start_time": "2021-07-25T06:58:09.567Z"
   },
   {
    "duration": 126,
    "start_time": "2021-07-25T06:58:09.609Z"
   },
   {
    "duration": 105,
    "start_time": "2021-07-25T06:58:09.738Z"
   },
   {
    "duration": 150,
    "start_time": "2021-07-25T06:58:09.846Z"
   },
   {
    "duration": 151,
    "start_time": "2021-07-25T06:58:09.998Z"
   },
   {
    "duration": 5,
    "start_time": "2021-07-25T06:58:10.151Z"
   },
   {
    "duration": 9,
    "start_time": "2021-07-25T06:58:10.158Z"
   },
   {
    "duration": 30,
    "start_time": "2021-07-25T06:58:10.170Z"
   },
   {
    "duration": 29,
    "start_time": "2021-07-25T06:58:10.203Z"
   },
   {
    "duration": 23,
    "start_time": "2021-07-25T06:58:10.234Z"
   },
   {
    "duration": 51,
    "start_time": "2021-07-25T06:58:10.260Z"
   },
   {
    "duration": 734,
    "start_time": "2021-07-25T06:58:10.313Z"
   },
   {
    "duration": 28,
    "start_time": "2021-07-25T06:58:11.049Z"
   },
   {
    "duration": 5,
    "start_time": "2021-07-25T06:58:11.079Z"
   },
   {
    "duration": 7,
    "start_time": "2021-07-25T06:58:11.103Z"
   },
   {
    "duration": 5,
    "start_time": "2021-07-25T06:58:11.114Z"
   },
   {
    "duration": 13,
    "start_time": "2021-07-25T06:58:11.121Z"
   },
   {
    "duration": 102,
    "start_time": "2021-07-25T06:58:11.136Z"
   },
   {
    "duration": 29,
    "start_time": "2021-07-25T06:58:11.240Z"
   },
   {
    "duration": 33,
    "start_time": "2021-07-25T06:58:11.271Z"
   },
   {
    "duration": 68,
    "start_time": "2021-07-25T06:58:11.306Z"
   },
   {
    "duration": 25,
    "start_time": "2021-07-25T06:58:11.377Z"
   },
   {
    "duration": 15,
    "start_time": "2021-07-25T06:58:11.405Z"
   },
   {
    "duration": 14,
    "start_time": "2021-07-25T06:58:11.423Z"
   },
   {
    "duration": 18,
    "start_time": "2021-07-25T06:58:11.440Z"
   },
   {
    "duration": 7,
    "start_time": "2021-07-25T06:58:11.502Z"
   },
   {
    "duration": 38,
    "start_time": "2021-07-25T06:58:11.512Z"
   },
   {
    "duration": 13,
    "start_time": "2021-07-25T06:58:11.553Z"
   },
   {
    "duration": 72,
    "start_time": "2021-07-25T06:58:11.568Z"
   },
   {
    "duration": 69,
    "start_time": "2021-07-25T06:58:11.643Z"
   },
   {
    "duration": 41,
    "start_time": "2021-07-25T06:58:11.715Z"
   },
   {
    "duration": 9,
    "start_time": "2021-07-25T06:58:11.759Z"
   },
   {
    "duration": 33,
    "start_time": "2021-07-25T06:58:11.771Z"
   },
   {
    "duration": 11,
    "start_time": "2021-07-25T06:58:11.807Z"
   },
   {
    "duration": 12,
    "start_time": "2021-07-25T06:58:11.820Z"
   },
   {
    "duration": 12,
    "start_time": "2021-07-25T06:58:11.834Z"
   },
   {
    "duration": 60,
    "start_time": "2021-07-25T06:58:11.848Z"
   },
   {
    "duration": 95,
    "start_time": "2021-07-25T06:58:11.911Z"
   },
   {
    "duration": 19,
    "start_time": "2021-07-25T06:58:12.009Z"
   },
   {
    "duration": 6,
    "start_time": "2021-07-25T06:58:19.143Z"
   },
   {
    "duration": 186,
    "start_time": "2021-07-25T06:58:19.151Z"
   },
   {
    "duration": 97,
    "start_time": "2021-07-25T06:58:19.340Z"
   },
   {
    "duration": 9,
    "start_time": "2021-07-25T06:58:19.440Z"
   },
   {
    "duration": 18,
    "start_time": "2021-07-25T06:58:19.451Z"
   },
   {
    "duration": 145,
    "start_time": "2021-07-25T06:58:19.471Z"
   },
   {
    "duration": 113,
    "start_time": "2021-07-25T06:58:19.618Z"
   },
   {
    "duration": 156,
    "start_time": "2021-07-25T06:58:19.735Z"
   },
   {
    "duration": 141,
    "start_time": "2021-07-25T06:58:19.894Z"
   },
   {
    "duration": 5,
    "start_time": "2021-07-25T06:58:20.037Z"
   },
   {
    "duration": 17,
    "start_time": "2021-07-25T06:58:20.044Z"
   },
   {
    "duration": 12,
    "start_time": "2021-07-25T06:58:20.064Z"
   },
   {
    "duration": 49,
    "start_time": "2021-07-25T06:58:20.078Z"
   },
   {
    "duration": 22,
    "start_time": "2021-07-25T06:58:20.129Z"
   },
   {
    "duration": 50,
    "start_time": "2021-07-25T06:58:20.154Z"
   },
   {
    "duration": 717,
    "start_time": "2021-07-25T06:58:20.207Z"
   },
   {
    "duration": 25,
    "start_time": "2021-07-25T06:58:20.927Z"
   },
   {
    "duration": 5,
    "start_time": "2021-07-25T06:58:20.954Z"
   },
   {
    "duration": 39,
    "start_time": "2021-07-25T06:58:20.961Z"
   },
   {
    "duration": 6,
    "start_time": "2021-07-25T06:58:21.003Z"
   },
   {
    "duration": 10,
    "start_time": "2021-07-25T06:58:21.012Z"
   },
   {
    "duration": 82,
    "start_time": "2021-07-25T06:58:21.025Z"
   },
   {
    "duration": 30,
    "start_time": "2021-07-25T06:58:21.113Z"
   },
   {
    "duration": 14,
    "start_time": "2021-07-25T06:58:21.146Z"
   },
   {
    "duration": 119,
    "start_time": "2021-07-25T06:58:21.163Z"
   },
   {
    "duration": 19,
    "start_time": "2021-07-25T06:58:21.285Z"
   },
   {
    "duration": 19,
    "start_time": "2021-07-25T06:58:21.307Z"
   },
   {
    "duration": 15,
    "start_time": "2021-07-25T06:58:21.329Z"
   },
   {
    "duration": 24,
    "start_time": "2021-07-25T06:58:21.347Z"
   },
   {
    "duration": 27,
    "start_time": "2021-07-25T06:58:21.375Z"
   },
   {
    "duration": 65,
    "start_time": "2021-07-25T06:58:21.405Z"
   },
   {
    "duration": 9,
    "start_time": "2021-07-25T06:58:21.473Z"
   },
   {
    "duration": 138,
    "start_time": "2021-07-25T06:58:21.484Z"
   },
   {
    "duration": 40,
    "start_time": "2021-07-25T06:58:21.625Z"
   },
   {
    "duration": 47,
    "start_time": "2021-07-25T06:58:21.667Z"
   },
   {
    "duration": 8,
    "start_time": "2021-07-25T06:58:21.716Z"
   },
   {
    "duration": 13,
    "start_time": "2021-07-25T06:58:21.726Z"
   },
   {
    "duration": 13,
    "start_time": "2021-07-25T06:58:21.741Z"
   },
   {
    "duration": 13,
    "start_time": "2021-07-25T06:58:21.756Z"
   },
   {
    "duration": 13,
    "start_time": "2021-07-25T06:58:21.772Z"
   },
   {
    "duration": 16,
    "start_time": "2021-07-25T06:58:21.787Z"
   },
   {
    "duration": 132,
    "start_time": "2021-07-25T06:58:21.806Z"
   },
   {
    "duration": 73,
    "start_time": "2021-07-25T06:58:21.941Z"
   }
  ],
  "kernelspec": {
   "display_name": "Python 3",
   "language": "python",
   "name": "python3"
  },
  "language_info": {
   "codemirror_mode": {
    "name": "ipython",
    "version": 3
   },
   "file_extension": ".py",
   "mimetype": "text/x-python",
   "name": "python",
   "nbconvert_exporter": "python",
   "pygments_lexer": "ipython3",
   "version": "3.8.8"
  },
  "toc": {
   "base_numbering": 1,
   "nav_menu": {},
   "number_sections": true,
   "sideBar": true,
   "skip_h1_title": true,
   "title_cell": "Table of Contents",
   "title_sidebar": "Contents",
   "toc_cell": false,
   "toc_position": {},
   "toc_section_display": true,
   "toc_window_display": false
  }
 },
 "nbformat": 4,
 "nbformat_minor": 2
}
