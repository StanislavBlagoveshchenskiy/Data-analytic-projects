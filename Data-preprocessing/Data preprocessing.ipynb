{
 "cells": [
  {
   "cell_type": "markdown",
   "metadata": {},
   "source": [
    "# Исследование надёжности заёмщиков\n",
    "\n",
    "Заказчик — кредитный отдел банка. Нужно разобраться, влияет ли семейное положение и количество детей клиента на факт погашения кредита в срок. Входные данные от банка — статистика о платёжеспособности клиентов.\n",
    "\n",
    "Результаты исследования будут учтены при построении модели **кредитного скоринга** — специальной системы, которая оценивает способность потенциального заёмщика вернуть кредит банку."
   ]
  },
  {
   "cell_type": "markdown",
   "metadata": {},
   "source": [
    "## Шаг 1. Откройте файл с данными и изучите общую информацию"
   ]
  },
  {
   "cell_type": "code",
   "execution_count": 1,
   "metadata": {},
   "outputs": [],
   "source": [
    "import pandas as pd # импорт библиотеки pandas и ее запись в переменной pd\n",
    "from pymystem3 import Mystem # импорт функции Mystem из библиотеки pymystem3  \n",
    "from collections import Counter # импорт функции Counter из библиотеки collections"
   ]
  },
  {
   "cell_type": "code",
   "execution_count": 2,
   "metadata": {
    "scrolled": true
   },
   "outputs": [
    {
     "name": "stdout",
     "output_type": "stream",
     "text": [
      "   children  days_employed  dob_years education  education_id  \\\n",
      "0         1   -8437.673028         42    высшее             0   \n",
      "1         1   -4024.803754         36   среднее             1   \n",
      "2         0   -5623.422610         33   Среднее             1   \n",
      "3         3   -4124.747207         32   среднее             1   \n",
      "4         0  340266.072047         53   среднее             1   \n",
      "\n",
      "      family_status  family_status_id gender income_type  debt   total_income  \\\n",
      "0   женат / замужем                 0      F   сотрудник     0  253875.639453   \n",
      "1   женат / замужем                 0      F   сотрудник     0  112080.014102   \n",
      "2   женат / замужем                 0      M   сотрудник     0  145885.952297   \n",
      "3   женат / замужем                 0      M   сотрудник     0  267628.550329   \n",
      "4  гражданский брак                 1      F   пенсионер     0  158616.077870   \n",
      "\n",
      "                      purpose  \n",
      "0               покупка жилья  \n",
      "1     приобретение автомобиля  \n",
      "2               покупка жилья  \n",
      "3  дополнительное образование  \n",
      "4             сыграть свадьбу  \n",
      "<class 'pandas.core.frame.DataFrame'>\n",
      "RangeIndex: 21525 entries, 0 to 21524\n",
      "Data columns (total 12 columns):\n",
      "children            21525 non-null int64\n",
      "days_employed       19351 non-null float64\n",
      "dob_years           21525 non-null int64\n",
      "education           21525 non-null object\n",
      "education_id        21525 non-null int64\n",
      "family_status       21525 non-null object\n",
      "family_status_id    21525 non-null int64\n",
      "gender              21525 non-null object\n",
      "income_type         21525 non-null object\n",
      "debt                21525 non-null int64\n",
      "total_income        19351 non-null float64\n",
      "purpose             21525 non-null object\n",
      "dtypes: float64(2), int64(5), object(5)\n",
      "memory usage: 2.0+ MB\n"
     ]
    },
    {
     "data": {
      "text/html": [
       "<div>\n",
       "<style scoped>\n",
       "    .dataframe tbody tr th:only-of-type {\n",
       "        vertical-align: middle;\n",
       "    }\n",
       "\n",
       "    .dataframe tbody tr th {\n",
       "        vertical-align: top;\n",
       "    }\n",
       "\n",
       "    .dataframe thead th {\n",
       "        text-align: right;\n",
       "    }\n",
       "</style>\n",
       "<table border=\"1\" class=\"dataframe\">\n",
       "  <thead>\n",
       "    <tr style=\"text-align: right;\">\n",
       "      <th></th>\n",
       "      <th>children</th>\n",
       "      <th>days_employed</th>\n",
       "      <th>dob_years</th>\n",
       "      <th>education_id</th>\n",
       "      <th>family_status_id</th>\n",
       "      <th>debt</th>\n",
       "      <th>total_income</th>\n",
       "    </tr>\n",
       "  </thead>\n",
       "  <tbody>\n",
       "    <tr>\n",
       "      <td>count</td>\n",
       "      <td>21525.000000</td>\n",
       "      <td>19351.000000</td>\n",
       "      <td>21525.000000</td>\n",
       "      <td>21525.000000</td>\n",
       "      <td>21525.000000</td>\n",
       "      <td>21525.000000</td>\n",
       "      <td>1.935100e+04</td>\n",
       "    </tr>\n",
       "    <tr>\n",
       "      <td>mean</td>\n",
       "      <td>0.538908</td>\n",
       "      <td>63046.497661</td>\n",
       "      <td>43.293380</td>\n",
       "      <td>0.817236</td>\n",
       "      <td>0.972544</td>\n",
       "      <td>0.080883</td>\n",
       "      <td>1.674223e+05</td>\n",
       "    </tr>\n",
       "    <tr>\n",
       "      <td>std</td>\n",
       "      <td>1.381587</td>\n",
       "      <td>140827.311974</td>\n",
       "      <td>12.574584</td>\n",
       "      <td>0.548138</td>\n",
       "      <td>1.420324</td>\n",
       "      <td>0.272661</td>\n",
       "      <td>1.029716e+05</td>\n",
       "    </tr>\n",
       "    <tr>\n",
       "      <td>min</td>\n",
       "      <td>-1.000000</td>\n",
       "      <td>-18388.949901</td>\n",
       "      <td>0.000000</td>\n",
       "      <td>0.000000</td>\n",
       "      <td>0.000000</td>\n",
       "      <td>0.000000</td>\n",
       "      <td>2.066726e+04</td>\n",
       "    </tr>\n",
       "    <tr>\n",
       "      <td>25%</td>\n",
       "      <td>0.000000</td>\n",
       "      <td>-2747.423625</td>\n",
       "      <td>33.000000</td>\n",
       "      <td>1.000000</td>\n",
       "      <td>0.000000</td>\n",
       "      <td>0.000000</td>\n",
       "      <td>1.030532e+05</td>\n",
       "    </tr>\n",
       "    <tr>\n",
       "      <td>50%</td>\n",
       "      <td>0.000000</td>\n",
       "      <td>-1203.369529</td>\n",
       "      <td>42.000000</td>\n",
       "      <td>1.000000</td>\n",
       "      <td>0.000000</td>\n",
       "      <td>0.000000</td>\n",
       "      <td>1.450179e+05</td>\n",
       "    </tr>\n",
       "    <tr>\n",
       "      <td>75%</td>\n",
       "      <td>1.000000</td>\n",
       "      <td>-291.095954</td>\n",
       "      <td>53.000000</td>\n",
       "      <td>1.000000</td>\n",
       "      <td>1.000000</td>\n",
       "      <td>0.000000</td>\n",
       "      <td>2.034351e+05</td>\n",
       "    </tr>\n",
       "    <tr>\n",
       "      <td>max</td>\n",
       "      <td>20.000000</td>\n",
       "      <td>401755.400475</td>\n",
       "      <td>75.000000</td>\n",
       "      <td>4.000000</td>\n",
       "      <td>4.000000</td>\n",
       "      <td>1.000000</td>\n",
       "      <td>2.265604e+06</td>\n",
       "    </tr>\n",
       "  </tbody>\n",
       "</table>\n",
       "</div>"
      ],
      "text/plain": [
       "           children  days_employed     dob_years  education_id  \\\n",
       "count  21525.000000   19351.000000  21525.000000  21525.000000   \n",
       "mean       0.538908   63046.497661     43.293380      0.817236   \n",
       "std        1.381587  140827.311974     12.574584      0.548138   \n",
       "min       -1.000000  -18388.949901      0.000000      0.000000   \n",
       "25%        0.000000   -2747.423625     33.000000      1.000000   \n",
       "50%        0.000000   -1203.369529     42.000000      1.000000   \n",
       "75%        1.000000    -291.095954     53.000000      1.000000   \n",
       "max       20.000000  401755.400475     75.000000      4.000000   \n",
       "\n",
       "       family_status_id          debt  total_income  \n",
       "count      21525.000000  21525.000000  1.935100e+04  \n",
       "mean           0.972544      0.080883  1.674223e+05  \n",
       "std            1.420324      0.272661  1.029716e+05  \n",
       "min            0.000000      0.000000  2.066726e+04  \n",
       "25%            0.000000      0.000000  1.030532e+05  \n",
       "50%            0.000000      0.000000  1.450179e+05  \n",
       "75%            1.000000      0.000000  2.034351e+05  \n",
       "max            4.000000      1.000000  2.265604e+06  "
      ]
     },
     "execution_count": 2,
     "metadata": {},
     "output_type": "execute_result"
    }
   ],
   "source": [
    "data = pd.read_csv('/datasets/data.csv') # читаем исходную таблицу и записываем ее в переменную data\n",
    "print(data.head()) # для ознакомления с таблицей напечатаем 10 первых строк из таблицы\n",
    "data.info() # применяем метод .info к исходным данным, чтобы их проанализировать.\n",
    "data.describe() # применяем метод .describe к исходным данным, чтобы их проанализировать."
   ]
  },
  {
   "cell_type": "markdown",
   "metadata": {},
   "source": [
    "**Вывод**"
   ]
  },
  {
   "cell_type": "markdown",
   "metadata": {},
   "source": [
    "При первом взгляде на таблицу можно заметить, что есть пропущенные значения с столбцах days_employed и total_income. Так же в исходной таблице можно выделить следующие типы переменных: логические - debt; количественные - children, days_employed, dob_years, total_income; остальные данные будут относится к категориальным переменным. Так как у нас пропущенные значения в количественных переменных, то будем использовать характерные значения из нашей выборки, применяя к ним методы нахождения среднего арифметического или медианы. Кроме того, явная проблема с данными в столбце days_employed: большинство из них отрицательные, за исключением тех, где income_type = пенсионер (и не смотря на то, что они положительные, они чрезмерно велики для трудового стажа). Так же тип данных для столбца days_employed (общий трудовой стаж в днях) не является целым числом, а дробным, с плавающей точкой (float64)."
   ]
  },
  {
   "cell_type": "markdown",
   "metadata": {},
   "source": [
    "## Шаг 2. Предобработка данных"
   ]
  },
  {
   "cell_type": "markdown",
   "metadata": {},
   "source": [
    "### Обработка пропусков"
   ]
  },
  {
   "cell_type": "code",
   "execution_count": 3,
   "metadata": {},
   "outputs": [
    {
     "name": "stdout",
     "output_type": "stream",
     "text": [
      "children               0\n",
      "days_employed       2174\n",
      "dob_years              0\n",
      "education              0\n",
      "education_id           0\n",
      "family_status          0\n",
      "family_status_id       0\n",
      "gender                 0\n",
      "income_type            0\n",
      "debt                   0\n",
      "total_income        2174\n",
      "purpose                0\n",
      "dtype: int64\n",
      "<class 'pandas.core.frame.DataFrame'>\n",
      "RangeIndex: 21525 entries, 0 to 21524\n",
      "Data columns (total 12 columns):\n",
      "children            21525 non-null int64\n",
      "days_employed       21525 non-null float64\n",
      "dob_years           21525 non-null int64\n",
      "education           21525 non-null object\n",
      "education_id        21525 non-null int64\n",
      "family_status       21525 non-null object\n",
      "family_status_id    21525 non-null int64\n",
      "gender              21525 non-null object\n",
      "income_type         21525 non-null object\n",
      "debt                21525 non-null int64\n",
      "total_income        21525 non-null float64\n",
      "purpose             21525 non-null object\n",
      "dtypes: float64(2), int64(5), object(5)\n",
      "memory usage: 2.0+ MB\n"
     ]
    }
   ],
   "source": [
    "print(data.isnull().sum()) # находим количество пропущенных значений\n",
    "\n",
    "# заполним пропущенные значения в столбце total_income средними значениями, в зависимости от типа занятости:\n",
    "data['total_income'] = data['total_income'].fillna(data.groupby('income_type')['total_income'].transform('mean')) \n",
    "\n",
    "# заполним пропущенные значения в столбце days_employed средними значениями, в зависимости от типа занятости:\n",
    "data['days_employed'] = data['days_employed'].fillna(data.groupby('income_type')['days_employed'].transform('mean'))\n",
    "\n",
    "data.info() # визуальная проверка данных чтобы убедиться, что у нас нет пропущенных значений\n"
   ]
  },
  {
   "cell_type": "markdown",
   "metadata": {},
   "source": [
    "**Вывод**"
   ]
  },
  {
   "cell_type": "markdown",
   "metadata": {},
   "source": [
    "Мы избавились от пропущенных значений в наших данных. Пропущенные значения в столбце ежемесячного дохода мы заменили на среднее арифметическое, а пропущенные значения в столбце трудовой стаж заменили на среднее, посчитанное методом медианы. Применили метод медианы так как в данных есть артефакты, которые сильно выделяются по значениям (где income_type = пенсионер). Пропуски в данных могли образоваться из-за того, что эти данные не были заполнены в заявке при оформлении кредита. Отрицательные значения трудового стажа могли образоваться из-за разности: \"начало трудовой деятельности\" - \"дата заполнения заявки на кредит\" (или \"дата выдачи кредита\"). Почему у пенсионеров получились такие огромные цифры трудового стажа, сложно объяснить, возможно эти значения прописвыаются автоматически, если клиент указал, что является пенсионером."
   ]
  },
  {
   "cell_type": "markdown",
   "metadata": {},
   "source": [
    "### Замена типа данных"
   ]
  },
  {
   "cell_type": "code",
   "execution_count": 4,
   "metadata": {},
   "outputs": [
    {
     "name": "stdout",
     "output_type": "stream",
     "text": [
      "<class 'pandas.core.frame.DataFrame'>\n",
      "RangeIndex: 21525 entries, 0 to 21524\n",
      "Data columns (total 12 columns):\n",
      "children            21525 non-null int64\n",
      "days_employed       21525 non-null int64\n",
      "dob_years           21525 non-null int64\n",
      "education           21525 non-null object\n",
      "education_id        21525 non-null int64\n",
      "family_status       21525 non-null object\n",
      "family_status_id    21525 non-null int64\n",
      "gender              21525 non-null object\n",
      "income_type         21525 non-null object\n",
      "debt                21525 non-null int64\n",
      "total_income        21525 non-null float64\n",
      "purpose             21525 non-null object\n",
      "dtypes: float64(1), int64(6), object(5)\n",
      "memory usage: 2.0+ MB\n"
     ]
    }
   ],
   "source": [
    "data['education'] = data['education'].str.lower() # приведем все значения столбца education книжнему регистру\n",
    "# переводим значения трудового стажа из вещественного типа в целочисленный тип данных\n",
    "data['days_employed'] = data['days_employed'].astype('int')\n",
    "data.info()"
   ]
  },
  {
   "cell_type": "markdown",
   "metadata": {},
   "source": [
    "**Вывод**"
   ]
  },
  {
   "cell_type": "markdown",
   "metadata": {},
   "source": [
    "Для данных из столбца трудового стажа изменили тип данных с вещественного на целочисленный"
   ]
  },
  {
   "cell_type": "markdown",
   "metadata": {},
   "source": [
    "### Обработка дубликатов"
   ]
  },
  {
   "cell_type": "code",
   "execution_count": 5,
   "metadata": {},
   "outputs": [
    {
     "name": "stdout",
     "output_type": "stream",
     "text": [
      "71\n",
      "0\n"
     ]
    }
   ],
   "source": [
    "print(data.duplicated().sum()) # находим количество дубликатов в данных\n",
    "data = data.drop_duplicates().reset_index(drop = True) # удаляем дубликаты из данных и перезаписываем индексы\n",
    "print(data.duplicated().sum()) # проверяем остались ли дубликаты"
   ]
  },
  {
   "cell_type": "markdown",
   "metadata": {},
   "source": [
    "**Вывод**"
   ]
  },
  {
   "cell_type": "markdown",
   "metadata": {},
   "source": [
    "Удалили дубликаты из данных, так же удалили номера индексов для дубликатов и перезаписали их по поряку."
   ]
  },
  {
   "cell_type": "markdown",
   "metadata": {},
   "source": [
    "### Лемматизация"
   ]
  },
  {
   "cell_type": "code",
   "execution_count": 6,
   "metadata": {},
   "outputs": [
    {
     "name": "stdout",
     "output_type": "stream",
     "text": [
      "Counter({'автомобиль \\n': 972, 'свадьба \\n': 791, 'на   проведение   свадьба \\n': 768, 'сыграть   свадьба \\n': 765, 'операция   с   недвижимость \\n': 675, 'покупка   коммерческий   недвижимость \\n': 661, 'операция   с   жилье \\n': 652, 'покупка   жилье   для   сдача \\n': 651, 'операция   с   коммерческий   недвижимость \\n': 650, 'покупка   жилье \\n': 646, 'жилье \\n': 646, 'покупка   жилье   для   семья \\n': 638, 'строительство   собственный   недвижимость \\n': 635, 'недвижимость \\n': 633, 'операция   со   свой   недвижимость \\n': 627, 'строительство   жилой   недвижимость \\n': 624, 'покупка   недвижимость \\n': 621, 'покупка   свой   жилье \\n': 620, 'строительство   недвижимость \\n': 619, 'ремонт   жилье \\n': 607, 'покупка   жилой   недвижимость \\n': 606, 'на   покупка   свой   автомобиль \\n': 505, 'заниматься   высокий   образование \\n': 496, 'сделка   с   подержанный   автомобиль \\n': 486, 'на   покупка   подержать   автомобиль \\n': 478, 'свой   автомобиль \\n': 478, 'на   покупка   автомобиль \\n': 471, 'приобретение   автомобиль \\n': 461, 'дополнительный   образование \\n': 460, 'сделка   с   автомобиль \\n': 455, 'высокий   образование \\n': 452, 'образование \\n': 447, 'получение   дополнительный   образование \\n': 446, 'получение   образование \\n': 442, 'профильный   образование \\n': 436, 'получение   высокий   образование \\n': 426, 'заниматься   образование \\n': 408})\n"
     ]
    }
   ],
   "source": [
    "m = Mystem()\n",
    "lemmas = data['purpose'].apply(lambda x: ' '.join(m.lemmatize(x))) # применим лемматизацию для каждого значения из столбца purpose \n",
    "print(Counter(lemmas)) # вывод на экран числа упомянутых причин для получения кредита\n"
   ]
  },
  {
   "cell_type": "markdown",
   "metadata": {},
   "source": [
    "**Вывод**"
   ]
  },
  {
   "cell_type": "markdown",
   "metadata": {},
   "source": [
    "Чаще всего за кредитом обращаются с целью приобретения автомобиля и недвижимости, реже - на оплату дополнительного образования и празднование свадьбы."
   ]
  },
  {
   "cell_type": "markdown",
   "metadata": {},
   "source": [
    "### Категоризация данных"
   ]
  },
  {
   "cell_type": "code",
   "execution_count": 7,
   "metadata": {},
   "outputs": [
    {
     "name": "stdout",
     "output_type": "stream",
     "text": [
      "      income_type  debt\n",
      "0       сотрудник     0\n",
      "1       сотрудник     0\n",
      "2       сотрудник     0\n",
      "3       сотрудник     0\n",
      "4       пенсионер     0\n",
      "...           ...   ...\n",
      "21449   компаньон     0\n",
      "21450   пенсионер     0\n",
      "21451   сотрудник     1\n",
      "21452   сотрудник     1\n",
      "21453   сотрудник     0\n",
      "\n",
      "[21454 rows x 2 columns]\n",
      "income_type\n",
      "безработный           1\n",
      "в декрете             1\n",
      "госслужащий          86\n",
      "компаньон           376\n",
      "пенсионер           216\n",
      "предприниматель       0\n",
      "сотрудник          1061\n",
      "студент               0\n",
      "Name: debt, dtype: int64\n",
      "income_type\n",
      "безработный            2\n",
      "в декрете              1\n",
      "госслужащий         1457\n",
      "компаньон           5078\n",
      "пенсионер           3829\n",
      "предприниматель        2\n",
      "сотрудник          11084\n",
      "студент                1\n",
      "Name: debt, dtype: int64\n"
     ]
    }
   ],
   "source": [
    "# выделяем столбцы с типом занятости и наличием просрочек по кредиту в отдельную таблицу:\n",
    "income_type_dict = data[['income_type', 'debt']]\n",
    "# группируем новую таблицу по типу занятости и считаем суммарное кол-во просрочек, сохраняя в отдельную переменную:\n",
    "income_type_dict_1 = income_type_dict.groupby('income_type')['debt'].sum()\n",
    "# группируем новую таблицу по типу занятости и считаем кол-во выданных кредитов, сохраняя в отдельную переменную:\n",
    "income_type_dict_2 = income_type_dict.groupby('income_type')['debt'].count()\n",
    "print(income_type_dict) # вывод новой таблицы с типом занятости и наличием просрочек по кредиту\n",
    "print(income_type_dict_1) # вывод сгруппированной таблицы по типу занятости и кол-вом просрочек\n",
    "print(income_type_dict_2) # вывод сгруппированной таблицы по типу занятости и кол-ву выданных кредитов"
   ]
  },
  {
   "cell_type": "code",
   "execution_count": 8,
   "metadata": {},
   "outputs": [
    {
     "name": "stdout",
     "output_type": "stream",
     "text": [
      "       children  debt\n",
      "0             1     0\n",
      "1             1     0\n",
      "2             0     0\n",
      "3             3     0\n",
      "4             0     0\n",
      "...         ...   ...\n",
      "21449         1     0\n",
      "21450         0     0\n",
      "21451         1     1\n",
      "21452         3     1\n",
      "21453         2     0\n",
      "\n",
      "[21454 rows x 2 columns]\n",
      "children\n",
      "-1        1\n",
      " 0     1063\n",
      " 1      444\n",
      " 2      194\n",
      " 3       27\n",
      " 4        4\n",
      " 5        0\n",
      " 20       8\n",
      "Name: debt, dtype: int64\n",
      "children\n",
      "-1        47\n",
      " 0     14091\n",
      " 1      4808\n",
      " 2      2052\n",
      " 3       330\n",
      " 4        41\n",
      " 5         9\n",
      " 20       76\n",
      "Name: debt, dtype: int64\n"
     ]
    }
   ],
   "source": [
    "# выделяем столбцы с кол-вом детей и наличием просрочек по кредиту в отдельную таблицу:\n",
    "children_dict = data[['children', 'debt']]\n",
    "# группируем новую таблицу по кол-ву детей и считаем суммарное кол-во просрочек, сохраняя в отдельную переменную:\n",
    "children_dict_1 = children_dict.groupby('children')['debt'].sum()\n",
    "# группируем новую таблицу по кол-ву детей и считаем кол-во выданных кредитов, сохраняя в отдельную переменную:\n",
    "children_dict_2 = children_dict.groupby('children')['debt'].count()\n",
    "print(children_dict) # вывод новой таблицы с количеством детей и наличием просрочек по кредиту\n",
    "print(children_dict_1) # вывод сгруппированной таблицы по кол-ву детей и кол-вом просрочек\n",
    "print(children_dict_2) # вывод сгруппированной таблицы по кол-ву детей и кол-ву выданных кредитов"
   ]
  },
  {
   "cell_type": "code",
   "execution_count": 9,
   "metadata": {
    "scrolled": true
   },
   "outputs": [
    {
     "name": "stdout",
     "output_type": "stream",
     "text": [
      "          family_status  family_status_id  debt\n",
      "0       женат / замужем                 0     0\n",
      "1       женат / замужем                 0     0\n",
      "2       женат / замужем                 0     0\n",
      "3       женат / замужем                 0     0\n",
      "4      гражданский брак                 1     0\n",
      "...                 ...               ...   ...\n",
      "21449  гражданский брак                 1     0\n",
      "21450   женат / замужем                 0     0\n",
      "21451  гражданский брак                 1     1\n",
      "21452   женат / замужем                 0     1\n",
      "21453   женат / замужем                 0     0\n",
      "\n",
      "[21454 rows x 3 columns]\n",
      "family_status_id\n",
      "0    931\n",
      "1    388\n",
      "2     63\n",
      "3     85\n",
      "4    274\n",
      "Name: debt, dtype: int64\n",
      "family_status_id\n",
      "0    12339\n",
      "1     4151\n",
      "2      959\n",
      "3     1195\n",
      "4     2810\n",
      "Name: debt, dtype: int64\n"
     ]
    }
   ],
   "source": [
    "# выделяем столбцы с семейным положением, индификатором семейного положения и наличием просрочек по кредиту в отдельную таблицу:\n",
    "family_status_dict = data[['family_status', 'family_status_id', 'debt']]\n",
    "# группируем новую таблицу по индификатору семейного положения и считаем суммарное кол-во просрочек, сохраняя в отдельную переменную:\n",
    "family_status_dict_1 = family_status_dict.groupby('family_status_id')['debt'].sum()\n",
    "# группируем новую таблицу по индификатору семейного положения и считаем кол-во выданных кредитов, сохраняя в отдельную переменную:\n",
    "family_status_dict_2 = family_status_dict.groupby('family_status_id')['debt'].count()\n",
    "print(family_status_dict) # вывод новой таблицы с семейным положением, индификатору семейного положения и наличием просрочек по кредиту\n",
    "print(family_status_dict_1) # вывод сгруппированной таблицы по индификатору семейного положения и кол-вом просрочек\n",
    "print(family_status_dict_2) # вывод сгруппированной таблицы по индификатору семейного положения и кол-ву выданных кредитов"
   ]
  },
  {
   "cell_type": "code",
   "execution_count": 10,
   "metadata": {},
   "outputs": [
    {
     "name": "stdout",
     "output_type": "stream",
     "text": [
      "      education  education_id  debt\n",
      "0        высшее             0     0\n",
      "1       среднее             1     0\n",
      "2       среднее             1     0\n",
      "3       среднее             1     0\n",
      "4       среднее             1     0\n",
      "...         ...           ...   ...\n",
      "21449   среднее             1     0\n",
      "21450   среднее             1     0\n",
      "21451   среднее             1     1\n",
      "21452   среднее             1     1\n",
      "21453   среднее             1     0\n",
      "\n",
      "[21454 rows x 3 columns]\n",
      "education_id\n",
      "0     278\n",
      "1    1364\n",
      "2      68\n",
      "3      31\n",
      "4       0\n",
      "Name: debt, dtype: int64\n",
      "education_id\n",
      "0     5250\n",
      "1    15172\n",
      "2      744\n",
      "3      282\n",
      "4        6\n",
      "Name: debt, dtype: int64\n"
     ]
    }
   ],
   "source": [
    "# выделяем столбцы с образованием, индификатором образования и наличием просрочек по кредиту в отдельную таблицу:\n",
    "education_dict = data[['education', 'education_id', 'debt']]\n",
    "# группируем новую таблицу по индификатору образования и считаем суммарное кол-во просрочек, сохраняя в отдельную переменную:\n",
    "education_dict_1 = education_dict.groupby('education_id')['debt'].sum()\n",
    "# группируем новую таблицу по индификатору образования и считаем кол-во выданных кредитов, сохраняя в отдельную переменную:\n",
    "education_dict_2 = education_dict.groupby('education_id')['debt'].count()\n",
    "print(education_dict) # вывод новой таблицы с образованием, индификатором образования и наличием просрочек по кредиту\n",
    "print(education_dict_1) # вывод сгруппированной таблицы по индификатору образования и кол-вом просрочек\n",
    "print(education_dict_2) # вывод сгруппированной таблицы по индификатору образования и кол-ву выданных кредитов"
   ]
  },
  {
   "cell_type": "code",
   "execution_count": 11,
   "metadata": {},
   "outputs": [
    {
     "name": "stdout",
     "output_type": "stream",
     "text": [
      "[5.295238095238095, 8.990245188505142, 9.13978494623656, 10.99290780141844, 0.0]\n"
     ]
    }
   ],
   "source": [
    "debt_depend_on_education = [] # создаем пустой список для значений просроченной задолжности в процентах\n",
    "for i in range(len(education_dict_1)): # объявляем цикл по всей длине сгруппированной таблицы\n",
    "    # считаем отношение количества кредитов с просроченной задолжность к общему количеству кредитов и переводим в %, умножив на 100:\n",
    "    element = (education_dict_1[i] / education_dict_2[i]) * 100 \n",
    "    debt_depend_on_education.append(element) # добавляем посчитанное отношение в созданный ранее пустой список\n",
    "print(debt_depend_on_education) # вывод списка с посчитанными элементами"
   ]
  },
  {
   "cell_type": "code",
   "execution_count": 12,
   "metadata": {},
   "outputs": [
    {
     "name": "stdout",
     "output_type": "stream",
     "text": [
      "['высшее' 'среднее' 'неоконченное высшее' 'начальное' 'ученая степень']\n"
     ]
    }
   ],
   "source": [
    "education_names = data['education'].unique() # сохраняем в переменную список с уникальными значениями из столбца education\n",
    "print(education_names) # вывод на экран списка с уникальными значениями из столбца education"
   ]
  },
  {
   "cell_type": "code",
   "execution_count": 13,
   "metadata": {},
   "outputs": [
    {
     "name": "stdout",
     "output_type": "stream",
     "text": [
      "[['высшее', 278, 5250, 5.295238095238095], ['среднее', 1364, 15172, 8.990245188505142], ['неоконченное высшее', 68, 744, 9.13978494623656], ['начальное', 31, 282, 10.99290780141844], ['ученая степень', 0, 6, 0.0]]\n"
     ]
    }
   ],
   "source": [
    "result = [] # создаем пустой список для создания списка списков\n",
    "for i in range(len(education_dict_1)): # объявляем цикл по всей длине списка education_dict_1\n",
    "    # создаем список для шага цикла и записываем туда элементы через запятую\n",
    "    item = [education_names[i], education_dict_1[i], education_dict_2[i], debt_depend_on_education[i]] \n",
    "    result.append(item) # добавляем список, созданный на каждом шаге цикла в пустой список, созданный вне цикла\n",
    "print(result) # вывод на экран списока списков"
   ]
  },
  {
   "cell_type": "code",
   "execution_count": 14,
   "metadata": {},
   "outputs": [
    {
     "name": "stdout",
     "output_type": "stream",
     "text": [
      "             education  part_of_credits_with_delayed  total_qty_of_credits  \\\n",
      "0               высшее                           278                  5250   \n",
      "1              среднее                          1364                 15172   \n",
      "2  неоконченное высшее                            68                   744   \n",
      "3            начальное                            31                   282   \n",
      "4       ученая степень                             0                     6   \n",
      "\n",
      "   percentage_of_arrears  \n",
      "0               5.295238  \n",
      "1               8.990245  \n",
      "2               9.139785  \n",
      "3              10.992908  \n",
      "4               0.000000  \n"
     ]
    }
   ],
   "source": [
    "# создаем список с названиями для столбцов\n",
    "columns_for_final_result = ['education', 'part_of_credits_with_delayed', 'total_qty_of_credits', 'percentage_of_arrears']\n",
    "# создаем таблицу методом DataFrame, где столбцы принимают значения из списка columns_for_final_result,\n",
    "# а данные берутся из списка списков result\n",
    "final_result_depend_on_education = pd.DataFrame(data=result , columns=columns_for_final_result)\n",
    "# вывод итоговой таблицы, где наглядно видна зависимость между уровенм образования и возвратом кредита в срок\n",
    "print(final_result_depend_on_education)"
   ]
  },
  {
   "cell_type": "markdown",
   "metadata": {},
   "source": [
    "**Вывод**"
   ]
  },
  {
   "cell_type": "markdown",
   "metadata": {},
   "source": [
    "При категоризации данных я ориентировался на те факторы, которые часто повторяются в данных и могут на возврат кредита в срок. Такими категориями стали: тип занятости, наличие детей, уровень образования и семейное положение. Все эти данные сводились в таблицу по очереди с данными по задержке в выплате кредитов. Например, видна зависимость между уровнем образования и возваратом кредита в срок: чем ниже уровень образования, тем выше вероятность того, что клиент допустит очередной платёж по кредиту."
   ]
  },
  {
   "cell_type": "markdown",
   "metadata": {},
   "source": [
    "## Шаг 3. Ответьте на вопросы"
   ]
  },
  {
   "cell_type": "markdown",
   "metadata": {},
   "source": [
    "- Есть ли зависимость между наличием детей и возвратом кредита в срок?"
   ]
  },
  {
   "cell_type": "code",
   "execution_count": 15,
   "metadata": {},
   "outputs": [],
   "source": [
    "# напишем функцию для определения к какой категории относится клиент в зависимости от количества детей:\n",
    "\n",
    "def children_group(childred):\n",
    "    if childred <= 0:\n",
    "        return 'нет детей'\n",
    "    if childred == 1:\n",
    "        return 'один ребёнок'\n",
    "    if childred == 2:\n",
    "        return 'двое детей'\n",
    "    else:\n",
    "        return 'многодетные'"
   ]
  },
  {
   "cell_type": "code",
   "execution_count": 16,
   "metadata": {},
   "outputs": [
    {
     "name": "stdout",
     "output_type": "stream",
     "text": [
      "                 sum  count  percentage_of_arrears\n",
      "children_group                                    \n",
      "двое детей       194   2052               9.454191\n",
      "многодетные       39    456               8.552632\n",
      "нет детей       1064  14138               7.525817\n",
      "один ребёнок     444   4808               9.234609\n"
     ]
    }
   ],
   "source": [
    "# добавляем новый столбец в таблицу с данными,\n",
    "# где с помощью нашей функции укажем к какой категории по количеству детей относится клиент:    \n",
    "data['children_group'] = data['children'].apply(children_group)\n",
    "\n",
    "# группируем таблицу по children_group, считаем суммарное кол-во просрочек и и считаем кол-во выданных кредитов:\n",
    "data_grouped_by_children_group = data.groupby('children_group')['debt'].agg(['sum', 'count'])\n",
    "\n",
    "# посчитаем в % выражении отношение кредитов с просроченной задолжностью к общему количеству кредитов:\n",
    "data_grouped_by_children_group['percentage_of_arrears'] = data_grouped_by_children_group['sum'] / data_grouped_by_children_group['count'] * 100\n",
    "\n",
    "print(data_grouped_by_children_group) # вывод результатов"
   ]
  },
  {
   "cell_type": "markdown",
   "metadata": {},
   "source": [
    "**Вывод**"
   ]
  },
  {
   "cell_type": "markdown",
   "metadata": {},
   "source": [
    "Наличие детей в семье незначительно увеличивает (на 1-2%) шанс того, что кредит не будет возвращён в срок. В текущих данных есть исключение в виде нескольких семей, где есть 5ро детей, и не было задержек в выплате кредита. Этим исключением можно пренебречь в нашем исследовании, так как таких семей значительно меньше, чем других семей с детьми."
   ]
  },
  {
   "cell_type": "markdown",
   "metadata": {},
   "source": [
    "- Есть ли зависимость между семейным положением и возвратом кредита в срок?"
   ]
  },
  {
   "cell_type": "code",
   "execution_count": 17,
   "metadata": {},
   "outputs": [],
   "source": [
    "# считаем отношение количества кредитов с просроченной задолжность к общему количеству кредитов и переводим в %, умножив на 100:\n",
    "debt_depend_on_family_status = family_status_dict_1 / family_status_dict_2 * 100"
   ]
  },
  {
   "cell_type": "code",
   "execution_count": 18,
   "metadata": {},
   "outputs": [
    {
     "name": "stdout",
     "output_type": "stream",
     "text": [
      "['женат / замужем' 'гражданский брак' 'вдовец / вдова' 'в разводе'\n",
      " 'Не женат / не замужем']\n"
     ]
    }
   ],
   "source": [
    "family_status_names = data['family_status'].unique() # сохраняем в переменную список с уникальными значениями из столбца family_status\n",
    "print(family_status_names) # вывод на экран списка с уникальными значениями из столбца family_status"
   ]
  },
  {
   "cell_type": "code",
   "execution_count": 19,
   "metadata": {},
   "outputs": [
    {
     "name": "stdout",
     "output_type": "stream",
     "text": [
      "[['женат / замужем', 931, 12339, 7.5451819434313965], ['гражданский брак', 388, 4151, 9.347145266200915], ['вдовец / вдова', 63, 959, 6.569343065693431], ['в разводе', 85, 1195, 7.112970711297072], ['Не женат / не замужем', 274, 2810, 9.750889679715302]]\n"
     ]
    }
   ],
   "source": [
    "result = [] # создаем пустой список для создания списка списков\n",
    "for i in range(len(family_status_dict_1)): # объявляем цикл по всей длине списка family_status_dict_1\n",
    "    # создаем список для шага цикла и записываем туда элементы через запятую\n",
    "    item = [family_status_names[i], family_status_dict_1[i], family_status_dict_2[i], debt_depend_on_family_status[i]] \n",
    "    result.append(item) # добавляем список, созданный на каждом шаге цикла в пустой список, созданный вне цикла\n",
    "print(result) # вывод на экран списока списков"
   ]
  },
  {
   "cell_type": "code",
   "execution_count": 20,
   "metadata": {},
   "outputs": [
    {
     "name": "stdout",
     "output_type": "stream",
     "text": [
      "           family_status  part_of_credits_with_delayed  total_qty_of_credits  \\\n",
      "0        женат / замужем                           931                 12339   \n",
      "1       гражданский брак                           388                  4151   \n",
      "2         вдовец / вдова                            63                   959   \n",
      "3              в разводе                            85                  1195   \n",
      "4  Не женат / не замужем                           274                  2810   \n",
      "\n",
      "   percentage_of_arrears  \n",
      "0               7.545182  \n",
      "1               9.347145  \n",
      "2               6.569343  \n",
      "3               7.112971  \n",
      "4               9.750890  \n"
     ]
    }
   ],
   "source": [
    "# создаем список с названиями для столбцов\n",
    "columns_for_final_result = ['family_status', 'part_of_credits_with_delayed', 'total_qty_of_credits', 'percentage_of_arrears']\n",
    "# создаем таблицу методом DataFrame, где столбцы принимают значения из списка columns_for_final_result,\n",
    "# а данные берутся из списка списков result\n",
    "final_result_depend_on_education = pd.DataFrame(data=result , columns=columns_for_final_result)\n",
    "# вывод итоговой таблицы, где наглядно видно, что нет четкой зависимости между семейным положением и возвратом кредита в срок\n",
    "print(final_result_depend_on_education)"
   ]
  },
  {
   "cell_type": "markdown",
   "metadata": {},
   "source": [
    "**Вывод**"
   ]
  },
  {
   "cell_type": "markdown",
   "metadata": {},
   "source": [
    "Хуже всех кредит платят те, кто не состоят в браке или живут в гражданском браке."
   ]
  },
  {
   "cell_type": "markdown",
   "metadata": {},
   "source": [
    "- Есть ли зависимость между уровнем дохода и возвратом кредита в срок?"
   ]
  },
  {
   "cell_type": "code",
   "execution_count": 21,
   "metadata": {},
   "outputs": [
    {
     "name": "stdout",
     "output_type": "stream",
     "text": [
      "                           sum  count  percentage_of_arrears\n",
      "salary_gruop_1                                              \n",
      "(20667.263, 107623.857]    427   5364               7.960477\n",
      "(107623.857, 151887.538]   475   5363               8.856983\n",
      "(151887.538, 202417.461]   494   5818               8.490890\n",
      "(202417.461, 2265604.029]  345   4909               7.027908\n"
     ]
    }
   ],
   "source": [
    "# разобьем столбец total_income на 4 интервала, в каждом из которых будет приблизительно одинаковые количество клиентов:\n",
    "data['salary_gruop_1'] = pd.qcut(data['total_income'], 4)\n",
    "\n",
    "#группируем таблицу по интервалам и в каждом из них считаем количетсво\n",
    "#кредитов с просроченной задолжностью и общее количество выданных кредитов:\n",
    "data_grouped_by_salary_3 = data.groupby('salary_gruop_1')['debt'].agg(['sum', 'count']) \n",
    "\n",
    "# посчитаем в % выражении отношение кредитов с просроченной задолжностью к общему количеству кредитов\n",
    "data_grouped_by_salary_3['percentage_of_arrears'] = data_grouped_by_salary_3['sum'] / data_grouped_by_salary_3['count'] * 100\n",
    "\n",
    "print(data_grouped_by_salary_3) # вывод результатов"
   ]
  },
  {
   "cell_type": "markdown",
   "metadata": {},
   "source": [
    "**Вывод**"
   ]
  },
  {
   "cell_type": "markdown",
   "metadata": {},
   "source": [
    "Размер дохода не влияет на возврат кредита в срок."
   ]
  },
  {
   "cell_type": "markdown",
   "metadata": {},
   "source": [
    "- Как разные цели кредита влияют на его возврат в срок?"
   ]
  },
  {
   "cell_type": "code",
   "execution_count": 22,
   "metadata": {},
   "outputs": [],
   "source": [
    "m = Mystem() \n",
    "new_list = [] # создание пустого списка\n",
    "for i in range(len(data)): # объявляем цикл по всей длине нашей таблицы с дынными \n",
    "    lemmas = ' '.join(m.lemmatize(data['purpose'][i])) # лемматизируем каждое значение в столбце purpose\n",
    "    new_list.append(str(lemmas)) # добавляем в список лемму в формате строки\n",
    "data['lemmas_of_purpose'] = new_list # добавим новый столбец с лемматизированными значениями цели кредита "
   ]
  },
  {
   "cell_type": "code",
   "execution_count": 23,
   "metadata": {},
   "outputs": [],
   "source": [
    "# напишем функцию для определения причины взятие кредита в одно слово:\n",
    "# функция должна возвращать значения жилье, недвижимость, свадьба, автомобиль или образование\n",
    "\n",
    "def purpose_of_credit(lemmas_of_purpose):\n",
    "    if 'жилье' in lemmas_of_purpose:\n",
    "        return 'жилье'\n",
    "    if 'автомобиль' in lemmas_of_purpose:\n",
    "        return 'автомобиль'\n",
    "    if 'недвижимость' in lemmas_of_purpose:\n",
    "        return 'недвижимость'\n",
    "    if 'свадьба' in lemmas_of_purpose:\n",
    "        return 'свадьба'\n",
    "    if 'образование' in lemmas_of_purpose:\n",
    "        return 'образование'"
   ]
  },
  {
   "cell_type": "code",
   "execution_count": 24,
   "metadata": {},
   "outputs": [
    {
     "name": "stdout",
     "output_type": "stream",
     "text": [
      "purpose_of_credit\n",
      "автомобиль      9.359034\n",
      "жилье           6.905830\n",
      "недвижимость    7.463392\n",
      "образование     9.220035\n",
      "свадьба         8.003442\n",
      "Name: debt, dtype: float64\n"
     ]
    }
   ],
   "source": [
    "data['purpose_of_credit'] = data['lemmas_of_purpose'].apply(purpose_of_credit) # применяем нашу функцию к столбцу lemmas_of_purpose\n",
    "# группируем таблицу по цели кредита и считаем суммарное кол-во просрочек, сохраняя в отдельную переменную:\n",
    "data_grouped_by_purpose_of_credit_1 = data.groupby('purpose_of_credit')['debt'].sum()\n",
    "# группируем таблицу по цели кредита и считаем кол-во выданных кредитов, сохраняя в отдельную переменную:\n",
    "data_grouped_by_purpose_of_credit_2 = data.groupby('purpose_of_credit')['debt'].count()\n",
    "# считаем отношение количества кредитов с просроченной задолжность к общему количеству кредитов и переводим в %, умножив на 100:\n",
    "debt_depend_on_purpose_of_credit = data_grouped_by_purpose_of_credit_1 / data_grouped_by_purpose_of_credit_2 * 100\n",
    "print(debt_depend_on_purpose_of_credit)"
   ]
  },
  {
   "cell_type": "markdown",
   "metadata": {},
   "source": [
    "**Вывод**"
   ]
  },
  {
   "cell_type": "markdown",
   "metadata": {},
   "source": [
    "Клиенты, которые взяли кредит для улучшения жилищных условий платят немного лучше тех клиентов, которые взяли кредит на другие цели."
   ]
  },
  {
   "cell_type": "markdown",
   "metadata": {},
   "source": [
    "## Шаг 4. Общий вывод"
   ]
  },
  {
   "cell_type": "markdown",
   "metadata": {},
   "source": [
    "Наш анализ показал, что клиент, которые состоят в браке чаще возвращают кредит в срок. С другой стороны, если в семье есть дети, то это увеличивает шанс того, что кредит не смогут вернуть в срок, так как клиенты без детей чаще возвращают кредит в срок. Возможно, это связано с тем, что если у клиента есть дети, то у него чаще возникают непредвиденные расходы и не всегда удается вернуть кредит в срок. Так же в ходе анализа удалось выяснить, что кредит, взятый с целью улучшения жилищных условий выплачивается лучше, нежели кредит взятый на другие цели. Размер дохода не влияет на возврат кредита в срок, а оразование клиента, наоборот, влияет: образованные люди чаще возвращают кредит в срок."
   ]
  }
 ],
 "metadata": {
  "ExecuteTimeLog": [
   {
    "duration": 1173,
    "start_time": "2021-07-11T10:17:12.134Z"
   },
   {
    "duration": 50,
    "start_time": "2021-07-11T10:17:13.310Z"
   },
   {
    "duration": 30,
    "start_time": "2021-07-11T10:17:13.363Z"
   },
   {
    "duration": 93,
    "start_time": "2021-07-11T10:17:13.396Z"
   },
   {
    "duration": 4748,
    "start_time": "2021-07-11T10:17:13.491Z"
   },
   {
    "duration": 28,
    "start_time": "2021-07-11T10:17:18.241Z"
   },
   {
    "duration": 17,
    "start_time": "2021-07-11T10:17:18.272Z"
   },
   {
    "duration": 18,
    "start_time": "2021-07-11T10:17:18.293Z"
   },
   {
    "duration": 68,
    "start_time": "2021-07-11T10:17:18.314Z"
   },
   {
    "duration": 36,
    "start_time": "2021-07-11T10:17:18.384Z"
   },
   {
    "duration": 53,
    "start_time": "2021-07-11T10:17:18.423Z"
   },
   {
    "duration": 25,
    "start_time": "2021-07-11T10:17:18.479Z"
   },
   {
    "duration": 5907,
    "start_time": "2021-07-11T10:17:23.322Z"
   },
   {
    "duration": 1112,
    "start_time": "2021-07-27T06:27:06.689Z"
   },
   {
    "duration": 173,
    "start_time": "2021-07-27T06:27:07.804Z"
   },
   {
    "duration": 60,
    "start_time": "2021-07-27T06:27:07.980Z"
   },
   {
    "duration": 61,
    "start_time": "2021-07-27T06:27:08.044Z"
   },
   {
    "duration": 95,
    "start_time": "2021-07-27T06:27:08.108Z"
   },
   {
    "duration": 4797,
    "start_time": "2021-07-27T06:27:08.206Z"
   },
   {
    "duration": 26,
    "start_time": "2021-07-27T06:27:13.006Z"
   },
   {
    "duration": 17,
    "start_time": "2021-07-27T06:27:13.038Z"
   },
   {
    "duration": 54,
    "start_time": "2021-07-27T06:27:13.058Z"
   },
   {
    "duration": 18,
    "start_time": "2021-07-27T06:27:13.115Z"
   },
   {
    "duration": 6,
    "start_time": "2021-07-27T06:27:13.136Z"
   },
   {
    "duration": 14,
    "start_time": "2021-07-27T06:27:13.144Z"
   },
   {
    "duration": 7,
    "start_time": "2021-07-27T06:27:13.202Z"
   },
   {
    "duration": 14,
    "start_time": "2021-07-27T06:27:13.212Z"
   },
   {
    "duration": 8,
    "start_time": "2021-07-27T06:27:13.229Z"
   },
   {
    "duration": 67,
    "start_time": "2021-07-27T06:27:13.239Z"
   },
   {
    "duration": 5,
    "start_time": "2021-07-27T06:27:13.308Z"
   },
   {
    "duration": 11,
    "start_time": "2021-07-27T06:27:13.315Z"
   },
   {
    "duration": 8,
    "start_time": "2021-07-27T06:27:13.329Z"
   },
   {
    "duration": 15,
    "start_time": "2021-07-27T06:27:13.340Z"
   },
   {
    "duration": 77,
    "start_time": "2021-07-27T06:27:13.358Z"
   },
   {
    "duration": 5993,
    "start_time": "2021-07-27T06:27:13.437Z"
   },
   {
    "duration": 5,
    "start_time": "2021-07-27T06:27:19.434Z"
   },
   {
    "duration": 37,
    "start_time": "2021-07-27T06:27:19.442Z"
   }
  ],
  "kernelspec": {
   "display_name": "Python 3",
   "language": "python",
   "name": "python3"
  },
  "language_info": {
   "codemirror_mode": {
    "name": "ipython",
    "version": 3
   },
   "file_extension": ".py",
   "mimetype": "text/x-python",
   "name": "python",
   "nbconvert_exporter": "python",
   "pygments_lexer": "ipython3",
   "version": "3.8.8"
  },
  "toc": {
   "base_numbering": 1,
   "nav_menu": {},
   "number_sections": true,
   "sideBar": true,
   "skip_h1_title": true,
   "title_cell": "Table of Contents",
   "title_sidebar": "Contents",
   "toc_cell": false,
   "toc_position": {},
   "toc_section_display": true,
   "toc_window_display": false
  }
 },
 "nbformat": 4,
 "nbformat_minor": 2
}
