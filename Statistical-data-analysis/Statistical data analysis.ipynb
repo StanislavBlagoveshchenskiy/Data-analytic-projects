{
 "cells": [
  {
   "cell_type": "markdown",
   "metadata": {},
   "source": [
    "# Описание проекта"
   ]
  },
  {
   "cell_type": "markdown",
   "metadata": {},
   "source": [
    "Необходимо сделать предварительный анализ тарифов мобильного оператора на небольшой выборке клиентов. Клиентам предлагают два тарифных плана: «Смарт» и «Ультра». Чтобы скорректировать рекламный бюджет, коммерческий департамент хочет понять, какой тариф приносит больше денег. Нужно проанализировать поведение клиентов и сделать вывод — какой тариф лучше."
   ]
  },
  {
   "cell_type": "markdown",
   "metadata": {},
   "source": [
    "### Откройте файл с данными и изучите общую информацию"
   ]
  },
  {
   "cell_type": "code",
   "execution_count": 1,
   "metadata": {},
   "outputs": [],
   "source": [
    "import pandas as pd\n",
    "import numpy as np\n",
    "import matplotlib.pyplot as plt\n",
    "from scipy import stats as st"
   ]
  },
  {
   "cell_type": "code",
   "execution_count": 2,
   "metadata": {},
   "outputs": [],
   "source": [
    "# Прочтём все данные и сохраним в переменные:\n",
    "df_calls = pd.read_csv('/datasets/calls.csv')\n",
    "df_internet = pd.read_csv('/datasets/internet.csv')\n",
    "df_messages = pd.read_csv('/datasets/messages.csv')\n",
    "df_tariffs = pd.read_csv('/datasets/tariffs.csv')\n",
    "df_users = pd.read_csv('/datasets/users.csv')"
   ]
  },
  {
   "cell_type": "code",
   "execution_count": 3,
   "metadata": {},
   "outputs": [
    {
     "name": "stdout",
     "output_type": "stream",
     "text": [
      "<class 'pandas.core.frame.DataFrame'>\n",
      "RangeIndex: 202607 entries, 0 to 202606\n",
      "Data columns (total 4 columns):\n",
      "id           202607 non-null object\n",
      "call_date    202607 non-null object\n",
      "duration     202607 non-null float64\n",
      "user_id      202607 non-null int64\n",
      "dtypes: float64(1), int64(1), object(2)\n",
      "memory usage: 6.2+ MB\n"
     ]
    },
    {
     "data": {
      "text/html": [
       "<div>\n",
       "<style scoped>\n",
       "    .dataframe tbody tr th:only-of-type {\n",
       "        vertical-align: middle;\n",
       "    }\n",
       "\n",
       "    .dataframe tbody tr th {\n",
       "        vertical-align: top;\n",
       "    }\n",
       "\n",
       "    .dataframe thead th {\n",
       "        text-align: right;\n",
       "    }\n",
       "</style>\n",
       "<table border=\"1\" class=\"dataframe\">\n",
       "  <thead>\n",
       "    <tr style=\"text-align: right;\">\n",
       "      <th></th>\n",
       "      <th>duration</th>\n",
       "      <th>user_id</th>\n",
       "    </tr>\n",
       "  </thead>\n",
       "  <tbody>\n",
       "    <tr>\n",
       "      <td>count</td>\n",
       "      <td>202607.000000</td>\n",
       "      <td>202607.000000</td>\n",
       "    </tr>\n",
       "    <tr>\n",
       "      <td>mean</td>\n",
       "      <td>6.755887</td>\n",
       "      <td>1253.940619</td>\n",
       "    </tr>\n",
       "    <tr>\n",
       "      <td>std</td>\n",
       "      <td>5.843365</td>\n",
       "      <td>144.722751</td>\n",
       "    </tr>\n",
       "    <tr>\n",
       "      <td>min</td>\n",
       "      <td>0.000000</td>\n",
       "      <td>1000.000000</td>\n",
       "    </tr>\n",
       "    <tr>\n",
       "      <td>25%</td>\n",
       "      <td>1.300000</td>\n",
       "      <td>1126.000000</td>\n",
       "    </tr>\n",
       "    <tr>\n",
       "      <td>50%</td>\n",
       "      <td>6.000000</td>\n",
       "      <td>1260.000000</td>\n",
       "    </tr>\n",
       "    <tr>\n",
       "      <td>75%</td>\n",
       "      <td>10.700000</td>\n",
       "      <td>1379.000000</td>\n",
       "    </tr>\n",
       "    <tr>\n",
       "      <td>max</td>\n",
       "      <td>38.000000</td>\n",
       "      <td>1499.000000</td>\n",
       "    </tr>\n",
       "  </tbody>\n",
       "</table>\n",
       "</div>"
      ],
      "text/plain": [
       "            duration        user_id\n",
       "count  202607.000000  202607.000000\n",
       "mean        6.755887    1253.940619\n",
       "std         5.843365     144.722751\n",
       "min         0.000000    1000.000000\n",
       "25%         1.300000    1126.000000\n",
       "50%         6.000000    1260.000000\n",
       "75%        10.700000    1379.000000\n",
       "max        38.000000    1499.000000"
      ]
     },
     "execution_count": 3,
     "metadata": {},
     "output_type": "execute_result"
    }
   ],
   "source": [
    "# Используем метод info и describe чтобы изучить информацию по исходным данным:\n",
    "df_calls.info()\n",
    "df_calls.describe()"
   ]
  },
  {
   "cell_type": "code",
   "execution_count": 4,
   "metadata": {},
   "outputs": [
    {
     "name": "stdout",
     "output_type": "stream",
     "text": [
      "       id   call_date  duration  user_id\n",
      "0  1000_0  2018-07-25      0.00     1000\n",
      "1  1000_1  2018-08-17      0.00     1000\n",
      "2  1000_2  2018-06-11      2.85     1000\n",
      "3  1000_3  2018-09-21     13.80     1000\n",
      "4  1000_4  2018-12-15      5.18     1000\n",
      "5  1000_5  2018-11-02      0.00     1000\n",
      "6  1000_6  2018-10-18      0.00     1000\n",
      "7  1000_7  2018-08-22     18.31     1000\n",
      "8  1000_8  2018-09-15     18.44     1000\n",
      "9  1000_9  2018-08-15      0.00     1000\n"
     ]
    }
   ],
   "source": [
    "# Выведем первые 10 строк с исходными данными для наглядности:\n",
    "print(df_calls.head(10))"
   ]
  },
  {
   "cell_type": "markdown",
   "metadata": {},
   "source": [
    "#### Заключение по данным со звонками клиентов:"
   ]
  },
  {
   "cell_type": "markdown",
   "metadata": {},
   "source": [
    "В исходных данных по звонкам отсутствуют пропуски, но надо будет поменять формат для даты"
   ]
  },
  {
   "cell_type": "code",
   "execution_count": 5,
   "metadata": {},
   "outputs": [
    {
     "name": "stdout",
     "output_type": "stream",
     "text": [
      "<class 'pandas.core.frame.DataFrame'>\n",
      "RangeIndex: 149396 entries, 0 to 149395\n",
      "Data columns (total 5 columns):\n",
      "Unnamed: 0      149396 non-null int64\n",
      "id              149396 non-null object\n",
      "mb_used         149396 non-null float64\n",
      "session_date    149396 non-null object\n",
      "user_id         149396 non-null int64\n",
      "dtypes: float64(1), int64(2), object(2)\n",
      "memory usage: 5.7+ MB\n"
     ]
    },
    {
     "data": {
      "text/html": [
       "<div>\n",
       "<style scoped>\n",
       "    .dataframe tbody tr th:only-of-type {\n",
       "        vertical-align: middle;\n",
       "    }\n",
       "\n",
       "    .dataframe tbody tr th {\n",
       "        vertical-align: top;\n",
       "    }\n",
       "\n",
       "    .dataframe thead th {\n",
       "        text-align: right;\n",
       "    }\n",
       "</style>\n",
       "<table border=\"1\" class=\"dataframe\">\n",
       "  <thead>\n",
       "    <tr style=\"text-align: right;\">\n",
       "      <th></th>\n",
       "      <th>Unnamed: 0</th>\n",
       "      <th>mb_used</th>\n",
       "      <th>user_id</th>\n",
       "    </tr>\n",
       "  </thead>\n",
       "  <tbody>\n",
       "    <tr>\n",
       "      <td>count</td>\n",
       "      <td>149396.000000</td>\n",
       "      <td>149396.000000</td>\n",
       "      <td>149396.000000</td>\n",
       "    </tr>\n",
       "    <tr>\n",
       "      <td>mean</td>\n",
       "      <td>74697.500000</td>\n",
       "      <td>370.192426</td>\n",
       "      <td>1252.099842</td>\n",
       "    </tr>\n",
       "    <tr>\n",
       "      <td>std</td>\n",
       "      <td>43127.054745</td>\n",
       "      <td>278.300951</td>\n",
       "      <td>144.050823</td>\n",
       "    </tr>\n",
       "    <tr>\n",
       "      <td>min</td>\n",
       "      <td>0.000000</td>\n",
       "      <td>0.000000</td>\n",
       "      <td>1000.000000</td>\n",
       "    </tr>\n",
       "    <tr>\n",
       "      <td>25%</td>\n",
       "      <td>37348.750000</td>\n",
       "      <td>138.187500</td>\n",
       "      <td>1130.000000</td>\n",
       "    </tr>\n",
       "    <tr>\n",
       "      <td>50%</td>\n",
       "      <td>74697.500000</td>\n",
       "      <td>348.015000</td>\n",
       "      <td>1251.000000</td>\n",
       "    </tr>\n",
       "    <tr>\n",
       "      <td>75%</td>\n",
       "      <td>112046.250000</td>\n",
       "      <td>559.552500</td>\n",
       "      <td>1380.000000</td>\n",
       "    </tr>\n",
       "    <tr>\n",
       "      <td>max</td>\n",
       "      <td>149395.000000</td>\n",
       "      <td>1724.830000</td>\n",
       "      <td>1499.000000</td>\n",
       "    </tr>\n",
       "  </tbody>\n",
       "</table>\n",
       "</div>"
      ],
      "text/plain": [
       "          Unnamed: 0        mb_used        user_id\n",
       "count  149396.000000  149396.000000  149396.000000\n",
       "mean    74697.500000     370.192426    1252.099842\n",
       "std     43127.054745     278.300951     144.050823\n",
       "min         0.000000       0.000000    1000.000000\n",
       "25%     37348.750000     138.187500    1130.000000\n",
       "50%     74697.500000     348.015000    1251.000000\n",
       "75%    112046.250000     559.552500    1380.000000\n",
       "max    149395.000000    1724.830000    1499.000000"
      ]
     },
     "execution_count": 5,
     "metadata": {},
     "output_type": "execute_result"
    }
   ],
   "source": [
    "# Используем метод info и describe чтобы изучить информацию по исходным данным:\n",
    "df_internet.info()\n",
    "df_internet.describe()"
   ]
  },
  {
   "cell_type": "code",
   "execution_count": 6,
   "metadata": {},
   "outputs": [
    {
     "name": "stdout",
     "output_type": "stream",
     "text": [
      "   Unnamed: 0      id  mb_used session_date  user_id\n",
      "0           0  1000_0   112.95   2018-11-25     1000\n",
      "1           1  1000_1  1052.81   2018-09-07     1000\n",
      "2           2  1000_2  1197.26   2018-06-25     1000\n",
      "3           3  1000_3   550.27   2018-08-22     1000\n",
      "4           4  1000_4   302.56   2018-09-24     1000\n",
      "5           5  1000_5   399.97   2018-10-02     1000\n",
      "6           6  1000_6   540.08   2018-09-07     1000\n",
      "7           7  1000_7   415.70   2018-07-11     1000\n",
      "8           8  1000_8   505.40   2018-10-08     1000\n",
      "9           9  1000_9   345.54   2018-09-03     1000\n"
     ]
    }
   ],
   "source": [
    "# Выведем первые 10 строк с исходными данными для наглядности:\n",
    "print(df_internet.head(10))"
   ]
  },
  {
   "cell_type": "markdown",
   "metadata": {},
   "source": [
    "#### Заключение по данным с интернет-трафиком клиентов:"
   ]
  },
  {
   "cell_type": "markdown",
   "metadata": {},
   "source": [
    "В данных присутствует столбец Unnamed, который дублирует индекс таблицы по строкам. Отсутствуют пропуски в данных, необходимо поменять формат для даты."
   ]
  },
  {
   "cell_type": "code",
   "execution_count": 7,
   "metadata": {},
   "outputs": [
    {
     "name": "stdout",
     "output_type": "stream",
     "text": [
      "<class 'pandas.core.frame.DataFrame'>\n",
      "RangeIndex: 123036 entries, 0 to 123035\n",
      "Data columns (total 3 columns):\n",
      "id              123036 non-null object\n",
      "message_date    123036 non-null object\n",
      "user_id         123036 non-null int64\n",
      "dtypes: int64(1), object(2)\n",
      "memory usage: 2.8+ MB\n"
     ]
    },
    {
     "data": {
      "text/html": [
       "<div>\n",
       "<style scoped>\n",
       "    .dataframe tbody tr th:only-of-type {\n",
       "        vertical-align: middle;\n",
       "    }\n",
       "\n",
       "    .dataframe tbody tr th {\n",
       "        vertical-align: top;\n",
       "    }\n",
       "\n",
       "    .dataframe thead th {\n",
       "        text-align: right;\n",
       "    }\n",
       "</style>\n",
       "<table border=\"1\" class=\"dataframe\">\n",
       "  <thead>\n",
       "    <tr style=\"text-align: right;\">\n",
       "      <th></th>\n",
       "      <th>user_id</th>\n",
       "    </tr>\n",
       "  </thead>\n",
       "  <tbody>\n",
       "    <tr>\n",
       "      <td>count</td>\n",
       "      <td>123036.000000</td>\n",
       "    </tr>\n",
       "    <tr>\n",
       "      <td>mean</td>\n",
       "      <td>1256.989410</td>\n",
       "    </tr>\n",
       "    <tr>\n",
       "      <td>std</td>\n",
       "      <td>143.523967</td>\n",
       "    </tr>\n",
       "    <tr>\n",
       "      <td>min</td>\n",
       "      <td>1000.000000</td>\n",
       "    </tr>\n",
       "    <tr>\n",
       "      <td>25%</td>\n",
       "      <td>1134.000000</td>\n",
       "    </tr>\n",
       "    <tr>\n",
       "      <td>50%</td>\n",
       "      <td>1271.000000</td>\n",
       "    </tr>\n",
       "    <tr>\n",
       "      <td>75%</td>\n",
       "      <td>1381.000000</td>\n",
       "    </tr>\n",
       "    <tr>\n",
       "      <td>max</td>\n",
       "      <td>1499.000000</td>\n",
       "    </tr>\n",
       "  </tbody>\n",
       "</table>\n",
       "</div>"
      ],
      "text/plain": [
       "             user_id\n",
       "count  123036.000000\n",
       "mean     1256.989410\n",
       "std       143.523967\n",
       "min      1000.000000\n",
       "25%      1134.000000\n",
       "50%      1271.000000\n",
       "75%      1381.000000\n",
       "max      1499.000000"
      ]
     },
     "execution_count": 7,
     "metadata": {},
     "output_type": "execute_result"
    }
   ],
   "source": [
    "# Используем метод info и describe чтобы изучить информацию по исходным данным:\n",
    "df_messages.info()\n",
    "df_messages.describe()"
   ]
  },
  {
   "cell_type": "code",
   "execution_count": 8,
   "metadata": {},
   "outputs": [
    {
     "name": "stdout",
     "output_type": "stream",
     "text": [
      "       id message_date  user_id\n",
      "0  1000_0   2018-06-27     1000\n",
      "1  1000_1   2018-10-08     1000\n",
      "2  1000_2   2018-08-04     1000\n",
      "3  1000_3   2018-06-16     1000\n",
      "4  1000_4   2018-12-05     1000\n",
      "5  1000_5   2018-06-20     1000\n",
      "6  1000_6   2018-11-19     1000\n",
      "7  1000_7   2018-10-29     1000\n",
      "8  1000_8   2018-06-25     1000\n",
      "9  1000_9   2018-12-18     1000\n"
     ]
    }
   ],
   "source": [
    "# Выведем первые 10 строк с исходными данными для наглядности:\n",
    "print(df_messages.head(10))"
   ]
  },
  {
   "cell_type": "markdown",
   "metadata": {},
   "source": [
    "#### Заключение по данным с сообщениями:"
   ]
  },
  {
   "cell_type": "markdown",
   "metadata": {},
   "source": [
    "Отсутствуют пропуски, необходимо поменять формат для даты."
   ]
  },
  {
   "cell_type": "code",
   "execution_count": 9,
   "metadata": {},
   "outputs": [
    {
     "name": "stdout",
     "output_type": "stream",
     "text": [
      "<class 'pandas.core.frame.DataFrame'>\n",
      "RangeIndex: 2 entries, 0 to 1\n",
      "Data columns (total 8 columns):\n",
      "messages_included        2 non-null int64\n",
      "mb_per_month_included    2 non-null int64\n",
      "minutes_included         2 non-null int64\n",
      "rub_monthly_fee          2 non-null int64\n",
      "rub_per_gb               2 non-null int64\n",
      "rub_per_message          2 non-null int64\n",
      "rub_per_minute           2 non-null int64\n",
      "tariff_name              2 non-null object\n",
      "dtypes: int64(7), object(1)\n",
      "memory usage: 256.0+ bytes\n"
     ]
    },
    {
     "data": {
      "text/html": [
       "<div>\n",
       "<style scoped>\n",
       "    .dataframe tbody tr th:only-of-type {\n",
       "        vertical-align: middle;\n",
       "    }\n",
       "\n",
       "    .dataframe tbody tr th {\n",
       "        vertical-align: top;\n",
       "    }\n",
       "\n",
       "    .dataframe thead th {\n",
       "        text-align: right;\n",
       "    }\n",
       "</style>\n",
       "<table border=\"1\" class=\"dataframe\">\n",
       "  <thead>\n",
       "    <tr style=\"text-align: right;\">\n",
       "      <th></th>\n",
       "      <th>messages_included</th>\n",
       "      <th>mb_per_month_included</th>\n",
       "      <th>minutes_included</th>\n",
       "      <th>rub_monthly_fee</th>\n",
       "      <th>rub_per_gb</th>\n",
       "      <th>rub_per_message</th>\n",
       "      <th>rub_per_minute</th>\n",
       "    </tr>\n",
       "  </thead>\n",
       "  <tbody>\n",
       "    <tr>\n",
       "      <td>count</td>\n",
       "      <td>2.000000</td>\n",
       "      <td>2.000000</td>\n",
       "      <td>2.000000</td>\n",
       "      <td>2.000000</td>\n",
       "      <td>2.000000</td>\n",
       "      <td>2.000000</td>\n",
       "      <td>2.000000</td>\n",
       "    </tr>\n",
       "    <tr>\n",
       "      <td>mean</td>\n",
       "      <td>525.000000</td>\n",
       "      <td>23040.000000</td>\n",
       "      <td>1750.000000</td>\n",
       "      <td>1250.000000</td>\n",
       "      <td>175.000000</td>\n",
       "      <td>2.000000</td>\n",
       "      <td>2.000000</td>\n",
       "    </tr>\n",
       "    <tr>\n",
       "      <td>std</td>\n",
       "      <td>671.751442</td>\n",
       "      <td>10861.160159</td>\n",
       "      <td>1767.766953</td>\n",
       "      <td>989.949494</td>\n",
       "      <td>35.355339</td>\n",
       "      <td>1.414214</td>\n",
       "      <td>1.414214</td>\n",
       "    </tr>\n",
       "    <tr>\n",
       "      <td>min</td>\n",
       "      <td>50.000000</td>\n",
       "      <td>15360.000000</td>\n",
       "      <td>500.000000</td>\n",
       "      <td>550.000000</td>\n",
       "      <td>150.000000</td>\n",
       "      <td>1.000000</td>\n",
       "      <td>1.000000</td>\n",
       "    </tr>\n",
       "    <tr>\n",
       "      <td>25%</td>\n",
       "      <td>287.500000</td>\n",
       "      <td>19200.000000</td>\n",
       "      <td>1125.000000</td>\n",
       "      <td>900.000000</td>\n",
       "      <td>162.500000</td>\n",
       "      <td>1.500000</td>\n",
       "      <td>1.500000</td>\n",
       "    </tr>\n",
       "    <tr>\n",
       "      <td>50%</td>\n",
       "      <td>525.000000</td>\n",
       "      <td>23040.000000</td>\n",
       "      <td>1750.000000</td>\n",
       "      <td>1250.000000</td>\n",
       "      <td>175.000000</td>\n",
       "      <td>2.000000</td>\n",
       "      <td>2.000000</td>\n",
       "    </tr>\n",
       "    <tr>\n",
       "      <td>75%</td>\n",
       "      <td>762.500000</td>\n",
       "      <td>26880.000000</td>\n",
       "      <td>2375.000000</td>\n",
       "      <td>1600.000000</td>\n",
       "      <td>187.500000</td>\n",
       "      <td>2.500000</td>\n",
       "      <td>2.500000</td>\n",
       "    </tr>\n",
       "    <tr>\n",
       "      <td>max</td>\n",
       "      <td>1000.000000</td>\n",
       "      <td>30720.000000</td>\n",
       "      <td>3000.000000</td>\n",
       "      <td>1950.000000</td>\n",
       "      <td>200.000000</td>\n",
       "      <td>3.000000</td>\n",
       "      <td>3.000000</td>\n",
       "    </tr>\n",
       "  </tbody>\n",
       "</table>\n",
       "</div>"
      ],
      "text/plain": [
       "       messages_included  mb_per_month_included  minutes_included  \\\n",
       "count           2.000000               2.000000          2.000000   \n",
       "mean          525.000000           23040.000000       1750.000000   \n",
       "std           671.751442           10861.160159       1767.766953   \n",
       "min            50.000000           15360.000000        500.000000   \n",
       "25%           287.500000           19200.000000       1125.000000   \n",
       "50%           525.000000           23040.000000       1750.000000   \n",
       "75%           762.500000           26880.000000       2375.000000   \n",
       "max          1000.000000           30720.000000       3000.000000   \n",
       "\n",
       "       rub_monthly_fee  rub_per_gb  rub_per_message  rub_per_minute  \n",
       "count         2.000000    2.000000         2.000000        2.000000  \n",
       "mean       1250.000000  175.000000         2.000000        2.000000  \n",
       "std         989.949494   35.355339         1.414214        1.414214  \n",
       "min         550.000000  150.000000         1.000000        1.000000  \n",
       "25%         900.000000  162.500000         1.500000        1.500000  \n",
       "50%        1250.000000  175.000000         2.000000        2.000000  \n",
       "75%        1600.000000  187.500000         2.500000        2.500000  \n",
       "max        1950.000000  200.000000         3.000000        3.000000  "
      ]
     },
     "execution_count": 9,
     "metadata": {},
     "output_type": "execute_result"
    }
   ],
   "source": [
    "# Используем метод info и describe чтобы изучить информацию по исходным данным:\n",
    "df_tariffs.info()\n",
    "df_tariffs.describe()"
   ]
  },
  {
   "cell_type": "code",
   "execution_count": 10,
   "metadata": {},
   "outputs": [
    {
     "name": "stdout",
     "output_type": "stream",
     "text": [
      "   messages_included  mb_per_month_included  minutes_included  \\\n",
      "0                 50                  15360               500   \n",
      "1               1000                  30720              3000   \n",
      "\n",
      "   rub_monthly_fee  rub_per_gb  rub_per_message  rub_per_minute tariff_name  \n",
      "0              550         200                3               3       smart  \n",
      "1             1950         150                1               1       ultra  \n"
     ]
    }
   ],
   "source": [
    "# Выведем данные по тарифам:\n",
    "print(df_tariffs)"
   ]
  },
  {
   "cell_type": "markdown",
   "metadata": {},
   "source": [
    "#### Заключение по данным с описанием тарифов:"
   ]
  },
  {
   "cell_type": "markdown",
   "metadata": {},
   "source": [
    "Данные в порядке."
   ]
  },
  {
   "cell_type": "code",
   "execution_count": 11,
   "metadata": {},
   "outputs": [
    {
     "name": "stdout",
     "output_type": "stream",
     "text": [
      "<class 'pandas.core.frame.DataFrame'>\n",
      "RangeIndex: 500 entries, 0 to 499\n",
      "Data columns (total 8 columns):\n",
      "user_id       500 non-null int64\n",
      "age           500 non-null int64\n",
      "churn_date    38 non-null object\n",
      "city          500 non-null object\n",
      "first_name    500 non-null object\n",
      "last_name     500 non-null object\n",
      "reg_date      500 non-null object\n",
      "tariff        500 non-null object\n",
      "dtypes: int64(2), object(6)\n",
      "memory usage: 31.4+ KB\n"
     ]
    },
    {
     "data": {
      "text/html": [
       "<div>\n",
       "<style scoped>\n",
       "    .dataframe tbody tr th:only-of-type {\n",
       "        vertical-align: middle;\n",
       "    }\n",
       "\n",
       "    .dataframe tbody tr th {\n",
       "        vertical-align: top;\n",
       "    }\n",
       "\n",
       "    .dataframe thead th {\n",
       "        text-align: right;\n",
       "    }\n",
       "</style>\n",
       "<table border=\"1\" class=\"dataframe\">\n",
       "  <thead>\n",
       "    <tr style=\"text-align: right;\">\n",
       "      <th></th>\n",
       "      <th>user_id</th>\n",
       "      <th>age</th>\n",
       "    </tr>\n",
       "  </thead>\n",
       "  <tbody>\n",
       "    <tr>\n",
       "      <td>count</td>\n",
       "      <td>500.000000</td>\n",
       "      <td>500.00000</td>\n",
       "    </tr>\n",
       "    <tr>\n",
       "      <td>mean</td>\n",
       "      <td>1249.500000</td>\n",
       "      <td>46.58800</td>\n",
       "    </tr>\n",
       "    <tr>\n",
       "      <td>std</td>\n",
       "      <td>144.481833</td>\n",
       "      <td>16.66763</td>\n",
       "    </tr>\n",
       "    <tr>\n",
       "      <td>min</td>\n",
       "      <td>1000.000000</td>\n",
       "      <td>18.00000</td>\n",
       "    </tr>\n",
       "    <tr>\n",
       "      <td>25%</td>\n",
       "      <td>1124.750000</td>\n",
       "      <td>32.00000</td>\n",
       "    </tr>\n",
       "    <tr>\n",
       "      <td>50%</td>\n",
       "      <td>1249.500000</td>\n",
       "      <td>46.00000</td>\n",
       "    </tr>\n",
       "    <tr>\n",
       "      <td>75%</td>\n",
       "      <td>1374.250000</td>\n",
       "      <td>62.00000</td>\n",
       "    </tr>\n",
       "    <tr>\n",
       "      <td>max</td>\n",
       "      <td>1499.000000</td>\n",
       "      <td>75.00000</td>\n",
       "    </tr>\n",
       "  </tbody>\n",
       "</table>\n",
       "</div>"
      ],
      "text/plain": [
       "           user_id        age\n",
       "count   500.000000  500.00000\n",
       "mean   1249.500000   46.58800\n",
       "std     144.481833   16.66763\n",
       "min    1000.000000   18.00000\n",
       "25%    1124.750000   32.00000\n",
       "50%    1249.500000   46.00000\n",
       "75%    1374.250000   62.00000\n",
       "max    1499.000000   75.00000"
      ]
     },
     "execution_count": 11,
     "metadata": {},
     "output_type": "execute_result"
    }
   ],
   "source": [
    "# Используем метод info и describe чтобы изучить информацию по исходным данным:\n",
    "df_users.info()\n",
    "df_users.describe()"
   ]
  },
  {
   "cell_type": "markdown",
   "metadata": {},
   "source": []
  },
  {
   "cell_type": "code",
   "execution_count": 12,
   "metadata": {},
   "outputs": [
    {
     "name": "stdout",
     "output_type": "stream",
     "text": [
      "   user_id  age churn_date              city first_name  last_name  \\\n",
      "0     1000   52        NaN         Краснодар     Рафаил  Верещагин   \n",
      "1     1001   41        NaN            Москва       Иван       Ежов   \n",
      "2     1002   59        NaN       Стерлитамак    Евгений  Абрамович   \n",
      "3     1003   23        NaN            Москва      Белла   Белякова   \n",
      "4     1004   68        NaN       Новокузнецк    Татьяна   Авдеенко   \n",
      "5     1005   67        NaN  Набережные Челны   Афанасий     Горлов   \n",
      "6     1006   21        NaN         Ульяновск     Леонид   Ермолаев   \n",
      "7     1007   65        NaN            Москва        Юна   Березина   \n",
      "8     1008   63        NaN         Челябинск     Рустэм  Пономарёв   \n",
      "9     1009   24        NaN             Пермь   Василиса    Блинова   \n",
      "\n",
      "     reg_date tariff  \n",
      "0  2018-05-25  ultra  \n",
      "1  2018-11-01  smart  \n",
      "2  2018-06-17  smart  \n",
      "3  2018-08-17  ultra  \n",
      "4  2018-05-14  ultra  \n",
      "5  2018-01-25  smart  \n",
      "6  2018-02-26  smart  \n",
      "7  2018-04-19  smart  \n",
      "8  2018-12-19  smart  \n",
      "9  2018-03-22  smart  \n"
     ]
    }
   ],
   "source": [
    "# Выведем первые 10 строк с исходными данными для наглядности:\n",
    "print(df_users.head(10))"
   ]
  },
  {
   "cell_type": "markdown",
   "metadata": {},
   "source": [
    "#### Заключение по данным с информацией о клиентах:"
   ]
  },
  {
   "cell_type": "markdown",
   "metadata": {},
   "source": [
    "Данные содержат пропуски в столбце churn_date (дата прекращения пользования тарифом). Пропуски в данным случае означают, что клиент действующий и продолжает пользоваться услугами мобильного оператора. Необходимо изменить формат для даты в столбце reg_date."
   ]
  },
  {
   "cell_type": "markdown",
   "metadata": {},
   "source": [
    "### Подготовьте данные:"
   ]
  },
  {
   "cell_type": "code",
   "execution_count": 13,
   "metadata": {},
   "outputs": [],
   "source": [
    "# Поменяем формат даты во всех таблицах с данными:\n",
    "\n",
    "df_calls['call_date'] = pd.to_datetime(df_calls['call_date'], format='%Y-%m-%d')\n",
    "df_internet['session_date'] = pd.to_datetime(df_internet['session_date'], format='%Y-%m-%d')\n",
    "df_messages['message_date'] = pd.to_datetime(df_messages['message_date'], format='%Y-%m-%d')\n",
    "df_users['reg_date'] = pd.to_datetime(df_users['reg_date'], format='%Y-%m-%d')\n",
    "df_users['churn_date'] = pd.to_datetime(df_users['churn_date'], format='%Y-%m-%d')"
   ]
  },
  {
   "cell_type": "code",
   "execution_count": 14,
   "metadata": {},
   "outputs": [
    {
     "data": {
      "text/plain": [
       "array([     0,      1,      2, ..., 149393, 149394, 149395])"
      ]
     },
     "execution_count": 14,
     "metadata": {},
     "output_type": "execute_result"
    }
   ],
   "source": [
    "# Вызовем метод unique чтобы посмотреть уникальные значение для столбца \"Unnamed: 0\":\n",
    "df_internet['Unnamed: 0'].unique()"
   ]
  },
  {
   "cell_type": "code",
   "execution_count": 15,
   "metadata": {},
   "outputs": [],
   "source": [
    "# Удалим столбец \"Unnamed: 0\" так как он дублирует индекс строк:\n",
    "df_internet.drop('Unnamed: 0', axis='columns', inplace=True)"
   ]
  },
  {
   "cell_type": "code",
   "execution_count": 16,
   "metadata": {},
   "outputs": [
    {
     "name": "stdout",
     "output_type": "stream",
     "text": [
      "<class 'pandas.core.frame.DataFrame'>\n",
      "RangeIndex: 149396 entries, 0 to 149395\n",
      "Data columns (total 4 columns):\n",
      "id              149396 non-null object\n",
      "mb_used         149396 non-null float64\n",
      "session_date    149396 non-null datetime64[ns]\n",
      "user_id         149396 non-null int64\n",
      "dtypes: datetime64[ns](1), float64(1), int64(1), object(1)\n",
      "memory usage: 4.6+ MB\n"
     ]
    }
   ],
   "source": [
    "# Убедимся, что столбец \"Unnamed: 0\" исчез из наших данных:\n",
    "df_internet.info()"
   ]
  },
  {
   "cell_type": "code",
   "execution_count": 17,
   "metadata": {},
   "outputs": [],
   "source": [
    "# Удалим из таблицы со звонками те строки, где длительность звонка была 0 секунд:\n",
    "df_calls = df_calls.loc[df_calls.ne(0).all(axis=1)]"
   ]
  },
  {
   "cell_type": "code",
   "execution_count": 18,
   "metadata": {},
   "outputs": [],
   "source": [
    "# Добавим столбец, в котором будет указан месяц совершения звонка:\n",
    "df_calls['month'] = df_calls['call_date'].dt.month_name()"
   ]
  },
  {
   "cell_type": "code",
   "execution_count": 19,
   "metadata": {},
   "outputs": [],
   "source": [
    "# Сохраним в новую сводную таблицу количество звонков для каждого клиента, совершённые в разные месяцы:\n",
    "count_calls_in_month = df_calls.pivot_table(index = ['user_id', 'month'], values = 'duration', aggfunc = 'count')"
   ]
  },
  {
   "cell_type": "code",
   "execution_count": 20,
   "metadata": {},
   "outputs": [],
   "source": [
    "# Сохраним в новую сводную таблицу суммарную длительность звонков для каждого клиента, совершённые в разные месяцы:\n",
    "total_duration_calls_in_month = df_calls.pivot_table(index = ['user_id', 'month'], values = 'duration', aggfunc = 'sum')"
   ]
  },
  {
   "cell_type": "code",
   "execution_count": 21,
   "metadata": {},
   "outputs": [],
   "source": [
    "# Добавим столбец, в котором будет указан месяц отправки сообщения:\n",
    "df_messages['month'] = df_messages['message_date'].dt.month_name()"
   ]
  },
  {
   "cell_type": "code",
   "execution_count": 22,
   "metadata": {},
   "outputs": [],
   "source": [
    "# Сохраним в новую сводную таблицу количество смс для каждого клиента, отправленных в разные месяцы:\n",
    "messages_in_month = df_messages.pivot_table(index = ['user_id', 'month'], values = 'id', aggfunc = 'count')"
   ]
  },
  {
   "cell_type": "code",
   "execution_count": 23,
   "metadata": {},
   "outputs": [],
   "source": [
    "# Добавим столбец, в котором будет указан месяц, в котором была интернет-сессия:\n",
    "df_internet['month'] = df_internet['session_date'].dt.month_name()"
   ]
  },
  {
   "cell_type": "code",
   "execution_count": 24,
   "metadata": {},
   "outputs": [],
   "source": [
    "# Сохраним в новую сводную таблицу суммарный объём интернет-трафика, потраченного каждым клиентом в разные месяцы:\n",
    "mb_used_in_month = df_internet.pivot_table(index = ['user_id', 'month'], values = 'mb_used', aggfunc = 'sum')"
   ]
  },
  {
   "cell_type": "code",
   "execution_count": 25,
   "metadata": {},
   "outputs": [],
   "source": [
    "# Объединим по 'user_id' и 'month' наши сводные таблицы при помощи метода merge:\n",
    "df = count_calls_in_month.merge(total_duration_calls_in_month, on=['user_id', 'month'], how='outer')\n",
    "df = df.merge(messages_in_month, on=['user_id', 'month'], how='outer')\n",
    "df = df.merge(mb_used_in_month, on=['user_id', 'month'], how='outer')"
   ]
  },
  {
   "cell_type": "code",
   "execution_count": 26,
   "metadata": {},
   "outputs": [],
   "source": [
    "# Переимунем название столбцов:\n",
    "df.rename(columns={'duration_x': 'count_calls', 'duration_y': 'duration_calls', 'id': 'count_messages'}, inplace=True)"
   ]
  },
  {
   "cell_type": "code",
   "execution_count": 27,
   "metadata": {},
   "outputs": [],
   "source": [
    "# Объединям полученную таблицу с df_users:\n",
    "df = df.merge(df_users, on='user_id', how='outer')"
   ]
  },
  {
   "cell_type": "code",
   "execution_count": 28,
   "metadata": {},
   "outputs": [
    {
     "name": "stdout",
     "output_type": "stream",
     "text": [
      "      user_id  count_calls  duration_calls  count_messages   mb_used  age  \\\n",
      "0        1000         42.0          389.87            81.0  14055.93   52   \n",
      "1        1000         38.0          312.98            70.0   9817.61   52   \n",
      "2        1000         41.0          318.80            75.0  14003.64   52   \n",
      "3        1000         28.0          158.90            60.0  23233.77   52   \n",
      "4        1000         17.0          150.06            22.0   2253.49   52   \n",
      "...       ...          ...             ...             ...       ...  ...   \n",
      "3211     1489          NaN             NaN            35.0  17322.51   35   \n",
      "3212     1489          NaN             NaN            20.0  17491.56   35   \n",
      "3213     1489          NaN             NaN            21.0  19559.44   35   \n",
      "3214     1489          NaN             NaN            32.0  17206.30   35   \n",
      "3215     1371          NaN             NaN             NaN       NaN   50   \n",
      "\n",
      "     churn_date             city first_name  last_name   reg_date tariff  \\\n",
      "0           NaT        Краснодар     Рафаил  Верещагин 2018-05-25  ultra   \n",
      "1           NaT        Краснодар     Рафаил  Верещагин 2018-05-25  ultra   \n",
      "2           NaT        Краснодар     Рафаил  Верещагин 2018-05-25  ultra   \n",
      "3           NaT        Краснодар     Рафаил  Верещагин 2018-05-25  ultra   \n",
      "4           NaT        Краснодар     Рафаил  Верещагин 2018-05-25  ultra   \n",
      "...         ...              ...        ...        ...        ...    ...   \n",
      "3211        NaT  Санкт-Петербург      Павел   Гончаров 2018-08-15  smart   \n",
      "3212        NaT  Санкт-Петербург      Павел   Гончаров 2018-08-15  smart   \n",
      "3213        NaT  Санкт-Петербург      Павел   Гончаров 2018-08-15  smart   \n",
      "3214        NaT  Санкт-Петербург      Павел   Гончаров 2018-08-15  smart   \n",
      "3215 2018-12-30             Омск     Ириней   Трофимов 2018-12-25  smart   \n",
      "\n",
      "      messages_included  mb_per_month_included  minutes_included  \\\n",
      "0                  1000                  30720              3000   \n",
      "1                  1000                  30720              3000   \n",
      "2                  1000                  30720              3000   \n",
      "3                  1000                  30720              3000   \n",
      "4                  1000                  30720              3000   \n",
      "...                 ...                    ...               ...   \n",
      "3211                 50                  15360               500   \n",
      "3212                 50                  15360               500   \n",
      "3213                 50                  15360               500   \n",
      "3214                 50                  15360               500   \n",
      "3215                 50                  15360               500   \n",
      "\n",
      "      rub_monthly_fee  rub_per_gb  rub_per_message  rub_per_minute  \n",
      "0                1950         150                1               1  \n",
      "1                1950         150                1               1  \n",
      "2                1950         150                1               1  \n",
      "3                1950         150                1               1  \n",
      "4                1950         150                1               1  \n",
      "...               ...         ...              ...             ...  \n",
      "3211              550         200                3               3  \n",
      "3212              550         200                3               3  \n",
      "3213              550         200                3               3  \n",
      "3214              550         200                3               3  \n",
      "3215              550         200                3               3  \n",
      "\n",
      "[3216 rows x 19 columns]\n"
     ]
    }
   ],
   "source": [
    "# Переименуем столбец tariff_name в tariff чтобы можно было сделать объединение:\n",
    "df_tariffs.rename(columns={'tariff_name': 'tariff'}, inplace=True)\n",
    "\n",
    "# Объединям полученную таблицу с df_tariffs:\n",
    "df = df.merge(df_tariffs, on='tariff', how='outer')\n",
    "print(df)"
   ]
  },
  {
   "cell_type": "code",
   "execution_count": 50,
   "metadata": {},
   "outputs": [
    {
     "data": {
      "text/plain": [
       "500"
      ]
     },
     "execution_count": 50,
     "metadata": {},
     "output_type": "execute_result"
    }
   ],
   "source": [
    "df.user_id.nunique()"
   ]
  },
  {
   "cell_type": "code",
   "execution_count": 51,
   "metadata": {},
   "outputs": [
    {
     "data": {
      "text/plain": [
       "(3216, 20)"
      ]
     },
     "execution_count": 51,
     "metadata": {},
     "output_type": "execute_result"
    }
   ],
   "source": [
    "df.shape"
   ]
  },
  {
   "cell_type": "code",
   "execution_count": 29,
   "metadata": {},
   "outputs": [],
   "source": [
    "# Заполним все пропуски в нашей итоговой таблице нулевыми значениями:\n",
    "df = df.fillna(0)"
   ]
  },
  {
   "cell_type": "code",
   "execution_count": 30,
   "metadata": {},
   "outputs": [],
   "source": [
    "# Округлим значения в столбцах duration_calls и mb_used до ближайшего целого в большую сторону:\n",
    "df['duration_calls'] = np.ceil(df['duration_calls'])\n",
    "df['mb_used'] = np.ceil(df['mb_used'])"
   ]
  },
  {
   "cell_type": "code",
   "execution_count": 31,
   "metadata": {},
   "outputs": [],
   "source": [
    "# Напишем функцию, которая нам посчитает помесячную выручку для каждого клиента:\n",
    "total = 0\n",
    "\n",
    "def additional_fee(df):\n",
    "    total = df['rub_monthly_fee']\n",
    "    if df['minutes_included'] - df['duration_calls'] <= 0:\n",
    "        total += df['rub_per_minute'] * (df['duration_calls'] - df['minutes_included'])\n",
    "    if df['messages_included'] - df['count_messages'] <= 0:\n",
    "        total += df['rub_per_message'] * (df['count_messages'] - df['messages_included'])\n",
    "    if df['mb_per_month_included'] - df['mb_used'] <= 0:\n",
    "        total += df['rub_per_gb'] * ((df['mb_used'] - df['mb_per_month_included']) / 1024)\n",
    "    return total    "
   ]
  },
  {
   "cell_type": "code",
   "execution_count": 32,
   "metadata": {},
   "outputs": [
    {
     "name": "stdout",
     "output_type": "stream",
     "text": [
      "      user_id  count_calls  duration_calls  count_messages  mb_used  age  \\\n",
      "0        1000         42.0           390.0            81.0  14056.0   52   \n",
      "1        1000         38.0           313.0            70.0   9818.0   52   \n",
      "2        1000         41.0           319.0            75.0  14004.0   52   \n",
      "3        1000         28.0           159.0            60.0  23234.0   52   \n",
      "4        1000         17.0           151.0            22.0   2254.0   52   \n",
      "...       ...          ...             ...             ...      ...  ...   \n",
      "3211     1489          0.0             0.0            35.0  17323.0   35   \n",
      "3212     1489          0.0             0.0            20.0  17492.0   35   \n",
      "3213     1489          0.0             0.0            21.0  19560.0   35   \n",
      "3214     1489          0.0             0.0            32.0  17207.0   35   \n",
      "3215     1371          0.0             0.0             0.0      0.0   50   \n",
      "\n",
      "               churn_date             city first_name  last_name   reg_date  \\\n",
      "0                       0        Краснодар     Рафаил  Верещагин 2018-05-25   \n",
      "1                       0        Краснодар     Рафаил  Верещагин 2018-05-25   \n",
      "2                       0        Краснодар     Рафаил  Верещагин 2018-05-25   \n",
      "3                       0        Краснодар     Рафаил  Верещагин 2018-05-25   \n",
      "4                       0        Краснодар     Рафаил  Верещагин 2018-05-25   \n",
      "...                   ...              ...        ...        ...        ...   \n",
      "3211                    0  Санкт-Петербург      Павел   Гончаров 2018-08-15   \n",
      "3212                    0  Санкт-Петербург      Павел   Гончаров 2018-08-15   \n",
      "3213                    0  Санкт-Петербург      Павел   Гончаров 2018-08-15   \n",
      "3214                    0  Санкт-Петербург      Павел   Гончаров 2018-08-15   \n",
      "3215  2018-12-30 00:00:00             Омск     Ириней   Трофимов 2018-12-25   \n",
      "\n",
      "     tariff  messages_included  mb_per_month_included  minutes_included  \\\n",
      "0     ultra               1000                  30720              3000   \n",
      "1     ultra               1000                  30720              3000   \n",
      "2     ultra               1000                  30720              3000   \n",
      "3     ultra               1000                  30720              3000   \n",
      "4     ultra               1000                  30720              3000   \n",
      "...     ...                ...                    ...               ...   \n",
      "3211  smart                 50                  15360               500   \n",
      "3212  smart                 50                  15360               500   \n",
      "3213  smart                 50                  15360               500   \n",
      "3214  smart                 50                  15360               500   \n",
      "3215  smart                 50                  15360               500   \n",
      "\n",
      "      rub_monthly_fee  rub_per_gb  rub_per_message  rub_per_minute  \\\n",
      "0                1950         150                1               1   \n",
      "1                1950         150                1               1   \n",
      "2                1950         150                1               1   \n",
      "3                1950         150                1               1   \n",
      "4                1950         150                1               1   \n",
      "...               ...         ...              ...             ...   \n",
      "3211              550         200                3               3   \n",
      "3212              550         200                3               3   \n",
      "3213              550         200                3               3   \n",
      "3214              550         200                3               3   \n",
      "3215              550         200                3               3   \n",
      "\n",
      "      total_income  \n",
      "0      1950.000000  \n",
      "1      1950.000000  \n",
      "2      1950.000000  \n",
      "3      1950.000000  \n",
      "4      1950.000000  \n",
      "...            ...  \n",
      "3211    933.398438  \n",
      "3212    966.406250  \n",
      "3213   1370.312500  \n",
      "3214    910.742188  \n",
      "3215    550.000000  \n",
      "\n",
      "[3216 rows x 20 columns]\n"
     ]
    }
   ],
   "source": [
    "# Применим нашу функцию ко всей таблице с данными:\n",
    "df['total_income'] = df.apply(additional_fee, axis = 1)\n",
    "print(df)"
   ]
  },
  {
   "cell_type": "code",
   "execution_count": 52,
   "metadata": {
    "scrolled": true
   },
   "outputs": [
    {
     "data": {
      "text/plain": [
       "count    3216.000000\n",
       "mean     1462.088350\n",
       "std       777.986421\n",
       "min       550.000000\n",
       "25%       658.000000\n",
       "50%      1515.093750\n",
       "75%      1950.000000\n",
       "max      6543.882812\n",
       "Name: total_income, dtype: float64"
      ]
     },
     "execution_count": 52,
     "metadata": {},
     "output_type": "execute_result"
    }
   ],
   "source": [
    "df[\"total_income\"].describe()"
   ]
  },
  {
   "cell_type": "markdown",
   "metadata": {},
   "source": [
    "#### Вывод о подготовке данных:"
   ]
  },
  {
   "cell_type": "markdown",
   "metadata": {},
   "source": [
    "В исходных данных мы привели дату в необходимый формат. Удалили звонки, длительность которых составляла 0 секунд, чтобы в дальнейшем эти звонки не влияли на расчёт средней длительности звонка. Удалили столбец Unnamed из таблицы с данными по трафику, так как он дублировал индекс таблицы. Сделали группировку всех таблиц по user id и месяцам и объединили их в одну, для подсчёта помесячной выручки с каждого клиента."
   ]
  },
  {
   "cell_type": "markdown",
   "metadata": {},
   "source": [
    "### Проанализируйте данные"
   ]
  },
  {
   "cell_type": "code",
   "execution_count": 33,
   "metadata": {},
   "outputs": [
    {
     "name": "stdout",
     "output_type": "stream",
     "text": [
      "       duration_calls                           count_messages               \\\n",
      "                 mean           var         std           mean          var   \n",
      "tariff                                                                        \n",
      "smart      394.745291  32448.311945  180.134150      33.369058   796.955256   \n",
      "ultra      497.042596  90117.460113  300.195703      49.313387  2285.417425   \n",
      "\n",
      "                        mb_used                              \n",
      "              std          mean           var           std  \n",
      "tariff                                                       \n",
      "smart   28.230396  16201.604933  3.456492e+07   5879.193556  \n",
      "ultra   47.806040  19449.562880  1.020327e+08  10101.123352  \n"
     ]
    }
   ],
   "source": [
    "# Посчитаем среднее, дисперсию и стандартное отклонение для каждого из тарифов:\n",
    "df_grouped_by_tariff = df.groupby('tariff')['duration_calls', 'count_messages', 'mb_used'].agg(['mean', 'var', 'std'])\n",
    "print(df_grouped_by_tariff)"
   ]
  },
  {
   "cell_type": "code",
   "execution_count": 34,
   "metadata": {},
   "outputs": [],
   "source": [
    "# Сгруппируем наши данные в два датасета в зависимости от используемого тарифа:\n",
    "data1 = df.query('tariff == \"ultra\"')\n",
    "data2 = df.query('tariff == \"smart\"')"
   ]
  },
  {
   "cell_type": "code",
   "execution_count": 35,
   "metadata": {},
   "outputs": [
    {
     "data": {
      "image/png": "[encoded data removed]",
      "text/plain": [
       "<Figure size 1080x720 with 3 Axes>"
      ]
     },
     "metadata": {
      "needs_background": "light"
     },
     "output_type": "display_data"
    }
   ],
   "source": [
    "# Построим гистограммы распределения количетсва используемых минут, сообщений и интернет-трафика:\n",
    "fig, axes = plt.subplots(nrows = 1, ncols = 3, figsize=(15, 10))\n",
    "\n",
    "axes[0].set_ylabel('Частота')\n",
    "axes[0].set_xlabel('Количество минут в месяц')\n",
    "axes[0].set_title('Распределение длительности звонков в месяц')\n",
    "axes[0].hist(data1['duration_calls'],\n",
    "                bins=20, \n",
    "                alpha=0.5, \n",
    "                ec='black',\n",
    "                color='red',\n",
    "                )\n",
    "axes[0].hist(data2['duration_calls'],\n",
    "                bins=20, \n",
    "                alpha=0.5, \n",
    "                ec='black',\n",
    "                color='blue',\n",
    "                )\n",
    "axes[0].legend(labels=['ultra', 'smart'])\n",
    "axes[0].grid()\n",
    "\n",
    "axes[1].set_ylabel('Частота')\n",
    "axes[1].set_xlabel('Количество сообщений в месяц')\n",
    "axes[1].set_title('Распределение по сообщениям в месяц')\n",
    "axes[1].hist(data1['count_messages'],\n",
    "                bins=20, \n",
    "                alpha=0.5, \n",
    "                ec='black',\n",
    "                color='red',\n",
    "                )\n",
    "axes[1].hist(data2['count_messages'],\n",
    "                bins=20, \n",
    "                alpha=0.5, \n",
    "                ec='black',\n",
    "                color='blue',\n",
    "                )\n",
    "axes[1].legend(labels=['ultra', 'smart'])\n",
    "axes[1].grid()\n",
    "\n",
    "axes[2].set_ylabel('Частота')\n",
    "axes[2].set_xlabel('Объём интернет-трафика')\n",
    "axes[2].set_title('Распределение объема интернет-трафика в месяц')\n",
    "axes[2].hist(data1['mb_used'],\n",
    "                bins=20, \n",
    "                alpha=0.5, \n",
    "                ec='black',\n",
    "                color='red',\n",
    "                )\n",
    "axes[2].hist(data2['mb_used'],\n",
    "                bins=20, \n",
    "                alpha=0.5, \n",
    "                ec='black',\n",
    "                color='blue',\n",
    "                )\n",
    "axes[2].legend(labels=['ultra', 'smart'])\n",
    "axes[2].grid()\n",
    "\n",
    "plt.subplots_adjust(wspace=0.3, hspace=0.6)\n",
    "plt.show()"
   ]
  },
  {
   "cell_type": "markdown",
   "metadata": {},
   "source": [
    "#### Вывод:"
   ]
  },
  {
   "cell_type": "markdown",
   "metadata": {},
   "source": [
    "Из получившихся гистограмм можно сделать вывод, что все наши датасеты имеют скошенность влево. Ближе всего к симметричному распределению данные с объёмом трафика, но и там наблюдается скошенность влево. Из гистограммы распределение сообщений видно, что многие клиенты не пользутся смс сообщениями. Можно сделать вывод, что клиенты стараются больше использовать мессенжеры для отправки сообщений и звонков, которые используют интернет, а не расходуют пакеты минут и смс сообщений."
   ]
  },
  {
   "cell_type": "markdown",
   "metadata": {},
   "source": [
    "### Проверка гипотез"
   ]
  },
  {
   "cell_type": "markdown",
   "metadata": {},
   "source": [
    "#### Формулируем нулевые гипотезы:"
   ]
  },
  {
   "cell_type": "markdown",
   "metadata": {},
   "source": [
    "Нулевая гипотеза №1: Средняя выручка пользователей тарифов «Ультра» и «Смарт» равна.\n",
    "Нулевая гипотеза №2: Средняя выручка пользователей из Москвы равна средней выручке пользователей из других регионов."
   ]
  },
  {
   "cell_type": "markdown",
   "metadata": {},
   "source": [
    "#### Формулируем альтернативные гипотезы:"
   ]
  },
  {
   "cell_type": "markdown",
   "metadata": {},
   "source": [
    "Альетрнативная гипотеза №1: Средняя выручка пользователей тарифов «Ультра» и «Смарт» различается.\n",
    "Альтернативная гипотеза №2: Средняя выручка пользователей из Москвы отличается от выручки пользователей из других регионов."
   ]
  },
  {
   "cell_type": "code",
   "execution_count": 36,
   "metadata": {},
   "outputs": [
    {
     "name": "stdout",
     "output_type": "stream",
     "text": [
      "count     986.000000\n",
      "mean     2059.768200\n",
      "std       354.738109\n",
      "min      1950.000000\n",
      "25%      1950.000000\n",
      "50%      1950.000000\n",
      "75%      1950.000000\n",
      "max      4737.011719\n",
      "Name: total_income, dtype: float64\n"
     ]
    },
    {
     "data": {
      "image/png": "[encoded data removed]",
      "text/plain": [
       "<Figure size 432x288 with 1 Axes>"
      ]
     },
     "metadata": {
      "needs_background": "light"
     },
     "output_type": "display_data"
    }
   ],
   "source": [
    "# Посмотрим характеристики столбца total_income для тарифа ultra, построим boxplot чтобы посмотреть наличие выбросов:\n",
    "print(data1['total_income'].describe())\n",
    "plt.boxplot(data1['total_income'])\n",
    "plt.show()"
   ]
  },
  {
   "cell_type": "code",
   "execution_count": 37,
   "metadata": {},
   "outputs": [
    {
     "name": "stdout",
     "output_type": "stream",
     "text": [
      "count    2230.000000\n",
      "mean     1197.822730\n",
      "std       767.794292\n",
      "min       550.000000\n",
      "25%       550.000000\n",
      "50%       925.390625\n",
      "75%      1602.812500\n",
      "max      6543.882812\n",
      "Name: total_income, dtype: float64\n"
     ]
    },
    {
     "data": {
      "image/png": "[encoded data removed]",
      "text/plain": [
       "<Figure size 432x288 with 1 Axes>"
      ]
     },
     "metadata": {
      "needs_background": "light"
     },
     "output_type": "display_data"
    }
   ],
   "source": [
    "# Посмотрим характеристики столбца total_income для тарифа smart, построим boxplot чтобы посмотреть наличие выбросов:\n",
    "print(data2['total_income'].describe())\n",
    "plt.boxplot(data2['total_income'])\n",
    "plt.show()"
   ]
  },
  {
   "cell_type": "code",
   "execution_count": 38,
   "metadata": {},
   "outputs": [
    {
     "name": "stdout",
     "output_type": "stream",
     "text": [
      "count     852.0\n",
      "mean     1950.0\n",
      "std         0.0\n",
      "min      1950.0\n",
      "25%      1950.0\n",
      "50%      1950.0\n",
      "75%      1950.0\n",
      "max      1950.0\n",
      "Name: total_income, dtype: float64\n"
     ]
    }
   ],
   "source": [
    "# Удалим из нашей выборки выбросы, которые не попадают в интервал от -2.7 сигма до 2.7 сигма:\n",
    "q1 = data1['total_income'].quantile(0.25) # сохраним значение первого квартиля в переменную\n",
    "q3 = data1['total_income'].quantile(0.75) # сохраним значение третьего квартиля в переменную\n",
    "iqr = q3 - q1 # Интерквартильный размах\n",
    "data1 = data1.loc[(data1['total_income'] >= (q1 - 1.5 * iqr)) & (data1['total_income'] <= (q3 + 1.5 * iqr))]\n",
    "print(data1['total_income'].describe()) # применим describe к требуемому столбцу, чтобы видеть его характеристики"
   ]
  },
  {
   "cell_type": "code",
   "execution_count": 39,
   "metadata": {},
   "outputs": [
    {
     "name": "stdout",
     "output_type": "stream",
     "text": [
      "count    2187.000000\n",
      "mean     1143.849148\n",
      "std       662.611867\n",
      "min       550.000000\n",
      "25%       550.000000\n",
      "50%       909.375000\n",
      "75%      1563.218750\n",
      "max      3170.312500\n",
      "Name: total_income, dtype: float64\n"
     ]
    }
   ],
   "source": [
    "# Удалим из нашей выборки выбросы, которые не попадают в интервал от -2.7 сигма до 2.7 сигма:\n",
    "q1 = data2['total_income'].quantile(0.25) # сохраним значение первого квартиля в переменную\n",
    "q3 = data2['total_income'].quantile(0.75) # сохраним значение третьего квартиля в переменную\n",
    "iqr = q3 - q1 # Интерквартильный размах\n",
    "data2 = data2.loc[(data2['total_income'] >= (q1 - 1.5 * iqr)) & (data2['total_income'] <= (q3 + 1.5 * iqr))]\n",
    "print(data2['total_income'].describe()) # применим describe к требуемому столбцу, чтобы видеть его характеристики"
   ]
  },
  {
   "cell_type": "code",
   "execution_count": 40,
   "metadata": {},
   "outputs": [],
   "source": [
    "alpha = 0.05 # критический уровень статистической значимости"
   ]
  },
  {
   "cell_type": "code",
   "execution_count": 41,
   "metadata": {},
   "outputs": [],
   "source": [
    "# Применим Т-тест \n",
    "results_1 = st.ttest_ind(data1['total_income'], data2['total_income'], equal_var = True)"
   ]
  },
  {
   "cell_type": "code",
   "execution_count": 42,
   "metadata": {},
   "outputs": [
    {
     "name": "stdout",
     "output_type": "stream",
     "text": [
      "p-значение: 2.6646210399461705e-231\n",
      "Отвергаем нулевую гипотезу\n"
     ]
    }
   ],
   "source": [
    "print('p-значение:', results_1.pvalue)\n",
    "\n",
    "if results_1.pvalue < alpha:\n",
    "    print(\"Отвергаем нулевую гипотезу\")\n",
    "else:\n",
    "    print(\"Не получилось отвергнуть нулевую гипотезу\")"
   ]
  },
  {
   "cell_type": "code",
   "execution_count": 43,
   "metadata": {},
   "outputs": [],
   "source": [
    "# Создаем два новых среза из наших данных, в одном из которых будут данные по Москве, а в другом - все остальные города\n",
    "data3 = df.query('city == \"Москва\"')\n",
    "data4 = df.query('city != \"Москва\"')"
   ]
  },
  {
   "cell_type": "code",
   "execution_count": 44,
   "metadata": {},
   "outputs": [
    {
     "name": "stdout",
     "output_type": "stream",
     "text": [
      "count     611.000000\n",
      "mean     1485.405588\n",
      "std       737.633214\n",
      "min       550.000000\n",
      "25%       698.820312\n",
      "50%      1638.250000\n",
      "75%      1950.000000\n",
      "max      5043.226562\n",
      "Name: total_income, dtype: float64\n"
     ]
    },
    {
     "data": {
      "image/png": "[encoded data removed]",
      "text/plain": [
       "<Figure size 432x288 with 1 Axes>"
      ]
     },
     "metadata": {
      "needs_background": "light"
     },
     "output_type": "display_data"
    }
   ],
   "source": [
    "# Посмотрим характеристики столбца total_income для Москвы, построим boxplot чтобы посмотреть наличие выбросов:\n",
    "print(data3['total_income'].describe())\n",
    "plt.boxplot(data3['total_income'])\n",
    "plt.show()"
   ]
  },
  {
   "cell_type": "code",
   "execution_count": 45,
   "metadata": {},
   "outputs": [
    {
     "name": "stdout",
     "output_type": "stream",
     "text": [
      "count    2605.000000\n",
      "mean     1456.619316\n",
      "std       787.187954\n",
      "min       550.000000\n",
      "25%       655.000000\n",
      "50%      1471.820312\n",
      "75%      1950.000000\n",
      "max      6543.882812\n",
      "Name: total_income, dtype: float64\n"
     ]
    },
    {
     "data": {
      "image/png": "[encoded data removed]",
      "text/plain": [
       "<Figure size 432x288 with 1 Axes>"
      ]
     },
     "metadata": {
      "needs_background": "light"
     },
     "output_type": "display_data"
    }
   ],
   "source": [
    "# Посмотрим характеристики столбца total_income для других городов, построим boxplot чтобы посмотреть наличие выбросов:\n",
    "print(data4['total_income'].describe())\n",
    "plt.boxplot(data4['total_income'])\n",
    "plt.show()"
   ]
  },
  {
   "cell_type": "code",
   "execution_count": 46,
   "metadata": {},
   "outputs": [
    {
     "name": "stdout",
     "output_type": "stream",
     "text": [
      "count     607.000000\n",
      "mean     1467.760956\n",
      "std       705.934064\n",
      "min       550.000000\n",
      "25%       697.320312\n",
      "50%      1627.343750\n",
      "75%      1950.000000\n",
      "max      3694.189453\n",
      "Name: total_income, dtype: float64\n"
     ]
    }
   ],
   "source": [
    "# Удалим из нашей выборки выбросы, которые не попадают в интервал от -2.7 сигма до 2.7 сигма:\n",
    "q1 = data3['total_income'].quantile(0.25) # сохраним значение первого квартиля в переменную\n",
    "q3 = data3['total_income'].quantile(0.75) # сохраним значение третьего квартиля в переменную\n",
    "iqr = q3 - q1 # Интерквартильный размах\n",
    "data3 = data3.loc[(data3['total_income'] >= (q1 - 1.5 * iqr)) & (data3['total_income'] <= (q3 + 1.5 * iqr))]\n",
    "print(data3['total_income'].describe()) # применим describe к требуемому столбцу, чтобы видеть его характеристики"
   ]
  },
  {
   "cell_type": "code",
   "execution_count": 47,
   "metadata": {},
   "outputs": [
    {
     "name": "stdout",
     "output_type": "stream",
     "text": [
      "count    2586.000000\n",
      "mean     1433.547707\n",
      "std       740.091406\n",
      "min       550.000000\n",
      "25%       651.529297\n",
      "50%      1458.625000\n",
      "75%      1950.000000\n",
      "max      3885.351562\n",
      "Name: total_income, dtype: float64\n"
     ]
    }
   ],
   "source": [
    "# Удалим из нашей выборки выбросы, которые не попадают в интервал от -2.7 сигма до 2.7 сигма:\n",
    "q1 = data4['total_income'].quantile(0.25) # сохраним значение первого квартиля в переменную\n",
    "q3 = data4['total_income'].quantile(0.75) # сохраним значение третьего квартиля в переменную\n",
    "iqr = q3 - q1 # Интерквартильный размах\n",
    "data4 = data4.loc[(data4['total_income'] >= (q1 - 1.5 * iqr)) & (data4['total_income'] <= (q3 + 1.5 * iqr))]\n",
    "print(data4['total_income'].describe()) # применим describe к требуемому столбцу, чтобы видеть его характеристики"
   ]
  },
  {
   "cell_type": "code",
   "execution_count": 48,
   "metadata": {},
   "outputs": [],
   "source": [
    "# Применим Т-тест\n",
    "results_2 = st.ttest_ind(data3['total_income'], data4['total_income'], equal_var = True)"
   ]
  },
  {
   "cell_type": "code",
   "execution_count": 49,
   "metadata": {},
   "outputs": [
    {
     "name": "stdout",
     "output_type": "stream",
     "text": [
      "p-значение: 0.3012718782795918\n",
      "Не получилось отвергнуть нулевую гипотезу\n"
     ]
    }
   ],
   "source": [
    "print('p-значение:', results_2.pvalue)\n",
    "\n",
    "if results_2.pvalue < alpha:\n",
    "    print(\"Отвергаем нулевую гипотезу\")\n",
    "else:\n",
    "    print(\"Не получилось отвергнуть нулевую гипотезу\")"
   ]
  },
  {
   "cell_type": "markdown",
   "metadata": {},
   "source": [
    "#### Вывод:"
   ]
  },
  {
   "cell_type": "markdown",
   "metadata": {},
   "source": [
    "Проверка гипотез показала, что средняя выручка пользователей тарифов «Ультра» и «Смарт» различается, а средняя выручка пользователей из Москвы не сильно отличается от средней выручке пользователей из других регионов."
   ]
  },
  {
   "cell_type": "markdown",
   "metadata": {},
   "source": [
    "### Общий вывод:"
   ]
  },
  {
   "cell_type": "markdown",
   "metadata": {},
   "source": [
    "В данном проекте мы проанализировали выборку клиентов сотовой компании, которые пользуются двумя разными тарифами: Смарт и Ультра. Около 30% клиентов выбирают тариф Ультра и практически все укладыавются в включенные лимиты тарифы по минутам, смс сообещениям и интернет-трафику. Не смотря на то, что 70% клиентов выбирают тариф Смарт, выручка с таких клиентов практически в 2 раза ниже, чем с клиентов с тарифом Ультра. Средняя выручка с клиентов на этих двух тарифах различается значимо. В то же время, выручка с одного клиента, в среднем, никак не зависит от региона, в котором клиент пользуется услугами мобильного оператора. Так же в ходе нашего исследования, мы выяснили, что многие клиенты делают акцент в использовании мобильного интернета вместо использования смс-сообщений и звонков. Возможно стоит пересмотреть количество включённых смс сообщений в пакет, так как многие клиенты ими не пользуются. "
   ]
  }
 ],
 "metadata": {
  "kernelspec": {
   "display_name": "Python 3",
   "language": "python",
   "name": "python3"
  },
  "language_info": {
   "codemirror_mode": {
    "name": "ipython",
    "version": 3
   },
   "file_extension": ".py",
   "mimetype": "text/x-python",
   "name": "python",
   "nbconvert_exporter": "python",
   "pygments_lexer": "ipython3",
   "version": "3.8.8"
  },
  "toc": {
   "base_numbering": 1,
   "nav_menu": {},
   "number_sections": true,
   "sideBar": true,
   "skip_h1_title": true,
   "title_cell": "Table of Contents",
   "title_sidebar": "Contents",
   "toc_cell": false,
   "toc_position": {
    "height": "calc(100% - 180px)",
    "left": "10px",
    "top": "150px",
    "width": "165px"
   },
   "toc_section_display": true,
   "toc_window_display": true
  }
 },
 "nbformat": 4,
 "nbformat_minor": 2
}
